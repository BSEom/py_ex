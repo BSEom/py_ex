{
 "cells": [
  {
   "cell_type": "markdown",
   "id": "52cc478c-7fd4-4a2b-92f9-8c4345c6d926",
   "metadata": {},
   "source": [
    "# 자료형"
   ]
  },
  {
   "cell_type": "markdown",
   "id": "d13e0e8f-671c-4f30-9a77-bc10b0f0cf3b",
   "metadata": {},
   "source": [
    "## 리스트 자료형"
   ]
  },
  {
   "cell_type": "markdown",
   "id": "9b25a6c3-6e8e-4e52-ad63-e617ccb82396",
   "metadata": {},
   "source": [
    "### 리스트의 인덱싱과 슬라이싱"
   ]
  },
  {
   "cell_type": "code",
   "execution_count": 1,
   "id": "f3eee5cf-9a5b-4112-84a7-aee4eab8e3fb",
   "metadata": {},
   "outputs": [],
   "source": [
    "odd = [1, 3, 5, 7, 9]\n",
    "\n",
    "a = []\n",
    "b = [1, 2, 3]\n",
    "c = ['Life', 'is', 'too', 'short']\n",
    "d = [1, 2, 'Life', ' is']\n",
    "e = [1, 2, ['Life', 'is']]\n",
    "\n"
   ]
  },
  {
   "cell_type": "code",
   "execution_count": 2,
   "id": "e1ecdb4d-bda1-4ea4-8ee6-223e82ead87c",
   "metadata": {},
   "outputs": [
    {
     "name": "stdout",
     "output_type": "stream",
     "text": [
      "5\n"
     ]
    }
   ],
   "source": [
    "print(b[1] + b[2])"
   ]
  },
  {
   "cell_type": "code",
   "execution_count": 7,
   "id": "5d9aaf9e-6c12-4273-9871-75acd3d99f4c",
   "metadata": {},
   "outputs": [
    {
     "data": {
      "text/plain": [
       "'Life'"
      ]
     },
     "execution_count": 7,
     "metadata": {},
     "output_type": "execute_result"
    }
   ],
   "source": [
    "c[-4]"
   ]
  },
  {
   "cell_type": "code",
   "execution_count": 18,
   "id": "5bec3d20-5636-4cec-b778-3ddc01474844",
   "metadata": {},
   "outputs": [
    {
     "data": {
      "text/plain": [
       "[11, 33, 55]"
      ]
     },
     "execution_count": 18,
     "metadata": {},
     "output_type": "execute_result"
    }
   ],
   "source": [
    "a = [11, 22, 33, 44, 55]\n",
    "\n",
    "a[0:2]\n",
    "a[-2:]\n",
    "a[::2]"
   ]
  },
  {
   "cell_type": "code",
   "execution_count": 12,
   "id": "ee8dad7d-28d8-451d-b10b-90c1cba5d750",
   "metadata": {},
   "outputs": [
    {
     "name": "stdout",
     "output_type": "stream",
     "text": [
      "[33, 44]\n"
     ]
    }
   ],
   "source": [
    "print(a[2:4])"
   ]
  },
  {
   "cell_type": "markdown",
   "id": "2775b268-15aa-482b-a68c-4561fe7fc190",
   "metadata": {},
   "source": [
    "### 리스트 연산, 수정, 삭제"
   ]
  },
  {
   "cell_type": "code",
   "execution_count": 28,
   "id": "4ee11da1-fb80-46b9-994f-30295f9c48e4",
   "metadata": {},
   "outputs": [
    {
     "name": "stdout",
     "output_type": "stream",
     "text": [
      "[11, 22, 33, 44, 55, 66]\n",
      "[11, 22, 33, 11, 22, 33, 11, 22, 33]\n"
     ]
    }
   ],
   "source": [
    "a = [11, 22, 33]\n",
    "b = [44, 55, 66]\n",
    "\n",
    "# 리스트 더하기\n",
    "print(a + b)\n",
    "\n",
    "# 리스트 반복하기\n",
    "print(a * 3)\n",
    "\n",
    "c = a*3"
   ]
  },
  {
   "cell_type": "code",
   "execution_count": 27,
   "id": "08115632-4de8-4741-b621-bc491517aabb",
   "metadata": {},
   "outputs": [
    {
     "name": "stdout",
     "output_type": "stream",
     "text": [
      "[11, 22, 44]\n",
      " \n",
      "[11, ' ', 44]\n",
      "[11, 44]\n"
     ]
    }
   ],
   "source": [
    "# 리스트 값 수정하기\n",
    "\n",
    "a = [11, 22, 33]\n",
    "a[2] = 44\n",
    "print(a)\n",
    "\n",
    "b = \" \"\n",
    "\n",
    "a[1] = b\n",
    "print(b)\n",
    "print(a)\n",
    "\n",
    "# 리스트 값 삭제하기\n",
    "del a[1]\n",
    "print(a)"
   ]
  },
  {
   "cell_type": "code",
   "execution_count": 30,
   "id": "1d72e852-4400-4578-8dc1-336f3de8759c",
   "metadata": {},
   "outputs": [
    {
     "name": "stdout",
     "output_type": "stream",
     "text": [
      "[11, 22, 33, 11, 22, 33, 11, 22, 33]\n",
      "[22, 33, 11, 22, 33]\n"
     ]
    }
   ],
   "source": [
    "# 리스트 값 슬라이싱으로 삭제하기\n",
    "\n",
    "print(c)\n",
    "del c[:4]\n",
    "print(c)"
   ]
  },
  {
   "cell_type": "markdown",
   "id": "9087e303-2215-4b01-8447-412367822928",
   "metadata": {},
   "source": [
    "### 리스트 관련 함수"
   ]
  },
  {
   "cell_type": "code",
   "execution_count": 31,
   "id": "49b4d4e5-c017-41a2-af79-b06dcfa878d4",
   "metadata": {},
   "outputs": [
    {
     "data": {
      "text/plain": [
       "['__add__',\n",
       " '__class__',\n",
       " '__class_getitem__',\n",
       " '__contains__',\n",
       " '__delattr__',\n",
       " '__delitem__',\n",
       " '__dir__',\n",
       " '__doc__',\n",
       " '__eq__',\n",
       " '__format__',\n",
       " '__ge__',\n",
       " '__getattribute__',\n",
       " '__getitem__',\n",
       " '__getstate__',\n",
       " '__gt__',\n",
       " '__hash__',\n",
       " '__iadd__',\n",
       " '__imul__',\n",
       " '__init__',\n",
       " '__init_subclass__',\n",
       " '__iter__',\n",
       " '__le__',\n",
       " '__len__',\n",
       " '__lt__',\n",
       " '__mul__',\n",
       " '__ne__',\n",
       " '__new__',\n",
       " '__reduce__',\n",
       " '__reduce_ex__',\n",
       " '__repr__',\n",
       " '__reversed__',\n",
       " '__rmul__',\n",
       " '__setattr__',\n",
       " '__setitem__',\n",
       " '__sizeof__',\n",
       " '__str__',\n",
       " '__subclasshook__',\n",
       " 'append',\n",
       " 'clear',\n",
       " 'copy',\n",
       " 'count',\n",
       " 'extend',\n",
       " 'index',\n",
       " 'insert',\n",
       " 'pop',\n",
       " 'remove',\n",
       " 'reverse',\n",
       " 'sort']"
      ]
     },
     "execution_count": 31,
     "metadata": {},
     "output_type": "execute_result"
    }
   ],
   "source": [
    "dir(list)"
   ]
  },
  {
   "cell_type": "code",
   "execution_count": 32,
   "id": "4137e7df-8ac1-46bb-88ab-8c10925ec561",
   "metadata": {},
   "outputs": [
    {
     "name": "stdout",
     "output_type": "stream",
     "text": [
      "[]\n"
     ]
    }
   ],
   "source": [
    "# 리스트 요소 비우기\n",
    "\n",
    "c.clear()\n",
    "print(c)"
   ]
  },
  {
   "cell_type": "code",
   "execution_count": 37,
   "id": "ab293e2b-3b67-4026-a726-8a12a886b994",
   "metadata": {},
   "outputs": [],
   "source": [
    "a=[]"
   ]
  },
  {
   "cell_type": "code",
   "execution_count": 38,
   "id": "e9f700ff-d86a-4f40-9f1b-7aed5d7ffb74",
   "metadata": {},
   "outputs": [
    {
     "name": "stdout",
     "output_type": "stream",
     "text": [
      "[3, [1, 2]]\n"
     ]
    }
   ],
   "source": [
    "# 리스트 요소 추가하기\n",
    "\n",
    "a.append(3)\n",
    "a.append([1,2])\n",
    "print(a)\n"
   ]
  },
  {
   "cell_type": "code",
   "execution_count": 40,
   "id": "2dabf4aa-fa4f-4dfb-84cd-26052e3f5edd",
   "metadata": {},
   "outputs": [
    {
     "name": "stdout",
     "output_type": "stream",
     "text": [
      "[11, 22, 33, 44, 55]\n",
      "[55, 44, 33, 22, 11]\n"
     ]
    }
   ],
   "source": [
    "# 리스트 정렬\n",
    "\n",
    "a = [11, 44, 22, 33, 55]\n",
    "a.sort()\n",
    "print(a)\n",
    "\n",
    "a.reverse()\n",
    "print(a)"
   ]
  },
  {
   "cell_type": "code",
   "execution_count": 42,
   "id": "f7bf3b04-a191-4875-9014-453a4eb4c315",
   "metadata": {},
   "outputs": [
    {
     "name": "stdout",
     "output_type": "stream",
     "text": [
      "[66, 77, 88, 99, 0]\n",
      "[0, 66, 77, 88, 99]\n",
      "[99, 88, 77, 66, 0]\n"
     ]
    }
   ],
   "source": [
    "# 리스트정렬 원본 유지하기\n",
    "\n",
    "aa = [66, 77, 88, 99, 0]\n",
    "bb = sorted(aa)\n",
    "cc = sorted(aa, reverse=True)\n",
    "\n",
    "print(aa)\n",
    "print(bb)\n",
    "print(cc)"
   ]
  },
  {
   "cell_type": "code",
   "execution_count": 44,
   "id": "b4b47fa3-1f5b-46d7-81c9-b89dc2825f3b",
   "metadata": {},
   "outputs": [
    {
     "name": "stdout",
     "output_type": "stream",
     "text": [
      "['banana', 'kiwi', 'orange', 'melon', 'apple', 'strawberry', 'blueberry']\n",
      "['kiwi', 'melon', 'apple', 'banana', 'orange', 'blueberry', 'strawberry']\n",
      "['strawberry', 'blueberry', 'banana', 'orange', 'melon', 'apple', 'kiwi']\n"
     ]
    }
   ],
   "source": [
    "# sorted 응용\n",
    "\n",
    "fruit = ['banana', 'kiwi', 'orange', 'melon', 'apple', 'strawberry', 'blueberry']\n",
    "\n",
    "result = sorted(fruit, key=len)\n",
    "result2 = sorted(fruit, key=len, reverse=True)\n",
    "\n",
    "print(fruit)\n",
    "print(result)\n",
    "print(result2)\n",
    "\n"
   ]
  },
  {
   "cell_type": "code",
   "execution_count": 51,
   "id": "fbb7fdc6-d6a5-4e77-9ef2-5445ae70d011",
   "metadata": {},
   "outputs": [
    {
     "name": "stdout",
     "output_type": "stream",
     "text": [
      "kiwi 맛있다.\n",
      "melon 맛있다.\n",
      "apple 맛있다.\n",
      "banana 맛없어\n",
      "orange 맛있다.\n",
      "blueberry 맛있다.\n",
      "strawberry 맛있다.\n",
      "끝\n"
     ]
    }
   ],
   "source": [
    "for l in result:\n",
    "    if l == 'banana':\n",
    "        print(l + ' 맛없어')\n",
    "    else:\n",
    "        print(l + ' 맛있다.')\n",
    "print('끝')"
   ]
  },
  {
   "cell_type": "code",
   "execution_count": 52,
   "id": "6cd68eeb-4c6b-4f95-9138-c8f5a8f54760",
   "metadata": {},
   "outputs": [
    {
     "data": {
      "text/plain": [
       "4"
      ]
     },
     "execution_count": 52,
     "metadata": {},
     "output_type": "execute_result"
    }
   ],
   "source": [
    "# 인덱스 반환 - index\n",
    "\n",
    "fruit = ['banana', 'kiwi', 'orange', 'melon', 'apple', 'strawberry', 'blueberry']\n",
    "fruit.index('apple')"
   ]
  },
  {
   "cell_type": "code",
   "execution_count": 54,
   "id": "536de407-9635-4702-b032-bb14b2672731",
   "metadata": {},
   "outputs": [
    {
     "name": "stdin",
     "output_type": "stream",
     "text": [
      "먹고 싶은 과일 입력:  apple\n"
     ]
    },
    {
     "name": "stdout",
     "output_type": "stream",
     "text": [
      "apple를 좋아하시는 군요, 그것은 5 번째에 있습니다.\n"
     ]
    }
   ],
   "source": [
    "fruit = ['banana', 'kiwi', 'orange', 'melon', 'apple', 'strawberry', 'blueberry']\n",
    "fruit.index('apple')\n",
    "\n",
    "# inp = input('먹고 싶은 과일 입력: ')\n",
    " \n",
    "# print(inp + '를 먹고싶군요?')\n",
    "\n",
    "want = input('먹고 싶은 과일 입력: ')\n",
    "where = fruit.index(want)\n",
    "print(f'{want}를 좋아하시는 군요, 그것은 {where + 1} 번째에 있습니다.')"
   ]
  },
  {
   "cell_type": "code",
   "execution_count": 57,
   "id": "4eb186d1-8bd1-43d7-a74b-1206df86876a",
   "metadata": {},
   "outputs": [
    {
     "name": "stdin",
     "output_type": "stream",
     "text": [
      "먹고 싶은 과일 입력:  apple\n"
     ]
    },
    {
     "name": "stdout",
     "output_type": "stream",
     "text": [
      "apple\n"
     ]
    }
   ],
   "source": [
    "n = fruit.index(input('먹고 싶은 과일 입력: '))\n",
    "print(fruit[n])"
   ]
  },
  {
   "cell_type": "code",
   "execution_count": 58,
   "id": "5b9d6f5b-f832-47cc-b9a9-276ebd40f7aa",
   "metadata": {},
   "outputs": [
    {
     "name": "stdout",
     "output_type": "stream",
     "text": [
      "[11, 22, 33, 44, 55, 66, 77, 88]\n",
      "[11, 22, 33, 44, 44, 55, 66, 77, 88]\n"
     ]
    }
   ],
   "source": [
    "# 리스트에 요소 삽입 - insert\n",
    "\n",
    "num = [11, 22, 33, 44, 55, 66, 77, 88]\n",
    "print(num)\n",
    "num.insert(3, 44) # 3은 인덱스 위치, 44는 위치에 넣을 요소\n",
    "print(num)"
   ]
  },
  {
   "cell_type": "code",
   "execution_count": 3,
   "id": "1442282c-c7b5-4eec-8899-6d5b9fe1450f",
   "metadata": {},
   "outputs": [],
   "source": [
    "ex = []"
   ]
  },
  {
   "cell_type": "code",
   "execution_count": 4,
   "id": "80aec9f5-2445-48eb-bb77-11ec9ea9f6b8",
   "metadata": {},
   "outputs": [
    {
     "name": "stdout",
     "output_type": "stream",
     "text": [
      "['맨앞']\n",
      "['맨뒤 바로 앞', '맨앞']\n",
      "['맨앞', '맨뒤 바로 앞', '맨앞']\n",
      "['맨앞', '맨뒤 바로 앞', '맨앞', '맨뒤']\n"
     ]
    }
   ],
   "source": [
    "ex.insert(0, '처음')\n",
    "print(ex)\n",
    "\n",
    "ex.insert(-1, '맨뒤 바로 앞')\n",
    "print(ex)\n",
    "\n",
    "ex.insert(0, '맨앞')\n",
    "print(ex)\n",
    "\n",
    "ex.insert(len(ex),'맨뒤')\n",
    "print(ex)"
   ]
  },
  {
   "cell_type": "code",
   "execution_count": 5,
   "id": "54efa0af-7117-4053-9578-15fa0e4c4999",
   "metadata": {},
   "outputs": [
    {
     "name": "stdout",
     "output_type": "stream",
     "text": [
      "[1, 2, 1, 2, 3]\n"
     ]
    }
   ],
   "source": [
    "# 리스트 요소 제거 - remove\n",
    "\n",
    "a = [1, 2, 3, 1, 2, 3]\n",
    "a.remove(3)\n",
    "print(a)"
   ]
  },
  {
   "cell_type": "code",
   "execution_count": 11,
   "id": "2da01bda-c7a4-46e3-822f-ecd5a28f86b0",
   "metadata": {},
   "outputs": [
    {
     "name": "stdout",
     "output_type": "stream",
     "text": [
      "[1, 2]\n",
      "3\n",
      "2\n"
     ]
    }
   ],
   "source": [
    "# 리스트 요소 끄집어 내기 - pop\n",
    "\n",
    "a = [1, 2, 3]\n",
    "hand = a.pop()\n",
    "print(a)\n",
    "print(hand)\n",
    "\n",
    "b = a.pop(1)\n",
    "print(b)"
   ]
  },
  {
   "cell_type": "code",
   "execution_count": 10,
   "id": "9ad74dcd-0a1c-41bb-a18e-dfed9057ac89",
   "metadata": {},
   "outputs": [
    {
     "name": "stdout",
     "output_type": "stream",
     "text": [
      "3\n"
     ]
    }
   ],
   "source": [
    "\n"
   ]
  },
  {
   "cell_type": "code",
   "execution_count": null,
   "id": "27689992-62ff-4f27-8815-150771e76c02",
   "metadata": {},
   "outputs": [],
   "source": []
  }
 ],
 "metadata": {
  "kernelspec": {
   "display_name": "Python 3 (ipykernel)",
   "language": "python",
   "name": "python3"
  },
  "language_info": {
   "codemirror_mode": {
    "name": "ipython",
    "version": 3
   },
   "file_extension": ".py",
   "mimetype": "text/x-python",
   "name": "python",
   "nbconvert_exporter": "python",
   "pygments_lexer": "ipython3",
   "version": "3.13.1"
  }
 },
 "nbformat": 4,
 "nbformat_minor": 5
}
