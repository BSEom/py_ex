{
 "cells": [
  {
   "cell_type": "markdown",
   "id": "525bff22-c87f-4eb5-8104-100532a725b8",
   "metadata": {},
   "source": [
    "# 클래스 "
   ]
  },
  {
   "cell_type": "markdown",
   "id": "3eb8e3b1-e3b3-4a46-91a6-652c1f1ea79b",
   "metadata": {},
   "source": [
    "## 클래스 기본 "
   ]
  },
  {
   "cell_type": "code",
   "execution_count": 7,
   "id": "fc3c2316-7e19-4684-863a-ca59c5c9eece",
   "metadata": {},
   "outputs": [
    {
     "name": "stdout",
     "output_type": "stream",
     "text": [
      "[1, 2, 3, 4] <class 'list'>\n",
      "(11, 22, 33, 44) <class 'tuple'>\n"
     ]
    }
   ],
   "source": [
    "what1 = [1, 2, 3, 4]\n",
    "what2 = ['a', 'b', 'c']\n",
    "who = 11, 22, 33, 44\n",
    "\n",
    "print(what1, type(what1))\n",
    "print(who, type(who))"
   ]
  },
  {
   "cell_type": "code",
   "execution_count": 8,
   "id": "1187d37c-a5a5-46da-9c86-a72ad3546189",
   "metadata": {},
   "outputs": [
    {
     "name": "stdout",
     "output_type": "stream",
     "text": [
      "3\n",
      "7\n"
     ]
    }
   ],
   "source": [
    "result = 0\n",
    "def add(num):\n",
    "    global result\n",
    "    result += num\n",
    "    return result\n",
    "\n",
    "print(add(3))\n",
    "print(add(4))"
   ]
  },
  {
   "cell_type": "code",
   "execution_count": 63,
   "id": "106c7173-3abb-4b01-a6ed-9ad485aed0f2",
   "metadata": {},
   "outputs": [
    {
     "name": "stdout",
     "output_type": "stream",
     "text": [
      "1: 1\n",
      "2: 1\n",
      "2: 2\n",
      "1: 2\n",
      "1: 3\n",
      "2: 3\n"
     ]
    }
   ],
   "source": [
    "# 함수로 구성\n",
    "result1 = 0\n",
    "result2 = 0\n",
    "\n",
    "def add1(num):\n",
    "    global result1\n",
    "    result1 += num\n",
    "    return result1\n",
    "\n",
    "def add2(num):\n",
    "    global result2\n",
    "    result2 += num\n",
    "    return result2\n",
    "\n",
    "print('1:',add1(1))  \n",
    "print('2:',add2(1)) \n",
    "print('2:',add2(1)) \n",
    "print('1:',add1(1))\n",
    "print('1:',add1(1))\n",
    "print('2:',add2(1)) "
   ]
  },
  {
   "cell_type": "code",
   "execution_count": 20,
   "id": "ebd86ee7-53ae-4bb0-a168-052eba509d70",
   "metadata": {},
   "outputs": [
    {
     "name": "stdout",
     "output_type": "stream",
     "text": [
      "1: 1\n",
      "2: 1\n",
      "2: 2\n",
      "2: 3\n",
      "1: 2\n",
      "1: 3\n",
      "2: 2\n",
      "2: 1\n"
     ]
    }
   ],
   "source": [
    "# 클래스로 구성\n",
    "class Calculator:\n",
    "\n",
    "    def __init__(self):\n",
    "        self.result = 0\n",
    "    \n",
    "    def add(self, num):\n",
    "        self.result += num\n",
    "        return self.result\n",
    "\n",
    "    def sub(self, num):\n",
    "        self.result -= num\n",
    "        return self.result\n",
    "\n",
    "\n",
    "cal1 = Calculator()\n",
    "cal2 = Calculator()\n",
    "\n",
    "# 인스턴스화\n",
    "print('1:',cal1.add(1))  \n",
    "print('2:',cal2.add(1)) \n",
    "print('2:',cal2.add(1)) \n",
    "print('2:',cal2.add(1))\n",
    "print('1:',cal1.add(1))\n",
    "print('1:',cal1.add(1))\n",
    "\n",
    "print('2:',cal2.sub(1))\n",
    "print('2:',cal2.sub(1)) "
   ]
  },
  {
   "cell_type": "markdown",
   "id": "7214abe1-9849-41d3-8f56-2b3f9d951ce2",
   "metadata": {},
   "source": [
    "## 생성자"
   ]
  },
  {
   "cell_type": "code",
   "execution_count": 48,
   "id": "c5bfe783-9ef2-4011-ab8b-a215f3e1ec6e",
   "metadata": {},
   "outputs": [],
   "source": [
    "# 예제1\n",
    "class Dduk:\n",
    "    def __init__(self, won, ea):\n",
    "        self.won = won\n",
    "        self.ea = ea\n",
    "\n",
    "    def dduk(self):\n",
    "        result = self.won * self.ea\n",
    "        print(f'배가 고파서 떡볶이집에서 떡볶이를 {result}원어치 먹었다.')\n",
    "\n",
    "    def odeng(self):\n",
    "        result = self.won * 2 * self.ea\n",
    "        print(f'배가 고파서 떡볶이집에서 오뎅을 {result}원어치 먹었다.')\n",
    "\n",
    "    def sundae(self):\n",
    "        result = self.won * 3 * self.ea\n",
    "        print(f'배가 고파서 떡볶이집에서 순대을 {result}원어치 먹었다.')\n",
    "        "
   ]
  },
  {
   "cell_type": "code",
   "execution_count": 49,
   "id": "b10e6746-f3bc-4bde-af67-b3e12730a0f0",
   "metadata": {},
   "outputs": [],
   "source": [
    "성훈 = Dduk(2000,3)\n",
    "희성 = Dduk(3000,2)\n",
    "기윤 = Dduk(1500,6)\n"
   ]
  },
  {
   "cell_type": "code",
   "execution_count": 50,
   "id": "3a83ff7e-31ed-48bb-a881-05491e1d0ff5",
   "metadata": {},
   "outputs": [
    {
     "name": "stdout",
     "output_type": "stream",
     "text": [
      "배가 고파서 떡볶이집에서 떡볶이를 6000원어치 먹었다.\n"
     ]
    }
   ],
   "source": [
    "성훈.dduk()"
   ]
  },
  {
   "cell_type": "code",
   "execution_count": 51,
   "id": "c5ef17f5-607e-4efa-b9f1-c89882cb892f",
   "metadata": {},
   "outputs": [],
   "source": [
    "성훈.__init__(3300,2)"
   ]
  },
  {
   "cell_type": "code",
   "execution_count": 52,
   "id": "5115b472-edac-40a8-8742-dd09dc9d0b92",
   "metadata": {},
   "outputs": [
    {
     "name": "stdout",
     "output_type": "stream",
     "text": [
      "배가 고파서 떡볶이집에서 떡볶이를 6600원어치 먹었다.\n"
     ]
    }
   ],
   "source": [
    "성훈.dduk()"
   ]
  },
  {
   "cell_type": "code",
   "execution_count": 53,
   "id": "5e5a9ba1-74bd-4cd6-ab86-ccbde897322a",
   "metadata": {},
   "outputs": [],
   "source": [
    "길동 = Dduk(2000,2)"
   ]
  },
  {
   "cell_type": "code",
   "execution_count": 54,
   "id": "a95cdd23-f8ce-4d69-bd26-c230abdf589f",
   "metadata": {},
   "outputs": [
    {
     "name": "stdout",
     "output_type": "stream",
     "text": [
      "배가 고파서 떡볶이집에서 떡볶이를 4000원어치 먹었다.\n",
      "배가 고파서 떡볶이집에서 오뎅을 8000원어치 먹었다.\n",
      "배가 고파서 떡볶이집에서 순대을 12000원어치 먹었다.\n"
     ]
    }
   ],
   "source": [
    "길동.dduk()\n",
    "길동.odeng()\n",
    "길동.sundae()"
   ]
  },
  {
   "cell_type": "code",
   "execution_count": 55,
   "id": "4792c422-6735-4ff4-b785-0d3e21e29b80",
   "metadata": {},
   "outputs": [],
   "source": [
    "길동.__init__(4000,2)"
   ]
  },
  {
   "cell_type": "code",
   "execution_count": 56,
   "id": "e331c285-f5b4-48e8-9e3f-fe181c37fcf5",
   "metadata": {},
   "outputs": [
    {
     "name": "stdout",
     "output_type": "stream",
     "text": [
      "배가 고파서 떡볶이집에서 떡볶이를 8000원어치 먹었다.\n",
      "배가 고파서 떡볶이집에서 오뎅을 16000원어치 먹었다.\n",
      "배가 고파서 떡볶이집에서 순대을 24000원어치 먹었다.\n"
     ]
    }
   ],
   "source": [
    "길동.dduk()\n",
    "길동.odeng()\n",
    "길동.sundae()"
   ]
  },
  {
   "cell_type": "code",
   "execution_count": 60,
   "id": "178fe329-4a24-4e92-9903-d6d571cde83c",
   "metadata": {},
   "outputs": [],
   "source": [
    "class Dduk:\n",
    "    def __init__(self):\n",
    "        self.won = 0\n",
    "        self.ea = 0\n",
    "\n",
    "    def dduk(self, won, ea):\n",
    "        result = won * ea\n",
    "        print(f'배가 고파서 떡볶이집에서 떡볶이를 {result}원어치 먹었다.')\n",
    "\n",
    "    def Odeng(self, won, ea):\n",
    "        result = won * 2 * ea\n",
    "        print(f'배가 고파서 떡볶이집에서 오뎅을 {result}원어치 먹었다.')"
   ]
  },
  {
   "cell_type": "code",
   "execution_count": 61,
   "id": "bdafb68c-1c5a-4eb2-b479-270811cb6460",
   "metadata": {},
   "outputs": [],
   "source": [
    "성훈 = Dduk()\n",
    "희성 = Dduk()\n",
    "기윤 = Dduk()"
   ]
  },
  {
   "cell_type": "code",
   "execution_count": 62,
   "id": "0b78ca84-5116-4ae9-84b1-cb1fefba8d6f",
   "metadata": {},
   "outputs": [
    {
     "name": "stdout",
     "output_type": "stream",
     "text": [
      "배가 고파서 떡볶이집에서 떡볶이를 6000원어치 먹었다.\n"
     ]
    }
   ],
   "source": [
    "성훈.dduk(2000,3)"
   ]
  },
  {
   "cell_type": "markdown",
   "id": "5f169113-b34f-42cd-9fdd-b0f6957ccf50",
   "metadata": {},
   "source": [
    "## 예제들"
   ]
  },
  {
   "cell_type": "code",
   "execution_count": 92,
   "id": "94726240-1e9c-42e7-a07a-283739b694f0",
   "metadata": {},
   "outputs": [
    {
     "name": "stdout",
     "output_type": "stream",
     "text": [
      "방가방가1 저는 고전 인사입니다!!\n",
      "방가방가2 저는 고전 인사입니다!!\n",
      "방가방가3 저는 고전 인사입니다!!\n",
      "==============================\n",
      "\n",
      "이것은 예로부터 전해오는 고전 인사함수 입니다.  DocString\n",
      "\n",
      "==============================\n",
      "방가방가1 저는 고전 인사입니다!!\n",
      "방가방가2 저는 고전 인사입니다!!\n",
      "방가방가3 저는 고전 인사입니다!!\n"
     ]
    }
   ],
   "source": [
    "# 테스트 1\n",
    "def test():\n",
    "    \"\"\"\n",
    "    이것은 예로부터 전해오는 고전 인사함수 입니다.  DocString\n",
    "    \"\"\"\n",
    "    \n",
    "    print(\"방가방가1 저는 고전 인사입니다!!\")\n",
    "    print(\"방가방가2 저는 고전 인사입니다!!\")\n",
    "    print(\"방가방가3 저는 고전 인사입니다!!\")\n",
    "\n",
    "test()\n",
    "print(\"=\"*30)\n",
    "print(test.__doc__)\n",
    "print(\"=\"*30)\n",
    "test()"
   ]
  },
  {
   "cell_type": "code",
   "execution_count": 93,
   "id": "d6e0472e-8073-44a5-9597-e7e3a9ccb438",
   "metadata": {},
   "outputs": [
    {
     "name": "stdout",
     "output_type": "stream",
     "text": [
      "{'name': 'HD', 'color': 'Blue'}\n",
      "Car:HD, Color:Blue\n",
      "Car:kia, Color:white\n"
     ]
    }
   ],
   "source": [
    "# 테스트 2\n",
    "# class의 self없이 함수 만들기\n",
    "\n",
    "def set_car(name, color):\n",
    "    return {\"name\":name, \"color\":color}\n",
    "\n",
    "def get_car_info(car):\n",
    "    return f'Car:{car['name']}, Color:{car['color']}'\n",
    "\n",
    "# 자동차를 생성\n",
    "car = set_car(\"HD\", \"Blue\")\n",
    "print(car)\n",
    "\n",
    "# 자동차 정보를 생성\n",
    "print(get_car_info(car))\n",
    "\n",
    "print(get_car_info(set_car(\"kia\",\"white\")))"
   ]
  },
  {
   "cell_type": "code",
   "execution_count": 94,
   "id": "eb30ec23-649c-4927-bb70-2262dd6529c1",
   "metadata": {},
   "outputs": [
    {
     "name": "stdout",
     "output_type": "stream",
     "text": [
      "Car:HD, Color:Yellow\n",
      "Car:kia, Color:white\n"
     ]
    }
   ],
   "source": [
    "# 테스트 3\n",
    "\n",
    "class Car:\n",
    "    def set_car(name, color):\n",
    "        return {\"name\":name, \"color\":color}\n",
    "\n",
    "    def get_car_info(car):\n",
    "        return f'Car:{car['name']}, Color:{car['color']}'\n",
    "        \n",
    "\n",
    "car1 = Car.set_car(\"HD\", \"Yellow\")\n",
    "car2 = Car.set_car(\"kia\", \"white\")\n",
    "print(Car.get_car_info(car1))\n",
    "print(Car.get_car_info(car2))"
   ]
  },
  {
   "cell_type": "code",
   "execution_count": 95,
   "id": "d37dee27-61ba-49c4-ae73-7ca7a7197904",
   "metadata": {},
   "outputs": [
    {
     "name": "stdout",
     "output_type": "stream",
     "text": [
      "Car:HD, Color:Yellow\n",
      "Car:kia, Color:gray\n"
     ]
    }
   ],
   "source": [
    "# 테스트 4\n",
    "\n",
    "class Car:\n",
    "    def __init__(self, name, color): # 생성자\n",
    "        self.name = name\n",
    "        self.color = color\n",
    "\n",
    "    def get_car_info(self):\n",
    "        return f'Car:{self.name}, Color:{self.color}'\n",
    "    \n",
    "\n",
    "car1 = Car(\"HD\", \"Yellow\")\n",
    "car2 = Car(\"kia\", \"gray\")\n",
    "\n",
    "print(car1.get_car_info())\n",
    "print(car2.get_car_info())"
   ]
  },
  {
   "cell_type": "code",
   "execution_count": 113,
   "id": "e9b674c5-d26f-473a-bb6c-cc4dcf5ff421",
   "metadata": {},
   "outputs": [],
   "source": [
    "# 테스트 5\n",
    "\n",
    "class Car:\n",
    "    def __init__(self, name, color): # 생성자\n",
    "        self.name = name\n",
    "        self.color = color\n",
    "        self.speed = 0  # 초기값 0\n",
    "\n",
    "    def get_car_info(self):\n",
    "        return f'Car:{self.name}, Color:{self.color}'\n",
    "\n",
    "    def acc(self, amount):\n",
    "        self.speed += amount # 속도가 증가\n",
    "        return f'{self.color}색 {self.name} 속도 올려요. 현재속도는 {self.speed}Km/h'\n",
    "        \n"
   ]
  },
  {
   "cell_type": "code",
   "execution_count": 110,
   "id": "f9cda7df-fe5d-4cd0-8560-0d30267aafb7",
   "metadata": {},
   "outputs": [
    {
     "name": "stdout",
     "output_type": "stream",
     "text": [
      "Car:HD, Color:Yellow\n",
      "Car:kia, Color:gray\n",
      "Yellow색 HD 속도 올려요. 현재속도는 30Km/h\n",
      "gray색 kia 속도 올려요. 현재속도는 50Km/h\n",
      "Yellow색 HD 속도 올려요. 현재속도는 40Km/h\n"
     ]
    }
   ],
   "source": [
    "car1 = Car(\"HD\", \"Yellow\")\n",
    "car2 = Car(\"kia\", \"gray\")\n",
    "\n",
    "print(car1.get_car_info())\n",
    "print(car2.get_car_info())\n",
    "\n",
    "\n",
    "print(car1.acc(30))\n",
    "print(car2.acc(50))\n",
    "print(car1.acc(10))"
   ]
  },
  {
   "cell_type": "code",
   "execution_count": 112,
   "id": "4684a6cb-d9a0-463f-a46b-e2c8e284d4c8",
   "metadata": {},
   "outputs": [
    {
     "name": "stdout",
     "output_type": "stream",
     "text": [
      "Yellow색 HD 속도 올려요. 현재속도는 101Km/h\n",
      "Yellow색 HD 속도 올려요. 현재속도는 102Km/h\n",
      "Yellow색 HD 속도 올려요. 현재속도는 103Km/h\n",
      "Yellow색 HD 속도 올려요. 현재속도는 104Km/h\n",
      "Yellow색 HD 속도 올려요. 현재속도는 105Km/h\n",
      "Yellow색 HD 속도 올려요. 현재속도는 106Km/h\n",
      "Yellow색 HD 속도 올려요. 현재속도는 107Km/h\n",
      "Yellow색 HD 속도 올려요. 현재속도는 108Km/h\n",
      "Yellow색 HD 속도 올려요. 현재속도는 109Km/h\n",
      "Yellow색 HD 속도 올려요. 현재속도는 110Km/h\n",
      "Yellow색 HD 속도 올려요. 현재속도는 111Km/h\n",
      "Yellow색 HD 속도 올려요. 현재속도는 112Km/h\n",
      "Yellow색 HD 속도 올려요. 현재속도는 113Km/h\n",
      "Yellow색 HD 속도 올려요. 현재속도는 114Km/h\n",
      "Yellow색 HD 속도 올려요. 현재속도는 115Km/h\n",
      "Yellow색 HD 속도 올려요. 현재속도는 116Km/h\n",
      "Yellow색 HD 속도 올려요. 현재속도는 117Km/h\n",
      "Yellow색 HD 속도 올려요. 현재속도는 118Km/h\n",
      "Yellow색 HD 속도 올려요. 현재속도는 119Km/h\n",
      "Yellow색 HD 속도 올려요. 현재속도는 120Km/h\n",
      "Yellow색 HD 속도 올려요. 현재속도는 121Km/h\n",
      "Yellow색 HD 속도 올려요. 현재속도는 122Km/h\n",
      "Yellow색 HD 속도 올려요. 현재속도는 123Km/h\n",
      "Yellow색 HD 속도 올려요. 현재속도는 124Km/h\n",
      "Yellow색 HD 속도 올려요. 현재속도는 125Km/h\n",
      "Yellow색 HD 속도 올려요. 현재속도는 126Km/h\n",
      "Yellow색 HD 속도 올려요. 현재속도는 127Km/h\n",
      "Yellow색 HD 속도 올려요. 현재속도는 128Km/h\n",
      "Yellow색 HD 속도 올려요. 현재속도는 129Km/h\n",
      "Yellow색 HD 속도 올려요. 현재속도는 130Km/h\n",
      "Yellow색 HD 속도 올려요. 현재속도는 131Km/h\n",
      "Yellow색 HD 속도 올려요. 현재속도는 132Km/h\n",
      "Yellow색 HD 속도 올려요. 현재속도는 133Km/h\n",
      "Yellow색 HD 속도 올려요. 현재속도는 134Km/h\n",
      "Yellow색 HD 속도 올려요. 현재속도는 135Km/h\n",
      "Yellow색 HD 속도 올려요. 현재속도는 136Km/h\n",
      "Yellow색 HD 속도 올려요. 현재속도는 137Km/h\n",
      "Yellow색 HD 속도 올려요. 현재속도는 138Km/h\n",
      "Yellow색 HD 속도 올려요. 현재속도는 139Km/h\n",
      "Yellow색 HD 속도 올려요. 현재속도는 140Km/h\n",
      "Yellow색 HD 속도 올려요. 현재속도는 141Km/h\n",
      "Yellow색 HD 속도 올려요. 현재속도는 142Km/h\n",
      "Yellow색 HD 속도 올려요. 현재속도는 143Km/h\n",
      "Yellow색 HD 속도 올려요. 현재속도는 144Km/h\n",
      "Yellow색 HD 속도 올려요. 현재속도는 145Km/h\n",
      "Yellow색 HD 속도 올려요. 현재속도는 146Km/h\n",
      "Yellow색 HD 속도 올려요. 현재속도는 147Km/h\n",
      "Yellow색 HD 속도 올려요. 현재속도는 148Km/h\n",
      "Yellow색 HD 속도 올려요. 현재속도는 149Km/h\n",
      "Yellow색 HD 속도 올려요. 현재속도는 150Km/h\n",
      "Yellow색 HD 속도 올려요. 현재속도는 151Km/h\n",
      "Yellow색 HD 속도 올려요. 현재속도는 152Km/h\n",
      "Yellow색 HD 속도 올려요. 현재속도는 153Km/h\n",
      "Yellow색 HD 속도 올려요. 현재속도는 154Km/h\n",
      "Yellow색 HD 속도 올려요. 현재속도는 155Km/h\n",
      "Yellow색 HD 속도 올려요. 현재속도는 156Km/h\n",
      "Yellow색 HD 속도 올려요. 현재속도는 157Km/h\n",
      "Yellow색 HD 속도 올려요. 현재속도는 158Km/h\n",
      "Yellow색 HD 속도 올려요. 현재속도는 159Km/h\n",
      "Yellow색 HD 속도 올려요. 현재속도는 160Km/h\n",
      "100Km/h 속도 유지중\n"
     ]
    }
   ],
   "source": [
    "import time as t\n",
    "\n",
    "for n in range(60):\n",
    "    print(car1.acc(1))\n",
    "    t.sleep(1)\n",
    "print(\"100Km/h 속도 유지중\")"
   ]
  },
  {
   "cell_type": "code",
   "execution_count": 130,
   "id": "412976bd-2081-479f-b22d-77314864899a",
   "metadata": {},
   "outputs": [],
   "source": [
    "# 테스트 6 상속\n",
    "\n",
    "class Mycar(Car):\n",
    "    def turbo(self):\n",
    "        self.speed += 50\n",
    "        return f'내차가 나른다!! 터보! {self.speed} Km/h'\n",
    "\n",
    "    def acc(self):\n",
    "        self.speed += 30\n",
    "        return f'{self.name} 속도 올려요. 현재속도는 {self.speed}Km/h'"
   ]
  },
  {
   "cell_type": "code",
   "execution_count": 128,
   "id": "e96f5654-6806-4151-916e-3c22171ed374",
   "metadata": {},
   "outputs": [],
   "source": [
    "my = Mycar(\"BMW\", \"Silver\")\n",
    "car0 = Car(\"HD\", \"Yellow\")"
   ]
  },
  {
   "cell_type": "code",
   "execution_count": 129,
   "id": "cebefcf9-510a-450d-a112-a9e71340d25a",
   "metadata": {},
   "outputs": [
    {
     "name": "stdout",
     "output_type": "stream",
     "text": [
      "Yellow색 HD 속도 올려요. 현재속도는 10Km/h\n",
      "BMW 속도 올려요. 현재속도는 30Km/h\n"
     ]
    }
   ],
   "source": [
    "print(car0.acc(10))\n",
    "print(my.acc())"
   ]
  },
  {
   "cell_type": "code",
   "execution_count": 125,
   "id": "2524419c-b389-49ad-891e-c4e1fcb28f94",
   "metadata": {},
   "outputs": [
    {
     "name": "stdout",
     "output_type": "stream",
     "text": [
      "내차가 나른다!! 터보! 150 Km/h\n",
      "내차가 나른다!! 터보! 200 Km/h\n"
     ]
    }
   ],
   "source": [
    "print(my.turbo())\n",
    "print(my.turbo())"
   ]
  },
  {
   "cell_type": "code",
   "execution_count": 138,
   "id": "9664860b-5996-45a4-a667-3a25f08c1735",
   "metadata": {},
   "outputs": [],
   "source": [
    "# 테스트 7\n",
    "\n",
    "class Pet:\n",
    "\n",
    "    def __init__(self, name, species):\n",
    "        \"\"\"펫을 생성\"\"\"\n",
    "        self.name = name\n",
    "        self.species = species\n",
    "        self.hunger = 50 # 초기 배고픔 수치 (0~100)\n",
    "\n",
    "    def feed(self):\n",
    "        \"\"\"밥을 주면 배고픔 감소\"\"\"\n",
    "        if self.hunger > 10:\n",
    "            self.hunger -= 10\n",
    "            return f'{self.name}에게 밥을 줬습니다!. 배고픔: {self.hunger}'\n",
    "\n",
    "    def play(self):\n",
    "        \"\"\"놀아주면 배고픔이 증가\"\"\"\n",
    "        if self.hunger <= 80:\n",
    "            self.hunger += 20\n",
    "        else:\n",
    "            self.hunger = 100\n",
    "        return f'{self.name}와 아주 잘 놀아줬어요!!. 배고픔: {self.hunger}'"
   ]
  },
  {
   "cell_type": "code",
   "execution_count": 142,
   "id": "d2ce668c-e37b-4148-a035-aeec765d266d",
   "metadata": {},
   "outputs": [
    {
     "name": "stdout",
     "output_type": "stream",
     "text": [
      "뽀삐에게 밥을 줬습니다!. 배고픔: 40\n",
      "뽀삐에게 밥을 줬습니다!. 배고픔: 30\n",
      "아지와 아주 잘 놀아줬어요!!. 배고픔: 70\n",
      "아지와 아주 잘 놀아줬어요!!. 배고픔: 90\n",
      "아지와 아주 잘 놀아줬어요!!. 배고픔: 100\n",
      "뽀삐와 아주 잘 놀아줬어요!!. 배고픔: 50\n",
      "뽀삐와 아주 잘 놀아줬어요!!. 배고픔: 70\n",
      "컁이와 아주 잘 놀아줬어요!!. 배고픔: 70\n",
      "컁이에게 밥을 줬습니다!. 배고픔: 60\n"
     ]
    }
   ],
   "source": [
    "# 펫 생성\n",
    "\n",
    "dog1 = Pet(\"뽀삐\", \"말티즈\")\n",
    "dog2 = Pet(\"아지\", \"요크\")\n",
    "cat = Pet(\"컁이\",\"나만고양없어\")\n",
    "\n",
    "print(dog1.feed())\n",
    "print(dog1.feed())\n",
    "print(dog2.play())\n",
    "print(dog2.play())\n",
    "print(dog2.play())\n",
    "print(dog1.play())\n",
    "print(dog1.play())\n",
    "print(cat.play())\n",
    "print(cat.feed())\n"
   ]
  },
  {
   "cell_type": "code",
   "execution_count": 168,
   "id": "a62d226d-0e5d-40da-9a88-edea1e78546b",
   "metadata": {},
   "outputs": [],
   "source": [
    "# 테스트 8\n",
    "\n",
    "class Bacteria:\n",
    "\n",
    "    def __init__(self, initial_population, growth_rate):\n",
    "        \"\"\"세균 초기화\"\"\"\n",
    "        self.population = initial_population\n",
    "        self.growth_rate = growth_rate\n",
    "        self.time = 0 # 시작시간\n",
    "\n",
    "    def grow(self, hours):\n",
    "        \"\"\"일정 시간이 지나면 세균이 증식함\"\"\"\n",
    "        self.time += hours\n",
    "        self.population *= self.growth_rate**hours\n",
    "        return f'{self.time} 시간 후 세균 수: {int(self.population)} 마리'\n",
    "\n",
    "    def check(self):\n",
    "        \"\"\"현재 세균 수 확인\"\"\"\n",
    "        return f'현재 세균 수 : {int(self.population)} 마리'"
   ]
  },
  {
   "cell_type": "code",
   "execution_count": 169,
   "id": "3b9b8892-d6fc-4a6d-a5c2-9979d9471157",
   "metadata": {},
   "outputs": [],
   "source": [
    "bacteria = Bacteria(100, 2)"
   ]
  },
  {
   "cell_type": "code",
   "execution_count": 170,
   "id": "faf89b24-ab7a-4809-9346-e8eb2765d8ed",
   "metadata": {},
   "outputs": [
    {
     "name": "stdout",
     "output_type": "stream",
     "text": [
      "1 시간 후 세균 수: 200 마리\n",
      "3 시간 후 세균 수: 800 마리\n",
      "6 시간 후 세균 수: 6400 마리\n"
     ]
    }
   ],
   "source": [
    "print(bacteria.grow(1))\n",
    "print(bacteria.grow(2))\n",
    "print(bacteria.grow(3))"
   ]
  },
  {
   "cell_type": "code",
   "execution_count": 221,
   "id": "cc8bc1c2-3d42-4f4d-a2ff-54c2d7339008",
   "metadata": {},
   "outputs": [
    {
     "name": "stdout",
     "output_type": "stream",
     "text": [
      "철수의 잔고는 50000원 입니다.\n",
      "영희의 잔고는 200000원 입니다.\n",
      "철수의 잔고는 90000000원 입니다.\n"
     ]
    }
   ],
   "source": [
    "# 테스트 9 은행 예금 캡슐화 예제, 클래스 변수\n",
    "\n",
    "class Bank_account:\n",
    "    interest_rate = 0.02 # 클래스 변수\n",
    "    def __init__(self, owner, balance):\n",
    "        self.owner = owner\n",
    "        self.balance = balance or 0\n",
    "\n",
    "    def b_print(self):\n",
    "        return f'{self.owner}의 잔고는 {self.balance}원 입니다.'\n",
    "            \n",
    "\n",
    " \n",
    "\n",
    "acc1 = Bank_account(\"철수\", 50000)\n",
    "acc2 = Bank_account(\"영희\", 200000)\n",
    "\n",
    "print(acc1.b_print())\n",
    "print(acc2.b_print())\n",
    "\n",
    "acc1.balance = 90000000\n",
    "print(acc1.b_print())"
   ]
  },
  {
   "cell_type": "code",
   "execution_count": 234,
   "id": "61e8c589-9d55-49b2-8322-9c5a238fd84b",
   "metadata": {},
   "outputs": [],
   "source": [
    "class Bank_account:\n",
    "    interest_rate = 0.02 # 클래스 변수\n",
    "    def __init__(self, owner, balance):\n",
    "        self.owner = owner\n",
    "        self.__balance = balance or 0\n",
    "\n",
    "    def b_print(self):\n",
    "        return f'{self.owner}의 잔고는 {self.__balance}원 입니다.'\n",
    "            \n",
    "    def deposit(self, amount):\n",
    "        self.__balance += amount\n",
    "        return f'{self.owner}님의 계좌에{amount}원이 입금 되었습니다. 현재 잔액: {self.__balance}원'\n",
    "\n",
    "    def withdraw(self, amount):\n",
    "        if self.__balance > amount:\n",
    "            self.__balance -= amount\n",
    "            return f'{self.owner}님의 계좌에서 {amount}원이 출금 되었습니다. 현재 잔액: {self.__balance}원'\n",
    "        return \"잔액이 부족합니다.\"\n",
    "\n",
    "    def interest(self):\n",
    "        total = self.__balance * (1 + self.interest_rate)\n",
    "        return f'{self.interest_rate}% 의 이자가 반영된 금액은 {total:.0f}원 입니다.'"
   ]
  },
  {
   "cell_type": "code",
   "execution_count": 239,
   "id": "008c2c6a-ebfb-4c84-9a16-6b6244b6f279",
   "metadata": {},
   "outputs": [
    {
     "name": "stdout",
     "output_type": "stream",
     "text": [
      "철수의 잔고는 50000원 입니다.\n",
      "영희의 잔고는 200000원 입니다.\n",
      "0.02% 의 이자가 반영된 금액은 51000원 입니다.\n",
      "0.02% 의 이자가 반영된 금액은 204000원 입니다.\n",
      "0.03% 의 이자가 반영된 금액은 51500원 입니다.\n",
      "0.02% 의 이자가 반영된 금액은 204000원 입니다.\n"
     ]
    }
   ],
   "source": [
    "#인스턴스화\n",
    "\n",
    "acc3 = Bank_account(\"철수\", 50000)\n",
    "acc4 = Bank_account(\"영희\", 200000)\n",
    "\n",
    "print(acc3.b_print())\n",
    "print(acc4.b_print())\n",
    "\n",
    "print(acc3.interest())\n",
    "print(acc4.interest())\n",
    "\n",
    "# 클래스 변수 바꾸기\n",
    "acc3.interest_rate = 0.03\n",
    "print(acc3.interest())\n",
    "print(acc4.interest())\n",
    "\n",
    "# 공격후\n",
    "# acc1.balance = 90000000\n",
    "# print(acc3.b_print())\n",
    "\n",
    "# 내장메소드로 캡슐화된 변수 접근\n",
    "# print(acc3.deposit(30000))\n",
    "# print(acc3.withdraw(5000))"
   ]
  },
  {
   "cell_type": "code",
   "execution_count": 248,
   "id": "59b34045-40da-49c4-94e0-7c3e990022a7",
   "metadata": {},
   "outputs": [
    {
     "name": "stdout",
     "output_type": "stream",
     "text": [
      "42\n",
      "42\n"
     ]
    }
   ],
   "source": [
    "class MyClass:\n",
    "    \n",
    "    def __init__(self, value):\n",
    "        self.__private_var = value  # 프라이빗 변수\n",
    "\n",
    "    def get_private_var(self):\n",
    "        return self.__private_var\n",
    "\n",
    "# 인스턴스 생성\n",
    "obj = MyClass(42)\n",
    "\n",
    "# 프라이빗 변수 접근 (이 방법은 실패합니다)\n",
    "# print(obj.__private_var)  # AttributeError 발생\n",
    "\n",
    "# 네임 맹글링을 통해 접근 (이 방법은 성공합니다)\n",
    "print(obj._MyClass__private_var)  # 출력: 42\n",
    "\n",
    "# 메서드를 통해 접근\n",
    "print(obj.get_private_var())  # 출력: 42"
   ]
  },
  {
   "cell_type": "code",
   "execution_count": 254,
   "id": "0e4d2fb2-28ff-40f4-83e9-179fbb74b551",
   "metadata": {},
   "outputs": [
    {
     "name": "stdout",
     "output_type": "stream",
     "text": [
      "잔액이 2000원으로 증가했습니다.\n",
      "콜라을 구매하였습니다. 남은 잔액: 500\n",
      "잔액이 부족합니다. (사이다 가격: 1400원, 현재 잔액: 500)\n",
      "잔액 500원이 반환되었습니다.\n"
     ]
    }
   ],
   "source": [
    "class VendingMachine:\n",
    "    \n",
    "    def __init__(self):\n",
    "        \"\"\"자동판매기 초기화\"\"\"  # DocString으로 출력되는 부분\n",
    "        self.balance = 0 # 사용자의 잔액\n",
    "        self.items = {   # 상품 목록 (이름: 가격)\n",
    "            \"콜라\": 1500,\n",
    "            \"사이다\": 1400,\n",
    "            \"물\": 1000\n",
    "        }\n",
    "\n",
    "    def insert_money(self, amount):\n",
    "        \"\"\"잔액 충전\"\"\"\n",
    "        self.balance += amount\n",
    "        return f'잔액이 {self.balance}원으로 증가했습니다.'\n",
    "\n",
    "    def buy_item(self, item_name):\n",
    "        \"\"\"상품 구매\"\"\"\n",
    "        if item_name not in self.items:\n",
    "            return f'{item_name}은(는) 판매하지 않는 제품입니다.'\n",
    "        \n",
    "        price = self.items[item_name]\n",
    "        \n",
    "        if self.balance < price:\n",
    "            return f'잔액이 부족합니다. ({item_name} 가격: {price}원, 현재 잔액: {self.balance})'\n",
    "\n",
    "        self.balance -= price\n",
    "\n",
    "        return f'{item_name}을 구매하였습니다. 남은 잔액: {self.balance}'\n",
    "\n",
    "    def refund(self):\n",
    "        \"\"\"잔액 반환\"\"\"\n",
    "        amount = self.balance\n",
    "        self.balance = 0\n",
    "        return f'잔액 {amount}원이 반환되었습니다.'\n",
    "\n",
    "\n",
    "# 자동판매기 객체 생성\n",
    "vm = VendingMachine()\n",
    "\n",
    "# 잔액 충전\n",
    "print(vm.insert_money(2000)) #잔액이 2000원으로 증가했습니다.\n",
    "\n",
    "# 상품 구매\n",
    "print(vm.buy_item(\"콜라\"))  # 1500원 콜라 구매, 남은 잔액 500원\n",
    "print(vm.buy_item(\"사이다\")) # 잔액 부족\n",
    "\n",
    "# print(vm.buy_item(\"환타\"))\n",
    "# print(vm.insert_money(5000))\n",
    "# print(vm.buy_item(\"사이다\"))\n",
    "# print(vm.buy_item(\"물\"))\n",
    "\n",
    "# 잔액 반환\n",
    "print(vm.refund()) # 잔액 500원 반환"
   ]
  },
  {
   "cell_type": "code",
   "execution_count": 1,
   "id": "5790a0e4-7519-4529-be5e-257aed9d4cfa",
   "metadata": {},
   "outputs": [],
   "source": [
    "import turtle\n",
    "window = turtle.Screen()\n",
    "window.bgcolor(\"black\")\n",
    "\n",
    "# 거북이 생성\n",
    "my_turtle = turtle.Turtle()\n",
    "my_turtle.shape(\"turtle\")\n",
    "my_turtle.color(\"yellow\")\n",
    "\n",
    "# 사각형 그리기\n",
    "for _ in range(4):\n",
    "    my_turtle.forward(100) # 앞으로 100 픽셀 이동\n",
    "    my_turtle.right(90)    # 오른쪽으로 90도 회전\n",
    "    my_turtle.forward(100)\n",
    "    my_turtle.left(90)\n",
    "    my_turtle.back(100)\n",
    "\n",
    "window.mainloop()"
   ]
  },
  {
   "cell_type": "code",
   "execution_count": null,
   "id": "9b546ab1-0b7a-4636-a035-1683c71f6ac5",
   "metadata": {},
   "outputs": [],
   "source": [
    "# 창 닫기\n",
    "window.mainloop()"
   ]
  },
  {
   "cell_type": "code",
   "execution_count": 255,
   "id": "8b1288c6-27cc-423a-af69-f18e9a5371e4",
   "metadata": {},
   "outputs": [
    {
     "name": "stdout",
     "output_type": "stream",
     "text": [
      "1 2\n"
     ]
    }
   ],
   "source": [
    "# 테스트\n",
    "\n",
    "a, _, c = 1, 77, 2\n",
    "print(a, c)"
   ]
  },
  {
   "cell_type": "code",
   "execution_count": 256,
   "id": "ca36e018-09b6-4730-a099-664bb7386573",
   "metadata": {},
   "outputs": [
    {
     "name": "stdout",
     "output_type": "stream",
     "text": [
      "인사 다섯번 할께요\n",
      "인사 다섯번 할께요\n",
      "인사 다섯번 할께요\n",
      "인사 다섯번 할께요\n",
      "인사 다섯번 할께요\n"
     ]
    }
   ],
   "source": [
    "for _ in range(5):\n",
    "    print(\"인사 다섯번 할께요\")"
   ]
  },
  {
   "cell_type": "code",
   "execution_count": null,
   "id": "7cfe1bab-d254-48f8-9bca-6e74cee2f8a8",
   "metadata": {},
   "outputs": [],
   "source": []
  }
 ],
 "metadata": {
  "kernelspec": {
   "display_name": "Python 3 (ipykernel)",
   "language": "python",
   "name": "python3"
  },
  "language_info": {
   "codemirror_mode": {
    "name": "ipython",
    "version": 3
   },
   "file_extension": ".py",
   "mimetype": "text/x-python",
   "name": "python",
   "nbconvert_exporter": "python",
   "pygments_lexer": "ipython3",
   "version": "3.13.1"
  }
 },
 "nbformat": 4,
 "nbformat_minor": 5
}
