{
 "cells": [
  {
   "cell_type": "code",
   "execution_count": 10,
   "id": "6b5793cf-6f31-47b9-924e-09be392c7114",
   "metadata": {},
   "outputs": [
    {
     "name": "stdout",
     "output_type": "stream",
     "text": [
      "평균은 70.0\n"
     ]
    }
   ],
   "source": [
    "# 01 평균 점수 구하기\n",
    "\n",
    "sub = {\"국어\": 80, \"영어\": 75, \"수학\": 55}\n",
    "\n",
    "ev = int(sub[\"국어\"]) + int(sub[\"영어\"]) + int(sub[\"수학\"])\n",
    "\n",
    "ev = ev / len(sub)\n",
    "\n",
    "print(f'평균은 {ev}')"
   ]
  },
  {
   "cell_type": "code",
   "execution_count": 9,
   "id": "833b484e-7280-44db-af3c-af2beb30c8a4",
   "metadata": {},
   "outputs": [
    {
     "name": "stdout",
     "output_type": "stream",
     "text": [
      "13은 홀수\n"
     ]
    }
   ],
   "source": [
    "# 02 홀수, 짝수 판별하기\n",
    "\n",
    "num = 13 \n",
    "\n",
    "if num % 2:\n",
    "    print(f'{num}은 홀수')\n",
    "else: \n",
    "    print(f'{num}은 짝수')"
   ]
  },
  {
   "cell_type": "code",
   "execution_count": 14,
   "id": "66a103cc-b556-4b3f-b2d7-68e3bbf2888d",
   "metadata": {},
   "outputs": [
    {
     "name": "stdout",
     "output_type": "stream",
     "text": [
      "881120\n",
      "1068234\n"
     ]
    }
   ],
   "source": [
    "# 03 주민등록번호 나누기\n",
    "\n",
    "pin = \"881120-1068234\"\n",
    "\n",
    "yyyymmdd = pin.split('-')[0]\n",
    "num = pin.split('-')[1]\n",
    "\n",
    "print(yyyymmdd)\n",
    "print(num)"
   ]
  },
  {
   "cell_type": "code",
   "execution_count": 25,
   "id": "8948be08-4f0c-43f3-be22-f8551a51c271",
   "metadata": {},
   "outputs": [
    {
     "name": "stdout",
     "output_type": "stream",
     "text": [
      "1\n"
     ]
    }
   ],
   "source": [
    "# 04 주민등록번호 인덱싱\n",
    "\n",
    "pin = \"881120-1068234\"\n",
    "\n",
    "print(pin[-7])"
   ]
  },
  {
   "cell_type": "code",
   "execution_count": 20,
   "id": "ac30b8ec-e399-4ffa-afc5-13192124efbd",
   "metadata": {},
   "outputs": [
    {
     "name": "stdout",
     "output_type": "stream",
     "text": [
      "a#b#c#d\n"
     ]
    }
   ],
   "source": [
    "# 05 문자열 바꾸기\n",
    "\n",
    "a = \"a:b:c:d\"\n",
    "b = a.replace(':', '#')\n",
    "print(b)"
   ]
  },
  {
   "cell_type": "code",
   "execution_count": 24,
   "id": "b7ebe728-2efa-4a3d-820f-87918f527bfd",
   "metadata": {},
   "outputs": [
    {
     "name": "stdout",
     "output_type": "stream",
     "text": [
      "[5, 4, 3, 2, 1]\n"
     ]
    }
   ],
   "source": [
    "# 06 리스트 역순 정렬하기\n",
    "\n",
    "a = [1, 3, 5, 4, 2]\n",
    "a.sort()\n",
    "a.reverse()\n",
    "print(a)"
   ]
  },
  {
   "cell_type": "code",
   "execution_count": null,
   "id": "f45d8c39-98df-45e0-8e5b-7b4c1b17b5f3",
   "metadata": {},
   "outputs": [],
   "source": []
  }
 ],
 "metadata": {
  "kernelspec": {
   "display_name": "Python 3 (ipykernel)",
   "language": "python",
   "name": "python3"
  },
  "language_info": {
   "codemirror_mode": {
    "name": "ipython",
    "version": 3
   },
   "file_extension": ".py",
   "mimetype": "text/x-python",
   "name": "python",
   "nbconvert_exporter": "python",
   "pygments_lexer": "ipython3",
   "version": "3.13.1"
  }
 },
 "nbformat": 4,
 "nbformat_minor": 5
}
