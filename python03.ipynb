{
 "cells": [
  {
   "cell_type": "markdown",
   "id": "78442d7c-0324-4744-8eeb-82310648db73",
   "metadata": {},
   "source": [
    "# 제어문"
   ]
  },
  {
   "cell_type": "markdown",
   "id": "a7a8093a-4a59-4a1b-a599-ae58e6b438f3",
   "metadata": {},
   "source": [
    "## if 문"
   ]
  },
  {
   "cell_type": "code",
   "execution_count": 1,
   "id": "bcd9e46d-77b1-49a7-bb35-105c1f5d17d0",
   "metadata": {},
   "outputs": [
    {
     "name": "stdout",
     "output_type": "stream",
     "text": [
      "항상 동작합니다.\n",
      "5가 큽니다\n"
     ]
    }
   ],
   "source": [
    "if True:\n",
    "    print(\"항상 동작합니다.\")\n",
    "if False:\n",
    "    print(\"이건 동작할까요?\")\n",
    "\n",
    "if 5 > 2:\n",
    "    print(\"5가 큽니다\")\n",
    "if 4 > 10:\n",
    "    print(\"나올까요?\")\n",
    "    "
   ]
  },
  {
   "cell_type": "code",
   "execution_count": 2,
   "id": "7863a8b7-3f8b-427a-9713-f3d1c6dcf97b",
   "metadata": {},
   "outputs": [
    {
     "name": "stdout",
     "output_type": "stream",
     "text": [
      "9 나 화났어!\n",
      "8 나 화났어!\n",
      "7 나 화났어!\n",
      "6 나 화났어!\n",
      "5 나 화났어!\n",
      "4 나 화났어!\n",
      "3 나 화났어!\n",
      "2 나 화났어!\n",
      "1 나 화났어!\n",
      "0 나 화났어!\n"
     ]
    }
   ],
   "source": [
    "num = 10 \n",
    "while num:\n",
    "    num -= 1\n",
    "    print(num, \"나 화났어!\")\n",
    "    "
   ]
  },
  {
   "cell_type": "code",
   "execution_count": 3,
   "id": "d4a3be8f-915c-423f-b371-9d83a0089f5c",
   "metadata": {},
   "outputs": [
    {
     "name": "stdout",
     "output_type": "stream",
     "text": [
      "가라\n"
     ]
    }
   ],
   "source": [
    "if False:\n",
    "    print(\"택시를\")\n",
    "    print(\"타고\")\n",
    "print(\"가라\")"
   ]
  },
  {
   "cell_type": "code",
   "execution_count": 5,
   "id": "b3417e17-e5b1-4512-bdf9-546fdb64a3d4",
   "metadata": {},
   "outputs": [
    {
     "name": "stdin",
     "output_type": "stream",
     "text": [
      "얼마 가지고 있습니까? 500\n"
     ]
    },
    {
     "name": "stdout",
     "output_type": "stream",
     "text": [
      "걸어가세요.\n"
     ]
    }
   ],
   "source": [
    "mymoney = int(input('얼마 가지고 있습니까?'))\n",
    "if mymoney >= 3000: \n",
    "    print('택시타고 가세요.')\n",
    "# if mymoney < 3000:\n",
    "else:\n",
    "    print(\"걸어가세요.\")"
   ]
  },
  {
   "cell_type": "code",
   "execution_count": 7,
   "id": "ccf90077-0287-4282-a0b2-b8c9ae9f2b45",
   "metadata": {},
   "outputs": [
    {
     "name": "stdout",
     "output_type": "stream",
     "text": [
      "====== and 연산 ======\n",
      "True\n",
      "False\n",
      "False\n",
      "False\n",
      "====== or 연산 ======\n",
      "True\n",
      "True\n",
      "True\n",
      "False\n",
      "====== not 연산 ======\n",
      "True\n",
      "False\n",
      "True\n"
     ]
    }
   ],
   "source": [
    "\n",
    "print(\"====== and 연산 ======\")\n",
    "print(True and True)\n",
    "print(True and False)\n",
    "print(False and True)\n",
    "print(False and False)\n",
    "\n",
    "print(\"====== or 연산 ======\")\n",
    "print(True or True)\n",
    "print(True or False)\n",
    "print(False or True)\n",
    "print(False or False)\n",
    "\n",
    "print(\"====== not 연산 ======\")\n",
    "print(True)\n",
    "print(not True)\n",
    "print(not False)\n"
   ]
  },
  {
   "cell_type": "code",
   "execution_count": 9,
   "id": "3b826cbf-fb4b-48c2-bcdf-4126944555e2",
   "metadata": {},
   "outputs": [
    {
     "name": "stdout",
     "output_type": "stream",
     "text": [
      "반가워요\n"
     ]
    }
   ],
   "source": [
    "이상형 = True\n",
    "똑똑 = False\n",
    "if 이상형 and 똑똑:\n",
    "    print(\"만납시다\")\n",
    "else:\n",
    "    print(\"반가워요\")"
   ]
  },
  {
   "cell_type": "code",
   "execution_count": 11,
   "id": "3afa0c17-3979-455d-83a6-839a04d8e9ff",
   "metadata": {},
   "outputs": [
    {
     "name": "stdout",
     "output_type": "stream",
     "text": [
      "그렇군요...\n"
     ]
    }
   ],
   "source": [
    "이상형 = False\n",
    "다정 = False\n",
    "if 이상형 or 다정:\n",
    "    print(\"만납시다\")\n",
    "else:\n",
    "    print(\"그렇군요...\")"
   ]
  },
  {
   "cell_type": "code",
   "execution_count": 12,
   "id": "c53fbe2f-13e8-461f-8a49-17d3864a01af",
   "metadata": {},
   "outputs": [
    {
     "name": "stdout",
     "output_type": "stream",
     "text": [
      "잘가요\n"
     ]
    }
   ],
   "source": [
    "주사 = True\n",
    "\n",
    "if not 주사:\n",
    "    print(\"만나요\")\n",
    "else:\n",
    "    print(\"잘가요\")"
   ]
  },
  {
   "cell_type": "code",
   "execution_count": 13,
   "id": "f4082e4e-420d-4432-b227-af664c418654",
   "metadata": {},
   "outputs": [
    {
     "name": "stdout",
     "output_type": "stream",
     "text": [
      "택시를 타고 가라\n"
     ]
    }
   ],
   "source": [
    "money = 2000\n",
    "card = True\n",
    "if money >= 3000 or card:\n",
    "    print(\"택시를 타고 가라\")\n",
    "else:\n",
    "\n",
    "    print(\"걸어가라\")"
   ]
  },
  {
   "cell_type": "code",
   "execution_count": 17,
   "id": "b7807485-d337-4858-8276-87eb132280c8",
   "metadata": {},
   "outputs": [
    {
     "name": "stdout",
     "output_type": "stream",
     "text": [
      "A회사 불합격입니다.\n",
      "B회사 합격입니다.\n",
      "C회사 합격입니다.\n"
     ]
    }
   ],
   "source": [
    "me = 'Python'\n",
    "\n",
    "compA = ['JAVA', 'CSS', 'Javascript', 'C', 'MySQL']\n",
    "compB = ['JAVA', 'Python', 'Javascript', 'C', 'MySQL']\n",
    "compC = ['JAVA', 'Python', 'HTML', 'MySQL']\n",
    "\n",
    "if me in compA:\n",
    "    print(\"A회사 합격입니다.\")\n",
    "else:\n",
    "    print(\"A회사 불합격입니다.\")\n",
    "\n",
    "if me in compB:\n",
    "    print(\"B회사 합격입니다.\")\n",
    "else:\n",
    "    print(\"B회사 불합격입니다.\")\n",
    "\n",
    "if me in compC:\n",
    "    print(\"C회사 합격입니다.\")\n",
    "else:\n",
    "    print(\"C회사 불합격입니다.\")\n",
    "    "
   ]
  },
  {
   "cell_type": "code",
   "execution_count": 12,
   "id": "f693d3fe-98d0-41bf-ae91-21bf3c8a8164",
   "metadata": {},
   "outputs": [
    {
     "name": "stdout",
     "output_type": "stream",
     "text": [
      "A회사 불합격입니다.\n",
      "B회사 합격입니다.\n",
      "C회사 합격입니다.\n"
     ]
    }
   ],
   "source": [
    "me = 'Python'\n",
    "\n",
    "compA = ['JAVA', 'CSS', 'Javascript', 'C', 'MySQL']\n",
    "compB = ['JAVA', 'Python', 'Javascript', 'C', 'MySQL']\n",
    "compC = ['JAVA', 'Python', 'HTML', 'MySQL']\n",
    "\n",
    "name = ['A', 'B', 'C']\n",
    "p = 0\n",
    "\n",
    "for i in [compA, compB, compC]:\n",
    "    \n",
    "    if me in i:\n",
    "        print(f\"{name[p]}회사 합격입니다.\")\n",
    "    else:\n",
    "        print(f\"{name[p]}회사 불합격입니다.\")\n",
    "\n",
    "    p += 1\n",
    "     \n"
   ]
  },
  {
   "cell_type": "code",
   "execution_count": 42,
   "id": "fb91a74f-b247-493b-8de6-ef99ce361d06",
   "metadata": {},
   "outputs": [
    {
     "name": "stdin",
     "output_type": "stream",
     "text": [
      "점수를 입력하세요. : 55\n"
     ]
    },
    {
     "name": "stdout",
     "output_type": "stream",
     "text": [
      "F\n"
     ]
    }
   ],
   "source": [
    "# 처음 작성한 코드\n",
    "\n",
    "# if만 사용할 때 조건을 사용해버렸음\n",
    "# elif라서 위에 적은 조건 다시 입력할 필요 없다.\n",
    "\n",
    "\n",
    "sub = int(input(\"점수를 입력하세요. :\"))\n",
    "\n",
    "if sub>=90 and sub<=100:\n",
    "    print('A')\n",
    "elif sub>=80 and sub<90:\n",
    "    print('B')\n",
    "elif sub>=70 and sub<80:\n",
    "    print('C')\n",
    "elif sub>=60 and sub<70:\n",
    "    print('D')\n",
    "else:\n",
    "    print('F')\n",
    "    "
   ]
  },
  {
   "cell_type": "code",
   "execution_count": 37,
   "id": "5b883b29-6829-4d53-8394-aefd2c2a7d6d",
   "metadata": {},
   "outputs": [
    {
     "name": "stdin",
     "output_type": "stream",
     "text": [
      "점수를 입력하세요. : 100\n"
     ]
    },
    {
     "name": "stdout",
     "output_type": "stream",
     "text": [
      "A\n"
     ]
    }
   ],
   "source": [
    "sub = int(input(\"점수를 입력하세요. :\"))\n",
    "\n",
    "if sub>=90:\n",
    "    print('A')\n",
    "elif sub>=80:\n",
    "    print('B')\n",
    "elif sub>=70:\n",
    "    print('C')\n",
    "elif sub>=60:\n",
    "    print('D')\n",
    "else:\n",
    "    print('F')"
   ]
  },
  {
   "cell_type": "code",
   "execution_count": 41,
   "id": "5c4d0900-a101-4ed2-a2bf-19ce3922f3cf",
   "metadata": {},
   "outputs": [
    {
     "name": "stdin",
     "output_type": "stream",
     "text": [
      "점수를 입력하세요. : 85\n"
     ]
    },
    {
     "name": "stdout",
     "output_type": "stream",
     "text": [
      "B\n"
     ]
    }
   ],
   "source": [
    "# if만 사용\n",
    "\n",
    "sub = int(input(\"점수를 입력하세요. :\"))\n",
    "\n",
    "if sub>=90 and sub<=100:\n",
    "    print('A')\n",
    "if sub>=80 and sub<90:\n",
    "    print('B')\n",
    "if sub>=70 and sub<80:\n",
    "    print('C')\n",
    "if sub>=60 and sub<70:\n",
    "    print('D')\n",
    "if sub<60:\n",
    "    print('F')\n"
   ]
  },
  {
   "cell_type": "code",
   "execution_count": 54,
   "id": "e265cb73-d3db-45bc-9c28-a1daab861483",
   "metadata": {},
   "outputs": [
    {
     "name": "stdin",
     "output_type": "stream",
     "text": [
      "현재 기온을 입력하세요. : 10\n"
     ]
    },
    {
     "name": "stdout",
     "output_type": "stream",
     "text": [
      "지금 계절은 가을!\n"
     ]
    }
   ],
   "source": [
    "\n",
    "temp = int(input(\"현재 기온을 입력하세요. :\"))\n",
    "w = '겨울'\n",
    "\n",
    "if temp >= 25:\n",
    "    w = '여름'\n",
    "elif temp >= 15:\n",
    "    w = '봄'\n",
    "elif temp >= 10:\n",
    "    w = '가을'\n",
    "\n",
    "print(f'지금 계절은 {w}!')\n"
   ]
  },
  {
   "cell_type": "code",
   "execution_count": 48,
   "id": "086d3e79-4e5d-49fc-b678-4fad8d7cde88",
   "metadata": {},
   "outputs": [
    {
     "name": "stdin",
     "output_type": "stream",
     "text": [
      "현재 기온을 입력하세요. : 10\n"
     ]
    },
    {
     "name": "stdout",
     "output_type": "stream",
     "text": [
      "지금 계절은 가을!\n"
     ]
    }
   ],
   "source": [
    "temp = int(input(\"현재 기온을 입력하세요. :\"))\n",
    "\n",
    "if temp >= 25:\n",
    "    print(\"지금 계절은 여름!\")    \n",
    "elif temp >= 15:\n",
    "    print(\"지금 계절은 봄!\")\n",
    "elif temp >= 10:\n",
    "    print(\"지금 계절은 가을!\")\n",
    "else:\n",
    "    print(\"지금 계절은 겨울!\")"
   ]
  },
  {
   "cell_type": "markdown",
   "id": "b3aee249-51b1-412a-a7ea-7f9f4dac64bb",
   "metadata": {},
   "source": [
    "## while 문"
   ]
  },
  {
   "cell_type": "code",
   "execution_count": 56,
   "id": "0b6aa697-44a4-4347-8920-30bbac81e83f",
   "metadata": {},
   "outputs": [
    {
     "name": "stdout",
     "output_type": "stream",
     "text": [
      "나무를 1번 찍었습니다.\n",
      "나무를 2번 찍었습니다.\n",
      "나무를 3번 찍었습니다.\n",
      "나무를 4번 찍었습니다.\n",
      "나무를 5번 찍었습니다.\n",
      "나무를 6번 찍었습니다.\n",
      "나무를 7번 찍었습니다.\n",
      "나무를 8번 찍었습니다.\n",
      "나무를 9번 찍었습니다.\n",
      "나무를 10번 찍었습니다.\n",
      "나무 넘어갑니다.\n"
     ]
    }
   ],
   "source": [
    "treeHit = 0\n",
    "while treeHit < 10:\n",
    "    treeHit += 1\n",
    "    print(f'나무를 {treeHit}번 찍었습니다.')\n",
    "    if treeHit == 10:\n",
    "        print(\"나무 넘어갑니다.\")"
   ]
  },
  {
   "cell_type": "code",
   "execution_count": 57,
   "id": "8f027f27-c83f-41c4-bbaf-02a554c99c0f",
   "metadata": {},
   "outputs": [
    {
     "name": "stdout",
     "output_type": "stream",
     "text": [
      "나무를 1번 찍었습니다.\n",
      "나무를 2번 찍었습니다.\n",
      "나무를 3번 찍었습니다.\n",
      "나무를 4번 찍었습니다.\n",
      "나무를 5번 찍었습니다.\n",
      "나무를 6번 찍었습니다.\n",
      "나무를 7번 찍었습니다.\n",
      "나무를 8번 찍었습니다.\n",
      "나무를 9번 찍었습니다.\n",
      "나무를 10번 찍었습니다.\n",
      "나무 넘어갑니다.\n"
     ]
    }
   ],
   "source": [
    "num = 10\n",
    "\n",
    "while num > 0:\n",
    "    num -= 1\n",
    "    print(f'나무를 {10-num}번 찍었습니다.')\n",
    "    if num == 0:\n",
    "        print(\"나무 넘어갑니다.\")\n"
   ]
  },
  {
   "cell_type": "code",
   "execution_count": 3,
   "id": "631e36f1-f543-488c-b72d-3a38819a842c",
   "metadata": {},
   "outputs": [
    {
     "name": "stdout",
     "output_type": "stream",
     "text": [
      "시스템이 종료되었습니다.\n"
     ]
    }
   ],
   "source": [
    "from IPython.display import clear_output\n",
    "\n",
    "prompt = \"\"\"\n",
    "    선택해 주세요.\n",
    "    1. Add\n",
    "    2. Del\n",
    "    3. List\n",
    "    4. Quit\n",
    "\"\"\"\n",
    "\n",
    "number=0\n",
    "while number != 4:\n",
    "    print(prompt)\n",
    "    number = int(input())\n",
    "    clear_output(wait=True) # 이전 질문 지우기\n",
    "print(\"시스템이 종료되었습니다.\")    "
   ]
  },
  {
   "cell_type": "code",
   "execution_count": null,
   "id": "fff2c459-0162-4a6c-aa57-dd439d0e536b",
   "metadata": {},
   "outputs": [],
   "source": []
  }
 ],
 "metadata": {
  "kernelspec": {
   "display_name": "Python 3 (ipykernel)",
   "language": "python",
   "name": "python3"
  },
  "language_info": {
   "codemirror_mode": {
    "name": "ipython",
    "version": 3
   },
   "file_extension": ".py",
   "mimetype": "text/x-python",
   "name": "python",
   "nbconvert_exporter": "python",
   "pygments_lexer": "ipython3",
   "version": "3.13.1"
  }
 },
 "nbformat": 4,
 "nbformat_minor": 5
}
