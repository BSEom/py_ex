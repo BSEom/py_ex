{
 "cells": [
  {
   "cell_type": "code",
   "execution_count": 8,
   "id": "03bd9f4b-27d3-41e5-9ca5-1cefd02315c4",
   "metadata": {},
   "outputs": [
    {
     "name": "stdout",
     "output_type": "stream",
     "text": [
      "shirt\n"
     ]
    }
   ],
   "source": [
    "#01 조건문의 참과 거짓\n",
    "\n",
    "a = \"Life is to short, you need python\"\n",
    "\n",
    "if \"wife\" in a: print(\"wife\")\n",
    "elif \"python\" in a and \"you\" not in a: print(\"python\")\n",
    "elif \"shirt\" not in a: print(\"shirt\")\n",
    "elif \"need\" in a: print(\"need\")\n",
    "else: print(\"none\")\n",
    "\n",
    "# shirt만 출력됨\n",
    "# 4번째 조건도 '참'이지만, 3번째 조건문에서 조건 만족 후 진행이 종료되기 때문 "
   ]
  },
  {
   "cell_type": "code",
   "execution_count": 9,
   "id": "93b67e78-85cf-4793-a374-b784e20f6825",
   "metadata": {},
   "outputs": [
    {
     "name": "stdout",
     "output_type": "stream",
     "text": [
      "166833\n"
     ]
    }
   ],
   "source": [
    "#02 3의 배수의 합 구하기\n",
    "\n",
    "result = 0\n",
    "i = 1\n",
    "\n",
    "while i <=1000:\n",
    "    if i%3 == 0:\n",
    "        result += i\n",
    "    i += 1\n",
    "\n",
    "print(result)\n",
    "        "
   ]
  },
  {
   "cell_type": "code",
   "execution_count": 10,
   "id": "5a9eec1a-e02d-4123-bb1c-9f76691fcb1c",
   "metadata": {},
   "outputs": [
    {
     "name": "stdout",
     "output_type": "stream",
     "text": [
      "*\n",
      "**\n",
      "***\n",
      "****\n",
      "*****\n"
     ]
    }
   ],
   "source": [
    "#03 별 표시하기\n",
    "\n",
    "i = 0\n",
    "\n",
    "while True:\n",
    "    i += 1\n",
    "    if i>5: break\n",
    "    print('*'*i)"
   ]
  },
  {
   "cell_type": "code",
   "execution_count": 11,
   "id": "cd2df931-2d8f-44ea-a89e-eac8c3408fc9",
   "metadata": {},
   "outputs": [
    {
     "name": "stdout",
     "output_type": "stream",
     "text": [
      "1\n",
      "2\n",
      "3\n",
      "4\n",
      "5\n",
      "6\n",
      "7\n",
      "8\n",
      "9\n",
      "10\n",
      "11\n",
      "12\n",
      "13\n",
      "14\n",
      "15\n",
      "16\n",
      "17\n",
      "18\n",
      "19\n",
      "20\n",
      "21\n",
      "22\n",
      "23\n",
      "24\n",
      "25\n",
      "26\n",
      "27\n",
      "28\n",
      "29\n",
      "30\n",
      "31\n",
      "32\n",
      "33\n",
      "34\n",
      "35\n",
      "36\n",
      "37\n",
      "38\n",
      "39\n",
      "40\n",
      "41\n",
      "42\n",
      "43\n",
      "44\n",
      "45\n",
      "46\n",
      "47\n",
      "48\n",
      "49\n",
      "50\n",
      "51\n",
      "52\n",
      "53\n",
      "54\n",
      "55\n",
      "56\n",
      "57\n",
      "58\n",
      "59\n",
      "60\n",
      "61\n",
      "62\n",
      "63\n",
      "64\n",
      "65\n",
      "66\n",
      "67\n",
      "68\n",
      "69\n",
      "70\n",
      "71\n",
      "72\n",
      "73\n",
      "74\n",
      "75\n",
      "76\n",
      "77\n",
      "78\n",
      "79\n",
      "80\n",
      "81\n",
      "82\n",
      "83\n",
      "84\n",
      "85\n",
      "86\n",
      "87\n",
      "88\n",
      "89\n",
      "90\n",
      "91\n",
      "92\n",
      "93\n",
      "94\n",
      "95\n",
      "96\n",
      "97\n",
      "98\n",
      "99\n",
      "100\n"
     ]
    }
   ],
   "source": [
    "#04 1부터 100까지 출력하기\n",
    "\n",
    "for i in range(1,101):\n",
    "    print(i)"
   ]
  },
  {
   "cell_type": "code",
   "execution_count": 12,
   "id": "45fe2bcd-70ed-4e26-82cb-1a2305bd2770",
   "metadata": {},
   "outputs": [
    {
     "name": "stdout",
     "output_type": "stream",
     "text": [
      "79.0\n"
     ]
    }
   ],
   "source": [
    "#05 평균 점수 구하기\n",
    "\n",
    "A = [70, 60, 55, 75, 95, 90, 80, 80, 85, 100]\n",
    "total = 0\n",
    "\n",
    "for score in A:\n",
    "    total += score\n",
    "\n",
    "average = total / len(A)\n",
    "\n",
    "print(average)\n",
    "\n"
   ]
  },
  {
   "cell_type": "code",
   "execution_count": 17,
   "id": "47d00d4b-f7e4-4540-99af-9dcf11bd5515",
   "metadata": {},
   "outputs": [
    {
     "name": "stdout",
     "output_type": "stream",
     "text": [
      "[2, 6, 10]\n",
      "[2, 6, 10]\n"
     ]
    }
   ],
   "source": [
    "#06 리스트 컴프리헨션 사용하기\n",
    "\n",
    "# 일반\n",
    "numbers = [1, 2, 3, 4, 5]\n",
    "result = []\n",
    "for n in numbers:\n",
    "    if n%2 == 1:\n",
    "        result.append(n*2)\n",
    "print(result)\n",
    "\n",
    "\n",
    "# 리스트 컴프리엔션 변환\n",
    "numbers = [1, 2, 3, 4, 5]\n",
    "result = [n*2 for n in numbers if n%2 == 1]\n",
    "print(result)"
   ]
  },
  {
   "cell_type": "code",
   "execution_count": 103,
   "id": "d5ea6a03-4603-454c-a29a-57daaa80886b",
   "metadata": {},
   "outputs": [
    {
     "name": "stdout",
     "output_type": "stream",
     "text": [
      "추천 번호: [8, 9, 23, 35, 40, 44]\n",
      "[1, 2, 3, 4, 5, 6, 7, 10, 11, 12, 13, 14, 15, 16, 17, 18, 19, 20, 21, 22, 24, 25, 26, 27, 28, 29, 30, 31, 32, 33, 34, 36, 37, 38, 39, 41, 42, 43, 45]\n"
     ]
    }
   ],
   "source": [
    "# 로또 생성기\n",
    "import random as r\n",
    "\n",
    "rotto = []            # 1~45 숫자 리스트\n",
    "pick = []             # 6개의 숫자 저장을 위한 리스트\n",
    "\n",
    "# for x in range(1,46):                # 1~45 수 준비\n",
    "#     rotto.append(x)\n",
    "\n",
    "rotto = list(range(1,46))           # 1~45 숫자 리스트\n",
    "\n",
    "for n in range(6):                # 중복 없이 랜덤 추천 숫자 뽑기 (pop)\n",
    "    r_pick = r.randint(0,44-n)\n",
    "    pick.append(rotto.pop(r_pick))\n",
    "\n",
    "pick.sort()                        # 추천 숫자 정렬\n",
    "print(f'추천 번호: {pick}')        # 출력\n",
    "\n",
    "# print(rotto)\n",
    "\n",
    "# cnt_pick = [0] *45\n",
    "\n",
    "# for a in range(1,46):\n",
    "#     print(pick.count(a))\n",
    "#     if pick.count(a) == 1:\n",
    "#         cnt_pick[a-1] += 1\n",
    "\n",
    "# # print(cnt_pick)\n",
    "\n"
   ]
  },
  {
   "cell_type": "code",
   "execution_count": 99,
   "id": "e5d3d89a-f626-45ba-ad9f-db5b5abb0ec1",
   "metadata": {},
   "outputs": [
    {
     "name": "stdout",
     "output_type": "stream",
     "text": [
      "=========통계=========\n",
      "\n",
      "1: 13469회 | 13.47%\n",
      "2: 13506회 | 13.51%\n",
      "3: 13293회 | 13.29%\n",
      "4: 13403회 | 13.40%\n",
      "5: 13256회 | 13.26%\n",
      "6: 13356회 | 13.36%\n",
      "7: 13330회 | 13.33%\n",
      "8: 13294회 | 13.29%\n",
      "9: 13249회 | 13.25%\n",
      "10: 13351회 | 13.35%\n",
      "11: 13174회 | 13.17%\n",
      "12: 13217회 | 13.22%\n",
      "13: 13423회 | 13.42%\n",
      "14: 13341회 | 13.34%\n",
      "15: 13289회 | 13.29%\n",
      "16: 13492회 | 13.49%\n",
      "17: 13389회 | 13.39%\n",
      "18: 13281회 | 13.28%\n",
      "19: 13311회 | 13.31%\n",
      "20: 13415회 | 13.41%\n",
      "21: 13272회 | 13.27%\n",
      "22: 13312회 | 13.31%\n",
      "23: 13633회 | 13.63%\n",
      "24: 13193회 | 13.19%\n",
      "25: 13420회 | 13.42%\n",
      "26: 13170회 | 13.17%\n",
      "27: 13324회 | 13.32%\n",
      "28: 13315회 | 13.31%\n",
      "29: 13387회 | 13.39%\n",
      "30: 13311회 | 13.31%\n",
      "31: 13284회 | 13.28%\n",
      "32: 13385회 | 13.38%\n",
      "33: 13346회 | 13.35%\n",
      "34: 13364회 | 13.36%\n",
      "35: 13419회 | 13.42%\n",
      "36: 13221회 | 13.22%\n",
      "37: 13246회 | 13.25%\n",
      "38: 13294회 | 13.29%\n",
      "39: 13400회 | 13.40%\n",
      "40: 13405회 | 13.40%\n",
      "41: 13123회 | 13.12%\n",
      "42: 13295회 | 13.29%\n",
      "43: 13300회 | 13.30%\n",
      "44: 13359회 | 13.36%\n",
      "45: 13383회 | 13.38%\n",
      "\n",
      "==============================\n",
      "\n",
      "추천 숫자: [2, 16, 23]\n",
      "\n"
     ]
    }
   ],
   "source": [
    "import random as r\n",
    "\n",
    "cnt_pick = [0] * 45      # 뽑힌 숫자 카운팅을 위한 리스트 \n",
    "best = []                # 상위 3개 숫자 추천을 위한 리스트\n",
    "\n",
    "for rt in range(1,100001):\n",
    "    pick = []            # 6개의 숫자 저장을 위한 리스트\n",
    "    cnt_rate = []        # 획률 통계 자료 저장을 위한 리스트\n",
    "    rotto = list(range(1,46))           # 1~45 숫자 리스트\n",
    "    \n",
    "    # for x in range(1,46):        # 1~45 수 준비\n",
    "    #     rotto.append(x)\n",
    "\n",
    "    for n in range(6):              # 중복 없이 랜덤 추천 숫자 뽑기 (pop)\n",
    "        r_pick = r.randint(0,44-n)\n",
    "        pick.append(rotto.pop(r_pick))\n",
    "        \n",
    "\n",
    "    pick.sort()                # 로또 추천 번호 리스트 정렬\n",
    "\n",
    "    for a in range(1,46):\n",
    "        if pick.count(a) == 1:   # 1~45 까지 해당 숫자가 리스트에 존재하는지 확인   ex) a가 리스트에 몇개 존재하는가?\n",
    "            cnt_pick[a-1] += 1   # 존재하는 숫자 카운팅                             ex) a자리에 a카운팅\n",
    "\n",
    "# print(cnt_pick) # 1~45까지 숫자 카운팅 출력\n",
    "print(f'{\"통계\":=^20}\\n')\n",
    "\n",
    "for m in range(45):                                # 카운팅한 숫자 통계 \n",
    "    p_rate = (cnt_pick[m] * 100) / rt              # 비율 계산\n",
    "    print(f'{m+1}: {cnt_pick[m]}회 | {p_rate:.2f}%')\n",
    "    cnt_rate.append([m+1,p_rate])                  # 많이 나온 숫자 추천을 위해 이중리스트로 값 저장\n",
    "    \n",
    "\n",
    "cnt_rate.sort(key=lambda x:-x[1])    # 이중 리스트 정렬\n",
    "# print(cnt_rate) # 숫자 n의 비율 출력 \n",
    "\n",
    "for b in range(3):                  # 상위 3개 값 추천\n",
    "    best.append(cnt_rate[b][0])\n",
    "\n",
    "best.sort()\n",
    "print('\\n'+'=' * 30 +'\\n' )\n",
    "print(f'추천 숫자: {best}\\n')\n",
    "\n"
   ]
  },
  {
   "cell_type": "code",
   "execution_count": 104,
   "id": "9ffc6022-5b88-407b-bc05-a68f8005280f",
   "metadata": {},
   "outputs": [
    {
     "name": "stdout",
     "output_type": "stream",
     "text": [
      "[3, 9, 11, 21, 42, 44] 6\n"
     ]
    }
   ],
   "source": [
    "# 참고용_1\n",
    "\n",
    "import random\n",
    "box = []\n",
    "while len(box) < 6:\n",
    "    ran = random.randint(1,46)\n",
    "    if not ran in box:\n",
    "        box.append(ran)\n",
    "box.sort()\n",
    "print(box,len(box))\n"
   ]
  },
  {
   "cell_type": "code",
   "execution_count": 105,
   "id": "be31445e-31c2-4fc1-a715-0b159ec1fbaa",
   "metadata": {},
   "outputs": [
    {
     "name": "stdout",
     "output_type": "stream",
     "text": [
      "[1, 22, 27, 39, 43, 45]\n"
     ]
    }
   ],
   "source": [
    "# 참고용_2\n",
    "\n",
    "box_2 = sorted(random.sample(range(1,46), 6))\n",
    "print(box_2)\n",
    "\n"
   ]
  },
  {
   "cell_type": "code",
   "execution_count": 119,
   "id": "e5468bc8-f1df-4276-bf17-b5230fe520ea",
   "metadata": {},
   "outputs": [
    {
     "name": "stdout",
     "output_type": "stream",
     "text": [
      "{'num1': 19, 'num2': 15, 'num3': 14, 'num4': 8, 'num5': 15, 'num6': 13, 'num7': 14, 'num8': 10, 'num9': 12, 'num10': 13, 'num11': 14, 'num12': 11, 'num13': 16, 'num14': 13, 'num15': 13, 'num16': 13, 'num17': 9, 'num18': 8, 'num19': 14, 'num20': 12, 'num21': 15, 'num22': 14, 'num23': 9, 'num24': 11, 'num25': 22, 'num26': 18, 'num27': 17, 'num28': 15, 'num29': 12, 'num30': 10, 'num31': 9, 'num32': 16, 'num33': 12, 'num34': 12, 'num35': 14, 'num36': 12, 'num37': 9, 'num38': 16, 'num39': 16, 'num40': 26, 'num41': 9, 'num42': 8, 'num43': 12, 'num44': 15, 'num45': 15}\n",
      "dict_values([19, 15, 14, 8, 15, 13, 14, 10, 12, 13, 14, 11, 16, 13, 13, 13, 9, 8, 14, 12, 15, 14, 9, 11, 22, 18, 17, 15, 12, 10, 9, 16, 12, 12, 14, 12, 9, 16, 16, 26, 9, 8, 12, 15, 15])\n"
     ]
    },
    {
     "ename": "AttributeError",
     "evalue": "'dict_values' object has no attribute 'sorted'",
     "output_type": "error",
     "traceback": [
      "\u001b[1;31m---------------------------------------------------------------------------\u001b[0m",
      "\u001b[1;31mAttributeError\u001b[0m                            Traceback (most recent call last)",
      "Cell \u001b[1;32mIn[119], line 19\u001b[0m\n\u001b[0;32m     16\u001b[0m \u001b[38;5;28mprint\u001b[39m(dic)\n\u001b[0;32m     17\u001b[0m \u001b[38;5;28mprint\u001b[39m(dic\u001b[38;5;241m.\u001b[39mvalues())\n\u001b[1;32m---> 19\u001b[0m \u001b[43mdic\u001b[49m\u001b[38;5;241;43m.\u001b[39;49m\u001b[43mvalues\u001b[49m\u001b[43m(\u001b[49m\u001b[43m)\u001b[49m\u001b[38;5;241;43m.\u001b[39;49m\u001b[43msorted\u001b[49m()\n",
      "\u001b[1;31mAttributeError\u001b[0m: 'dict_values' object has no attribute 'sorted'"
     ]
    }
   ],
   "source": [
    "# 참고용_3\n",
    "\n",
    "ls = []\n",
    "la = []\n",
    "how = 100\n",
    "for h in range(how):\n",
    "    box_3 = sorted(random.sample(range(1,46), 6))\n",
    "    la.append(box_3)\n",
    "    ls = ls + box_3\n",
    "\n",
    "dic = {}\n",
    "for n in range(1,46):\n",
    "    dic[f'num{n}'] = ls.count(n)\n",
    "    # print(f'숫자 {n}이 출현한 횟수는 {ls.count(n)}회 입니다.')\n",
    "\n",
    "print(dic)\n",
    "print(dic.values())\n"
   ]
  },
  {
   "cell_type": "code",
   "execution_count": 150,
   "id": "6b2edb6c-9134-42f8-8fe7-e285d64160b0",
   "metadata": {},
   "outputs": [
    {
     "name": "stdout",
     "output_type": "stream",
     "text": [
      "제품 가격: 1330원\n"
     ]
    },
    {
     "name": "stdin",
     "output_type": "stream",
     "text": [
      "금액을 투입해 주세요. 5000\n"
     ]
    },
    {
     "name": "stdout",
     "output_type": "stream",
     "text": [
      "거스름돈: 3670\n",
      "\n",
      "1000원 X 3장\n",
      "500원 X 1개\n",
      "100원 X 1개\n",
      "50원 X 1개\n",
      "10원 X 2개\n"
     ]
    }
   ],
   "source": [
    "# 잔돈 분류 프로그램\n",
    "\n",
    "\n",
    "print(\"제품 가격: 1330원\")\n",
    "product = 1330\n",
    "\n",
    "money = int(input(\"금액을 투입해 주세요.\"))\n",
    "\n",
    "le = money - product\n",
    "# print(le,type(le))\n",
    "print(f'거스름돈: {le}\\n')\n",
    "\n",
    "\n",
    "\n",
    "if le // 50000 != 0:\n",
    "    print(f'50000원 X {le // 50000}장')\n",
    "    le = le % 50000\n",
    "\n",
    "if le // 10000 != 0:\n",
    "    print(f'10000원 X {le // 10000}장')\n",
    "    le = le % 10000\n",
    "\n",
    "if le // 5000 != 0:\n",
    "    print(f'5000원 X {le // 5000}장')\n",
    "    le = le % 5000\n",
    "\n",
    "if le // 1000 != 0:\n",
    "    print(f'1000원 X {le // 1000}장')\n",
    "    le = le % 1000\n",
    "\n",
    "if le // 500 != 0:\n",
    "    print(f'500원 X {le // 500}개')\n",
    "    le = le % 500\n",
    "\n",
    "if le // 100 != 0:\n",
    "    print(f'100원 X {le // 100}개')\n",
    "    le = le % 100\n",
    "\n",
    "if le // 50 != 0:\n",
    "    print(f'50원 X {le // 50}개')\n",
    "    le = le % 50\n",
    "\n",
    "if le // 10 != 0:\n",
    "    print(f'10원 X {le // 10}개')\n",
    "    le = le % 10\n",
    "\n",
    "\n",
    "\n",
    "\n",
    "\n",
    "\n"
   ]
  },
  {
   "cell_type": "code",
   "execution_count": 149,
   "id": "ea98cf45-fbe5-4f47-bd52-e596e1d12a58",
   "metadata": {},
   "outputs": [
    {
     "name": "stdout",
     "output_type": "stream",
     "text": [
      "제품 가격: 1330원\n"
     ]
    },
    {
     "name": "stdin",
     "output_type": "stream",
     "text": [
      "금액을 투입해 주세요.: 5000\n"
     ]
    },
    {
     "name": "stdout",
     "output_type": "stream",
     "text": [
      "거스름돈: 3670원\n",
      "\n",
      "1000원 X 3개\n",
      "500원 X 1개\n",
      "100원 X 1개\n",
      "50원 X 1개\n",
      "10원 X 2개\n"
     ]
    }
   ],
   "source": [
    "\n",
    "m_scale = [50000, 10000, 5000, 1000, 500, 100, 50, 10]\n",
    "\n",
    "print(\"제품 가격: 1330원\")\n",
    "product = 1330\n",
    "\n",
    "money = int(input(\"금액을 투입해 주세요.:\"))\n",
    "\n",
    "le = money - product\n",
    "\n",
    "print(f'거스름돈: {le}원\\n')\n",
    "\n",
    "for x in m_scale:\n",
    "    if le // x != 0:\n",
    "        print(f'{x}원 X {le // x}개')\n",
    "        le = le % x\n",
    "\n"
   ]
  },
  {
   "cell_type": "code",
   "execution_count": null,
   "id": "c118e4ab-f4a3-44c3-9323-179be1977e43",
   "metadata": {},
   "outputs": [],
   "source": []
  }
 ],
 "metadata": {
  "kernelspec": {
   "display_name": "Python 3 (ipykernel)",
   "language": "python",
   "name": "python3"
  },
  "language_info": {
   "codemirror_mode": {
    "name": "ipython",
    "version": 3
   },
   "file_extension": ".py",
   "mimetype": "text/x-python",
   "name": "python",
   "nbconvert_exporter": "python",
   "pygments_lexer": "ipython3",
   "version": "3.13.1"
  }
 },
 "nbformat": 4,
 "nbformat_minor": 5
}
