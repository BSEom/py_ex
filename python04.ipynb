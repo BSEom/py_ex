{
 "cells": [
  {
   "cell_type": "markdown",
   "id": "05a266ec-0ebd-43a7-8c34-b6eaeb3b4998",
   "metadata": {},
   "source": [
    "# 함수"
   ]
  },
  {
   "cell_type": "code",
   "execution_count": 4,
   "id": "12e0965d-47b4-4fd4-bbc4-2f26ddb9b77a",
   "metadata": {},
   "outputs": [
    {
     "name": "stdout",
     "output_type": "stream",
     "text": [
      "[25, 31, 41, 51, 66, 71, 82, 84, 85, 93] 10\n"
     ]
    }
   ],
   "source": [
    "import random\n",
    "\n",
    "def 로또(파라미터, 매개변수):\n",
    "    box = []\n",
    "    while len(box) < 파라미터:\n",
    "        ran = random.randint(1,매개변수)\n",
    "        if not ran in box:\n",
    "            box.append(ran)\n",
    "    box.sort()\n",
    "    print(box, len(box))\n",
    "\n",
    "로또(10,100)"
   ]
  },
  {
   "cell_type": "code",
   "execution_count": 5,
   "id": "49828844-8690-438b-8b20-ff87c88ec972",
   "metadata": {},
   "outputs": [],
   "source": [
    "def 덧셈(a, b):\n",
    "    return a + b\n"
   ]
  },
  {
   "cell_type": "code",
   "execution_count": 6,
   "id": "35cc317b-dbf8-415d-838b-d9e46cb39e34",
   "metadata": {},
   "outputs": [
    {
     "name": "stdout",
     "output_type": "stream",
     "text": [
      "7\n"
     ]
    }
   ],
   "source": [
    "c = 덧셈(3 ,4)\n",
    "print(c)"
   ]
  },
  {
   "cell_type": "code",
   "execution_count": 23,
   "id": "cb0e8006-4f05-41c2-9422-2adc8bd3f020",
   "metadata": {},
   "outputs": [],
   "source": [
    "def gugu(end = 9):\n",
    "    data = ''\n",
    "    for j in range(2, end+1):\n",
    "        # print(f'\\n{str(j)+\"단\":=^10}')\n",
    "        for i in range(1, 10):\n",
    "            # print(f'{j} X {i} = {j*i}')\n",
    "            data += (f'{j} X {i} = {j*i}') + '\\n'\n",
    "    return data"
   ]
  },
  {
   "cell_type": "code",
   "execution_count": 25,
   "id": "e94a6ec7-ba72-4a7e-a47a-a980b10c0d99",
   "metadata": {},
   "outputs": [
    {
     "name": "stdout",
     "output_type": "stream",
     "text": [
      "\n",
      "====2단====\n",
      "\n",
      "====3단====\n",
      "\n",
      "====4단====\n",
      "\n",
      "====5단====\n",
      "2 X 1 = 2\n",
      "2 X 2 = 4\n",
      "2 X 3 = 6\n",
      "2 X 4 = 8\n",
      "2 X 5 = 10\n",
      "2 X 6 = 12\n",
      "2 X 7 = 14\n",
      "2 X 8 = 16\n",
      "2 X 9 = 18\n",
      "3 X 1 = 3\n",
      "3 X 2 = 6\n",
      "3 X 3 = 9\n",
      "3 X 4 = 12\n",
      "3 X 5 = 15\n",
      "3 X 6 = 18\n",
      "3 X 7 = 21\n",
      "3 X 8 = 24\n",
      "3 X 9 = 27\n",
      "4 X 1 = 4\n",
      "4 X 2 = 8\n",
      "4 X 3 = 12\n",
      "4 X 4 = 16\n",
      "4 X 5 = 20\n",
      "4 X 6 = 24\n",
      "4 X 7 = 28\n",
      "4 X 8 = 32\n",
      "4 X 9 = 36\n",
      "5 X 1 = 5\n",
      "5 X 2 = 10\n",
      "5 X 3 = 15\n",
      "5 X 4 = 20\n",
      "5 X 5 = 25\n",
      "5 X 6 = 30\n",
      "5 X 7 = 35\n",
      "5 X 8 = 40\n",
      "5 X 9 = 45\n",
      "\n"
     ]
    }
   ],
   "source": [
    "# gugu(5)\n",
    "print(gugu(5))"
   ]
  },
  {
   "cell_type": "markdown",
   "id": "5922e4a2-0b98-4abe-b902-cdc0459f968d",
   "metadata": {},
   "source": [
    "## 입력값과 리턴값에 따른 함수의 형태"
   ]
  },
  {
   "cell_type": "markdown",
   "id": "78965509-cd38-4493-b866-f99a11bf3318",
   "metadata": {},
   "source": [
    "### 일반적인 함수"
   ]
  },
  {
   "cell_type": "code",
   "execution_count": 26,
   "id": "ae7efedb-2480-42b1-b9aa-1a9897d32dc2",
   "metadata": {},
   "outputs": [],
   "source": [
    "# 일반적인 함수\n",
    "def add(a,b):\n",
    "    result = a + b\n",
    "    return result"
   ]
  },
  {
   "cell_type": "code",
   "execution_count": 28,
   "id": "ff36769a-db20-4afc-af35-21b45b951320",
   "metadata": {},
   "outputs": [
    {
     "name": "stdout",
     "output_type": "stream",
     "text": [
      "87\n"
     ]
    }
   ],
   "source": [
    "a = add(77,10)\n",
    "print(a)"
   ]
  },
  {
   "cell_type": "code",
   "execution_count": 29,
   "id": "29816d2a-2d91-4243-a63b-fa8fc0882e52",
   "metadata": {},
   "outputs": [],
   "source": [
    "# 입력값이 없는 함수\n",
    "def say():\n",
    "    return '안녕'"
   ]
  },
  {
   "cell_type": "code",
   "execution_count": 30,
   "id": "d2d6b404-61fa-4d87-a694-4553ef4d1855",
   "metadata": {},
   "outputs": [
    {
     "name": "stdout",
     "output_type": "stream",
     "text": [
      "안녕\n"
     ]
    }
   ],
   "source": [
    "a = say()\n",
    "print(a)"
   ]
  },
  {
   "cell_type": "code",
   "execution_count": 32,
   "id": "ab95ed9d-b30d-4e70-b8c8-85e10cd58e9e",
   "metadata": {},
   "outputs": [],
   "source": [
    "# 리턴값이 없는 함수\n",
    "def add(a,b):\n",
    "    print(\"%d, %d의 합은 %d 입니다.\" %(a, b, a+b))"
   ]
  },
  {
   "cell_type": "code",
   "execution_count": 33,
   "id": "5d804bdd-7100-48ab-aa93-fad10c72f65a",
   "metadata": {},
   "outputs": [
    {
     "name": "stdout",
     "output_type": "stream",
     "text": [
      "11, 33의 합은 44 입니다.\n"
     ]
    }
   ],
   "source": [
    "add(11,33)"
   ]
  },
  {
   "cell_type": "code",
   "execution_count": 34,
   "id": "bc696456-5e89-46f8-a1b8-91db4f8d482b",
   "metadata": {},
   "outputs": [],
   "source": [
    "# 입력값과 리턴값이 없는 함수\n",
    "def say():\n",
    "    print(\"안녕!\")\n",
    "    print(\"전 입력값과 리턴값이 없어요.\")\n",
    "    print(\"바이~\")"
   ]
  },
  {
   "cell_type": "code",
   "execution_count": 35,
   "id": "bc671dcc-93ef-4a01-8e71-dd87e531e3d4",
   "metadata": {},
   "outputs": [
    {
     "name": "stdout",
     "output_type": "stream",
     "text": [
      "안녕!\n",
      "전 입력값과 리턴값이 없어요.\n",
      "바이~\n"
     ]
    }
   ],
   "source": [
    "say()"
   ]
  },
  {
   "cell_type": "code",
   "execution_count": 38,
   "id": "18430a7d-98a2-4ccb-b838-e8d28a31b095",
   "metadata": {},
   "outputs": [],
   "source": [
    "# 테스트\n",
    "import time as t\n",
    "\n",
    "def disp():\n",
    "    print(\"안녕!\\r\", end=\"\")\n",
    "    t.sleep(2)\n",
    "    print(\"전 입력값과 리턴값이 없어요.\\r\", end=\"\")\n",
    "    t.sleep(2)\n",
    "    print(\"바이~                 \", end=\"\")"
   ]
  },
  {
   "cell_type": "code",
   "execution_count": 39,
   "id": "55f82e58-a259-47df-8c3f-2221726bccc9",
   "metadata": {},
   "outputs": [
    {
     "name": "stdout",
     "output_type": "stream",
     "text": [
      "바이~                 "
     ]
    }
   ],
   "source": [
    "disp()"
   ]
  },
  {
   "cell_type": "code",
   "execution_count": 40,
   "id": "42643ca4-468d-4e67-a97a-2ac66f305fe7",
   "metadata": {},
   "outputs": [
    {
     "name": "stdout",
     "output_type": "stream",
     "text": [
      "44\n"
     ]
    }
   ],
   "source": [
    "def bs(li = [33,11,22,44]):\n",
    "    sw = 0\n",
    "    for x in range(len(li)):\n",
    "        if sw < li[x]:\n",
    "            sw = li[x]\n",
    "    return sw\n",
    "print(bs())"
   ]
  },
  {
   "cell_type": "code",
   "execution_count": 41,
   "id": "625892a7-d658-4484-9b52-354e162556ee",
   "metadata": {},
   "outputs": [
    {
     "name": "stdout",
     "output_type": "stream",
     "text": [
      "8\n"
     ]
    }
   ],
   "source": [
    "print(bs([1,2,3,3,3,5,1,6,6,8,2,3,7]))"
   ]
  },
  {
   "cell_type": "code",
   "execution_count": 42,
   "id": "d66447ee-bf3d-4981-94af-11431fb62a76",
   "metadata": {},
   "outputs": [],
   "source": [
    "# 매개변수를 지정하여 호출하기\n",
    "def sub(a,b):\n",
    "    return a-b"
   ]
  },
  {
   "cell_type": "code",
   "execution_count": 43,
   "id": "9b90b834-f529-4dce-bb71-1310b75e043a",
   "metadata": {},
   "outputs": [
    {
     "name": "stdout",
     "output_type": "stream",
     "text": [
      "4\n"
     ]
    }
   ],
   "source": [
    "result = sub(b=3, a=7)\n",
    "print(result)"
   ]
  },
  {
   "cell_type": "code",
   "execution_count": 49,
   "id": "58c0b58f-c282-4724-b25c-274e9265e717",
   "metadata": {},
   "outputs": [],
   "source": [
    "# !pip install matplotlib"
   ]
  },
  {
   "cell_type": "code",
   "execution_count": 151,
   "id": "7c96907c-24b7-4cdc-8247-a2e015faf337",
   "metadata": {},
   "outputs": [],
   "source": [
    "# 테스트 : 함수 random 주사위\n",
    "import random as r\n",
    "import matplotlib.pyplot as plt\n",
    "\n",
    "def dice(target = 250000):\n",
    "    box = []\n",
    "    num = 0\n",
    "    results = {}\n",
    "    max_c = 0\n",
    "    cc = []\n",
    "    ccc = 0\n",
    "    \n",
    "    while num < target:\n",
    "        num = num + 1\n",
    "        ran = r.randint(1,6)\n",
    "        box.append(ran)\n",
    "    if target == len(box):\n",
    "        print(f'{target}회 정상 진행되었습니다.')\n",
    "    else:\n",
    "        print(f'검증 결과 횟수에 이상이 있습니다. 이유: ({target}회 목표로 동작하였으나, {len(box)}으로 측정되었습니다.)')\n",
    "    for n in range(1,7):\n",
    "        results[n] = box.count(n)\n",
    "        print(f'{n}번이 ({box.count(n)}번 {(box.count(n)/len(box))*100:.2f}%) 등장하였습니다.')\n",
    "    # print(results)\n",
    "    \n",
    "    for c in range(1,len(results)+1):\n",
    "        cc.append(results[c])\n",
    "        if max_c < results[c]:\n",
    "            max_c = results[c]\n",
    "\n",
    "    print(max_c)\n",
    "    for c in range(len(cc)):\n",
    "        if cc[c] == max_c:\n",
    "            ccc = c\n",
    "            \n",
    "    color_p = [\"skyblue\", \"skyblue\", \"skyblue\", \"skyblue\", \"skyblue\", \"skyblue\"]\n",
    "    color_p[ccc] = \"orange\"\n",
    "    \n",
    "    plt.bar(results.keys(), results.values(), color=color_p)\n",
    "    plt.show()"
   ]
  },
  {
   "cell_type": "code",
   "execution_count": 152,
   "id": "4438c991-9347-4ed3-843b-b1d2ab3a1dcc",
   "metadata": {},
   "outputs": [
    {
     "name": "stdout",
     "output_type": "stream",
     "text": [
      "250000회 정상 진행되었습니다.\n",
      "1번이 (41795번 16.72%) 등장하였습니다.\n",
      "2번이 (41533번 16.61%) 등장하였습니다.\n",
      "3번이 (41990번 16.80%) 등장하였습니다.\n",
      "4번이 (41648번 16.66%) 등장하였습니다.\n",
      "5번이 (41621번 16.65%) 등장하였습니다.\n",
      "6번이 (41413번 16.57%) 등장하였습니다.\n",
      "41990\n"
     ]
    },
    {
     "data": {
      "image/png": "[encoded data removed]",
      "text/plain": [
       "<Figure size 640x480 with 1 Axes>"
      ]
     },
     "metadata": {},
     "output_type": "display_data"
    }
   ],
   "source": [
    "dice()\n"
   ]
  },
  {
   "cell_type": "code",
   "execution_count": 104,
   "id": "25b17f7d-c304-4158-8b5a-e5a2f509a03a",
   "metadata": {},
   "outputs": [],
   "source": [
    "# 여러개의 입력값을 받는 함수 만들기\n",
    "\n",
    "def add_many(*args):\n",
    "    result = 0\n",
    "    for i in args:\n",
    "        result = result + i\n",
    "    return result\n"
   ]
  },
  {
   "cell_type": "code",
   "execution_count": 105,
   "id": "a114a59b-0454-4531-a151-8fd6228b52a7",
   "metadata": {},
   "outputs": [
    {
     "name": "stdout",
     "output_type": "stream",
     "text": [
      "14\n"
     ]
    }
   ],
   "source": [
    "res = add_many(1,4,3,1,5)\n",
    "print(res)"
   ]
  },
  {
   "cell_type": "code",
   "execution_count": 125,
   "id": "40b0251f-ff0f-45fe-8fb9-fc70155d9e45",
   "metadata": {},
   "outputs": [],
   "source": [
    "def add_mul(sel, *args):\n",
    "    \n",
    "    if sel == 'add':\n",
    "        result = 0\n",
    "        for i in args:\n",
    "            result = result + i\n",
    "        print(result)\n",
    "        \n",
    "    elif sel == 'sub':\n",
    "        result = 0\n",
    "        for i in args:\n",
    "            result = result - i\n",
    "        print(result)\n",
    "        \n",
    "    elif sel == 'mul':\n",
    "        result = 1\n",
    "        for i in args:\n",
    "            result = result * i\n",
    "        print(result)\n",
    "        \n",
    "    elif sel == 'div':\n",
    "        result = 1\n",
    "        for i in args:\n",
    "            result = result / i\n",
    "        print(result)\n",
    "\n",
    "    else:\n",
    "        print(\"정확하게 입력하세요.\")\n",
    "\n"
   ]
  },
  {
   "cell_type": "code",
   "execution_count": 126,
   "id": "0cf5ebb0-3434-4508-a067-1175c5c585eb",
   "metadata": {},
   "outputs": [
    {
     "name": "stdout",
     "output_type": "stream",
     "text": [
      "하고자 하는 연산을 넣어주세요. \n",
      "  덧셈: add \n",
      "  뺄셈: sub \n",
      "  곱셈: mul \n",
      "  나눗셈: div \n",
      "\n",
      "add, mul, sub, div, \"정확한 명령어를 넣어주세요\" \n",
      "\n",
      "15\n",
      "24\n",
      "-13\n",
      "0.00011111111111111112\n"
     ]
    }
   ],
   "source": [
    "print(\"하고자 하는 연산을 넣어주세요. \\n  덧셈: add \\n  뺄셈: sub \\n  곱셈: mul \\n  나눗셈: div \\n\")\n",
    "\n",
    "print ('add, mul, sub, div, \"정확한 명령어를 넣어주세요\" \\n')\n",
    "\n",
    "add_mul('add',1,2,3,4,5)\n",
    "add_mul('mul',2,3,4)\n",
    "add_mul('sub',7,4,1,1)\n",
    "add_mul('div',300,3,10)\n"
   ]
  },
  {
   "cell_type": "code",
   "execution_count": 131,
   "id": "367f4d2b-9e15-477c-a9b0-5bdcd01d3bed",
   "metadata": {},
   "outputs": [
    {
     "name": "stdout",
     "output_type": "stream",
     "text": [
      "{'name': '홍길동', 'age': 21, 'address': '대한민국'}\n"
     ]
    }
   ],
   "source": [
    "# 키워드 매개변수 kwargs\n",
    "def print_kwargs(**kwargs):\n",
    "    print(kwargs)\n",
    "\n",
    "print_kwargs(name='홍길동',age=21, address='대한민국')"
   ]
  },
  {
   "cell_type": "code",
   "execution_count": 132,
   "id": "f750b17d-f4c6-446a-ae52-f0b85ce437b9",
   "metadata": {},
   "outputs": [
    {
     "name": "stdout",
     "output_type": "stream",
     "text": [
      "{'name': '홍길동', 'age': 21, 'address': '대한민국'}\n"
     ]
    }
   ],
   "source": [
    "def print_kwargs(kwargs):\n",
    "    print(kwargs)\n",
    "\n",
    "print_kwargs({'name':'홍길동','age':21, 'address':'대한민국'})"
   ]
  },
  {
   "cell_type": "code",
   "execution_count": 133,
   "id": "b57e7b29-b529-4172-98a3-10f95d8a88a8",
   "metadata": {},
   "outputs": [],
   "source": [
    "# test\n",
    "def test():\n",
    "    print('저야 영광이죠~!!')\n",
    "    if 13 > 4 : return\n",
    "    print('집에가고싶어~!')\n",
    "    return"
   ]
  },
  {
   "cell_type": "code",
   "execution_count": 134,
   "id": "3e889171-da9e-42b3-9a1d-7105c01728a8",
   "metadata": {},
   "outputs": [
    {
     "name": "stdout",
     "output_type": "stream",
     "text": [
      "저야 영광이죠~!!\n"
     ]
    }
   ],
   "source": [
    "test()"
   ]
  },
  {
   "cell_type": "code",
   "execution_count": 136,
   "id": "a4bedc12-508e-44db-91c0-89e21d61758a",
   "metadata": {},
   "outputs": [
    {
     "name": "stdout",
     "output_type": "stream",
     "text": [
      "35 286\n"
     ]
    }
   ],
   "source": [
    "# test2\n",
    "def test2(a,b):\n",
    "    return (a+b, a*b)\n",
    "\n",
    "add_result, mul_result = test2(13,22)\n",
    "\n",
    "print(add_result, mul_result)"
   ]
  },
  {
   "cell_type": "markdown",
   "id": "447b47c3-4d7b-4cc4-85f4-98434c726346",
   "metadata": {},
   "source": [
    "## 함수 안에서 선언한 변수의 효력 범위 "
   ]
  },
  {
   "cell_type": "code",
   "execution_count": 8,
   "id": "b6717fcf-909a-4d18-8ffd-a79ca2f8d2f1",
   "metadata": {},
   "outputs": [],
   "source": [
    "# a = 1"
   ]
  },
  {
   "cell_type": "code",
   "execution_count": 9,
   "id": "a9642ef8-13e2-425f-83ba-633a7de0029d",
   "metadata": {},
   "outputs": [
    {
     "name": "stdout",
     "output_type": "stream",
     "text": [
      "1\n"
     ]
    }
   ],
   "source": [
    "# 테스트 1\n",
    "a = 1\n",
    "def test1(a):\n",
    "    a = a + 1\n",
    "\n",
    "test1(a)\n",
    "print(a)"
   ]
  },
  {
   "cell_type": "code",
   "execution_count": 10,
   "id": "d7374bee-c5b3-49ac-9c83-0d41ca51465c",
   "metadata": {},
   "outputs": [
    {
     "name": "stdout",
     "output_type": "stream",
     "text": [
      "1\n"
     ]
    }
   ],
   "source": [
    "# 테스트 2\n",
    "a = 1\n",
    "def test2(a):\n",
    "    a = a + 1\n",
    "test2(3)\n",
    "print(a)"
   ]
  },
  {
   "cell_type": "code",
   "execution_count": 11,
   "id": "a9e08900-d3ed-4006-9011-14fb3ddcca9d",
   "metadata": {},
   "outputs": [
    {
     "name": "stdout",
     "output_type": "stream",
     "text": [
      "2\n"
     ]
    }
   ],
   "source": [
    "# 테스트 3\n",
    "c = 1\n",
    "def test3(c):\n",
    "    c = c + 1\n",
    "    return c\n",
    "c = test3(c)\n",
    "print(c)"
   ]
  },
  {
   "cell_type": "code",
   "execution_count": 13,
   "id": "51bcd9c4-fe12-4229-b0e7-fe703e829cd0",
   "metadata": {},
   "outputs": [
    {
     "name": "stdout",
     "output_type": "stream",
     "text": [
      "2\n"
     ]
    }
   ],
   "source": [
    "# 테스트 4\n",
    "d = 1\n",
    "def test4():\n",
    "    global d\n",
    "    d = d + 1\n",
    "test4()\n",
    "print(d)"
   ]
  },
  {
   "cell_type": "markdown",
   "id": "9b1d9f4a-6cf8-4180-932a-ecd9720df6bb",
   "metadata": {},
   "source": [
    "## lambda 예약어 (익명함수)"
   ]
  },
  {
   "cell_type": "code",
   "execution_count": 14,
   "id": "692d2642-45f9-42fa-9efb-c4ac623e1a7f",
   "metadata": {},
   "outputs": [
    {
     "name": "stdout",
     "output_type": "stream",
     "text": [
      "5\n"
     ]
    }
   ],
   "source": [
    "def test(a,b):\n",
    "    return a+b\n",
    "\n",
    "add = lambda a, b: a + b\n",
    "print(add(1,4))"
   ]
  },
  {
   "cell_type": "code",
   "execution_count": 19,
   "id": "32fd7bff-0225-48be-aabe-7d9e77b255bf",
   "metadata": {},
   "outputs": [
    {
     "name": "stdout",
     "output_type": "stream",
     "text": [
      "[0, 1, 2, 3, 4, 5, 6, 7, 8, 9]\n"
     ]
    }
   ],
   "source": [
    "a1 = [x for x in range(10)]\n",
    "print(a1)"
   ]
  },
  {
   "cell_type": "code",
   "execution_count": 21,
   "id": "0f2db19c-da84-45bc-a74d-19b5a42fb4fe",
   "metadata": {},
   "outputs": [
    {
     "name": "stdout",
     "output_type": "stream",
     "text": [
      "[0, 2, 4, 6, 8, 10, 12, 14, 16, 18]\n"
     ]
    }
   ],
   "source": [
    "a2 = [(lambda x : x*2) (x) for x in range(10)]\n",
    "print(a2)"
   ]
  },
  {
   "cell_type": "code",
   "execution_count": 22,
   "id": "d3ffa8bc-7a4e-4cf8-a0c3-b40d9c6310b3",
   "metadata": {},
   "outputs": [
    {
     "name": "stdout",
     "output_type": "stream",
     "text": [
      "[0, 1, 4, 9, 16, 25, 36, 49, 64, 81]\n"
     ]
    }
   ],
   "source": [
    "# 응용예제\n",
    "\n",
    "a3 = [0, 1, 2, 3, 4, 5, 6, 7, 8, 9]\n",
    "p = list(map(lambda x: x**2, a3))\n",
    "print(p)"
   ]
  },
  {
   "cell_type": "markdown",
   "id": "ab3c5a7c-f227-40ed-830d-e34ac6bd5813",
   "metadata": {},
   "source": [
    "# 파일 읽고 쓰기"
   ]
  },
  {
   "cell_type": "markdown",
   "id": "c5975ac6-6809-4110-90aa-18c668e30c4c",
   "metadata": {},
   "source": [
    "## 파일 생성하기"
   ]
  },
  {
   "cell_type": "code",
   "execution_count": 23,
   "id": "a251ee98-c176-44db-a842-16590c5b3551",
   "metadata": {},
   "outputs": [],
   "source": [
    "# 파일 생성하기1\n",
    "f = open(\"새파일생성.txt\",\"w\")\n",
    "f.close()"
   ]
  },
  {
   "cell_type": "markdown",
   "id": "62bb5757-47bd-44b3-b600-7ffa4229e38a",
   "metadata": {},
   "source": [
    "<table style=\"float:left\"> \n",
    "<thead>\n",
    "<tr>\n",
    "<th>파일열기모드</th>\n",
    "<th>설명</th>\n",
    "</tr>\n",
    "</thead>\n",
    "<tbody>\n",
    "<tr>\n",
    "<td>r</td>\n",
    "<td>읽기 모드: 파일을 읽기만 할 때 사용한다.</td>\n",
    "</tr>\n",
    "<tr>\n",
    "<td>w</td>\n",
    "<td>쓰기 모드: 파일에 내용을 쓸 때 사용한다.</td>\n",
    "</tr>\n",
    "<tr>\n",
    "<td>a</td>\n",
    "<td>추가 모드: 파일의 마지막에 새로운 내용을 추가할 때 사용한다.</td>\n",
    "</tr>\n",
    "</tbody>\n",
    "</table>"
   ]
  },
  {
   "cell_type": "code",
   "execution_count": 26,
   "id": "db6b6ae7-afb5-431e-9eab-ba08e39d8055",
   "metadata": {},
   "outputs": [],
   "source": [
    "# 파일 생성하기2 + 경로\n",
    "path = \"./testfile/\"\n",
    "f = open(path + \"새파일생성2.txt\",\"w\")\n",
    "f.close()"
   ]
  },
  {
   "cell_type": "code",
   "execution_count": 30,
   "id": "83c6c7d4-564c-4159-86f6-47d5652b52e0",
   "metadata": {},
   "outputs": [],
   "source": [
    "# 파일을 쓰기 모드로 열어 내용 쓰기\n",
    "path = \"./testfile/\"\n",
    "f = open(path + \"새파일생성3.txt\", \"w\", encoding=\"utf-8\")\n",
    "for n in range(10):\n",
    "    f.write(f\"{n+1}한글도 잘되요!!\\n\")\n",
    "f.close()"
   ]
  },
  {
   "cell_type": "code",
   "execution_count": 31,
   "id": "a2f9739e-c04b-485c-8e83-ed0138f1b657",
   "metadata": {},
   "outputs": [],
   "source": [
    "import random as r\n",
    "\n",
    "def lot():\n",
    "    rotto = []            # 1~45 숫자 리스트\n",
    "    pick = []             # 6개의 숫자 저장을 위한 리스트\n",
    "\n",
    "    rotto = list(range(1,46))           # 1~45 숫자 리스트\n",
    "\n",
    "    for n in range(6):                # 중복 없이 랜덤 추천 숫자 뽑기 (pop)\n",
    "        r_pick = r.randint(0,44-n)\n",
    "        pick.append(rotto.pop(r_pick))\n",
    "\n",
    "    pick.sort()                        # 추천 숫자 정렬\n",
    "\n",
    "    return pick"
   ]
  },
  {
   "cell_type": "code",
   "execution_count": 38,
   "id": "f11461e7-85e3-4804-a234-d3715cae30bc",
   "metadata": {},
   "outputs": [],
   "source": [
    "# lotto.txt 파일 만들기\n",
    "\n",
    "path = \"./testfile/\"\n",
    "f = open(path + \"lotto.txt\", \"w\", encoding=\"utf-8\")\n",
    "for n in range(1000):\n",
    "    result = []\n",
    "    result = lot()\n",
    "    f.write(f'추천 번호 {n+1} : {result}\\n')\n",
    "    \n",
    "f.close()"
   ]
  },
  {
   "cell_type": "code",
   "execution_count": 54,
   "id": "5cbbcd4b-4377-4f1a-9abd-21b08201157f",
   "metadata": {},
   "outputs": [],
   "source": [
    "def dairy(name):\n",
    "    path = \"./testfile/\"\n",
    "    f = open(path + name +\".txt\", \"a\", encoding=\"utf-8\")\n",
    "    \n",
    "    while 1: \n",
    "        inp = input(\"작성하고 싶은 내용\")\n",
    "        if inp == '그만': break\n",
    "        f.write(inp+'\\n')\n",
    "        \n",
    "    \n",
    "    f.close()"
   ]
  },
  {
   "cell_type": "markdown",
   "id": "5cd9ad6a-5c7e-4ae1-923a-dc269f1f627b",
   "metadata": {},
   "source": [
    "## 파일을 읽는 방법"
   ]
  },
  {
   "cell_type": "code",
   "execution_count": 62,
   "id": "dbb0edeb-bf15-4ded-b745-9da3b65694e5",
   "metadata": {},
   "outputs": [],
   "source": [
    "path = \"./testfile/\"\n",
    "f = open(path + \"새파일생성4.txt\", \"w\", encoding=\"utf-8\")\n",
    "for n in range(10):\n",
    "    f.write(f\"{n+1} 한글도 잘되요!!\\n\")\n",
    "f.close()"
   ]
  },
  {
   "cell_type": "code",
   "execution_count": 63,
   "id": "eac2951b-ef5c-4ccd-a7c9-e0fb76dbcb36",
   "metadata": {},
   "outputs": [
    {
     "name": "stdout",
     "output_type": "stream",
     "text": [
      "1 한글도 잘되요!!\n",
      "\n",
      "2 한글도 잘되요!!\n",
      "\n"
     ]
    }
   ],
   "source": [
    "# 1. readline\n",
    "\n",
    "path = \"./testfile/\"\n",
    "f = open(path + \"새파일생성4.txt\", \"r\", encoding=\"utf-8\")\n",
    "line = f.readline()\n",
    "print(line)\n",
    "line = f.readline()\n",
    "print(line)\n",
    "f.close()"
   ]
  },
  {
   "cell_type": "code",
   "execution_count": 64,
   "id": "b3475b01-c184-4003-8fca-f061185e8f31",
   "metadata": {},
   "outputs": [
    {
     "name": "stdout",
     "output_type": "stream",
     "text": [
      "1 한글도 잘되요!!\n",
      "\n",
      "2 한글도 잘되요!!\n",
      "\n",
      "3 한글도 잘되요!!\n",
      "\n",
      "4 한글도 잘되요!!\n",
      "\n",
      "5 한글도 잘되요!!\n",
      "\n",
      "6 한글도 잘되요!!\n",
      "\n",
      "7 한글도 잘되요!!\n",
      "\n",
      "8 한글도 잘되요!!\n",
      "\n",
      "9 한글도 잘되요!!\n",
      "\n",
      "10 한글도 잘되요!!\n",
      "\n"
     ]
    }
   ],
   "source": [
    "# 1. readline + while\n",
    "\n",
    "path = \"./testfile/\"\n",
    "f = open(path + \"새파일생성4.txt\", \"r\", encoding=\"utf-8\")\n",
    "while True:\n",
    "    line = f.readline()\n",
    "    if not line : break\n",
    "    print(line)\n",
    "\n",
    "f.close()\n"
   ]
  },
  {
   "cell_type": "code",
   "execution_count": 55,
   "id": "de88c0b9-f821-4c3a-91aa-77f1a170a23b",
   "metadata": {},
   "outputs": [
    {
     "name": "stdin",
     "output_type": "stream",
     "text": [
      "작성하고 싶은 내용 오늘은\n",
      "작성하고 싶은 내용 즐겁다\n",
      "작성하고 싶은 내용 내일은\n",
      "작성하고 싶은 내용 어떨까\n",
      "작성하고 싶은 내용 그만\n"
     ]
    }
   ],
   "source": [
    "dairy('2_11_일기')"
   ]
  },
  {
   "cell_type": "code",
   "execution_count": 66,
   "id": "61df02e0-3773-4dbf-9786-edce095a6d24",
   "metadata": {},
   "outputs": [
    {
     "name": "stdout",
     "output_type": "stream",
     "text": [
      "1 한글도 잘되요!!\n",
      "2 한글도 잘되요!!\n",
      "3 한글도 잘되요!!\n",
      "4 한글도 잘되요!!\n",
      "5 한글도 잘되요!!\n",
      "6 한글도 잘되요!!\n",
      "7 한글도 잘되요!!\n",
      "8 한글도 잘되요!!\n",
      "9 한글도 잘되요!!\n",
      "10 한글도 잘되요!!\n"
     ]
    }
   ],
   "source": [
    "# 2. readline + str\n",
    "\n",
    "path = \"./testfile/\"\n",
    "f = open(path + \"새파일생성4.txt\", \"r\", encoding=\"utf-8\")\n",
    "lines = f.readlines()\n",
    "# print(lines)\n",
    "\n",
    "for n in lines:\n",
    "    print(n, end ='')\n",
    "\n",
    "f.close()"
   ]
  },
  {
   "cell_type": "code",
   "execution_count": 67,
   "id": "15b36f84-1c60-436e-97bb-d1188db46e93",
   "metadata": {},
   "outputs": [
    {
     "name": "stdout",
     "output_type": "stream",
     "text": [
      "['1', ' ', '한', '글', '도', ' ', '잘', '되', '요', '!', '!', '\\n']\n",
      "['1', ' ', '한', '글', '도', ' ', '잘', '되', '요', '!', '!']\n",
      "['2', ' ', '한', '글', '도', ' ', '잘', '되', '요', '!', '!', '\\n']\n",
      "['2', ' ', '한', '글', '도', ' ', '잘', '되', '요', '!', '!']\n",
      "['3', ' ', '한', '글', '도', ' ', '잘', '되', '요', '!', '!', '\\n']\n",
      "['3', ' ', '한', '글', '도', ' ', '잘', '되', '요', '!', '!']\n",
      "['4', ' ', '한', '글', '도', ' ', '잘', '되', '요', '!', '!', '\\n']\n",
      "['4', ' ', '한', '글', '도', ' ', '잘', '되', '요', '!', '!']\n",
      "['5', ' ', '한', '글', '도', ' ', '잘', '되', '요', '!', '!', '\\n']\n",
      "['5', ' ', '한', '글', '도', ' ', '잘', '되', '요', '!', '!']\n",
      "['6', ' ', '한', '글', '도', ' ', '잘', '되', '요', '!', '!', '\\n']\n",
      "['6', ' ', '한', '글', '도', ' ', '잘', '되', '요', '!', '!']\n",
      "['7', ' ', '한', '글', '도', ' ', '잘', '되', '요', '!', '!', '\\n']\n",
      "['7', ' ', '한', '글', '도', ' ', '잘', '되', '요', '!', '!']\n",
      "['8', ' ', '한', '글', '도', ' ', '잘', '되', '요', '!', '!', '\\n']\n",
      "['8', ' ', '한', '글', '도', ' ', '잘', '되', '요', '!', '!']\n",
      "['9', ' ', '한', '글', '도', ' ', '잘', '되', '요', '!', '!', '\\n']\n",
      "['9', ' ', '한', '글', '도', ' ', '잘', '되', '요', '!', '!']\n",
      "['1', '0', ' ', '한', '글', '도', ' ', '잘', '되', '요', '!', '!', '\\n']\n",
      "['1', '0', ' ', '한', '글', '도', ' ', '잘', '되', '요', '!', '!']\n"
     ]
    }
   ],
   "source": [
    "# 2. readline -> list 타입\n",
    "\n",
    "path = \"./testfile/\"\n",
    "f = open(path + \"새파일생성4.txt\", \"r\", encoding=\"utf-8\")\n",
    "lines = f.readlines()\n",
    "# print(lines)\n",
    "\n",
    "for n in lines:\n",
    "    print(list(n))\n",
    "    n = n.strip()\n",
    "    print(list(n))\n",
    "\n",
    "f.close()"
   ]
  },
  {
   "cell_type": "code",
   "execution_count": 68,
   "id": "b574045e-028c-42c4-a83f-be6b1e4ce2e9",
   "metadata": {},
   "outputs": [
    {
     "name": "stdout",
     "output_type": "stream",
     "text": [
      "1 한글도 잘되요!!\n",
      "2 한글도 잘되요!!\n",
      "3 한글도 잘되요!!\n",
      "4 한글도 잘되요!!\n",
      "5 한글도 잘되요!!\n",
      "6 한글도 잘되요!!\n",
      "7 한글도 잘되요!!\n",
      "8 한글도 잘되요!!\n",
      "9 한글도 잘되요!!\n",
      "10 한글도 잘되요!!\n",
      "\n"
     ]
    }
   ],
   "source": [
    "# 3. read 함수 사용하기 -> str 타입\n",
    "path = \"./testfile/\"\n",
    "f = open(path + \"새파일생성4.txt\", \"r\", encoding=\"utf-8\")\n",
    "data = f.read()\n",
    "print(data)\n",
    "f.close()"
   ]
  },
  {
   "cell_type": "code",
   "execution_count": 72,
   "id": "056b4ba1-46cd-4381-ab09-7afe3480c909",
   "metadata": {},
   "outputs": [
    {
     "name": "stdout",
     "output_type": "stream",
     "text": [
      "1 한글도 잘되요!!\n",
      "\n",
      "2 한글도 잘되요!!\n",
      "\n",
      "3 한글도 잘되요!!\n",
      "\n",
      "4 한글도 잘되요!!\n",
      "\n",
      "5 한글도 잘되요!!\n",
      "\n",
      "6 한글도 잘되요!!\n",
      "\n",
      "7 한글도 잘되요!!\n",
      "\n",
      "8 한글도 잘되요!!\n",
      "\n",
      "9 한글도 잘되요!!\n",
      "\n",
      "10 한글도 잘되요!!\n",
      "\n"
     ]
    }
   ],
   "source": [
    "# 4. for로 출력하기\n",
    "path = \"./testfile/\"\n",
    "f = open(path + \"새파일생성4.txt\", \"r\", encoding=\"utf-8\")\n",
    "\n",
    "for line in f:\n",
    "    print(line)\n",
    "\n",
    "f.close()"
   ]
  },
  {
   "cell_type": "code",
   "execution_count": 75,
   "id": "937b1912-06bd-4da7-9ab2-a375cf2116c2",
   "metadata": {},
   "outputs": [
    {
     "name": "stdout",
     "output_type": "stream",
     "text": [
      "1 한글도 잘되요!!\n",
      "\n",
      "2 한글도 잘되요!!\n",
      "\n",
      "3 한글도 잘되요!!\n",
      "\n",
      "4 한글도 잘되요!!\n",
      "\n",
      "5 한글도 잘되요!!\n",
      "\n",
      "6 한글도 잘되요!!\n",
      "\n",
      "7 한글도 잘되요!!\n",
      "\n",
      "8 한글도 잘되요!!\n",
      "\n",
      "9 한글도 잘되요!!\n",
      "\n",
      "10 한글도 잘되요!!\n",
      "\n"
     ]
    }
   ],
   "source": [
    "# with 문과 함께 사용하기, 자동 열고, 닫기\n",
    "\n",
    "path = \"./testfile/\"\n",
    "with open(path + \"새파일생성4.txt\", \"r\", encoding=\"utf-8\") as f:\n",
    "    for line in f:\n",
    "        print(line)\n",
    "\n"
   ]
  },
  {
   "cell_type": "markdown",
   "id": "8a912922-d6d4-4421-8f1c-0a9df046d62c",
   "metadata": {},
   "source": [
    "## 프로그램의 입출력"
   ]
  },
  {
   "cell_type": "code",
   "execution_count": 1,
   "id": "92580010-0b41-4845-9f0e-9adf7341c3e1",
   "metadata": {},
   "outputs": [
    {
     "name": "stdout",
     "output_type": "stream",
     "text": [
      "['C:\\\\Users\\\\Admin\\\\AppData\\\\Local\\\\Programs\\\\Python\\\\Python313\\\\Lib\\\\site-packages\\\\ipykernel_launcher.py', '-f', 'C:\\\\Users\\\\Admin\\\\AppData\\\\Roaming\\\\jupyter\\\\runtime\\\\kernel-93aaf39f-ffaf-40db-8523-6d83048f262e.json']\n",
      "C:\\Users\\Admin\\AppData\\Local\\Programs\\Python\\Python313\\Lib\\site-packages\\ipykernel_launcher.py\n",
      "-f\n",
      "C:\\Users\\Admin\\AppData\\Roaming\\jupyter\\runtime\\kernel-93aaf39f-ffaf-40db-8523-6d83048f262e.json\n"
     ]
    }
   ],
   "source": [
    "import sys\n",
    "\n",
    "args = sys.argv\n",
    "print(args)\n",
    "for i in args:\n",
    "    print(i)"
   ]
  },
  {
   "cell_type": "code",
   "execution_count": 5,
   "id": "81497b61-4628-467e-9051-350154417e9a",
   "metadata": {},
   "outputs": [],
   "source": [
    "def gugu(arg):\n",
    "\n",
    "    a = arg[0][:-1]\n",
    "    print(a,type(a))    \n",
    "    for i in range(a,a+b):\n",
    "        print(f'\\n{str(i)+\"단\":=^14}')\n",
    "        for j in range(1,10):\n",
    "            print(f'{i} X {j} = {i*j}')\n",
    "            "
   ]
  },
  {
   "cell_type": "markdown",
   "id": "03ea1384-b4eb-4fc5-ae3d-a9efcc48e6cd",
   "metadata": {},
   "source": [
    "<img alt=\"\" src=\"https://wikidocs.net/images/page/180507/04_4_sys.png\">"
   ]
  },
  {
   "cell_type": "code",
   "execution_count": 6,
   "id": "79a5e68b-15a4-4b1d-899f-a99714c74d2f",
   "metadata": {},
   "outputs": [
    {
     "name": "stdout",
     "output_type": "stream",
     "text": [
      "C:\\Users\\Admin\\AppData\\Local\\Programs\\Python\\Python313\\Lib\\site-packages\\ipykernel_launcher.py <class 'str'>\n"
     ]
    }
   ],
   "source": [
    "import sys\n",
    "\n",
    "args = sys.argv[1:]\n",
    "gugu(args)"
   ]
  },
  {
   "cell_type": "code",
   "execution_count": 8,
   "id": "18fc88bc-db3f-4bb7-a74d-3cb3211e1056",
   "metadata": {},
   "outputs": [
    {
     "name": "stdout",
     "output_type": "stream",
     "text": [
      "SK하이닉스</a></td>\n",
      "\t\t\t\t\t<td class=\"number\">197,100</td>\n",
      "\t\t\t\t\t<td class=\"number\">\n",
      "\t\t\t\t<em class=\"bu_p bu\n",
      "21\n",
      "30\n",
      "\t\t\t\t<td class=\"number\">197,100\n",
      "\t\t\t\t197,100\n",
      "\t\t\n"
     ]
    }
   ],
   "source": [
    "import requests as req\n",
    "\n",
    "url = \"https://finance.naver.com/sise/sise_market_sum.naver\"\n",
    "web = req.get(url)\n",
    "html = web.text\n",
    "\n",
    "f1 = html.find('삼성전자')\n",
    "# f2 = html.find('기아')\n",
    "f2 = html.find('SK하이닉스')\n",
    "\n",
    "\n",
    "\n",
    "# print(html[f1:f1 + 100].find('<td class=\"number\">'))\n",
    "# print(html[f1:f1 + 100][19:50].replace('<td class=\"number\">', '').replace('</td>',''))\n",
    "\n",
    "print(html[f2:f2 + 100])\n",
    "print(html[f2:f2 + 100].find('<td class=\"number\">'))\n",
    "\n",
    "print(html[f2:f2 + 100][17:60].find('</td>'))\n",
    "print(html[f2:f2 + 100][17:60][:30])\n",
    "print(html[f2:f2 + 100][17:55].replace('<td class=\"number\">', '').replace('</td>',''))"
   ]
  },
  {
   "cell_type": "code",
   "execution_count": 1,
   "id": "7ffa799f-a749-4b6b-bc36-d891f368d1bc",
   "metadata": {},
   "outputs": [
    {
     "name": "stdout",
     "output_type": "stream",
     "text": [
      "91564: -1원\n"
     ]
    }
   ],
   "source": [
    "import requests as req\n",
    "import sys\n",
    "\n",
    "url = \"https://finance.naver.com/sise/sise_market_sum.naver\"\n",
    "web = req.get(url)\n",
    "html = web.text\n",
    "\n",
    "\n",
    "args = sys.argv[1:]\n",
    "f1 = html.find(args[0])\n",
    "\n",
    "f2 = html[f1:f1 + 100].find('<td class=\"number\">')\n",
    "\n",
    "f3 = html[f1:f1 + 100][f2:50].replace('<td class=\"number\">', '').replace('</td>','')\n",
    "\n",
    "print(f'{f1}: {f2}원')\n",
    "\n"
   ]
  },
  {
   "cell_type": "code",
   "execution_count": null,
   "id": "8b65111e-3d48-47e1-9f02-7448be9a3d85",
   "metadata": {},
   "outputs": [],
   "source": []
  }
 ],
 "metadata": {
  "kernelspec": {
   "display_name": "Python 3 (ipykernel)",
   "language": "python",
   "name": "python3"
  },
  "language_info": {
   "codemirror_mode": {
    "name": "ipython",
    "version": 3
   },
   "file_extension": ".py",
   "mimetype": "text/x-python",
   "name": "python",
   "nbconvert_exporter": "python",
   "pygments_lexer": "ipython3",
   "version": "3.13.1"
  }
 },
 "nbformat": 4,
 "nbformat_minor": 5
}
