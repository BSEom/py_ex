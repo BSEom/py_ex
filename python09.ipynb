{
 "cells": [
  {
   "cell_type": "code",
   "execution_count": 4,
   "id": "dca14132-f93e-4ee4-b871-c8f3db142407",
   "metadata": {},
   "outputs": [],
   "source": [
    "# !pip install -q -U google-genai"
   ]
  },
  {
   "cell_type": "code",
   "execution_count": 13,
   "id": "6050fa67-16b8-433d-9c08-2175531252f6",
   "metadata": {},
   "outputs": [],
   "source": [
    "# 구글 제미나이\n",
    "from google import genai\n",
    "\n",
    "import os\n",
    "from dotenv import load_dotenv\n",
    "\n",
    "load_dotenv()\n",
    "\n",
    "AI_TOKEN = os.getenv(\"GOOGLE_GEMINI\")\n",
    "\n",
    "def aiai(text):\n",
    "    client = genai.Client(api_key=AI_TOKEN)\n",
    "    \n",
    "    response = client.models.generate_content(\n",
    "        model=\"gemini-2.0-flash\",\n",
    "        contents=text + \"단, 400자 이내 그리고 서술형으로 친절하게 알려줘.\"\n",
    "    )\n",
    "    \n",
    "    answer = response.text\n",
    "    print(answer)\n",
    "    \n",
    "    # return answer\n",
    "\n",
    "# print(response.text)"
   ]
  },
  {
   "cell_type": "code",
   "execution_count": 14,
   "id": "79eeb9db-f38a-4828-9cf5-df2f53405cea",
   "metadata": {},
   "outputs": [
    {
     "name": "stdout",
     "output_type": "stream",
     "text": [
      "Pandas는 파이썬에서 데이터를 효율적으로 다루고 분석할 수 있도록 설계된 강력한 라이브러리입니다. 엑셀처럼 테이블 형태의 데이터를 다루는 데 특화되어 있으며, 데이터 정제, 변환, 분석 등 다양한 작업을 수행할 수 있습니다.\n",
      "\n",
      "핵심 자료구조는 Series(1차원 데이터)와 DataFrame(2차원 테이블 데이터)입니다. DataFrame은 엑셀 시트와 유사하며, 행과 열로 구성됩니다. Pandas를 사용하면 데이터를 불러오고, 필터링하고, 정렬하고, 그룹화하고, 통계치를 계산하는 등의 작업을 간편하게 처리할 수 있습니다.\n",
      "\n",
      "데이터 분석, 머신러닝 등 다양한 분야에서 필수적으로 사용되며, 복잡한 데이터 처리 작업을 몇 줄의 코드로 해결할 수 있도록 도와줍니다.\n",
      "\n"
     ]
    }
   ],
   "source": [
    "aiai(\"pandas가 궁금해\")"
   ]
  },
  {
   "cell_type": "code",
   "execution_count": null,
   "id": "0871fbf9-60f2-4550-80f1-e023eb5c27a8",
   "metadata": {},
   "outputs": [],
   "source": []
  }
 ],
 "metadata": {
  "kernelspec": {
   "display_name": "Python 3 (ipykernel)",
   "language": "python",
   "name": "python3"
  },
  "language_info": {
   "codemirror_mode": {
    "name": "ipython",
    "version": 3
   },
   "file_extension": ".py",
   "mimetype": "text/x-python",
   "name": "python",
   "nbconvert_exporter": "python",
   "pygments_lexer": "ipython3",
   "version": "3.13.1"
  }
 },
 "nbformat": 4,
 "nbformat_minor": 5
}
