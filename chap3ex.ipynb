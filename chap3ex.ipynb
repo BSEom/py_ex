{
 "cells": [
  {
   "cell_type": "code",
   "execution_count": 8,
   "id": "03bd9f4b-27d3-41e5-9ca5-1cefd02315c4",
   "metadata": {},
   "outputs": [
    {
     "name": "stdout",
     "output_type": "stream",
     "text": [
      "shirt\n"
     ]
    }
   ],
   "source": [
    "#01 조건문의 참과 거짓\n",
    "\n",
    "a = \"Life is to short, you need python\"\n",
    "\n",
    "if \"wife\" in a: print(\"wife\")\n",
    "elif \"python\" in a and \"you\" not in a: print(\"python\")\n",
    "elif \"shirt\" not in a: print(\"shirt\")\n",
    "elif \"need\" in a: print(\"need\")\n",
    "else: print(\"none\")\n",
    "\n",
    "# shirt만 출력됨\n",
    "# 4번째 조건도 '참'이지만, 3번째 조건문에서 조건 만족 후 진행이 종료되기 때문 "
   ]
  },
  {
   "cell_type": "code",
   "execution_count": 9,
   "id": "93b67e78-85cf-4793-a374-b784e20f6825",
   "metadata": {},
   "outputs": [
    {
     "name": "stdout",
     "output_type": "stream",
     "text": [
      "166833\n"
     ]
    }
   ],
   "source": [
    "#02 3의 배수의 합 구하기\n",
    "\n",
    "result = 0\n",
    "i = 1\n",
    "\n",
    "while i <=1000:\n",
    "    if i%3 == 0:\n",
    "        result += i\n",
    "    i += 1\n",
    "\n",
    "print(result)\n",
    "        "
   ]
  },
  {
   "cell_type": "code",
   "execution_count": 10,
   "id": "5a9eec1a-e02d-4123-bb1c-9f76691fcb1c",
   "metadata": {},
   "outputs": [
    {
     "name": "stdout",
     "output_type": "stream",
     "text": [
      "*\n",
      "**\n",
      "***\n",
      "****\n",
      "*****\n"
     ]
    }
   ],
   "source": [
    "#03 별 표시하기\n",
    "\n",
    "i = 0\n",
    "\n",
    "while True:\n",
    "    i += 1\n",
    "    if i>5: break\n",
    "    print('*'*i)"
   ]
  },
  {
   "cell_type": "code",
   "execution_count": 11,
   "id": "cd2df931-2d8f-44ea-a89e-eac8c3408fc9",
   "metadata": {},
   "outputs": [
    {
     "name": "stdout",
     "output_type": "stream",
     "text": [
      "1\n",
      "2\n",
      "3\n",
      "4\n",
      "5\n",
      "6\n",
      "7\n",
      "8\n",
      "9\n",
      "10\n",
      "11\n",
      "12\n",
      "13\n",
      "14\n",
      "15\n",
      "16\n",
      "17\n",
      "18\n",
      "19\n",
      "20\n",
      "21\n",
      "22\n",
      "23\n",
      "24\n",
      "25\n",
      "26\n",
      "27\n",
      "28\n",
      "29\n",
      "30\n",
      "31\n",
      "32\n",
      "33\n",
      "34\n",
      "35\n",
      "36\n",
      "37\n",
      "38\n",
      "39\n",
      "40\n",
      "41\n",
      "42\n",
      "43\n",
      "44\n",
      "45\n",
      "46\n",
      "47\n",
      "48\n",
      "49\n",
      "50\n",
      "51\n",
      "52\n",
      "53\n",
      "54\n",
      "55\n",
      "56\n",
      "57\n",
      "58\n",
      "59\n",
      "60\n",
      "61\n",
      "62\n",
      "63\n",
      "64\n",
      "65\n",
      "66\n",
      "67\n",
      "68\n",
      "69\n",
      "70\n",
      "71\n",
      "72\n",
      "73\n",
      "74\n",
      "75\n",
      "76\n",
      "77\n",
      "78\n",
      "79\n",
      "80\n",
      "81\n",
      "82\n",
      "83\n",
      "84\n",
      "85\n",
      "86\n",
      "87\n",
      "88\n",
      "89\n",
      "90\n",
      "91\n",
      "92\n",
      "93\n",
      "94\n",
      "95\n",
      "96\n",
      "97\n",
      "98\n",
      "99\n",
      "100\n"
     ]
    }
   ],
   "source": [
    "#04 1부터 100까지 출력하기\n",
    "\n",
    "for i in range(1,101):\n",
    "    print(i)"
   ]
  },
  {
   "cell_type": "code",
   "execution_count": 12,
   "id": "45fe2bcd-70ed-4e26-82cb-1a2305bd2770",
   "metadata": {},
   "outputs": [
    {
     "name": "stdout",
     "output_type": "stream",
     "text": [
      "79.0\n"
     ]
    }
   ],
   "source": [
    "#05 평균 점수 구하기\n",
    "\n",
    "A = [70, 60, 55, 75, 95, 90, 80, 80, 85, 100]\n",
    "total = 0\n",
    "\n",
    "for score in A:\n",
    "    total += score\n",
    "\n",
    "average = total / len(A)\n",
    "\n",
    "print(average)\n",
    "\n"
   ]
  },
  {
   "cell_type": "code",
   "execution_count": 17,
   "id": "47d00d4b-f7e4-4540-99af-9dcf11bd5515",
   "metadata": {},
   "outputs": [
    {
     "name": "stdout",
     "output_type": "stream",
     "text": [
      "[2, 6, 10]\n",
      "[2, 6, 10]\n"
     ]
    }
   ],
   "source": [
    "#06 리스트 컴프리헨션 사용하기\n",
    "\n",
    "# 일반\n",
    "numbers = [1, 2, 3, 4, 5]\n",
    "result = []\n",
    "for n in numbers:\n",
    "    if n%2 == 1:\n",
    "        result.append(n*2)\n",
    "print(result)\n",
    "\n",
    "\n",
    "# 리스트 컴프리엔션 변환\n",
    "numbers = [1, 2, 3, 4, 5]\n",
    "result = [n*2 for n in numbers if n%2 == 1]\n",
    "print(result)"
   ]
  },
  {
   "cell_type": "code",
   "execution_count": 90,
   "id": "d5ea6a03-4603-454c-a29a-57daaa80886b",
   "metadata": {},
   "outputs": [
    {
     "name": "stdout",
     "output_type": "stream",
     "text": [
      "추천 번호: [13, 14, 17, 34, 43, 44]\n"
     ]
    }
   ],
   "source": [
    "# 로또 생성기\n",
    "import random as r\n",
    "\n",
    "rotto = []            # 1~45 숫자 리스트\n",
    "pick = []             # 6개의 숫자 저장을 위한 리스트\n",
    "\n",
    "for x in range(1,46):                # 1~45 수 준비\n",
    "    rotto.append(x)\n",
    "\n",
    "for n in range(6):                # 중복 없이 랜덤 추천 숫자 뽑기 (pop)\n",
    "    r_pick = r.randint(0,44-n)\n",
    "    pick.append(rotto.pop(r_pick))\n",
    "\n",
    "pick.sort()                        # 추천 숫자 정렬\n",
    "print(f'추천 번호: {pick}')        # 출력\n",
    "\n",
    "\n",
    "\n",
    "# cnt_pick = [0] *45\n",
    "\n",
    "# for a in range(1,46):\n",
    "#     print(pick.count(a))\n",
    "#     if pick.count(a) == 1:\n",
    "#         cnt_pick[a-1] += 1\n",
    "\n",
    "# # print(cnt_pick)\n",
    "\n"
   ]
  },
  {
   "cell_type": "code",
   "execution_count": 89,
   "id": "e5d3d89a-f626-45ba-ad9f-db5b5abb0ec1",
   "metadata": {},
   "outputs": [
    {
     "name": "stdout",
     "output_type": "stream",
     "text": [
      "=========통계=========\n",
      "\n",
      "1: 13314회 | 13.31%\n",
      "2: 13269회 | 13.27%\n",
      "3: 13367회 | 13.37%\n",
      "4: 13508회 | 13.51%\n",
      "5: 13398회 | 13.40%\n",
      "6: 13230회 | 13.23%\n",
      "7: 13434회 | 13.43%\n",
      "8: 13549회 | 13.55%\n",
      "9: 13379회 | 13.38%\n",
      "10: 13318회 | 13.32%\n",
      "11: 13101회 | 13.10%\n",
      "12: 13304회 | 13.30%\n",
      "13: 13237회 | 13.24%\n",
      "14: 13430회 | 13.43%\n",
      "15: 13307회 | 13.31%\n",
      "16: 13214회 | 13.21%\n",
      "17: 13497회 | 13.50%\n",
      "18: 13334회 | 13.33%\n",
      "19: 13249회 | 13.25%\n",
      "20: 13472회 | 13.47%\n",
      "21: 13494회 | 13.49%\n",
      "22: 13356회 | 13.36%\n",
      "23: 13366회 | 13.37%\n",
      "24: 13414회 | 13.41%\n",
      "25: 13228회 | 13.23%\n",
      "26: 13249회 | 13.25%\n",
      "27: 13164회 | 13.16%\n",
      "28: 13360회 | 13.36%\n",
      "29: 13214회 | 13.21%\n",
      "30: 13362회 | 13.36%\n",
      "31: 13339회 | 13.34%\n",
      "32: 13369회 | 13.37%\n",
      "33: 13457회 | 13.46%\n",
      "34: 13319회 | 13.32%\n",
      "35: 13495회 | 13.49%\n",
      "36: 13226회 | 13.23%\n",
      "37: 13303회 | 13.30%\n",
      "38: 13331회 | 13.33%\n",
      "39: 13253회 | 13.25%\n",
      "40: 13427회 | 13.43%\n",
      "41: 13253회 | 13.25%\n",
      "42: 13386회 | 13.39%\n",
      "43: 13149회 | 13.15%\n",
      "44: 13301회 | 13.30%\n",
      "45: 13274회 | 13.27%\n",
      "\n",
      "==============================\n",
      "\n",
      "추천 숫자: [4, 8, 17]\n",
      "\n"
     ]
    }
   ],
   "source": [
    "import random as r\n",
    "\n",
    "cnt_pick = [0] * 45      # 뽑힌 숫자 카운팅을 위한 리스트 \n",
    "best = []                # 상위 3개 숫자 추천을 위한 리스트\n",
    "\n",
    "for rt in range(1,100001):\n",
    "    pick = []            # 6개의 숫자 저장을 위한 리스트\n",
    "    rotto = []           # 1~45 숫자 리스트\n",
    "    cnt_rate = []        # 획률 통계 자료 저장을 위한 리스트\n",
    "    \n",
    "    for x in range(1,46):        # 1~45 수 준비\n",
    "        rotto.append(x)\n",
    "\n",
    "    for n in range(6):              # 중복 없이 랜덤 추천 숫자 뽑기 (pop)\n",
    "        r_pick = r.randint(0,44-n)\n",
    "        pick.append(rotto.pop(r_pick))\n",
    "        \n",
    "\n",
    "    pick.sort()                # 로또 추천 번호 리스트 정렬\n",
    "\n",
    "    for a in range(1,46):\n",
    "        if pick.count(a) == 1:   # 1~45 까지 해당 숫자가 리스트에 존재하는지 확인   ex) a가 리스트에 몇개 존재하는가?\n",
    "            cnt_pick[a-1] += 1   # 존재하는 숫자 카운팅                             ex) a자리에 a카운팅\n",
    "\n",
    "# print(cnt_pick) # 1~45까지 숫자 카운팅 출력\n",
    "print(f'{\"통계\":=^20}\\n')\n",
    "\n",
    "for m in range(45):                                # 카운팅한 숫자 통계 \n",
    "    p_rate = (cnt_pick[m] * 100) / rt              # 비율 계산\n",
    "    print(f'{m+1}: {cnt_pick[m]}회 | {p_rate:.2f}%')\n",
    "    cnt_rate.append([m+1,p_rate])                  # 많이 나온 숫자 추천을 위해 이중리스트로 값 저장\n",
    "    \n",
    "\n",
    "cnt_rate.sort(key=lambda x:-x[1])    # 이중 리스트 정렬\n",
    "# print(cnt_rate) # 숫자 n의 비율 출력 \n",
    "\n",
    "for b in range(3):                  # 상위 3개 값 추천\n",
    "    best.append(cnt_rate[b][0])\n",
    "\n",
    "best.sort()\n",
    "print('\\n'+'=' * 30 +'\\n' )\n",
    "print(f'추천 숫자: {best}\\n')\n",
    "\n"
   ]
  },
  {
   "cell_type": "code",
   "execution_count": null,
   "id": "9ffc6022-5b88-407b-bc05-a68f8005280f",
   "metadata": {},
   "outputs": [],
   "source": []
  }
 ],
 "metadata": {
  "kernelspec": {
   "display_name": "Python 3 (ipykernel)",
   "language": "python",
   "name": "python3"
  },
  "language_info": {
   "codemirror_mode": {
    "name": "ipython",
    "version": 3
   },
   "file_extension": ".py",
   "mimetype": "text/x-python",
   "name": "python",
   "nbconvert_exporter": "python",
   "pygments_lexer": "ipython3",
   "version": "3.13.1"
  }
 },
 "nbformat": 4,
 "nbformat_minor": 5
}
