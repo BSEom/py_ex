{
 "cells": [
  {
   "cell_type": "markdown",
   "id": "52cc478c-7fd4-4a2b-92f9-8c4345c6d926",
   "metadata": {},
   "source": [
    "# 자료형"
   ]
  },
  {
   "cell_type": "markdown",
   "id": "d13e0e8f-671c-4f30-9a77-bc10b0f0cf3b",
   "metadata": {},
   "source": [
    "## 리스트 자료형"
   ]
  },
  {
   "cell_type": "markdown",
   "id": "9b25a6c3-6e8e-4e52-ad63-e617ccb82396",
   "metadata": {},
   "source": [
    "### 리스트의 인덱싱과 슬라이싱"
   ]
  },
  {
   "cell_type": "code",
   "execution_count": 1,
   "id": "f3eee5cf-9a5b-4112-84a7-aee4eab8e3fb",
   "metadata": {},
   "outputs": [],
   "source": [
    "odd = [1, 3, 5, 7, 9]\n",
    "\n",
    "a = []\n",
    "b = [1, 2, 3]\n",
    "c = ['Life', 'is', 'too', 'short']\n",
    "d = [1, 2, 'Life', ' is']\n",
    "e = [1, 2, ['Life', 'is']]\n",
    "\n"
   ]
  },
  {
   "cell_type": "code",
   "execution_count": 2,
   "id": "e1ecdb4d-bda1-4ea4-8ee6-223e82ead87c",
   "metadata": {},
   "outputs": [
    {
     "name": "stdout",
     "output_type": "stream",
     "text": [
      "5\n"
     ]
    }
   ],
   "source": [
    "print(b[1] + b[2])"
   ]
  },
  {
   "cell_type": "code",
   "execution_count": 3,
   "id": "5d9aaf9e-6c12-4273-9871-75acd3d99f4c",
   "metadata": {},
   "outputs": [
    {
     "data": {
      "text/plain": [
       "'Life'"
      ]
     },
     "execution_count": 3,
     "metadata": {},
     "output_type": "execute_result"
    }
   ],
   "source": [
    "c[-4]"
   ]
  },
  {
   "cell_type": "code",
   "execution_count": 4,
   "id": "5bec3d20-5636-4cec-b778-3ddc01474844",
   "metadata": {},
   "outputs": [
    {
     "data": {
      "text/plain": [
       "[11, 33, 55]"
      ]
     },
     "execution_count": 4,
     "metadata": {},
     "output_type": "execute_result"
    }
   ],
   "source": [
    "a = [11, 22, 33, 44, 55]\n",
    "\n",
    "a[0:2]\n",
    "a[-2:]\n",
    "a[::2]"
   ]
  },
  {
   "cell_type": "code",
   "execution_count": 5,
   "id": "ee8dad7d-28d8-451d-b10b-90c1cba5d750",
   "metadata": {},
   "outputs": [
    {
     "name": "stdout",
     "output_type": "stream",
     "text": [
      "[33, 44]\n"
     ]
    }
   ],
   "source": [
    "print(a[2:4])"
   ]
  },
  {
   "cell_type": "markdown",
   "id": "2775b268-15aa-482b-a68c-4561fe7fc190",
   "metadata": {},
   "source": [
    "### 리스트 연산, 수정, 삭제"
   ]
  },
  {
   "cell_type": "code",
   "execution_count": 6,
   "id": "4ee11da1-fb80-46b9-994f-30295f9c48e4",
   "metadata": {},
   "outputs": [
    {
     "name": "stdout",
     "output_type": "stream",
     "text": [
      "[11, 22, 33, 44, 55, 66]\n",
      "[11, 22, 33, 11, 22, 33, 11, 22, 33]\n"
     ]
    }
   ],
   "source": [
    "a = [11, 22, 33]\n",
    "b = [44, 55, 66]\n",
    "\n",
    "# 리스트 더하기\n",
    "print(a + b)\n",
    "\n",
    "# 리스트 반복하기\n",
    "print(a * 3)\n",
    "\n",
    "c = a*3"
   ]
  },
  {
   "cell_type": "code",
   "execution_count": 7,
   "id": "08115632-4de8-4741-b621-bc491517aabb",
   "metadata": {},
   "outputs": [
    {
     "name": "stdout",
     "output_type": "stream",
     "text": [
      "[11, 22, 44]\n",
      " \n",
      "[11, ' ', 44]\n",
      "[11, 44]\n"
     ]
    }
   ],
   "source": [
    "# 리스트 값 수정하기\n",
    "\n",
    "a = [11, 22, 33]\n",
    "a[2] = 44\n",
    "print(a)\n",
    "\n",
    "b = \" \"\n",
    "\n",
    "a[1] = b\n",
    "print(b)\n",
    "print(a)\n",
    "\n",
    "# 리스트 값 삭제하기\n",
    "del a[1]\n",
    "print(a)"
   ]
  },
  {
   "cell_type": "code",
   "execution_count": 8,
   "id": "1d72e852-4400-4578-8dc1-336f3de8759c",
   "metadata": {},
   "outputs": [
    {
     "name": "stdout",
     "output_type": "stream",
     "text": [
      "[11, 22, 33, 11, 22, 33, 11, 22, 33]\n",
      "[22, 33, 11, 22, 33]\n"
     ]
    }
   ],
   "source": [
    "# 리스트 값 슬라이싱으로 삭제하기\n",
    "\n",
    "print(c)\n",
    "del c[:4]\n",
    "print(c)"
   ]
  },
  {
   "cell_type": "markdown",
   "id": "9087e303-2215-4b01-8447-412367822928",
   "metadata": {},
   "source": [
    "### 리스트 관련 함수"
   ]
  },
  {
   "cell_type": "code",
   "execution_count": 9,
   "id": "49b4d4e5-c017-41a2-af79-b06dcfa878d4",
   "metadata": {},
   "outputs": [
    {
     "data": {
      "text/plain": [
       "['__add__',\n",
       " '__class__',\n",
       " '__class_getitem__',\n",
       " '__contains__',\n",
       " '__delattr__',\n",
       " '__delitem__',\n",
       " '__dir__',\n",
       " '__doc__',\n",
       " '__eq__',\n",
       " '__format__',\n",
       " '__ge__',\n",
       " '__getattribute__',\n",
       " '__getitem__',\n",
       " '__getstate__',\n",
       " '__gt__',\n",
       " '__hash__',\n",
       " '__iadd__',\n",
       " '__imul__',\n",
       " '__init__',\n",
       " '__init_subclass__',\n",
       " '__iter__',\n",
       " '__le__',\n",
       " '__len__',\n",
       " '__lt__',\n",
       " '__mul__',\n",
       " '__ne__',\n",
       " '__new__',\n",
       " '__reduce__',\n",
       " '__reduce_ex__',\n",
       " '__repr__',\n",
       " '__reversed__',\n",
       " '__rmul__',\n",
       " '__setattr__',\n",
       " '__setitem__',\n",
       " '__sizeof__',\n",
       " '__str__',\n",
       " '__subclasshook__',\n",
       " 'append',\n",
       " 'clear',\n",
       " 'copy',\n",
       " 'count',\n",
       " 'extend',\n",
       " 'index',\n",
       " 'insert',\n",
       " 'pop',\n",
       " 'remove',\n",
       " 'reverse',\n",
       " 'sort']"
      ]
     },
     "execution_count": 9,
     "metadata": {},
     "output_type": "execute_result"
    }
   ],
   "source": [
    "dir(list)"
   ]
  },
  {
   "cell_type": "code",
   "execution_count": 10,
   "id": "4137e7df-8ac1-46bb-88ab-8c10925ec561",
   "metadata": {},
   "outputs": [
    {
     "name": "stdout",
     "output_type": "stream",
     "text": [
      "[]\n"
     ]
    }
   ],
   "source": [
    "# 리스트 요소 비우기\n",
    "\n",
    "c.clear()\n",
    "print(c)"
   ]
  },
  {
   "cell_type": "code",
   "execution_count": 11,
   "id": "ab293e2b-3b67-4026-a726-8a12a886b994",
   "metadata": {},
   "outputs": [],
   "source": [
    "a=[]"
   ]
  },
  {
   "cell_type": "code",
   "execution_count": 12,
   "id": "e9f700ff-d86a-4f40-9f1b-7aed5d7ffb74",
   "metadata": {},
   "outputs": [
    {
     "name": "stdout",
     "output_type": "stream",
     "text": [
      "[3, [1, 2]]\n"
     ]
    }
   ],
   "source": [
    "# 리스트 요소 추가하기\n",
    "\n",
    "a.append(3)\n",
    "a.append([1,2])\n",
    "print(a)\n"
   ]
  },
  {
   "cell_type": "code",
   "execution_count": 13,
   "id": "2dabf4aa-fa4f-4dfb-84cd-26052e3f5edd",
   "metadata": {},
   "outputs": [
    {
     "name": "stdout",
     "output_type": "stream",
     "text": [
      "[11, 22, 33, 44, 55]\n",
      "[55, 44, 33, 22, 11]\n"
     ]
    }
   ],
   "source": [
    "# 리스트 정렬\n",
    "\n",
    "a = [11, 44, 22, 33, 55]\n",
    "a.sort()\n",
    "print(a)\n",
    "\n",
    "a.reverse()\n",
    "print(a)"
   ]
  },
  {
   "cell_type": "code",
   "execution_count": 14,
   "id": "f7bf3b04-a191-4875-9014-453a4eb4c315",
   "metadata": {},
   "outputs": [
    {
     "name": "stdout",
     "output_type": "stream",
     "text": [
      "[66, 77, 88, 99, 0]\n",
      "[0, 66, 77, 88, 99]\n",
      "[99, 88, 77, 66, 0]\n"
     ]
    }
   ],
   "source": [
    "# 리스트정렬 원본 유지하기\n",
    "\n",
    "aa = [66, 77, 88, 99, 0]\n",
    "bb = sorted(aa)\n",
    "cc = sorted(aa, reverse=True)\n",
    "\n",
    "print(aa)\n",
    "print(bb)\n",
    "print(cc)"
   ]
  },
  {
   "cell_type": "code",
   "execution_count": 15,
   "id": "b4b47fa3-1f5b-46d7-81c9-b89dc2825f3b",
   "metadata": {},
   "outputs": [
    {
     "name": "stdout",
     "output_type": "stream",
     "text": [
      "['banana', 'kiwi', 'orange', 'melon', 'apple', 'strawberry', 'blueberry']\n",
      "['kiwi', 'melon', 'apple', 'banana', 'orange', 'blueberry', 'strawberry']\n",
      "['strawberry', 'blueberry', 'banana', 'orange', 'melon', 'apple', 'kiwi']\n"
     ]
    }
   ],
   "source": [
    "# sorted 응용\n",
    "\n",
    "fruit = ['banana', 'kiwi', 'orange', 'melon', 'apple', 'strawberry', 'blueberry']\n",
    "\n",
    "result = sorted(fruit, key=len)\n",
    "result2 = sorted(fruit, key=len, reverse=True)\n",
    "\n",
    "print(fruit)\n",
    "print(result)\n",
    "print(result2)\n",
    "\n"
   ]
  },
  {
   "cell_type": "code",
   "execution_count": 16,
   "id": "fbb7fdc6-d6a5-4e77-9ef2-5445ae70d011",
   "metadata": {},
   "outputs": [
    {
     "name": "stdout",
     "output_type": "stream",
     "text": [
      "kiwi 맛있다.\n",
      "melon 맛있다.\n",
      "apple 맛있다.\n",
      "banana 맛없어\n",
      "orange 맛있다.\n",
      "blueberry 맛있다.\n",
      "strawberry 맛있다.\n",
      "끝\n"
     ]
    }
   ],
   "source": [
    "for l in result:\n",
    "    if l == 'banana':\n",
    "        print(l + ' 맛없어')\n",
    "    else:\n",
    "        print(l + ' 맛있다.')\n",
    "print('끝')"
   ]
  },
  {
   "cell_type": "code",
   "execution_count": 17,
   "id": "6cd68eeb-4c6b-4f95-9138-c8f5a8f54760",
   "metadata": {},
   "outputs": [
    {
     "data": {
      "text/plain": [
       "4"
      ]
     },
     "execution_count": 17,
     "metadata": {},
     "output_type": "execute_result"
    }
   ],
   "source": [
    "# 인덱스 반환 - index\n",
    "\n",
    "fruit = ['banana', 'kiwi', 'orange', 'melon', 'apple', 'strawberry', 'blueberry']\n",
    "fruit.index('apple')"
   ]
  },
  {
   "cell_type": "code",
   "execution_count": 18,
   "id": "536de407-9635-4702-b032-bb14b2672731",
   "metadata": {},
   "outputs": [
    {
     "name": "stdin",
     "output_type": "stream",
     "text": [
      "먹고 싶은 과일 입력:  apple\n"
     ]
    },
    {
     "name": "stdout",
     "output_type": "stream",
     "text": [
      "apple를 좋아하시는 군요, 그것은 5 번째에 있습니다.\n"
     ]
    }
   ],
   "source": [
    "fruit = ['banana', 'kiwi', 'orange', 'melon', 'apple', 'strawberry', 'blueberry']\n",
    "fruit.index('apple')\n",
    "\n",
    "# inp = input('먹고 싶은 과일 입력: ')\n",
    " \n",
    "# print(inp + '를 먹고싶군요?')\n",
    "\n",
    "want = input('먹고 싶은 과일 입력: ')\n",
    "where = fruit.index(want)\n",
    "print(f'{want}를 좋아하시는 군요, 그것은 {where + 1} 번째에 있습니다.')"
   ]
  },
  {
   "cell_type": "code",
   "execution_count": null,
   "id": "4eb186d1-8bd1-43d7-a74b-1206df86876a",
   "metadata": {},
   "outputs": [],
   "source": [
    "n = fruit.index(input('먹고 싶은 과일 입력: '))\n",
    "print(fruit[n])"
   ]
  },
  {
   "cell_type": "code",
   "execution_count": null,
   "id": "5b9d6f5b-f832-47cc-b9a9-276ebd40f7aa",
   "metadata": {},
   "outputs": [],
   "source": [
    "# 리스트에 요소 삽입 - insert\n",
    "\n",
    "num = [11, 22, 33, 44, 55, 66, 77, 88]\n",
    "print(num)\n",
    "num.insert(3, 44) # 3은 인덱스 위치, 44는 위치에 넣을 요소\n",
    "print(num)"
   ]
  },
  {
   "cell_type": "code",
   "execution_count": null,
   "id": "1442282c-c7b5-4eec-8899-6d5b9fe1450f",
   "metadata": {},
   "outputs": [],
   "source": [
    "ex = []"
   ]
  },
  {
   "cell_type": "code",
   "execution_count": null,
   "id": "80aec9f5-2445-48eb-bb77-11ec9ea9f6b8",
   "metadata": {},
   "outputs": [],
   "source": [
    "ex.insert(0, '처음')\n",
    "print(ex)\n",
    "\n",
    "ex.insert(-1, '맨뒤 바로 앞')\n",
    "print(ex)\n",
    "\n",
    "ex.insert(0, '맨앞')\n",
    "print(ex)\n",
    "\n",
    "ex.insert(len(ex),'맨뒤')\n",
    "print(ex)"
   ]
  },
  {
   "cell_type": "code",
   "execution_count": null,
   "id": "54efa0af-7117-4053-9578-15fa0e4c4999",
   "metadata": {},
   "outputs": [],
   "source": [
    "# 리스트 요소 제거 - remove\n",
    "\n",
    "a = [1, 2, 3, 1, 2, 3]\n",
    "a.remove(3)\n",
    "print(a)"
   ]
  },
  {
   "cell_type": "code",
   "execution_count": null,
   "id": "2da01bda-c7a4-46e3-822f-ecd5a28f86b0",
   "metadata": {},
   "outputs": [],
   "source": [
    "# 리스트 요소 끄집어 내기 - pop\n",
    "\n",
    "a = [1, 2, 3]\n",
    "hand = a.pop()\n",
    "print(a)\n",
    "print(hand)\n",
    "\n",
    "b = a.pop(1)\n",
    "print(b)"
   ]
  },
  {
   "cell_type": "code",
   "execution_count": null,
   "id": "9ad74dcd-0a1c-41bb-a18e-dfed9057ac89",
   "metadata": {},
   "outputs": [],
   "source": [
    "# 리스트에 포함된 요소 x의 개수 세기 - Count\n",
    "\n",
    "st = \"안녕하세요 반가워요\"\n",
    "print(st.count(\"요\"))\n",
    "\n",
    "a = [1,2,3,4,1,2,3,3,1,1,1,4,5,1,3,6,1]\n",
    "print(a.count(1))"
   ]
  },
  {
   "cell_type": "code",
   "execution_count": null,
   "id": "27689992-62ff-4f27-8815-150771e76c02",
   "metadata": {},
   "outputs": [],
   "source": [
    "# 리스트 확장\n",
    "\n",
    "a = [1, 2, 3]\n",
    "a.extend([4, 5])\n",
    "print(a)\n",
    "\n",
    "b = [11,22,33]\n",
    "c = [44,55,66]\n",
    "\n",
    "print(b+c)"
   ]
  },
  {
   "cell_type": "code",
   "execution_count": null,
   "id": "083f7cf5-6fda-4797-bbec-6c9c4340187e",
   "metadata": {},
   "outputs": [],
   "source": [
    "# 장바구니\n",
    "bag = []"
   ]
  },
  {
   "cell_type": "code",
   "execution_count": null,
   "id": "508e853c-1de1-4ae1-b942-22117d551731",
   "metadata": {},
   "outputs": [],
   "source": [
    "inp = input(\"장바구니에 담을 물건 입력: \")\n",
    "bag.append(inp)\n",
    "print(f'장바구니에는 {bag}가 있습니다')"
   ]
  },
  {
   "cell_type": "code",
   "execution_count": null,
   "id": "8cc28b8f-f22b-4c1b-94b4-3225cc78db6c",
   "metadata": {},
   "outputs": [],
   "source": [
    "# FIFO 출력 (queue 출력)\n",
    "\n",
    "hand = bag.pop(0)\n",
    "print(f'{hand}를 꺼내서 장바구니에 {bag}이(가) 남았습니다 ')"
   ]
  },
  {
   "cell_type": "code",
   "execution_count": null,
   "id": "a28e2fc3-bdc0-47f4-b6ca-3b1df468e42a",
   "metadata": {},
   "outputs": [],
   "source": [
    "bag = ['호박', '소주', '맥주', '피자', '감자', '고구마']\n",
    "\n",
    "# 선택 출력\n",
    "print(f'바구니에 {bag}가 있습니다.')\n",
    "bring = input('꺼내고 싶은 물품 입력: ')\n",
    "print(bag.index(bring))\n",
    "hand2 = bag.pop(bag.index(bring))\n",
    "print(f'바구니에서 {hand2}를 꺼내, {bag}가 남았습니다.')"
   ]
  },
  {
   "cell_type": "code",
   "execution_count": 3,
   "id": "95d473ea-e73f-4284-aead-707e6806ac8d",
   "metadata": {},
   "outputs": [
    {
     "name": "stdin",
     "output_type": "stream",
     "text": [
      "물품 하나를 지정해 주세요 :  막걸리\n",
      "어느 물품의 오른쪽에 넣을까요? :  피자\n"
     ]
    },
    {
     "name": "stdout",
     "output_type": "stream",
     "text": [
      "막걸리을 넣어, 현재 물품 목록은 ['호박', '소주', '맥주', '피자', '막걸리', '감자', '고구마'] 입니다.\n"
     ]
    }
   ],
   "source": [
    "# 실습\n",
    "\n",
    "bag = ['호박', '소주', '맥주', '피자', '감자', '고구마']\n",
    "# 물품 하나를 추가하기. 단, 지정한 물품 바로 뒤에 추가하기\n",
    "\n",
    "test1 = input('추가할 물품을 적어 주세요 : ')\n",
    "test2 = input('어느 물품의 오른쪽에 넣을까요? : ')\n",
    "bag.insert(bag.index(test2) + 1, test1)\n",
    "print(f'{test1}을 넣어, 현재 물품 목록은 {bag} 입니다.')\n",
    "\n"
   ]
  },
  {
   "cell_type": "code",
   "execution_count": 7,
   "id": "1397fb85-cd16-4c9b-b916-c478c01b2e49",
   "metadata": {},
   "outputs": [
    {
     "name": "stdin",
     "output_type": "stream",
     "text": [
      "원화로 계산할 달러를 입력하세요. : 549\n",
      "원_달러 환율 : 1450\n"
     ]
    },
    {
     "name": "stdout",
     "output_type": "stream",
     "text": [
      "현재 환율은 1,450원으로 796,050원 입니다. \n"
     ]
    }
   ],
   "source": [
    "# 환율 계산기 만들기\n",
    "\n",
    "USD = int(input(\"원화로 계산할 달러를 입력하세요. :\"))\n",
    "\n",
    "tr = int(input(\"원_달러 환율 :\"))\n",
    "\n",
    "Won = USD * tr\n",
    "\n",
    "print(f\"현재 환율은 {tr:,}원으로 {Won:,}원 입니다. \")\n",
    "\n"
   ]
  },
  {
   "cell_type": "code",
   "execution_count": 3,
   "id": "4f29766a-2f00-4997-be48-75a2192974ba",
   "metadata": {},
   "outputs": [
    {
     "name": "stdin",
     "output_type": "stream",
     "text": [
      "원화로 계산할 달러를 입력하세요. : 549\n"
     ]
    },
    {
     "name": "stdout",
     "output_type": "stream",
     "text": [
      "현재 환율은 1,445.60원으로 549 달러는 한화:793,634.3999999999원 입니다. \n"
     ]
    }
   ],
   "source": [
    "import requests\n",
    "\n",
    "url ='https://m.stock.naver.com/marketindex/exchange/FX_USDKRW'\n",
    "res = requests.get(url).text\n",
    "# print(res)\n",
    "# print(res.find(\"1,449.70\"))\n",
    "# print(res[19137:19145])\n",
    "\n",
    "exc = res[19137:19145]\n",
    "# exc = exc.replace(',','')\n",
    "\n",
    "USD = int(input(\"원화로 계산할 달러를 입력하세요. :\"))\n",
    "\n",
    "Won = float(USD) * float(exc.replace(',',''))\n",
    "\n",
    "print(f\"현재 환율은 {exc}원으로 {USD} 달러는 한화:{Won:,}원 입니다. \")\n",
    "\n"
   ]
  },
  {
   "cell_type": "code",
   "execution_count": 7,
   "id": "2a3c0115-e74e-4950-8748-2f0bde484da6",
   "metadata": {},
   "outputs": [
    {
     "name": "stdin",
     "output_type": "stream",
     "text": [
      "원화로 계산할 달러를 입력하세요. : 549\n"
     ]
    },
    {
     "name": "stdout",
     "output_type": "stream",
     "text": [
      "현재 환율은 1,460.8원으로 549 달러는 한화:801,979.2원 입니다. \n"
     ]
    }
   ],
   "source": [
    "import requests\n",
    "import json\n",
    "\n",
    "url ='https://www.koreaexim.go.kr/site/program/financial/exchangeJSON?authkey=api키&data=AP01'\n",
    "res = requests.get(url).text\n",
    "data = json.loads(res)\n",
    "\n",
    "# print(res)\n",
    "# print(data[-1]['kftc_deal_bas_r'])\n",
    "\n",
    "ec = data[-1]['kftc_deal_bas_r']\n",
    "\n",
    "USD = int(input(\"원화로 계산할 달러를 입력하세요. :\"))\n",
    "\n",
    "Won = float(USD) * float(ec.replace(',',''))\n",
    "\n",
    "print(f\"현재 환율은 {ec}원으로 {USD} 달러는 한화:{Won:,}원 입니다. \")\n",
    "\n"
   ]
  },
  {
   "cell_type": "code",
   "execution_count": 54,
   "id": "a1aab1a7-aa13-4047-8a85-dd90056f26cd",
   "metadata": {},
   "outputs": [
    {
     "name": "stdin",
     "output_type": "stream",
     "text": [
      "질문3 아\n"
     ]
    }
   ],
   "source": [
    "from IPython.display import clear_output\n",
    "\n",
    "# test\n",
    "\n",
    "\n",
    "inp1 = input('질문1')\n",
    "clear_output(wait=True)\n",
    "inp2 = input('질문2')\n",
    "clear_output(wait=True)\n",
    "inp3 = input('질문3')\n"
   ]
  },
  {
   "cell_type": "code",
   "execution_count": null,
   "id": "b9a38093-9d5d-4fd6-b096-d4b97724ca69",
   "metadata": {},
   "outputs": [],
   "source": [
    "\n"
   ]
  },
  {
   "cell_type": "markdown",
   "id": "4b63157a-4a4b-4c5f-a1e0-3f95488cfd4b",
   "metadata": {},
   "source": [
    "## 튜플 자료형"
   ]
  },
  {
   "cell_type": "code",
   "execution_count": 60,
   "id": "3e452336-3131-4b2d-a661-70ed71a0c610",
   "metadata": {},
   "outputs": [],
   "source": [
    "t1 = ()\n",
    "t2 = (1, )\n",
    "t3 = (1, 2, 3)\n",
    "t4 = 1, 2, 3\n",
    "t5 = ('a', 'b', ('ab', 'cd'))"
   ]
  },
  {
   "cell_type": "code",
   "execution_count": null,
   "id": "7a7ba81a-78e2-4f48-920d-b2aee62f3d54",
   "metadata": {},
   "outputs": [],
   "source": [
    "# 튜플의 요소값을 삭제하려 할 때\n",
    "t1 = (1, 2, 'a', 'b')\n",
    "del t1[0]"
   ]
  },
  {
   "cell_type": "code",
   "execution_count": null,
   "id": "d0a4798f-6c97-4946-9633-c194771657d3",
   "metadata": {},
   "outputs": [],
   "source": [
    "dir(tuple)\n"
   ]
  },
  {
   "cell_type": "code",
   "execution_count": null,
   "id": "84ee802c-551a-471f-86b1-5729d589cb72",
   "metadata": {},
   "outputs": [],
   "source": [
    "# 인덱싱하기\n",
    "\n",
    "t1 = (1, 2, 'a', 'b')\n",
    "print(t1[0], t1[3])\n",
    "\n"
   ]
  },
  {
   "cell_type": "code",
   "execution_count": 63,
   "id": "77715b9a-6880-46d0-a01f-aac58791beef",
   "metadata": {},
   "outputs": [
    {
     "name": "stdout",
     "output_type": "stream",
     "text": [
      "(2, 'a', 'b')\n"
     ]
    }
   ],
   "source": [
    "# 슬라이싱\n",
    "\n",
    "t1 = (1, 2, 'a', 'b')\n",
    "print(t1[1:])"
   ]
  },
  {
   "cell_type": "code",
   "execution_count": 64,
   "id": "688ab113-473e-4839-8e71-2e2cce33ec8f",
   "metadata": {},
   "outputs": [
    {
     "name": "stdout",
     "output_type": "stream",
     "text": [
      "(1, 2, 'a', 'b', 3, 4)\n"
     ]
    }
   ],
   "source": [
    "# 튜플 더하기\n",
    "\n",
    "t1 = (1, 2, 'a', 'b')\n",
    "t2 = (3,4)\n",
    "t3 = t1 + t2\n",
    "\n",
    "print(t3)"
   ]
  },
  {
   "cell_type": "code",
   "execution_count": 66,
   "id": "619ae77f-f63f-46b1-a4c9-0f4fb4b2053a",
   "metadata": {},
   "outputs": [
    {
     "name": "stdout",
     "output_type": "stream",
     "text": [
      "(3, 4, 3, 4)\n"
     ]
    }
   ],
   "source": [
    "# 튜플 곱하기\n",
    "\n",
    "t2 = 3, 4\n",
    "t3 = t2 *2\n",
    "print(t3)"
   ]
  },
  {
   "cell_type": "code",
   "execution_count": 67,
   "id": "eb22aeac-07fa-4ba5-a28c-a3feaf0a2d31",
   "metadata": {},
   "outputs": [
    {
     "data": {
      "text/plain": [
       "4"
      ]
     },
     "execution_count": 67,
     "metadata": {},
     "output_type": "execute_result"
    }
   ],
   "source": [
    "# 튜플 길이 구하기\n",
    "\n",
    "len(t3)"
   ]
  },
  {
   "cell_type": "markdown",
   "id": "87355753-ddad-4fa3-9353-d288fd64421d",
   "metadata": {},
   "source": [
    "## 딕셔너리 자료형"
   ]
  },
  {
   "cell_type": "code",
   "execution_count": 68,
   "id": "86b55664-2f57-4376-8184-d8f547bc3e38",
   "metadata": {},
   "outputs": [],
   "source": [
    "dic = {'name': 'pay', 'phone': '010-1234-5678', 'birth': '0621'}"
   ]
  },
  {
   "cell_type": "code",
   "execution_count": 77,
   "id": "4e1cef47-162b-4832-8504-2f093f07f5f5",
   "metadata": {},
   "outputs": [
    {
     "name": "stdout",
     "output_type": "stream",
     "text": [
      "pay\n",
      "010-1234-5678\n",
      "0621\n"
     ]
    }
   ],
   "source": [
    "print(dic['name'])\n",
    "print(dic['phone'])\n",
    "print(dic['birth'])\n",
    "\n"
   ]
  },
  {
   "cell_type": "code",
   "execution_count": 72,
   "id": "ed2e2ed6-0ec3-4337-9a0d-44ad28f3b8d3",
   "metadata": {},
   "outputs": [
    {
     "name": "stdout",
     "output_type": "stream",
     "text": [
      "11\n",
      "11\n",
      "11\n"
     ]
    }
   ],
   "source": [
    "al = [11, 22, 33, 44, 55]\n",
    "at = 11, 22, 33, 44, 55\n",
    "ad = {0:11, 1:22, 2:33, 3:44, 4:55}\n",
    "\n",
    "print(al[0])\n",
    "print(at[0])\n",
    "print(ad[0])"
   ]
  },
  {
   "cell_type": "code",
   "execution_count": 75,
   "id": "a77f7431-bdc4-438b-bace-a858f46fc778",
   "metadata": {},
   "outputs": [
    {
     "name": "stdout",
     "output_type": "stream",
     "text": [
      "11\n",
      "22\n",
      "33\n",
      "44\n",
      "55\n",
      "----------\n",
      "11\n",
      "22\n",
      "33\n",
      "44\n",
      "55\n",
      "0\n",
      "1\n",
      "2\n",
      "3\n",
      "4\n"
     ]
    }
   ],
   "source": [
    "# test\n",
    "\n",
    "for l in al:\n",
    "    print(l)\n",
    "print('-'*10)\n",
    "for t in at:\n",
    "    print(t)\n",
    "\n",
    "for d in ad:\n",
    "    print(d)"
   ]
  },
  {
   "cell_type": "code",
   "execution_count": 79,
   "id": "b6f9bc84-db3e-4fbc-8f29-f18867df4a3d",
   "metadata": {
    "scrolled": true
   },
   "outputs": [
    {
     "name": "stdout",
     "output_type": "stream",
     "text": [
      "[1, 2, 3, 4, 5]\n"
     ]
    }
   ],
   "source": [
    "a = {'aa':[1, 2, 3, 4, 5]}\n",
    "print(a['aa'])"
   ]
  },
  {
   "cell_type": "markdown",
   "id": "8a6db01e-7d2e-4c22-94a8-00905595349e",
   "metadata": {},
   "source": [
    "### 딕셔너리 쌍 추가, 삭제하기"
   ]
  },
  {
   "cell_type": "code",
   "execution_count": 87,
   "id": "04bddf17-ed03-4334-aa57-f9fa0cbe7f7b",
   "metadata": {},
   "outputs": [
    {
     "name": "stdout",
     "output_type": "stream",
     "text": [
      "{'name': 'pay', 'phone': '010-1234-5678', 'birth': '0621', 'address': 'busan'}\n"
     ]
    }
   ],
   "source": [
    "dic = {'name': 'pay', 'phone': '010-1234-5678', 'birth': '0621'}\n",
    "dic['address'] = 'busan'\n",
    "print(dic)"
   ]
  },
  {
   "cell_type": "code",
   "execution_count": 88,
   "id": "4c2818ea-9d50-4140-8e8f-d52b1eba0ef5",
   "metadata": {},
   "outputs": [
    {
     "name": "stdout",
     "output_type": "stream",
     "text": [
      "{'name': 'pay', 'phone': '010-1234-5678', 'birth': '0621', 'address': 'busan', 'array': [1, 2, 3, 4, 5]}\n"
     ]
    }
   ],
   "source": [
    "dic['array'] = [1, 2, 3, 4, 5]\n",
    "print(dic)"
   ]
  },
  {
   "cell_type": "code",
   "execution_count": 84,
   "id": "e76d8648-8343-4359-9e77-2cf21ad7420b",
   "metadata": {},
   "outputs": [
    {
     "name": "stdout",
     "output_type": "stream",
     "text": [
      "{'name': 'pay', 'phone': '010-1234-5678', 'address': 'busan', 'array': [1, 2, 3, 4, 5]}\n"
     ]
    }
   ],
   "source": [
    "del dic['birth']\n",
    "print(dic)"
   ]
  },
  {
   "cell_type": "code",
   "execution_count": 86,
   "id": "3e2041ad-aa04-4ce3-9a14-e4ed0bc71127",
   "metadata": {},
   "outputs": [
    {
     "name": "stdout",
     "output_type": "stream",
     "text": [
      "{1: 'b'}\n"
     ]
    }
   ],
   "source": [
    "# 딕셔너리 만들 떄 주의사항\n",
    "\n",
    "a = {1:'a', 1:'b'}\n",
    "print(a)"
   ]
  },
  {
   "cell_type": "markdown",
   "id": "9e2d8426-4f7d-4c1a-9c1d-0dadf5ba17a8",
   "metadata": {},
   "source": [
    "### 딕셔너리 관련함수"
   ]
  },
  {
   "cell_type": "code",
   "execution_count": 99,
   "id": "fc26a891-77cf-4b6d-b574-40fdb3a724ee",
   "metadata": {},
   "outputs": [
    {
     "name": "stdout",
     "output_type": "stream",
     "text": [
      "dict_keys(['name', 'phone', 'birth', 'address', 'array'])\n",
      "dict_values(['pay', '010-1234-5678', '0621', 'busan', [1, 2, 3, 4, 5]])\n",
      "dict_items([('name', 'pay'), ('phone', '010-1234-5678'), ('birth', '0621'), ('address', 'busan'), ('array', [1, 2, 3, 4, 5])])\n",
      "{'name': 'pay', 'phone': '010-1234-5678', 'birth': '0621', 'address': 'busan', 'array': [1, 2, 3, 4, 5]}\n",
      "<built-in method clear of dict object at 0x000001E4C2351100>\n"
     ]
    }
   ],
   "source": [
    "a = {'name': 'pay', 'phone': '010-1234-5678', 'birth': '0621', 'address': 'busan', 'array': [1, 2, 3, 4, 5]}\n",
    "\n",
    "# key 리스트 만들기 - keys\n",
    "print(a.keys())\n",
    "# value 리스트 만들기 -value\n",
    "print(a.values())\n",
    "# key, value 쌍 얻기 - items\n",
    "print(a.items())\n",
    "# key:value 쌍 모두 지우기 - clear\n",
    "print(a)\n",
    "a = a.clear\n",
    "\n",
    "print(a)"
   ]
  },
  {
   "cell_type": "code",
   "execution_count": 92,
   "id": "79337859-c5a4-43c8-afb8-ac61cf9e6b24",
   "metadata": {},
   "outputs": [
    {
     "name": "stdout",
     "output_type": "stream",
     "text": [
      "name\n",
      "phone\n",
      "birth\n",
      "address\n",
      "array\n"
     ]
    }
   ],
   "source": [
    "for k in a.keys():\n",
    "    print(l)"
   ]
  },
  {
   "cell_type": "code",
   "execution_count": null,
   "id": "db636ab7-f566-4b42-8650-f422e260f4be",
   "metadata": {},
   "outputs": [],
   "source": [
    "a = {'name': 'pay', 'phone': '010-1234-5678', 'birth': '0621', 'address': 'busan', 'array': [1, 2, 3, 4, 5]}\n",
    "\n",
    "print(a.get('name'))\n",
    "print(a.get('super'))\n",
    "print(a['money'])"
   ]
  },
  {
   "cell_type": "code",
   "execution_count": 101,
   "id": "36dedf85-fb14-4ce6-9fa6-c5c3db8d5588",
   "metadata": {},
   "outputs": [
    {
     "name": "stdout",
     "output_type": "stream",
     "text": [
      "True\n",
      "False\n",
      "True\n"
     ]
    }
   ],
   "source": [
    "al = [11, 22, 33, 44, 55]\n",
    "at = 11, 22, 33, 44, 55\n",
    "ad = {0:11, 1:22, 2:33, 3:44, 4:55}\n",
    "\n",
    "print(22 in al) # 리스트\n",
    "print(99 in at) # 튜플\n",
    "print(1 in ad) # 딕셔너리의 키"
   ]
  },
  {
   "cell_type": "code",
   "execution_count": null,
   "id": "ec889212-174b-4826-a409-1902bebf72e7",
   "metadata": {},
   "outputs": [],
   "source": [
    "# 커밋용 주석"
   ]
  }
 ],
 "metadata": {
  "kernelspec": {
   "display_name": "Python 3 (ipykernel)",
   "language": "python",
   "name": "python3"
  },
  "language_info": {
   "codemirror_mode": {
    "name": "ipython",
    "version": 3
   },
   "file_extension": ".py",
   "mimetype": "text/x-python",
   "name": "python",
   "nbconvert_exporter": "python",
   "pygments_lexer": "ipython3",
   "version": "3.13.1"
  }
 },
 "nbformat": 4,
 "nbformat_minor": 5
}
