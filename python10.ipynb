{
 "cells": [
  {
   "cell_type": "code",
   "execution_count": null,
   "metadata": {
    "id": "SgXl48PNf1zY"
   },
   "outputs": [],
   "source": [
    "with open('./drive/MyDrive/ReadMe.md', 'w') as f:\n",
    "    data = f.write('안아줘요')\n"
   ]
  },
  {
   "cell_type": "code",
   "execution_count": null,
   "metadata": {
    "colab": {
     "base_uri": "https://localhost:8080/"
    },
    "id": "q23G5fTphRRi",
    "outputId": "21f5338d-8991-4b83-c94c-a5968e095b36"
   },
   "outputs": [
    {
     "name": "stdout",
     "output_type": "stream",
     "text": [
      "/content\n"
     ]
    }
   ],
   "source": [
    "!pwd\n"
   ]
  },
  {
   "cell_type": "markdown",
   "metadata": {
    "id": "7oJBTxJFf4Wq"
   },
   "source": [
    "# NumPy"
   ]
  },
  {
   "cell_type": "markdown",
   "metadata": {
    "id": "RsQgSnEljhSz"
   },
   "source": [
    "- ndim: 축의 개수\n",
    "- shape: 배열의 차원정보\n",
    "- size: 배열안에있는 원소의 총 개수\n",
    "- dtype: 배열 원소의 자료형"
   ]
  },
  {
   "cell_type": "markdown",
   "metadata": {
    "id": "tMXxGP9xuPKq"
   },
   "source": [
    "## 1차원과 속성들"
   ]
  },
  {
   "cell_type": "code",
   "execution_count": null,
   "metadata": {
    "colab": {
     "base_uri": "https://localhost:8080/"
    },
    "id": "GNwBlPPqh8tU",
    "outputId": "4292d752-2ab0-4487-9c35-a88f3cf1b373"
   },
   "outputs": [
    {
     "name": "stdout",
     "output_type": "stream",
     "text": [
      "[0 1 2 3 4] <class 'numpy.ndarray'>\n",
      "1\n",
      "(5,)\n",
      "5\n",
      "3\n",
      "[2 3]\n"
     ]
    }
   ],
   "source": [
    "import numpy as np\n",
    "\n",
    "narry = np.array(range(5))\n",
    "\n",
    "print(narry, type(narry))\n",
    "print(narry.ndim)\n",
    "print(narry.shape)\n",
    "print(narry.size)\n",
    "print(narry[3])\n",
    "print(narry[2:4])"
   ]
  },
  {
   "cell_type": "code",
   "execution_count": null,
   "metadata": {
    "colab": {
     "base_uri": "https://localhost:8080/"
    },
    "id": "695-qQBOi1UT",
    "outputId": "91204524-1bec-4d9c-e6ff-bc6ec42e30ce"
   },
   "outputs": [
    {
     "name": "stdout",
     "output_type": "stream",
     "text": [
      "[1 2 3 4] int64\n",
      "['1' '2' 'a' 'b'] <U21\n",
      "['1' '2' '3' '4'] <U1\n"
     ]
    }
   ],
   "source": [
    "narr1 = np.array([1, 2, 3, 4])\n",
    "narr2 = np.array([1, 2, 'a' ,'b'])\n",
    "narr3 = np.array([1, 2, 3, 4], dtype='str')\n",
    "\n",
    "print(narr1, narr1.dtype)\n",
    "print(narr2, narr2.dtype)\n",
    "print(narr3, narr3.dtype)"
   ]
  },
  {
   "cell_type": "code",
   "execution_count": 66,
   "metadata": {
    "colab": {
     "base_uri": "https://localhost:8080/"
    },
    "id": "yQWrlkHHp8MC",
    "outputId": "c2c71e7d-85fc-4e6f-fee4-a51e38773590"
   },
   "outputs": [
    {
     "name": "stdout",
     "output_type": "stream",
     "text": [
      "[0 0 0 0 0 0 0 0 0 0] 1 int64 (10,) 10 <class 'numpy.ndarray'> \n",
      "\n",
      "[[3 3 3]\n",
      " [3 3 3]\n",
      " [3 3 3]] 2 int64 (3, 3) 9 <class 'numpy.ndarray'> \n",
      "\n",
      "[[1. 1.]\n",
      " [1. 1.]] 2 float64 (2, 2) 4 <class 'numpy.ndarray'> \n",
      "\n",
      "[['number' 'number' 'number']\n",
      " ['number' 'number' 'number']\n",
      " ['number' 'number' 'number']] 2 <U6 (3, 3) 9 <class 'numpy.ndarray'> \n",
      "\n",
      "[[1. 0. 0.]\n",
      " [0. 1. 0.]\n",
      " [0. 0. 1.]] 2 float64 (3, 3) 9 <class 'numpy.ndarray'> \n",
      "\n",
      "[ 0 20 40 60 80] 1 int64 (5,) 5 <class 'numpy.ndarray'> \n",
      "\n",
      "[ 0 20 40 60 80] 1 int64 (5,) 5 <class 'numpy.ndarray'> \n",
      "\n"
     ]
    }
   ],
   "source": [
    "narr4 = np.zeros(10, dtype='int64')\n",
    "narr5 = np.full((3, 3), 3)\n",
    "narr6 = np.ones((2, 2))\n",
    "narr7 = np.full((3, 3), 'number')\n",
    "narr8 = np.eye(3)\n",
    "narr9 = np.linspace(0, 100, 5, endpoint=False, dtype='int64')\n",
    "narr10 = np.arange(0, 100, 20)\n",
    "\n",
    "\n",
    "print(narr4, narr4.ndim, narr4.dtype, narr4.shape, narr4.size, type(narr4), '\\n')\n",
    "print(narr5, narr5.ndim, narr5.dtype, narr5.shape, narr5.size, type(narr5), '\\n')\n",
    "print(narr6, narr6.ndim, narr6.dtype, narr6.shape, narr6.size, type(narr6), '\\n')\n",
    "print(narr7, narr7.ndim, narr7.dtype, narr7.shape, narr7.size, type(narr7), '\\n')\n",
    "print(narr8, narr8.ndim, narr8.dtype, narr8.shape, narr8.size, type(narr8), '\\n')\n",
    "print(narr9, narr9.ndim, narr9.dtype, narr9.shape, narr9.size, type(narr9), '\\n')\n",
    "print(narr10, narr10.ndim, narr10.dtype, narr10.shape, narr10.size, type(narr10), '\\n')"
   ]
  },
  {
   "cell_type": "markdown",
   "metadata": {
    "id": "qF8OBNrCuSgR"
   },
   "source": [
    "## 2차원 배열"
   ]
  },
  {
   "cell_type": "code",
   "execution_count": null,
   "metadata": {
    "colab": {
     "base_uri": "https://localhost:8080/"
    },
    "id": "Onk6Ae2hvnRK",
    "outputId": "a2a28adc-3a3b-4cb4-ea06-014ed4431f8f"
   },
   "outputs": [
    {
     "name": "stdout",
     "output_type": "stream",
     "text": [
      "[2, 3, 4, 5, 6, 7, 8, 9]\n",
      "[2 3 4 5 6 7 8 9]\n"
     ]
    },
    {
     "data": {
      "text/plain": [
       "array([0, 1, 2, 3, 4, 5, 6, 7, 8, 9])"
      ]
     },
     "execution_count": 31,
     "metadata": {},
     "output_type": "execute_result"
    }
   ],
   "source": [
    "print(list(range(2, 10)))\n",
    "print(np.arange(2, 10))\n",
    "range(10)\n",
    "np.arange(10)\n"
   ]
  },
  {
   "cell_type": "code",
   "execution_count": null,
   "metadata": {
    "colab": {
     "base_uri": "https://localhost:8080/"
    },
    "id": "yLKxvm-emct0",
    "outputId": "3eba1ac4-9b04-4b3f-9ce7-07733d6fe7e1"
   },
   "outputs": [
    {
     "name": "stdout",
     "output_type": "stream",
     "text": [
      "[[0 0]\n",
      " [0 0]] int64 (2, 2) 4 <class 'numpy.ndarray'>\n"
     ]
    }
   ],
   "source": [
    "arr1 = np.array([[0, 0],[0, 0]])\n",
    "print(arr1, arr1.dtype, arr1.shape, arr1.size, type(arr1))"
   ]
  },
  {
   "cell_type": "code",
   "execution_count": null,
   "metadata": {
    "colab": {
     "base_uri": "https://localhost:8080/"
    },
    "id": "QQtl1BGQpt0l",
    "outputId": "0fed8de8-271a-4854-e6fd-a9b9d8afe920"
   },
   "outputs": [
    {
     "name": "stdout",
     "output_type": "stream",
     "text": [
      "차원 2 / 데이터타입 int64 / 형태 (3, 3) / 크기 9 <class 'numpy.ndarray'> \n",
      " [[1 2 3]\n",
      " [4 5 6]\n",
      " [7 8 9]] \n",
      "\n",
      "차원 2 / 데이터타입 int64 / 형태 (3, 3) / 크기 9 <class 'numpy.ndarray'> \n",
      " [[1 2 3]\n",
      " [4 5 6]\n",
      " [7 8 9]] \n",
      "\n",
      "차원 2 / 데이터타입 int64 / 형태 (2, 5) / 크기 10 <class 'numpy.ndarray'> \n",
      " [[ 1  2  3  4  5]\n",
      " [ 6  7  8  9 10]] \n",
      "\n",
      "차원 2 / 데이터타입 int64 / 형태 (5, 2) / 크기 10 <class 'numpy.ndarray'> \n",
      " [[ 1  2]\n",
      " [ 3  4]\n",
      " [ 5  6]\n",
      " [ 7  8]\n",
      " [ 9 10]] \n",
      "\n",
      "차원 3 / 데이터타입 int64 / 형태 (3, 3, 3) / 크기 27 <class 'numpy.ndarray'> \n",
      " [[[ 1  2  3]\n",
      "  [ 4  5  6]\n",
      "  [ 7  8  9]]\n",
      "\n",
      " [[10 11 12]\n",
      "  [13 14 15]\n",
      "  [16 17 18]]\n",
      "\n",
      " [[19 20 21]\n",
      "  [22 23 24]\n",
      "  [25 26 27]]] \n",
      "\n"
     ]
    }
   ],
   "source": [
    "arr2 = np.array([1, 2, 3, 4, 5, 6, 7, 8, 9]).reshape(3, 3)\n",
    "arr3 = np.arange(1, 10).reshape(3, 3)\n",
    "arr4 = np.arange(1, 11).reshape(2, 5)\n",
    "arr5 = np.arange(1, 11).reshape(5, 2)\n",
    "arr6 = np.arange(1, 28).reshape(3, 3, 3)\n",
    "\n",
    "print('차원', arr2.ndim, '/ 데이터타입', arr2.dtype, '/ 형태', arr2.shape, '/ 크기', arr2.size, type(arr2), '\\n', arr2, '\\n')\n",
    "print('차원', arr3.ndim, '/ 데이터타입', arr3.dtype, '/ 형태', arr3.shape, '/ 크기', arr3.size, type(arr3), '\\n', arr3, '\\n')\n",
    "print('차원', arr4.ndim, '/ 데이터타입', arr4.dtype, '/ 형태', arr4.shape, '/ 크기', arr4.size, type(arr4), '\\n', arr4, '\\n')\n",
    "print('차원', arr5.ndim, '/ 데이터타입', arr5.dtype, '/ 형태', arr5.shape, '/ 크기', arr5.size, type(arr5), '\\n', arr5, '\\n')\n",
    "print('차원', arr6.ndim, '/ 데이터타입', arr6.dtype, '/ 형태', arr6.shape, '/ 크기', arr6.size, type(arr6), '\\n', arr6, '\\n')"
   ]
  },
  {
   "cell_type": "code",
   "execution_count": null,
   "metadata": {
    "id": "u3y3XnTd4KnS"
   },
   "outputs": [],
   "source": []
  },
  {
   "cell_type": "code",
   "execution_count": 78,
   "metadata": {
    "colab": {
     "base_uri": "https://localhost:8080/"
    },
    "id": "ENzeAxt2vfAT",
    "outputId": "832ecda5-e13e-4aaa-db16-3dbac9a02684"
   },
   "outputs": [
    {
     "name": "stdout",
     "output_type": "stream",
     "text": [
      "[[ 1  2  3  4  5  6  7]\n",
      " [ 8  9 10 11 12 13 14]\n",
      " [15 16 17 18 19 20 21]] \n",
      "==============================\n",
      "[[1]\n",
      " [2]\n",
      " [3]\n",
      " [4]\n",
      " [5]\n",
      " [6]\n",
      " [7]] \n",
      "==============================\n",
      "[[ 1  2]\n",
      " [ 3  4]\n",
      " [ 5  6]\n",
      " [ 7  8]\n",
      " [ 9 10]] \n",
      "==============================\n",
      "[[ 1  2  3  4  5  6  7]\n",
      " [ 8  9 10 11 12 13 14]\n",
      " [15 16 17 18 19 20 21]] \n",
      "==============================\n",
      "[[[ 1]\n",
      "  [ 2]\n",
      "  [ 3]]\n",
      "\n",
      " [[ 4]\n",
      "  [ 5]\n",
      "  [ 6]]\n",
      "\n",
      " [[ 7]\n",
      "  [ 8]\n",
      "  [ 9]]\n",
      "\n",
      " [[10]\n",
      "  [11]\n",
      "  [12]]] \n",
      "==============================\n"
     ]
    }
   ],
   "source": [
    "ar1 = np.arange(1, 22).reshape(3, 7)\n",
    "ar2 = np.arange(1, 8).reshape(7, 1)\n",
    "ar3 = np.arange(1, 11).reshape(5, 2)\n",
    "ar4 = np.arange(1, 22).reshape(3, 7)\n",
    "ar5 = np.arange(1, 13).reshape(4, 3, 1)\n",
    "\n",
    "\n",
    "\n",
    "print(ar1, '\\n==============================')\n",
    "print(ar2, '\\n==============================')\n",
    "print(ar3, '\\n==============================')\n",
    "print(ar4, '\\n==============================')\n",
    "print(ar5, '\\n==============================')\n"
   ]
  },
  {
   "cell_type": "code",
   "execution_count": 68,
   "metadata": {
    "colab": {
     "base_uri": "https://localhost:8080/"
    },
    "id": "M-Xr9cry25WU",
    "outputId": "addfab96-ae16-4d27-ed9d-0fa08ece1a8a"
   },
   "outputs": [
    {
     "data": {
      "text/plain": [
       "array([10, 11, 12])"
      ]
     },
     "execution_count": 68,
     "metadata": {},
     "output_type": "execute_result"
    }
   ],
   "source": [
    "ar1[1][2:5]"
   ]
  },
  {
   "cell_type": "code",
   "execution_count": 88,
   "metadata": {
    "colab": {
     "base_uri": "https://localhost:8080/"
    },
    "id": "v4He49Os-vsD",
    "outputId": "8cc23a00-f78f-4400-9b67-854a18f3e5a2"
   },
   "outputs": [
    {
     "data": {
      "text/plain": [
       "array([[ 4,  5,  6,  7],\n",
       "       [11, 12, 13, 14],\n",
       "       [18, 19, 20, 21]])"
      ]
     },
     "execution_count": 88,
     "metadata": {},
     "output_type": "execute_result"
    }
   ],
   "source": [
    "ar4[0:3, 3:7]"
   ]
  },
  {
   "cell_type": "code",
   "execution_count": 89,
   "metadata": {
    "colab": {
     "base_uri": "https://localhost:8080/"
    },
    "id": "IOy9ni2Q_KQh",
    "outputId": "324f6293-777d-4523-d181-97f48d00982c"
   },
   "outputs": [
    {
     "data": {
      "text/plain": [
       "array([[12, 13],\n",
       "       [19, 20]])"
      ]
     },
     "execution_count": 89,
     "metadata": {},
     "output_type": "execute_result"
    }
   ],
   "source": [
    "ar4[1:3, 4:6]"
   ]
  },
  {
   "cell_type": "code",
   "execution_count": 92,
   "metadata": {
    "colab": {
     "base_uri": "https://localhost:8080/"
    },
    "id": "s1v_u6KlBsDU",
    "outputId": "eda4838e-8ec4-425d-dc16-7464fdc17ad0"
   },
   "outputs": [
    {
     "data": {
      "text/plain": [
       "array([13, 14, 15, 16, 17, 18, 19, 20, 21])"
      ]
     },
     "execution_count": 92,
     "metadata": {},
     "output_type": "execute_result"
    }
   ],
   "source": [
    "ar4[ar4 > 12]"
   ]
  },
  {
   "cell_type": "code",
   "execution_count": 94,
   "metadata": {
    "colab": {
     "base_uri": "https://localhost:8080/"
    },
    "id": "3mF3uSNfEpOj",
    "outputId": "fb832151-fb87-454f-97cd-7491da4ec3be"
   },
   "outputs": [
    {
     "data": {
      "text/plain": [
       "[array([[False, False, False, False, False, False, False],\n",
       "        [False, False, False, False, False,  True,  True],\n",
       "        [ True,  True,  True,  True,  True,  True,  True]])]"
      ]
     },
     "execution_count": 94,
     "metadata": {},
     "output_type": "execute_result"
    }
   ],
   "source": [
    "[ar4 > 12]"
   ]
  },
  {
   "cell_type": "code",
   "execution_count": 95,
   "metadata": {
    "colab": {
     "base_uri": "https://localhost:8080/"
    },
    "id": "P-2aPY4qEz9j",
    "outputId": "e3a66ae3-c482-45a1-ab96-841f32989e81"
   },
   "outputs": [
    {
     "data": {
      "text/plain": [
       "array([ 2,  4,  6,  8, 10, 12, 14, 16, 18, 20])"
      ]
     },
     "execution_count": 95,
     "metadata": {},
     "output_type": "execute_result"
    }
   ],
   "source": [
    "ar4[ar4 % 2 == 0 ]"
   ]
  },
  {
   "cell_type": "code",
   "execution_count": 96,
   "metadata": {
    "colab": {
     "base_uri": "https://localhost:8080/"
    },
    "id": "mn_OxFs_FHYE",
    "outputId": "d6a20c46-e41a-4673-f876-d2b2e1a0256e"
   },
   "outputs": [
    {
     "data": {
      "text/plain": [
       "array([[False,  True, False,  True, False,  True, False],\n",
       "       [ True, False,  True, False,  True, False,  True],\n",
       "       [False,  True, False,  True, False,  True, False]])"
      ]
     },
     "execution_count": 96,
     "metadata": {},
     "output_type": "execute_result"
    }
   ],
   "source": [
    "ar4 % 2 == 0"
   ]
  },
  {
   "cell_type": "code",
   "execution_count": 98,
   "metadata": {
    "colab": {
     "base_uri": "https://localhost:8080/"
    },
    "id": "6AhxWm-1FLZz",
    "outputId": "d889fbf1-2925-4645-bc59-58eab608d537"
   },
   "outputs": [
    {
     "name": "stdout",
     "output_type": "stream",
     "text": [
      "덧셈 [ 7  9 11 13 15]\n",
      "뺄셈 [5 5 5 5 5]\n",
      "곱셈 [ 6 14 24 36 50]\n",
      "나눗셈 [6.         3.5        2.66666667 2.25       2.        ]\n"
     ]
    }
   ],
   "source": [
    "# np 배열 연산 // shape가 같을 경우 원소별 연산이 가능\n",
    "\n",
    "np1 = np.array([1,2,3,4,5])\n",
    "np2 = np.array([6,7,8,9,10])\n",
    "\n",
    "print(\"덧셈\", np1 + np2)\n",
    "print(\"뺄셈\", np2 - np1)\n",
    "print(\"곱셈\", np1 * np2)\n",
    "print(\"나눗셈\", np2 / np1)"
   ]
  },
  {
   "cell_type": "code",
   "execution_count": 99,
   "metadata": {
    "colab": {
     "base_uri": "https://localhost:8080/"
    },
    "id": "Fy4zX743GdJS",
    "outputId": "7ac6b8a6-650c-4212-fd4f-2d8626918ada"
   },
   "outputs": [
    {
     "name": "stdout",
     "output_type": "stream",
     "text": [
      "[11 12 13 14 15]\n"
     ]
    }
   ],
   "source": [
    "# 브로드캐스팅\n",
    "\n",
    "np3 = np1 + 10\n",
    "\n",
    "print(np3)"
   ]
  },
  {
   "cell_type": "code",
   "execution_count": 116,
   "metadata": {
    "colab": {
     "base_uri": "https://localhost:8080/"
    },
    "id": "FhITp-KoHHMC",
    "outputId": "3bfc9fab-a769-4cb2-f0e0-88870db9a7bc"
   },
   "outputs": [
    {
     "name": "stdout",
     "output_type": "stream",
     "text": [
      "======스칼라와 연산=======\n",
      "\n",
      "[[1 2 3]\n",
      " [4 5 6]\n",
      " [7 8 9]] \n",
      "\n",
      "[[ 4  5  6]\n",
      " [ 7  8  9]\n",
      " [10 11 12]] \n",
      "\n",
      "[[ 3  4  5]\n",
      " [ 6  7  8]\n",
      " [ 9 10 11]] \n",
      "\n",
      "=====2D와 1D의 연산=====\n",
      "\n",
      "[[12 13 14]\n",
      " [26 27 28]\n",
      " [40 41 42]] \n",
      "\n",
      "[[ 11  22  33]\n",
      " [ 88 110 132]\n",
      " [231 264 297]] \n",
      "\n"
     ]
    }
   ],
   "source": [
    "br1 = np.arange(1, 10).reshape(3, 3)\n",
    "br2 = np.array([11,22, 33]) #.reshape(3,1)\n",
    "\n",
    "# 스칼라와 연산\n",
    "print(f'{\"스칼라와 연산\":=^20}\\n')\n",
    "print(br1, '\\n')\n",
    "print(br1+3, '\\n')\n",
    "print(br1+2, '\\n')\n",
    "\n",
    "# 2D와 1D의 연산\n",
    "print(f'{\"2D와 1D의 연산\":=^20}\\n')\n",
    "print(br1 + br2, '\\n')\n",
    "print(br1 * br2, '\\n')"
   ]
  },
  {
   "cell_type": "code",
   "execution_count": 120,
   "metadata": {
    "colab": {
     "base_uri": "https://localhost:8080/"
    },
    "id": "FZPdW8yNHouD",
    "outputId": "d0edc770-d6d9-47bf-c723-0a94713f9ee3"
   },
   "outputs": [
    {
     "name": "stdout",
     "output_type": "stream",
     "text": [
      "[[1 2 3]\n",
      " [4 5 6]\n",
      " [7 8 9]] \n",
      "\n",
      "[1 2 3 4 5 6 7 8 9] \n",
      "\n",
      "[1 2 3 4 5 6 7 8 9] \n",
      "\n"
     ]
    }
   ],
   "source": [
    "ff = np.arange(1, 10).reshape(3, 3)\n",
    "\n",
    "print(ff, '\\n')\n",
    "print(ff.reshape(9), '\\n')\n",
    "print(ff.flatten(), '\\n')"
   ]
  },
  {
   "cell_type": "code",
   "execution_count": null,
   "metadata": {
    "id": "_X5b0OgcJt1j"
   },
   "outputs": [],
   "source": []
  }
 ],
 "metadata": {
  "colab": {
   "provenance": [],
   "toc_visible": true
  },
  "kernelspec": {
   "display_name": "Python 3 (ipykernel)",
   "language": "python",
   "name": "python3"
  },
  "language_info": {
   "codemirror_mode": {
    "name": "ipython",
    "version": 3
   },
   "file_extension": ".py",
   "mimetype": "text/x-python",
   "name": "python",
   "nbconvert_exporter": "python",
   "pygments_lexer": "ipython3",
   "version": "3.13.1"
  }
 },
 "nbformat": 4,
 "nbformat_minor": 4
}
