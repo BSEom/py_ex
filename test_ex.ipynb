{
 "cells": [
  {
   "cell_type": "code",
   "execution_count": 13,
   "id": "8e30845a-a95e-4a15-9e2f-dfc510cdda6a",
   "metadata": {},
   "outputs": [
    {
     "name": "stdin",
     "output_type": "stream",
     "text": [
      "단어를 입력해 주세요. 파이썬\n"
     ]
    },
    {
     "name": "stdout",
     "output_type": "stream",
     "text": [
      "\n",
      "입력된 단어: 파이썬\n",
      "거꾸로 바꾼 단어: 썬이파\n",
      "\n",
      "거꾸로 하면 달라요..\n"
     ]
    }
   ],
   "source": [
    "\n",
    "# q_01\n",
    "\n",
    "text = list(input(\"단어를 입력해 주세요.\"))\n",
    "\n",
    "print(f'\\n입력된 단어: {''.join(text)}')\n",
    "\n",
    "temp = text.copy()\n",
    "\n",
    "r_text = []\n",
    "\n",
    "for i in range(len(text)):\n",
    "    r_text.append(temp.pop())\n",
    "\n",
    "print(f'거꾸로 바꾼 단어: {''.join(r_text)}\\n')\n",
    "\n",
    "if text == r_text:\n",
    "    print('거꾸로 해도 똑같아요!')\n",
    "else:\n",
    "    print('거꾸로 하면 달라요..')\n",
    "\n",
    "\n",
    "# ======================================================"
   ]
  },
  {
   "cell_type": "code",
   "execution_count": 38,
   "id": "6306b0f8-7fc5-46dc-ab79-6ab956f41812",
   "metadata": {},
   "outputs": [
    {
     "name": "stdin",
     "output_type": "stream",
     "text": [
      "(공백으로 구분) 리스트를 입력하세요.: 1 2 3 4 5\n"
     ]
    },
    {
     "name": "stdout",
     "output_type": "stream",
     "text": [
      "홀수: ['1', '3', '5']\n",
      "짝수: ['2', '4']\n",
      "\n"
     ]
    }
   ],
   "source": [
    "# q_02\n",
    "\n",
    "input_ls = input(\"(공백으로 구분) 리스트를 입력하세요. :\")\n",
    "input_list = input_ls.split(' ')\n",
    "\n",
    "even_list = []\n",
    "odd_list = []\n",
    "\n",
    "for n in range(len(input_list)):\n",
    "    \n",
    "    if int(input_list[n]) % 2 == 0:\n",
    "        even_list.append(input_list[n])\n",
    "    else:\n",
    "        odd_list.append(input_list[n])\n",
    "\n",
    "print(f'홀수: {odd_list}\\n짝수: {even_list}\\n')\n",
    "\n",
    "# ======================================================"
   ]
  },
  {
   "cell_type": "code",
   "execution_count": null,
   "id": "57152e3b-1282-4a69-ad6e-948e1ec35ec9",
   "metadata": {},
   "outputs": [],
   "source": []
  },
  {
   "cell_type": "code",
   "execution_count": 32,
   "id": "099e635b-6196-49c0-b6dd-c53a748dfdae",
   "metadata": {},
   "outputs": [
    {
     "name": "stdin",
     "output_type": "stream",
     "text": [
      "문장을 입력하세요. i am abc hahahah \n"
     ]
    },
    {
     "name": "stdout",
     "output_type": "stream",
     "text": [
      "길이가 가장 큰 단어: hahahah "
     ]
    }
   ],
   "source": [
    "# q_03\n",
    "\n",
    "input_str = input(\"문장을 입력하세요.\")\n",
    "\n",
    "str_li = input_str.split(' ')\n",
    "\n",
    "max_len = ''\n",
    "\n",
    "for x in str_li:\n",
    "    if len(max_len) < len(x):\n",
    "        max_len = x\n",
    "\n",
    "print('\\n길이가 가장 큰 단어:', end=' ') \n",
    "print(max_len, end=' ')\n",
    "\n",
    "for x in str_li:\n",
    "    if len(max_len) == len(x):\n",
    "        if max_len != x:\n",
    "            print(x, end=' ')\n",
    "\n",
    "\n",
    "\n",
    "\n",
    "    \n",
    "\n",
    "\n"
   ]
  },
  {
   "cell_type": "code",
   "execution_count": 6,
   "id": "e4a01fd0-6449-43c5-8625-04e9900de465",
   "metadata": {},
   "outputs": [
    {
     "name": "stdin",
     "output_type": "stream",
     "text": [
      "당신의 기분을 한 문장으로 표현해주세요 :  기분이좋아 행복해 별로\n"
     ]
    },
    {
     "name": "stdout",
     "output_type": "stream",
     "text": [
      "1\n",
      "2\n",
      "2\n",
      "2\n",
      "2\n",
      "0\n",
      "0\n",
      "0\n",
      "1\n",
      "1\n",
      "기분이 좋아보이네요\n"
     ]
    }
   ],
   "source": [
    "# q_04\n",
    "\n",
    "positive_words = [\"좋아\", \"행복\", \"멋져\", \"최고\", \"사랑해\"]\n",
    "negative_words = [\"싫어\", \"화나\", \"짜증\", \"별로\", \"나빠\"]\n",
    "\n",
    "input_string = input(\"당신의 기분을 한 문장으로 표현해주세요 : \")\n",
    "\n",
    "positive_count = 0\n",
    "negative_count = 0\n",
    "\n",
    "\n",
    "for a in positive_words:\n",
    "    if input_string.count(a) != -1:\n",
    "        positive_count += input_string.count(a)\n",
    "        print(positive_count)\n",
    "\n",
    "for b in negative_words:\n",
    "    if input_string.count(b) != -1:\n",
    "        negative_count += input_string.count(b)\n",
    "        print(negative_count)\n",
    "        \n",
    "if positive_count == negative_count:\n",
    "    print(\"평범한 하루네요.\")\n",
    "elif positive_count > negative_count:\n",
    "    print(\"기분이 좋아보이네요\")\n",
    "elif positive_count < negative_count:\n",
    "    print(\"기분이 나빠보이네요\")\n",
    "\n"
   ]
  },
  {
   "cell_type": "code",
   "execution_count": null,
   "id": "90b4b0f0-48ee-4008-ba13-079801ae738e",
   "metadata": {},
   "outputs": [],
   "source": [
    "pos = [v for v in positive_words if v in input_string]\n",
    "print(pos, len(pos))\n",
    "\n",
    "neg = [v for v in negative_words if v in input_string]\n",
    "print(neg, len(neg))"
   ]
  },
  {
   "cell_type": "code",
   "execution_count": 11,
   "id": "8b8f149f-2996-4a94-90aa-d68b69ed8573",
   "metadata": {},
   "outputs": [
    {
     "name": "stdin",
     "output_type": "stream",
     "text": [
      "당신의 기분을 한 문장으로 표현해주세요 :  사람이 짜증나게 하지만 멋지고 좋고 싫지만 최고다\n"
     ]
    },
    {
     "name": "stdout",
     "output_type": "stream",
     "text": [
      "['사람', '이', '짜증나다', '하지만', '멋지다', '좋다', '싫다', '최고다']\n",
      "기분이 좋아보이네요\n"
     ]
    }
   ],
   "source": [
    "from konlpy.tag import Okt\n",
    "\n",
    "# 한글 형태소 분석기\n",
    "okt = Okt()\n",
    "\n",
    "positive_words = [\"좋다\", \"행복\", \"멋지다\", \"최고\", \"사랑\"]\n",
    "negative_words = [\"싫다\", \"화나다\", \"짜증\", \"별로\", \"나쁘다\"]\n",
    "\n",
    "input_string = input(\"당신의 기분을 한 문장으로 표현해주세요 : \")\n",
    "\n",
    "positive_count = 0\n",
    "negative_count = 0\n",
    "\n",
    "\n",
    "words = okt.morphs(input_string, stem=True)\n",
    "\n",
    "print(words)\n",
    "\n",
    "for a in positive_words:\n",
    "    if words.count(a) != -1:\n",
    "        positive_count += words.count(a)\n",
    "\n",
    "for b in negative_words:\n",
    "    if words.count(b) != -1:\n",
    "        negative_count += words.count(b)\n",
    "\n",
    "        \n",
    "if positive_count == negative_count:\n",
    "    print(\"평범한 하루네요.\")\n",
    "elif positive_count > negative_count:\n",
    "    print(\"기분이 좋아보이네요\")\n",
    "elif positive_count < negative_count:\n",
    "    print(\"기분이 나빠보이네요\")\n",
    "\n"
   ]
  },
  {
   "cell_type": "code",
   "execution_count": 17,
   "id": "b1e18dd0-f987-430a-9aeb-0cebc9dfd9fe",
   "metadata": {},
   "outputs": [
    {
     "name": "stdout",
     "output_type": "stream",
     "text": [
      "Collecting konlpy\n",
      "  Downloading konlpy-0.6.0-py2.py3-none-any.whl.metadata (1.9 kB)\n",
      "Collecting JPype1>=0.7.0 (from konlpy)\n",
      "  Downloading jpype1-1.5.2-cp313-cp313-win_amd64.whl.metadata (5.0 kB)\n",
      "Collecting lxml>=4.1.0 (from konlpy)\n",
      "  Downloading lxml-5.3.1-cp313-cp313-win_amd64.whl.metadata (3.8 kB)\n",
      "Requirement already satisfied: numpy>=1.6 in c:\\users\\admin\\appdata\\local\\programs\\python\\python313\\lib\\site-packages (from konlpy) (2.2.2)\n",
      "Requirement already satisfied: packaging in c:\\users\\admin\\appdata\\local\\programs\\python\\python313\\lib\\site-packages (from JPype1>=0.7.0->konlpy) (24.2)\n",
      "Downloading konlpy-0.6.0-py2.py3-none-any.whl (19.4 MB)\n",
      "   ---------------------------------------- 0.0/19.4 MB ? eta -:--:--\n",
      "   -------------------------- ------------- 12.8/19.4 MB 68.8 MB/s eta 0:00:01\n",
      "   ---------------------------------------- 19.4/19.4 MB 58.5 MB/s eta 0:00:00\n",
      "Downloading jpype1-1.5.2-cp313-cp313-win_amd64.whl (356 kB)\n",
      "Downloading lxml-5.3.1-cp313-cp313-win_amd64.whl (3.8 MB)\n",
      "   ---------------------------------------- 0.0/3.8 MB ? eta -:--:--\n",
      "   ---------------------------------------- 3.8/3.8 MB 72.5 MB/s eta 0:00:00\n",
      "Installing collected packages: lxml, JPype1, konlpy\n",
      "Successfully installed JPype1-1.5.2 konlpy-0.6.0 lxml-5.3.1\n"
     ]
    }
   ],
   "source": [
    "# !pip install konlpy"
   ]
  },
  {
   "cell_type": "code",
   "execution_count": 69,
   "id": "2812a360-75cc-4b7d-8d2b-999a01170640",
   "metadata": {},
   "outputs": [
    {
     "name": "stdin",
     "output_type": "stream",
     "text": [
      "문장을 입력하세요. today is a really happy day\n"
     ]
    },
    {
     "name": "stdout",
     "output_type": "stream",
     "text": [
      "Today Is A Really Happy Day.\n"
     ]
    }
   ],
   "source": [
    "# q_05\n",
    " \n",
    "input_str = input(\"문장을 입력하세요.\")\n",
    "\n",
    "str_li = input_str.split(' ')\n",
    "\n",
    "for y in range(len(str_li)):\n",
    "    temp_1 = str_li[y][0]\n",
    "    temp_2 = str_li[y][0].upper()\n",
    "    str_li[y] = str_li[y].replace(temp_1, temp_2)\n",
    "\n",
    "result = ' '.join(str_li)\n",
    "result = result+'.'\n",
    "\n",
    "print(result)\n"
   ]
  },
  {
   "cell_type": "code",
   "execution_count": 74,
   "id": "af7f218f-092d-43d9-b3ad-278f5d49e590",
   "metadata": {},
   "outputs": [
    {
     "name": "stdin",
     "output_type": "stream",
     "text": [
      "문장을 입력하세요. today is a really happy day\n"
     ]
    },
    {
     "name": "stdout",
     "output_type": "stream",
     "text": [
      "Today\n",
      "Is\n",
      "A\n",
      "Really\n",
      "Happy\n",
      "Day\n",
      "Today Is A Really Happy Day.\n"
     ]
    }
   ],
   "source": [
    "\n",
    "input_str = input(\"문장을 입력하세요.\")\n",
    "str_li = input_str.split(' ')\n",
    "\n",
    "temp_3 = []\n",
    "\n",
    "for y in str_li:\n",
    "    temp_1 = y[0]\n",
    "    temp_2 = y[0].upper()\n",
    "    \n",
    "    y = y.replace(temp_1, temp_2)\n",
    "    temp_3.append(y)\n",
    "    \n",
    "result = ' '.join(temp_3)\n",
    "result = result+'.'\n",
    "\n",
    "print(result)"
   ]
  },
  {
   "cell_type": "code",
   "execution_count": null,
   "id": "71368a0c-9bf9-431f-8b76-eec1d6535624",
   "metadata": {},
   "outputs": [],
   "source": []
  },
  {
   "cell_type": "code",
   "execution_count": 126,
   "id": "ae7294a3-ea90-4a35-abc5-c680edb3b085",
   "metadata": {},
   "outputs": [
    {
     "name": "stdout",
     "output_type": "stream",
     "text": [
      "1위 - 캡틴 아메리카: 브레이브 뉴 월드\n",
      "2위 - 히트맨2\n",
      "3위 - 말할 수 없는 비밀\n",
      "4위 - 검은 수녀들\n",
      "5위 - 서브스턴스\n",
      "6위 - 브루탈리스트\n",
      "7위 - 브로큰\n",
      "8위 - 더 폴: 디렉터스 컷\n",
      "9위 - 미드나잇 인 파리\n",
      "10위 - 500일의 썸머\n"
     ]
    }
   ],
   "source": [
    "import os\n",
    "import sys\n",
    "import requests as req\n",
    "from dotenv import load_dotenv\n",
    "import json\n",
    "\n",
    "def serch_movie(args):\n",
    "    \n",
    "    load_dotenv()\n",
    "\n",
    "    serch_date = args[0]\n",
    "\n",
    "    \n",
    "    MOVIE_KEY = os.getenv(\"MOVIE_KEY\")\n",
    "    key = MOVIE_KEY\n",
    "\n",
    "    \n",
    "    url = \"http://kobis.or.kr/kobisopenapi/webservice/rest/boxoffice/searchDailyBoxOfficeList.json?key=\" + key + \"&targetDt=\" + serch_date    # JSON 결과\n",
    "    web = req.get(url)\n",
    "    html = web.json()\n",
    "    data = html['boxOfficeResult']['dailyBoxOfficeList']\n",
    "\n",
    "    for x in data:\n",
    "        print(f'{x['rank']}위 - {x['movieNm']}')\n",
    "        # print(x['movieNm'])\n",
    "\n",
    "if __name__ == \"__main__\":\n",
    "    arg = sys.argv[1:]\n",
    "    serch_movie(arg)\n"
   ]
  },
  {
   "cell_type": "code",
   "execution_count": 109,
   "id": "d332f657-6e76-429e-8a47-6de20168302d",
   "metadata": {},
   "outputs": [
    {
     "name": "stdout",
     "output_type": "stream",
     "text": [
      "<class 'str'>\n",
      "{\"boxOfficeResult\":{\"boxofficeType\":\"일별 박스오피스\",\"showRange\":\"20250211~20250211\",\"dailyBoxOfficeList\":[{\"rnum\":\"1\",\"rank\":\"1\",\"rankInten\":\"0\",\"rankOldAndNew\":\"OLD\",\"movieCd\":\"20233006\",\"movieNm\":\"히트맨2\",\"openDt\":\"2025-01-22\",\"salesAmt\":\"207060900\",\"salesShare\":\"25.5\",\"salesInten\":\"-30660800\",\"salesChange\":\"-12.9\",\"salesAcc\":\"22256779740\",\"audiCnt\":\"22375\",\"audiInten\":\"-3197\",\"audiChange\":\"-12.5\",\"audiAcc\":\"2364038\",\"scrnCnt\":\"1014\",\"showCnt\":\"3312\"},{\"rnum\":\"2\",\"rank\":\"2\",\"rankInten\":\"0\",\"rankOldAndNew\":\"OLD\",\"movieCd\":\"20223819\",\"movieNm\":\"말할 수 없는 비밀\",\"openDt\":\"2025-01-27\",\"salesAmt\":\"154547300\",\"salesShare\":\"19.1\",\"salesInten\":\"-8904900\",\"salesChange\":\"-5.4\",\"salesAcc\":\"5800452640\",\"audiCnt\":\"16797\",\"audiInten\":\"-892\",\"audiChange\":\"-5\",\"audiAcc\":\"608968\",\"scrnCnt\":\"854\",\"showCnt\":\"2711\"},{\"rnum\":\"3\",\"rank\":\"3\",\"rankInten\":\"0\",\"rankOldAndNew\":\"OLD\",\"movieCd\":\"20247450\",\"movieNm\":\"검은 수녀들\",\"openDt\":\"2025-01-24\",\"salesAmt\":\"92701400\",\"salesShare\":\"11.4\",\"salesInten\":\"-7662580\",\"salesChange\":\"-7.6\",\"salesAcc\":\"15664471260\",\"audiCnt\":\"9654\",\"audiInten\":\"-735\",\"audiChange\":\"-7.1\",\"audiAcc\":\"1620351\",\"scrnCnt\":\"732\",\"showCnt\":\"1904\"},{\"rnum\":\"4\",\"rank\":\"4\",\"rankInten\":\"0\",\"rankOldAndNew\":\"OLD\",\"movieCd\":\"20216476\",\"movieNm\":\"브로큰\",\"openDt\":\"2025-02-05\",\"salesAmt\":\"78753800\",\"salesShare\":\"9.7\",\"salesInten\":\"-7967700\",\"salesChange\":\"-9.2\",\"salesAcc\":\"1662621120\",\"audiCnt\":\"8850\",\"audiInten\":\"-505\",\"audiChange\":\"-5.4\",\"audiAcc\":\"179205\",\"scrnCnt\":\"666\",\"showCnt\":\"1788\"},{\"rnum\":\"5\",\"rank\":\"5\",\"rankInten\":\"0\",\"rankOldAndNew\":\"OLD\",\"movieCd\":\"20244762\",\"movieNm\":\"서브스턴스\",\"openDt\":\"2024-12-11\",\"salesAmt\":\"53992600\",\"salesShare\":\"6.7\",\"salesInten\":\"-2119700\",\"salesChange\":\"-3.8\",\"salesAcc\":\"4326345380\",\"audiCnt\":\"5624\",\"audiInten\":\"-208\",\"audiChange\":\"-3.6\",\"audiAcc\":\"444001\",\"scrnCnt\":\"316\",\"showCnt\":\"561\"},{\"rnum\":\"6\",\"rank\":\"6\",\"rankInten\":\"0\",\"rankOldAndNew\":\"OLD\",\"movieCd\":\"20246777\",\"movieNm\":\"더 폴: 디렉터스 컷\",\"openDt\":\"2024-12-25\",\"salesAmt\":\"26094000\",\"salesShare\":\"3.2\",\"salesInten\":\"-484000\",\"salesChange\":\"-1.8\",\"salesAcc\":\"1264374100\",\"audiCnt\":\"2666\",\"audiInten\":\"-63\",\"audiChange\":\"-2.3\",\"audiAcc\":\"122124\",\"scrnCnt\":\"76\",\"showCnt\":\"117\"},{\"rnum\":\"7\",\"rank\":\"7\",\"rankInten\":\"0\",\"rankOldAndNew\":\"OLD\",\"movieCd\":\"20228796\",\"movieNm\":\"하얼빈\",\"openDt\":\"2024-12-24\",\"salesAmt\":\"20276200\",\"salesShare\":\"2.5\",\"salesInten\":\"-2861000\",\"salesChange\":\"-12.4\",\"salesAcc\":\"46867456880\",\"audiCnt\":\"2161\",\"audiInten\":\"-316\",\"audiChange\":\"-12.8\",\"audiAcc\":\"4900871\",\"scrnCnt\":\"358\",\"showCnt\":\"493\"},{\"rnum\":\"8\",\"rank\":\"8\",\"rankInten\":\"3\",\"rankOldAndNew\":\"OLD\",\"movieCd\":\"20246361\",\"movieNm\":\"뽀로로 극장판 바닷속 대모험\",\"openDt\":\"2025-01-01\",\"salesAmt\":\"8528900\",\"salesShare\":\"1.1\",\"salesInten\":\"2587500\",\"salesChange\":\"43.6\",\"salesAcc\":\"3484965090\",\"audiCnt\":\"1203\",\"audiInten\":\"381\",\"audiChange\":\"46.4\",\"audiAcc\":\"405269\",\"scrnCnt\":\"90\",\"showCnt\":\"96\"},{\"rnum\":\"9\",\"rank\":\"9\",\"rankInten\":\"0\",\"rankOldAndNew\":\"OLD\",\"movieCd\":\"20051060\",\"movieNm\":\"극장판 포켓몬스터 AG: 뮤와 파동의 용사 루카리오\",\"openDt\":\"2025-01-22\",\"salesAmt\":\"8415800\",\"salesShare\":\"1.0\",\"salesInten\":\"-317200\",\"salesChange\":\"-3.6\",\"salesAcc\":\"1493033540\",\"audiCnt\":\"997\",\"audiInten\":\"-47\",\"audiChange\":\"-4.5\",\"audiAcc\":\"168709\",\"scrnCnt\":\"184\",\"showCnt\":\"196\"},{\"rnum\":\"10\",\"rank\":\"10\",\"rankInten\":\"0\",\"rankOldAndNew\":\"OLD\",\"movieCd\":\"20251712\",\"movieNm\":\"9월 5일: 위험한 특종\",\"openDt\":\"2025-02-05\",\"salesAmt\":\"8714700\",\"salesShare\":\"1.1\",\"salesInten\":\"946300\",\"salesChange\":\"12.2\",\"salesAcc\":\"89782060\",\"audiCnt\":\"932\",\"audiInten\":\"101\",\"audiChange\":\"12.2\",\"audiAcc\":\"9388\",\"scrnCnt\":\"207\",\"showCnt\":\"245\"}]}}\n"
     ]
    }
   ],
   "source": [
    "import requests as req\n",
    "import sys\n",
    "\n",
    "url = \"http://kobis.or.kr/kobisopenapi/webservice/rest/boxoffice/searchDailyBoxOfficeList.json?key=6f6c41337974158eb22e6fce79c7af5a&targetDt=20250211\"\n",
    "web = req.get(url)\n",
    "html = web.text\n",
    "print (type(ht))\n",
    "\n",
    "print(html)"
   ]
  },
  {
   "cell_type": "code",
   "execution_count": null,
   "id": "3f6f315a-5a76-4687-bc0b-9e78025ba829",
   "metadata": {},
   "outputs": [],
   "source": []
  },
  {
   "cell_type": "code",
   "execution_count": 7,
   "id": "df7ded13-3450-4e82-9752-0209457b30cb",
   "metadata": {},
   "outputs": [],
   "source": [
    "class Ascii:\n",
    "    def __init__(self):\n",
    "        self.result = 0\n",
    "\n",
    "    def ex1():\n",
    "        for i in range(65, 91):\n",
    "            print(chr(i), end=\" \")\n",
    "\n",
    "    def ex2():\n",
    "        for j in range(122, 96, -1):\n",
    "            print(chr(j), end=\" \")\n",
    "\n",
    "    def ex3():\n",
    "        for x in range(65, 91):\n",
    "            for y in range(1, 11):\n",
    "                print(f'{chr(x)}{y}', end=' ')\n",
    "            print('\\n'+'-'*30)\n",
    "        "
   ]
  },
  {
   "cell_type": "code",
   "execution_count": 8,
   "id": "ae3ff4da-3767-4e1a-a0a6-426450a06161",
   "metadata": {},
   "outputs": [
    {
     "name": "stdout",
     "output_type": "stream",
     "text": [
      "A B C D E F G H I J K L M N O P Q R S T U V W X Y Z z y x w v u t s r q p o n m l k j i h g f e d c b a A1 A2 A3 A4 A5 A6 A7 A8 A9 A10 \n",
      "------------------------------\n",
      "B1 B2 B3 B4 B5 B6 B7 B8 B9 B10 \n",
      "------------------------------\n",
      "C1 C2 C3 C4 C5 C6 C7 C8 C9 C10 \n",
      "------------------------------\n",
      "D1 D2 D3 D4 D5 D6 D7 D8 D9 D10 \n",
      "------------------------------\n",
      "E1 E2 E3 E4 E5 E6 E7 E8 E9 E10 \n",
      "------------------------------\n",
      "F1 F2 F3 F4 F5 F6 F7 F8 F9 F10 \n",
      "------------------------------\n",
      "G1 G2 G3 G4 G5 G6 G7 G8 G9 G10 \n",
      "------------------------------\n",
      "H1 H2 H3 H4 H5 H6 H7 H8 H9 H10 \n",
      "------------------------------\n",
      "I1 I2 I3 I4 I5 I6 I7 I8 I9 I10 \n",
      "------------------------------\n",
      "J1 J2 J3 J4 J5 J6 J7 J8 J9 J10 \n",
      "------------------------------\n",
      "K1 K2 K3 K4 K5 K6 K7 K8 K9 K10 \n",
      "------------------------------\n",
      "L1 L2 L3 L4 L5 L6 L7 L8 L9 L10 \n",
      "------------------------------\n",
      "M1 M2 M3 M4 M5 M6 M7 M8 M9 M10 \n",
      "------------------------------\n",
      "N1 N2 N3 N4 N5 N6 N7 N8 N9 N10 \n",
      "------------------------------\n",
      "O1 O2 O3 O4 O5 O6 O7 O8 O9 O10 \n",
      "------------------------------\n",
      "P1 P2 P3 P4 P5 P6 P7 P8 P9 P10 \n",
      "------------------------------\n",
      "Q1 Q2 Q3 Q4 Q5 Q6 Q7 Q8 Q9 Q10 \n",
      "------------------------------\n",
      "R1 R2 R3 R4 R5 R6 R7 R8 R9 R10 \n",
      "------------------------------\n",
      "S1 S2 S3 S4 S5 S6 S7 S8 S9 S10 \n",
      "------------------------------\n",
      "T1 T2 T3 T4 T5 T6 T7 T8 T9 T10 \n",
      "------------------------------\n",
      "U1 U2 U3 U4 U5 U6 U7 U8 U9 U10 \n",
      "------------------------------\n",
      "V1 V2 V3 V4 V5 V6 V7 V8 V9 V10 \n",
      "------------------------------\n",
      "W1 W2 W3 W4 W5 W6 W7 W8 W9 W10 \n",
      "------------------------------\n",
      "X1 X2 X3 X4 X5 X6 X7 X8 X9 X10 \n",
      "------------------------------\n",
      "Y1 Y2 Y3 Y4 Y5 Y6 Y7 Y8 Y9 Y10 \n",
      "------------------------------\n",
      "Z1 Z2 Z3 Z4 Z5 Z6 Z7 Z8 Z9 Z10 \n",
      "------------------------------\n"
     ]
    }
   ],
   "source": [
    "Ascii.ex1()\n",
    "\n",
    "Ascii.ex2()\n",
    "\n",
    "Ascii.ex3()"
   ]
  },
  {
   "cell_type": "code",
   "execution_count": 2,
   "id": "a470627b-4e52-4ebd-999d-be46e52e0fa7",
   "metadata": {},
   "outputs": [],
   "source": []
  },
  {
   "cell_type": "code",
   "execution_count": 1,
   "id": "87642c74-5d57-41ca-abdd-8504c497c12e",
   "metadata": {},
   "outputs": [],
   "source": []
  },
  {
   "cell_type": "code",
   "execution_count": null,
   "id": "5febba8c-149b-4e92-899c-b03758313b03",
   "metadata": {},
   "outputs": [],
   "source": []
  }
 ],
 "metadata": {
  "kernelspec": {
   "display_name": "Python 3 (ipykernel)",
   "language": "python",
   "name": "python3"
  },
  "language_info": {
   "codemirror_mode": {
    "name": "ipython",
    "version": 3
   },
   "file_extension": ".py",
   "mimetype": "text/x-python",
   "name": "python",
   "nbconvert_exporter": "python",
   "pygments_lexer": "ipython3",
   "version": "3.13.1"
  }
 },
 "nbformat": 4,
 "nbformat_minor": 5
}
