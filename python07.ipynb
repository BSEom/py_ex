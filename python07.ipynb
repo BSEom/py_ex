{
 "cells": [
  {
   "cell_type": "markdown",
   "id": "77291f9b-b34d-4deb-9719-ef58322a61ea",
   "metadata": {},
   "source": [
    "# 내장함수"
   ]
  },
  {
   "cell_type": "code",
   "execution_count": 1,
   "id": "91122243-3df6-46a9-8e2c-5ef658b2b483",
   "metadata": {},
   "outputs": [
    {
     "name": "stdout",
     "output_type": "stream",
     "text": [
      "3\n",
      "1.2\n"
     ]
    }
   ],
   "source": [
    "# abs *\n",
    "\n",
    "print(abs(-3))\n",
    "print(abs(-1.2))"
   ]
  },
  {
   "cell_type": "code",
   "execution_count": 7,
   "id": "a7543629-52b4-4e39-be68-81a3abeeb3f6",
   "metadata": {},
   "outputs": [
    {
     "name": "stdout",
     "output_type": "stream",
     "text": [
      "True\n",
      "False\n",
      "True\n"
     ]
    }
   ],
   "source": [
    "# all *\n",
    "\n",
    "print(all([1, 2, 3]))\n",
    "print(all([11, 22, 0, 44, 55]))\n",
    "print(all([]))"
   ]
  },
  {
   "cell_type": "code",
   "execution_count": 10,
   "id": "acaa2a24-9210-47b4-bf3e-d3ea0f8d0bf3",
   "metadata": {},
   "outputs": [
    {
     "name": "stdout",
     "output_type": "stream",
     "text": [
      "True\n",
      "False\n",
      "False\n"
     ]
    }
   ],
   "source": [
    "# any *\n",
    "\n",
    "print(any([1, 2, 3, 0]))\n",
    "print(any([0, '', [], False]))\n",
    "print(any([]))"
   ]
  },
  {
   "cell_type": "code",
   "execution_count": 18,
   "id": "6c8999e2-4bd7-4826-987b-ff4006b1822b",
   "metadata": {},
   "outputs": [
    {
     "name": "stdout",
     "output_type": "stream",
     "text": [
      "A\n",
      "가\n",
      "65\n",
      "44032\n"
     ]
    }
   ],
   "source": [
    "# 아스키코드\n",
    "print(chr(65))\n",
    "print(chr(44032))\n",
    "\n",
    "# 유니코드 - UTF-8(인코딩방식)\n",
    "print(ord('A'))\n",
    "print(ord('가'))\n"
   ]
  },
  {
   "cell_type": "code",
   "execution_count": 37,
   "id": "ffa4bc3c-ab7a-40cb-aec3-f58d26ab010e",
   "metadata": {},
   "outputs": [
    {
     "name": "stdout",
     "output_type": "stream",
     "text": [
      "A B C D E F G H I J K L M N O P Q R S T U V W X Y Z \n",
      "===================================================\n",
      "z y x w v u t s r q p o n m l k j i h g f e d c b a "
     ]
    }
   ],
   "source": [
    "for i in range(65, 91):\n",
    "    print(chr(i), end=\" \")\n",
    "\n",
    "print('\\n'+'='*51)\n",
    "\n",
    "for j in range(122, 96, -1):\n",
    "    print(chr(j), end=\" \")\n"
   ]
  },
  {
   "cell_type": "code",
   "execution_count": 47,
   "id": "901560a0-7fda-4181-a91d-2a7129610bce",
   "metadata": {},
   "outputs": [
    {
     "name": "stdout",
     "output_type": "stream",
     "text": [
      "A1 A2 A3 A4 A5 A6 A7 A8 A9 A10 \n",
      "------------------------------\n",
      "B1 B2 B3 B4 B5 B6 B7 B8 B9 B10 \n",
      "------------------------------\n",
      "C1 C2 C3 C4 C5 C6 C7 C8 C9 C10 \n",
      "------------------------------\n",
      "D1 D2 D3 D4 D5 D6 D7 D8 D9 D10 \n",
      "------------------------------\n",
      "E1 E2 E3 E4 E5 E6 E7 E8 E9 E10 \n",
      "------------------------------\n",
      "F1 F2 F3 F4 F5 F6 F7 F8 F9 F10 \n",
      "------------------------------\n",
      "G1 G2 G3 G4 G5 G6 G7 G8 G9 G10 \n",
      "------------------------------\n",
      "H1 H2 H3 H4 H5 H6 H7 H8 H9 H10 \n",
      "------------------------------\n",
      "I1 I2 I3 I4 I5 I6 I7 I8 I9 I10 \n",
      "------------------------------\n",
      "J1 J2 J3 J4 J5 J6 J7 J8 J9 J10 \n",
      "------------------------------\n",
      "K1 K2 K3 K4 K5 K6 K7 K8 K9 K10 \n",
      "------------------------------\n",
      "L1 L2 L3 L4 L5 L6 L7 L8 L9 L10 \n",
      "------------------------------\n",
      "M1 M2 M3 M4 M5 M6 M7 M8 M9 M10 \n",
      "------------------------------\n",
      "N1 N2 N3 N4 N5 N6 N7 N8 N9 N10 \n",
      "------------------------------\n",
      "O1 O2 O3 O4 O5 O6 O7 O8 O9 O10 \n",
      "------------------------------\n",
      "P1 P2 P3 P4 P5 P6 P7 P8 P9 P10 \n",
      "------------------------------\n",
      "Q1 Q2 Q3 Q4 Q5 Q6 Q7 Q8 Q9 Q10 \n",
      "------------------------------\n",
      "R1 R2 R3 R4 R5 R6 R7 R8 R9 R10 \n",
      "------------------------------\n",
      "S1 S2 S3 S4 S5 S6 S7 S8 S9 S10 \n",
      "------------------------------\n",
      "T1 T2 T3 T4 T5 T6 T7 T8 T9 T10 \n",
      "------------------------------\n",
      "U1 U2 U3 U4 U5 U6 U7 U8 U9 U10 \n",
      "------------------------------\n",
      "V1 V2 V3 V4 V5 V6 V7 V8 V9 V10 \n",
      "------------------------------\n",
      "W1 W2 W3 W4 W5 W6 W7 W8 W9 W10 \n",
      "------------------------------\n",
      "X1 X2 X3 X4 X5 X6 X7 X8 X9 X10 \n",
      "------------------------------\n",
      "Y1 Y2 Y3 Y4 Y5 Y6 Y7 Y8 Y9 Y10 \n",
      "------------------------------\n",
      "Z1 Z2 Z3 Z4 Z5 Z6 Z7 Z8 Z9 Z10 \n",
      "------------------------------\n"
     ]
    }
   ],
   "source": [
    "\n",
    "for x in range(65, 91):\n",
    "    for y in range(1, 11):\n",
    "        print(f'{chr(x)}{y}', end=' ')\n",
    "    print('\\n'+'-'*30)\n"
   ]
  },
  {
   "cell_type": "code",
   "execution_count": 11,
   "id": "6329eace-2066-4e32-bf24-46767fd2fac0",
   "metadata": {},
   "outputs": [
    {
     "name": "stdout",
     "output_type": "stream",
     "text": [
      "(4, 1)\n",
      "4 1\n"
     ]
    }
   ],
   "source": [
    "# divmod 몫과 나머지\n",
    "\n",
    "print(divmod(13,3))\n",
    "print(13//3, 13%3)"
   ]
  },
  {
   "cell_type": "code",
   "execution_count": 12,
   "id": "08136629-a85c-4914-8a72-dd077a833cb7",
   "metadata": {},
   "outputs": [
    {
     "name": "stdout",
     "output_type": "stream",
     "text": [
      "1 순위 과일은: apple\n",
      "2 순위 과일은: banana\n",
      "3 순위 과일은: kiwi\n",
      "4 순위 과일은: cherry\n",
      "5 순위 과일은: mango\n"
     ]
    }
   ],
   "source": [
    "# enumerate * 열거하다\n",
    "\n",
    "fruit = ['apple', 'banana', 'kiwi', 'cherry', 'mango'] \n",
    "\n",
    "for i, f in enumerate(fruit, start= 1):\n",
    "    print(i, '순위 과일은:', f)"
   ]
  },
  {
   "cell_type": "code",
   "execution_count": 13,
   "id": "84f136a6-01f5-4fd7-8445-a8cd0ecaf69a",
   "metadata": {},
   "outputs": [
    {
     "data": {
      "text/plain": [
       "3"
      ]
     },
     "execution_count": 13,
     "metadata": {},
     "output_type": "execute_result"
    }
   ],
   "source": [
    "eval('1+2')"
   ]
  },
  {
   "cell_type": "code",
   "execution_count": 14,
   "id": "d3a5fe9c-cef3-46ac-b034-af2db0085a7a",
   "metadata": {},
   "outputs": [
    {
     "data": {
      "text/plain": [
       "'A1'"
      ]
     },
     "execution_count": 14,
     "metadata": {},
     "output_type": "execute_result"
    }
   ],
   "source": [
    "eval(\"'A'+'1'\")"
   ]
  },
  {
   "cell_type": "code",
   "execution_count": 16,
   "id": "497ab7ed-3fad-4cbd-a2ad-a49709d2c068",
   "metadata": {},
   "outputs": [
    {
     "data": {
      "text/plain": [
       "[1, 2, 3]"
      ]
     },
     "execution_count": 16,
     "metadata": {},
     "output_type": "execute_result"
    }
   ],
   "source": [
    "def positive(arg):\n",
    "    result = []\n",
    "\n",
    "    for i in arg:\n",
    "        if i > 0:\n",
    "            result.append(i)\n",
    "\n",
    "    return result\n",
    "\n",
    "\n",
    "\n",
    "\n",
    "a = [1, -1, 2, -4, 3, -9]\n",
    "positive(a)\n",
    "    "
   ]
  },
  {
   "cell_type": "code",
   "execution_count": 18,
   "id": "0ce279db-7657-4c90-b51c-aa28cbb8204f",
   "metadata": {},
   "outputs": [
    {
     "data": {
      "text/plain": [
       "[1, 2, 3]"
      ]
     },
     "execution_count": 18,
     "metadata": {},
     "output_type": "execute_result"
    }
   ],
   "source": [
    "def pos(arg):\n",
    "    return [i for i in arg if i > 0]\n",
    "\n",
    "pos(a)"
   ]
  },
  {
   "cell_type": "code",
   "execution_count": 21,
   "id": "0da41eac-e3aa-47d4-9ca7-68f2cff52417",
   "metadata": {},
   "outputs": [
    {
     "name": "stdout",
     "output_type": "stream",
     "text": [
      "[1, 2, 3]\n"
     ]
    }
   ],
   "source": [
    "def positive(arg):\n",
    "    return arg > 0\n",
    "\n",
    "a = [1, -1, 2, -4, 3, -9]\n",
    "print(list(filter(positive, a)))\n"
   ]
  },
  {
   "cell_type": "code",
   "execution_count": 22,
   "id": "d67537d8-ed75-4d20-8d01-58a31f356d8f",
   "metadata": {},
   "outputs": [
    {
     "name": "stdout",
     "output_type": "stream",
     "text": [
      "[1, 2, 3]\n"
     ]
    }
   ],
   "source": [
    "print(list(filter(lambda x : x > 0, a)))"
   ]
  },
  {
   "cell_type": "code",
   "execution_count": 24,
   "id": "e7f02850-f694-46e0-b5d4-9b0e0f081872",
   "metadata": {},
   "outputs": [
    {
     "name": "stdout",
     "output_type": "stream",
     "text": [
      "1\n",
      "2\n",
      "3\n"
     ]
    }
   ],
   "source": [
    "for n in filter(lambda x : x > 0, a):\n",
    "    print(n)"
   ]
  },
  {
   "cell_type": "code",
   "execution_count": 27,
   "id": "edf65c41-ce9f-4668-b5d3-42af39876f18",
   "metadata": {},
   "outputs": [
    {
     "name": "stdout",
     "output_type": "stream",
     "text": [
      "0x12\n",
      "0o142\n",
      "0b1001\n"
     ]
    }
   ],
   "source": [
    "# hex, oct, bin\n",
    "\n",
    "print(hex(18))\n",
    "print(oct(98))\n",
    "print(bin(9))\n",
    "\n",
    "\n",
    "\n"
   ]
  },
  {
   "cell_type": "code",
   "execution_count": 32,
   "id": "163f81e8-bcbe-431c-b4eb-68685a35562a",
   "metadata": {},
   "outputs": [
    {
     "name": "stdout",
     "output_type": "stream",
     "text": [
      "140731888632808\n",
      "140731888632808\n",
      "140731888632808\n",
      "140731888633160\n"
     ]
    }
   ],
   "source": [
    "# id 고유 주소값을 리턴\n",
    "\n",
    "a = 3\n",
    "print(id(3))\n",
    "print(id(a))\n",
    "b = a\n",
    "print(id(b))\n",
    "\n",
    "print(id(14))"
   ]
  },
  {
   "cell_type": "code",
   "execution_count": 33,
   "id": "5b460c6a-2236-42ca-93f4-6298703ae451",
   "metadata": {},
   "outputs": [],
   "source": [
    "# input *\n",
    "# input은 스트링으로 값을 전달받는다. 그러므로 계산 시 int나 float로 변경할 것\n"
   ]
  },
  {
   "cell_type": "code",
   "execution_count": 34,
   "id": "85c51d1b-1d05-405e-9e99-5e087cf26a4f",
   "metadata": {},
   "outputs": [],
   "source": [
    "# int *\n",
    "# 문자를 숫자로 변환, 정수로 변환, 소수점이 사라짐"
   ]
  },
  {
   "cell_type": "code",
   "execution_count": 37,
   "id": "a2a779e5-d98f-4f41-9898-7ef1da01c709",
   "metadata": {},
   "outputs": [
    {
     "name": "stdout",
     "output_type": "stream",
     "text": [
      "사람입니다.\n",
      "사람입니다.\n",
      "True\n",
      "True\n",
      "False\n",
      "True\n"
     ]
    }
   ],
   "source": [
    "# isinstance(object, class) 인스턴스 확인용\n",
    "\n",
    "class Person:\n",
    "    def p(self):\n",
    "        return(\"사람입니다.\")\n",
    "\n",
    "class Animal:pass\n",
    "\n",
    "a = Person()\n",
    "b = Person()\n",
    "c = Animal()\n",
    "\n",
    "print(a.p())\n",
    "print(b.p())\n",
    "\n",
    "print(isinstance(a, Person))\n",
    "print(isinstance(b, Person))\n",
    "print(isinstance(c, Person))\n",
    "print(isinstance(c, Animal))"
   ]
  },
  {
   "cell_type": "code",
   "execution_count": 38,
   "id": "0cb43721-b56a-4806-ac68-e5256f6aaff4",
   "metadata": {},
   "outputs": [
    {
     "name": "stdout",
     "output_type": "stream",
     "text": [
      "6\n",
      "4\n",
      "2\n"
     ]
    }
   ],
   "source": [
    "# len **\n",
    "print(len(\"Python\"))\n",
    "print(len([1, 2, 3, 4]))\n",
    "print(len((1,'a')))"
   ]
  },
  {
   "cell_type": "code",
   "execution_count": 39,
   "id": "99d034a9-c0a0-4d65-8d62-836239b3a996",
   "metadata": {},
   "outputs": [],
   "source": [
    "# list **"
   ]
  },
  {
   "cell_type": "code",
   "execution_count": 41,
   "id": "c89fe96b-6668-49f0-8fdf-33b4577191a2",
   "metadata": {},
   "outputs": [
    {
     "name": "stdout",
     "output_type": "stream",
     "text": [
      "[2, 4, 6, 8]\n"
     ]
    }
   ],
   "source": [
    "# map *\n",
    "\n",
    "def two_items(nl):\n",
    "    result = []\n",
    "    for i in nl:\n",
    "        result.append(i*2)\n",
    "    return result\n",
    "\n",
    "print(two_items([1, 2, 3, 4]))"
   ]
  },
  {
   "cell_type": "code",
   "execution_count": 43,
   "id": "b8d39d5c-b6b6-4f28-a5bf-06178180d6da",
   "metadata": {},
   "outputs": [
    {
     "data": {
      "text/plain": [
       "[2, 4, 6, 8]"
      ]
     },
     "execution_count": 43,
     "metadata": {},
     "output_type": "execute_result"
    }
   ],
   "source": [
    "def two_items(x):\n",
    "    return x * 2\n",
    "\n",
    "list(map(two_items, [1, 2, 3, 4]))\n"
   ]
  },
  {
   "cell_type": "code",
   "execution_count": 44,
   "id": "1907c45b-a866-443f-8742-a48686f988d7",
   "metadata": {},
   "outputs": [
    {
     "data": {
      "text/plain": [
       "[2, 4, 6, 8]"
      ]
     },
     "execution_count": 44,
     "metadata": {},
     "output_type": "execute_result"
    }
   ],
   "source": [
    "list(map(lambda x : x * 2, [1, 2, 3, 4]))"
   ]
  },
  {
   "cell_type": "code",
   "execution_count": 49,
   "id": "51f5b9af-e083-4019-b95b-43848a7414dc",
   "metadata": {},
   "outputs": [
    {
     "data": {
      "text/plain": [
       "[1, 2, 3, 4]"
      ]
     },
     "execution_count": 49,
     "metadata": {},
     "output_type": "execute_result"
    }
   ],
   "source": [
    "list(filter(lambda x : x ** 2 == x , [1, 2, 3, 4]))"
   ]
  },
  {
   "cell_type": "code",
   "execution_count": 53,
   "id": "9000d524-9336-47cf-ab97-17e7703ab8a1",
   "metadata": {},
   "outputs": [
    {
     "name": "stdout",
     "output_type": "stream",
     "text": [
      "[1, 3, 5]\n",
      "[1, 2, 3, 4, 5, 6]\n",
      "[11, 12, 13, 14, 15, 16]\n"
     ]
    }
   ],
   "source": [
    "# 테스트\n",
    "\n",
    "li = [1, 2, 3, 4, 5, 6]\n",
    "\n",
    "def add(x):\n",
    "    return x + 10\n",
    "\n",
    "def mul(x):\n",
    "    return x * x\n",
    "\n",
    "def addmul(x):\n",
    "    return (x + 10) * x \n",
    "\n",
    "def odd(x):\n",
    "    return x % 2 != 0\n",
    "\n",
    "def even(x):\n",
    "    return x % 2 == 0\n",
    "\n",
    "print(list(filter(odd, li)))\n",
    "print(list(filter(add, li)))\n",
    "print(list(map(add, li)))"
   ]
  },
  {
   "cell_type": "code",
   "execution_count": 54,
   "id": "42a299ab-f8ba-4d2f-8d11-c5635b9e09fa",
   "metadata": {},
   "outputs": [
    {
     "data": {
      "text/plain": [
       "56"
      ]
     },
     "execution_count": 54,
     "metadata": {},
     "output_type": "execute_result"
    }
   ],
   "source": [
    "# max *\n",
    "\n",
    "max([1, 21, 3, 14, 56, 16, 7])"
   ]
  },
  {
   "cell_type": "code",
   "execution_count": 55,
   "id": "a73c4302-62f6-46da-9df9-ccba2a37990d",
   "metadata": {},
   "outputs": [
    {
     "data": {
      "text/plain": [
       "1"
      ]
     },
     "execution_count": 55,
     "metadata": {},
     "output_type": "execute_result"
    }
   ],
   "source": [
    "# min *\n",
    "\n",
    "min([1, 21, 3, 14, 56, 16, 7])"
   ]
  },
  {
   "cell_type": "code",
   "execution_count": null,
   "id": "53f24875-df4b-4077-afe5-6e07ffba28b7",
   "metadata": {},
   "outputs": [],
   "source": [
    "# open *\n",
    "\n",
    "f = open('README.md', 'r', encoding=\"utf-8\")\n",
    "f.read()"
   ]
  },
  {
   "cell_type": "code",
   "execution_count": 57,
   "id": "116dd9e1-76d6-4ec2-aba0-a009d1b1c0d9",
   "metadata": {},
   "outputs": [
    {
     "name": "stdout",
     "output_type": "stream",
     "text": [
      "32\n"
     ]
    }
   ],
   "source": [
    "# pow * x를 y제곱한 결과값을 리턴\n",
    "\n",
    "print(pow(2, 5))"
   ]
  },
  {
   "cell_type": "code",
   "execution_count": 59,
   "id": "213894ae-5c2e-4690-936f-86de13d48d01",
   "metadata": {},
   "outputs": [
    {
     "name": "stdout",
     "output_type": "stream",
     "text": [
      "[0, 1, 2, 3, 4]\n",
      "[5, 6, 7, 8, 9]\n",
      "[5, 7, 9]\n",
      "[15, 14, 13, 12, 11, 10, 9, 8, 7, 6, 5, 4, 3, 2, 1]\n"
     ]
    }
   ],
   "source": [
    "# range **\n",
    "# 인수가 하나\n",
    "print(list(range(5)))\n",
    "# 인수가 2개\n",
    "print(list(range(5, 10)))\n",
    "# 인수가 3개\n",
    "print(list(range(5, 10, 2)))\n",
    "# 역순 (스탭조절)\n",
    "print(list(range(15, 0, -1)))"
   ]
  },
  {
   "cell_type": "code",
   "execution_count": 61,
   "id": "be2ea65b-e6da-4a84-86ce-2a9dbe670f26",
   "metadata": {},
   "outputs": [
    {
     "name": "stdout",
     "output_type": "stream",
     "text": [
      "3\n",
      "4\n",
      "3\n",
      "3.5\n",
      "3.495\n"
     ]
    }
   ],
   "source": [
    "# round * 반올림\n",
    "\n",
    "print(round(3.45))\n",
    "print(round(3.546))\n",
    "print(round(3.495))\n",
    "print(round(3.495, 2))\n",
    "print(round(3.495, 3))"
   ]
  },
  {
   "cell_type": "code",
   "execution_count": 65,
   "id": "7af6cf41-64cc-4649-90da-ca7e15aafbcd",
   "metadata": {},
   "outputs": [
    {
     "name": "stdout",
     "output_type": "stream",
     "text": [
      "[4, 1, 2, 6, 7, 8]\n",
      "[1, 2, 4, 6, 7, 8]\n",
      "[8, 7, 6, 4, 2, 1]\n"
     ]
    }
   ],
   "source": [
    "# sorted(iterable) 정렬된 리스트로 리턴\n",
    "\n",
    "s0 = [4,1,2,6,7,8]\n",
    "s1 = sorted(s0)\n",
    "s2 = sorted(s0, reverse = True)\n",
    "\n",
    "print(s0)\n",
    "print(s1)\n",
    "print(s2)"
   ]
  },
  {
   "cell_type": "code",
   "execution_count": 66,
   "id": "ed224478-b9aa-40d9-a26b-49970ff2712a",
   "metadata": {},
   "outputs": [
    {
     "name": "stdout",
     "output_type": "stream",
     "text": [
      "23 <class 'int'>\n",
      "23 <class 'str'>\n"
     ]
    }
   ],
   "source": [
    "# str 문자열로 변환\n",
    "num = 23\n",
    "st  =str(num)\n",
    "print(num, type(num))\n",
    "print(st, type(st))"
   ]
  },
  {
   "cell_type": "code",
   "execution_count": 67,
   "id": "14784648-4222-4a34-9112-5ea068f3d27c",
   "metadata": {},
   "outputs": [
    {
     "name": "stdout",
     "output_type": "stream",
     "text": [
      "15\n"
     ]
    }
   ],
   "source": [
    "# sum * 이터러블데이터의 합을 리턴\n",
    "\n",
    "print(sum([1, 2, 3, 4, 5]))"
   ]
  },
  {
   "cell_type": "code",
   "execution_count": 68,
   "id": "baa6af5c-cc4f-4ca8-9ace-cb4b9e4127cd",
   "metadata": {},
   "outputs": [
    {
     "name": "stdout",
     "output_type": "stream",
     "text": [
      "('a', 'b', 'c')\n",
      "(1, 2, 3, 4, 5, 6)\n",
      "(1, 2, 3, 4, 5, 6)\n"
     ]
    }
   ],
   "source": [
    "# tuple * tuple 류플로 바꾸기\n",
    "\n",
    "print(tuple(\"abc\"))\n",
    "print(tuple([1,2,3,4,5,6]))\n",
    "print(tuple([1,2,3,4,5,6]))"
   ]
  },
  {
   "cell_type": "code",
   "execution_count": 69,
   "id": "b0dbfc48-1e5c-4f04-9dff-4388dd4197dc",
   "metadata": {},
   "outputs": [
    {
     "name": "stdout",
     "output_type": "stream",
     "text": [
      "<class 'str'>\n",
      "<class 'int'>\n"
     ]
    }
   ],
   "source": [
    "# type ** 자료형 확인 \n",
    "\n",
    "print(type(\"abc\"))\n",
    "print(type(1234))\n",
    "# print(type(open('README.md', 'r')))  # 파일 자료형"
   ]
  },
  {
   "cell_type": "code",
   "execution_count": 73,
   "id": "23c48a60-57c4-47f7-9103-fcd1ff065ed0",
   "metadata": {},
   "outputs": [
    {
     "name": "stdout",
     "output_type": "stream",
     "text": [
      "11 : apple => dog\n",
      "22 : banana => cat\n",
      "33 : kiwi =>  elephant\n",
      "44 : cherry => lion\n",
      "55 : mango => rabbit\n"
     ]
    }
   ],
   "source": [
    "# zip ** 묶어서 리턴\n",
    "\n",
    "fruit = ['apple', 'banana', 'kiwi', 'cherry', 'mango'] \n",
    "animal = ['dog', 'cat', ' elephant', 'lion', 'rabbit']\n",
    "num = [11, 22, 33, 44, 55]\n",
    "\n",
    "\n",
    "for f, a, n in zip(fruit, animal, num):\n",
    "    print(n, ':', f, '=>', a)"
   ]
  },
  {
   "cell_type": "markdown",
   "id": "e228329b-acd0-4f15-b594-158d1a922809",
   "metadata": {},
   "source": [
    "# 표준 라이브러리 "
   ]
  },
  {
   "cell_type": "markdown",
   "id": "29a12d9d-7928-4169-9b51-fcd3dc3387eb",
   "metadata": {},
   "source": [
    "## datetime.date"
   ]
  },
  {
   "cell_type": "code",
   "execution_count": 83,
   "id": "5e6321d9-f4bd-4bdb-8da5-4c2b4488c9c8",
   "metadata": {},
   "outputs": [
    {
     "name": "stdout",
     "output_type": "stream",
     "text": [
      "전체 수업기간: 172 일\n",
      "남은 수업기간: 157 일\n",
      "지난 수업기간: 15 일\n"
     ]
    },
    {
     "data": {
      "text/plain": [
       "157"
      ]
     },
     "execution_count": 83,
     "metadata": {},
     "output_type": "execute_result"
    }
   ],
   "source": [
    "import datetime\n",
    "\n",
    "day1 = datetime.date(2025,2,3)\n",
    "day2 = datetime.date(2025,7,25)\n",
    "\n",
    "diff = day2 - day1\n",
    "print(\"전체 수업기간:\", diff.days, \"일\")\n",
    "\n",
    "diff2 = day2 - datetime.datetime.now().date()\n",
    "print(\"남은 수업기간:\", diff2.days, \"일\")\n",
    "print(\"지난 수업기간:\", diff.days - diff2.days, \"일\")\n",
    "\n",
    "\n",
    "diff.days -15"
   ]
  },
  {
   "cell_type": "code",
   "execution_count": 81,
   "id": "de99e7c1-125b-4adc-8273-3e35c4e8d705",
   "metadata": {},
   "outputs": [
    {
     "data": {
      "text/plain": [
       "datetime.date(2025, 2, 18)"
      ]
     },
     "execution_count": 81,
     "metadata": {},
     "output_type": "execute_result"
    }
   ],
   "source": [
    "datetime.datetime.now().date() # date()를  넣으면 date 타입으로 변환"
   ]
  },
  {
   "cell_type": "code",
   "execution_count": 85,
   "id": "759caef6-be92-484e-9889-0c0bb9774c7b",
   "metadata": {},
   "outputs": [
    {
     "name": "stdout",
     "output_type": "stream",
     "text": [
      "그날은 일요일 입니다.\n"
     ]
    }
   ],
   "source": [
    "days = ['월', '화', '수', '목', '금', '토', '일']\n",
    "\n",
    "day = datetime.date(2020,2,2)\n",
    "\n",
    "# day.isoweekday() # 1부터 시작\n",
    "print(\"그날은 \" + days[day.weekday()] + \"요일 입니다.\")\n",
    "# day.weekday()"
   ]
  },
  {
   "cell_type": "markdown",
   "id": "fbb86bff-9e94-492a-bcb2-ae9d69371eed",
   "metadata": {},
   "source": [
    "## time"
   ]
  },
  {
   "cell_type": "code",
   "execution_count": 86,
   "id": "bb7729b9-a15c-4f22-b425-2ed323392c78",
   "metadata": {},
   "outputs": [
    {
     "data": {
      "text/plain": [
       "1739855464.868697"
      ]
     },
     "execution_count": 86,
     "metadata": {},
     "output_type": "execute_result"
    }
   ],
   "source": [
    "# time.time\n",
    "\n",
    "import time\n",
    "time.time()"
   ]
  },
  {
   "cell_type": "code",
   "execution_count": 88,
   "id": "1997ce43-0cb0-407b-b56d-53ecd7b38ee9",
   "metadata": {},
   "outputs": [
    {
     "name": "stdout",
     "output_type": "stream",
     "text": [
      "time.struct_time(tm_year=2025, tm_mon=2, tm_mday=18, tm_hour=14, tm_min=14, tm_sec=59, tm_wday=1, tm_yday=49, tm_isdst=0)\n"
     ]
    }
   ],
   "source": [
    "# time.localtime\n",
    "\n",
    "tt = time.localtime(time.time())\n",
    "print(tt)"
   ]
  },
  {
   "cell_type": "code",
   "execution_count": 1,
   "id": "2b7939b9-4b5d-463a-8589-6be1f7bae34d",
   "metadata": {},
   "outputs": [
    {
     "data": {
      "text/plain": [
       "'Tue Feb 18 14:38:04 2025'"
      ]
     },
     "execution_count": 1,
     "metadata": {},
     "output_type": "execute_result"
    }
   ],
   "source": [
    "# time.asctime\n",
    "\n",
    "time.asctime()\n",
    "# time.asctime(time.localtime(time.time()))"
   ]
  },
  {
   "cell_type": "code",
   "execution_count": 96,
   "id": "8d9d912f-d317-4bfd-9068-7b2969225dc5",
   "metadata": {},
   "outputs": [
    {
     "data": {
      "text/plain": [
       "'Tue Feb 18 14:17:09 2025'"
      ]
     },
     "execution_count": 96,
     "metadata": {},
     "output_type": "execute_result"
    }
   ],
   "source": [
    "# time.ctime\n",
    "\n",
    "time.ctime()"
   ]
  },
  {
   "cell_type": "code",
   "execution_count": 102,
   "id": "7cba3d67-3df0-42e6-aa36-cf3107746db4",
   "metadata": {},
   "outputs": [
    {
     "data": {
      "text/plain": [
       "'Tue Feb 18 14:19:15 2025'"
      ]
     },
     "execution_count": 102,
     "metadata": {},
     "output_type": "execute_result"
    }
   ],
   "source": [
    "# time.strftime\n",
    "\n",
    "time.strftime('%x',time.localtime(time.time()))\n",
    "time.strftime('%X',time.localtime(time.time()))\n",
    "time.strftime('%c',time.localtime(time.time()))"
   ]
  },
  {
   "cell_type": "code",
   "execution_count": 103,
   "id": "d5477134-3be0-4238-a1b0-9d64dca7ee74",
   "metadata": {},
   "outputs": [
    {
     "name": "stdout",
     "output_type": "stream",
     "text": [
      "10"
     ]
    }
   ],
   "source": [
    "# time.sleep\n",
    "import time as t\n",
    "\n",
    "for i in range(1,11):\n",
    "    print(i, end='\\r')\n",
    "    t.sleep(0.5)\n",
    "    "
   ]
  },
  {
   "cell_type": "markdown",
   "id": "5bd9382f-f7a5-4d8d-b67a-f58b12a49c3c",
   "metadata": {},
   "source": [
    "## math.gcd, math.lcm"
   ]
  },
  {
   "cell_type": "code",
   "execution_count": 104,
   "id": "ae7756b3-5d08-47b1-9646-34b0df1bda6d",
   "metadata": {},
   "outputs": [],
   "source": [
    "import math"
   ]
  },
  {
   "cell_type": "code",
   "execution_count": 107,
   "id": "9382142f-0168-4563-a8d0-45438b6e1711",
   "metadata": {},
   "outputs": [
    {
     "name": "stdout",
     "output_type": "stream",
     "text": [
      "3.141592653589793\n",
      "20\n",
      "75\n"
     ]
    }
   ],
   "source": [
    "print(math.pi)\n",
    "print(math.gcd(60, 100, 80))\n",
    "print(math.lcm(15, 25))"
   ]
  },
  {
   "cell_type": "markdown",
   "id": "902c5265-bbdc-43ac-bc54-5ded70e31248",
   "metadata": {},
   "source": [
    "## random"
   ]
  },
  {
   "cell_type": "code",
   "execution_count": 110,
   "id": "69b665cb-738e-42cf-b4a2-daa37eb6dd2d",
   "metadata": {},
   "outputs": [
    {
     "name": "stdout",
     "output_type": "stream",
     "text": [
      "0.6744426981081948\n",
      "10\n"
     ]
    }
   ],
   "source": [
    "import random as r\n",
    "\n",
    "print(r.random())  # 0.0에서 1.0사이의 난수\n",
    "print(r.randint(1, 10))  # a에서 b까지의 난수"
   ]
  },
  {
   "cell_type": "code",
   "execution_count": 111,
   "id": "5f3f467a-1de5-4884-8017-4b3bbec4609c",
   "metadata": {},
   "outputs": [
    {
     "name": "stdout",
     "output_type": "stream",
     "text": [
      "22 22 55 66 66 11 "
     ]
    }
   ],
   "source": [
    "date = [11, 22, 33, 44, 55, 66]\n",
    "\n",
    "for n in range(6):\n",
    "    print(r.choice(date), end=' ')"
   ]
  },
  {
   "cell_type": "code",
   "execution_count": 112,
   "id": "b316ca58-42d1-4bfd-bddd-73e07bbcf9fc",
   "metadata": {},
   "outputs": [
    {
     "name": "stdout",
     "output_type": "stream",
     "text": [
      "4 15 18 13 8 10 19 9 5 11 2 1 6 12 16 3 7 20 17 14 "
     ]
    }
   ],
   "source": [
    "li = list(range(1, 21))\n",
    "\n",
    "for n in r.sample(li,len(li)):\n",
    "    print(n, end=' ')\n",
    "    "
   ]
  },
  {
   "cell_type": "markdown",
   "id": "b09fd34a-0388-4d16-b0ba-1ed43c11dceb",
   "metadata": {},
   "source": [
    "## tools"
   ]
  },
  {
   "cell_type": "code",
   "execution_count": 5,
   "id": "8eb36274-6867-4ff6-8fba-ffbc62402526",
   "metadata": {},
   "outputs": [
    {
     "name": "stdout",
     "output_type": "stream",
     "text": [
      "[('한민서', '사탕'), ('황지민', '초콜릿'), ('이영철', '젤리'), ('이광수', '새우깡'), ('김승민', '새우깡')]\n"
     ]
    }
   ],
   "source": [
    "# itertools.zip_Longest\n",
    "\n",
    "import itertools\n",
    "\n",
    "\n",
    "students = ['한민서', '황지민', '이영철', '이광수', '김승민']\n",
    "snacks = ['사탕', '초콜릿', '젤리']\n",
    "\n",
    "# result = zip(students, snacks)  # zip 은 잗은 배열에 길이를 맟춤\n",
    "result = itertools.zip_longest(students, snacks, fillvalue='새우깡')\n",
    "print(list(result))"
   ]
  },
  {
   "cell_type": "code",
   "execution_count": 7,
   "id": "f6b583bb-976a-4c5d-96ad-5e505ec008dd",
   "metadata": {},
   "outputs": [
    {
     "data": {
      "text/plain": [
       "[('1', '2'), ('1', '3'), ('2', '1'), ('2', '3'), ('3', '1'), ('3', '2')]"
      ]
     },
     "execution_count": 7,
     "metadata": {},
     "output_type": "execute_result"
    }
   ],
   "source": [
    "#itertools.permutations\n",
    "\n",
    "import itertools\n",
    "\n",
    "list(itertools.permutations(['1', '2', '3'], 2))"
   ]
  },
  {
   "cell_type": "code",
   "execution_count": 8,
   "id": "502c14d1-04d2-458f-8a71-46cbb0c7fa42",
   "metadata": {},
   "outputs": [
    {
     "data": {
      "text/plain": [
       "[('1', '2'), ('1', '3'), ('2', '3')]"
      ]
     },
     "execution_count": 8,
     "metadata": {},
     "output_type": "execute_result"
    }
   ],
   "source": [
    "# itertools.combinations\n",
    "\n",
    "import itertools\n",
    "\n",
    "list(itertools.combinations(['1', '2', '3'], 2))"
   ]
  },
  {
   "cell_type": "code",
   "execution_count": 15,
   "id": "fedab68b-8bf6-425b-bb4e-33760fab1743",
   "metadata": {},
   "outputs": [
    {
     "name": "stdout",
     "output_type": "stream",
     "text": [
      "(1, 2, 3, 4, 5, 6)\n",
      "(1, 2, 3, 4, 5, 7)\n",
      "(1, 2, 3, 4, 5, 8)\n",
      "(1, 2, 3, 4, 5, 9)\n",
      "(1, 2, 3, 4, 5, 10)\n",
      "(1, 2, 3, 4, 5, 11)\n",
      "(1, 2, 3, 4, 5, 12)\n",
      "(1, 2, 3, 4, 5, 13)\n",
      "(1, 2, 3, 4, 5, 14)\n",
      "(1, 2, 3, 4, 5, 15)\n",
      "(1, 2, 3, 4, 5, 16)\n",
      "(1, 2, 3, 4, 5, 17)\n",
      "(1, 2, 3, 4, 5, 18)\n",
      "(1, 2, 3, 4, 5, 19)\n",
      "(1, 2, 3, 4, 5, 20)\n",
      "8145060\n"
     ]
    }
   ],
   "source": [
    "# itertools.combinations 응용\n",
    "\n",
    "import itertools\n",
    "\n",
    "lotto = list(itertools.combinations(range(1, 46), 6))\n",
    "\n",
    "for i in lotto[:15]:\n",
    "    print(i)\n",
    "\n",
    "print(len(lotto))"
   ]
  },
  {
   "cell_type": "code",
   "execution_count": 16,
   "id": "b70d4743-c72f-416e-82d0-0c29b67434af",
   "metadata": {},
   "outputs": [
    {
     "name": "stdout",
     "output_type": "stream",
     "text": [
      "15\n"
     ]
    }
   ],
   "source": [
    "# functools.reduce\n",
    "\n",
    "import functools\n",
    "\n",
    "data = [1, 2, 3, 4, 5]\n",
    "result = functools.reduce(lambda x, y: x + y, data)\n",
    "\n",
    "print(result)"
   ]
  },
  {
   "cell_type": "code",
   "execution_count": 20,
   "id": "88370b34-7f99-42ed-928b-81974915993e",
   "metadata": {},
   "outputs": [
    {
     "name": "stdout",
     "output_type": "stream",
     "text": [
      "8\n"
     ]
    }
   ],
   "source": [
    "import functools\n",
    "\n",
    "num_list = [3, 2, 8, 1, 6, 7]\n",
    "\n",
    "max_num = functools.reduce(lambda x, y : x if x > y else y, num_list)\n",
    "print(max_num)\n"
   ]
  },
  {
   "cell_type": "code",
   "execution_count": 21,
   "id": "cdb2e8e0-e868-49a2-b787-5b18cef5eba6",
   "metadata": {},
   "outputs": [
    {
     "name": "stdout",
     "output_type": "stream",
     "text": [
      "[('sally', 17, 'B'), ('jane', 22, 'A'), ('dave', 32, 'B')]\n"
     ]
    }
   ],
   "source": [
    "# operator.itemgetter *\n",
    "\n",
    "from operator import itemgetter\n",
    "\n",
    "students = [(\"jane\", 22, 'A'), \n",
    "           (\"dave\", 32, 'B'), \n",
    "           (\"sally\", 17, 'B')]\n",
    "\n",
    "result = sorted(students, key=itemgetter(1))\n",
    "print(result)\n",
    "\n"
   ]
  },
  {
   "cell_type": "code",
   "execution_count": 22,
   "id": "5e4599f6-dd63-4eb1-9c05-bd9c85084245",
   "metadata": {},
   "outputs": [
    {
     "name": "stdout",
     "output_type": "stream",
     "text": [
      "[('dave', 32, 'B'), ('jane', 22, 'A'), ('sally', 17, 'B')]\n"
     ]
    }
   ],
   "source": [
    "import itertools\n",
    "from operator import itemgetter\n",
    "\n",
    "name = [\"jane\", \"dave\", \"sally\"]\n",
    "age = [22, 32, 17]\n",
    "grade = ['A', 'B', 'B']\n",
    "students = zip(name, age, grade)\n",
    "\n",
    "\n",
    "\n",
    "result = sorted(students, key=itemgetter(1), reverse=True)\n",
    "print(result)\n"
   ]
  },
  {
   "cell_type": "code",
   "execution_count": 23,
   "id": "7b931174-8535-46af-b6d3-c66c9dbab801",
   "metadata": {},
   "outputs": [
    {
     "name": "stdout",
     "output_type": "stream",
     "text": [
      "[{'name': 'sally', 'age': 17, 'grade': 'B'}, {'name': 'jane', 'age': 22, 'grade': 'A'}, {'name': 'dave', 'age': 32, 'grade': 'B'}]\n"
     ]
    }
   ],
   "source": [
    "from operator import itemgetter\n",
    "\n",
    "students = [\n",
    "    {\"name\": \"jane\", \"age\": 22, \"grade\": 'A'},\n",
    "    {\"name\": \"dave\", \"age\": 32, \"grade\": 'B'},\n",
    "    {\"name\": \"sally\", \"age\": 17, \"grade\": 'B'},\n",
    "]\n",
    "\n",
    "result = sorted(students, key=itemgetter('age'))\n",
    "print(result)"
   ]
  },
  {
   "cell_type": "code",
   "execution_count": 26,
   "id": "4fe76f62-b1f2-436a-9554-22b578345f7b",
   "metadata": {},
   "outputs": [
    {
     "name": "stdout",
     "output_type": "stream",
     "text": [
      "[{'name': 'jane', 'age': 22, 'grade': 'A'}, {'name': 'dave', 'age': 32, 'grade': 'B'}, {'name': 'sally', 'age': 17, 'grade': 'B'}]\n",
      "[{'name': 'sally', 'age': 17, 'grade': 'B'}, {'name': 'jane', 'age': 22, 'grade': 'A'}, {'name': 'dave', 'age': 32, 'grade': 'B'}]\n"
     ]
    }
   ],
   "source": [
    "import itertools\n",
    "from operator import itemgetter\n",
    "\n",
    "name = [\"jane\", \"dave\", \"sally\"]\n",
    "age = [22, 32, 17]\n",
    "grade = ['A', 'B', 'B']\n",
    "students = []\n",
    "\n",
    "for n, a, g in zip(name, age, grade):\n",
    "    students.append({'name':n, 'age':a, 'grade':g})\n",
    "\n",
    "print(students)\n",
    "\n",
    "result = sorted(students, key=itemgetter('age'))\n",
    "print(result)"
   ]
  },
  {
   "cell_type": "code",
   "execution_count": 43,
   "id": "aab2a077-2d13-4f10-ad90-55c5b432cb0e",
   "metadata": {},
   "outputs": [
    {
     "name": "stdout",
     "output_type": "stream",
     "text": [
      "('sally', 17, 'B')\n",
      "('jane', 22, 'A')\n",
      "('dave', 32, 'B')\n"
     ]
    }
   ],
   "source": [
    "# operator.attrgetter\n",
    "\n",
    "from operator import attrgetter\n",
    "\n",
    "class Student:\n",
    "    def __init__(self, name, age, grade):\n",
    "        self.name = name\n",
    "        self.age = age\n",
    "        self.grade = grade\n",
    "\n",
    "    def pr(self):\n",
    "        return self.name, self.age, self.grade\n",
    "\n",
    "students = [\n",
    "    Student('jane', 22, 'A'),\n",
    "    Student('dave', 32, 'B'),\n",
    "    Student('sally', 17, 'B'),\n",
    "]\n",
    "\n",
    "result = sorted(students, key=attrgetter('age'))\n",
    "\n",
    "for r in result:\n",
    "    print(r.pr())"
   ]
  },
  {
   "cell_type": "code",
   "execution_count": 45,
   "id": "4960745b-917b-498b-a802-18c444cbd14b",
   "metadata": {},
   "outputs": [
    {
     "name": "stdout",
     "output_type": "stream",
     "text": [
      "29163\n",
      "29168\n",
      "29173\n",
      "29178\n",
      "29183\n"
     ]
    }
   ],
   "source": [
    "# shutil\n",
    "\n",
    "import shutil\n",
    "import time as t\n",
    "\n",
    "for n in range(5):\n",
    "    tstamp = str(round(t.time()))[-5:]\n",
    "    print(tstamp)\n",
    "    shutil.copy('b.txt', f'./backup/b_{tstamp}.txt.bak')\n",
    "    t.sleep(5)"
   ]
  },
  {
   "cell_type": "code",
   "execution_count": 46,
   "id": "f5a34bc5-e7a8-46d8-a748-f2f9734deaeb",
   "metadata": {},
   "outputs": [
    {
     "data": {
      "text/plain": [
       "['./backup\\\\b.txt.bak',\n",
       " './backup\\\\b_29163.txt.bak',\n",
       " './backup\\\\b_29168.txt.bak',\n",
       " './backup\\\\b_29173.txt.bak',\n",
       " './backup\\\\b_29178.txt.bak',\n",
       " './backup\\\\b_29183.txt.bak']"
      ]
     },
     "execution_count": 46,
     "metadata": {},
     "output_type": "execute_result"
    }
   ],
   "source": [
    "# glob\n",
    "\n",
    "import glob\n",
    "\n",
    "glob.glob(\"./backup/*\")"
   ]
  },
  {
   "cell_type": "code",
   "execution_count": 50,
   "id": "732eb18e-7b2f-4992-b93a-482452259618",
   "metadata": {},
   "outputs": [],
   "source": [
    "# pickle\n",
    "\n",
    "import pickle\n",
    "\n",
    "f = open('test.txt', 'wb')\n",
    "data = {1: 'python', 2: 'you need'}\n",
    "pickle.dump(data, f)\n",
    "f.close()"
   ]
  },
  {
   "cell_type": "markdown",
   "id": "df6797db-2dd0-483d-9883-e4e29058a381",
   "metadata": {},
   "source": [
    "## OS"
   ]
  },
  {
   "cell_type": "code",
   "execution_count": null,
   "id": "db165363-be8a-4a46-97d5-3a3859f3a4bf",
   "metadata": {},
   "outputs": [],
   "source": [
    "import os\n",
    "\n",
    "# 환경변수 중 PATH 값\n",
    "os.environ['PATH']\n",
    "\n",
    "# 디렉토리 변경\n",
    "os.chdir(\"C:\\\\WINDOWS\")\n",
    "\n",
    "# 디렉토리 위치 받기\n",
    "os.getcwd()"
   ]
  },
  {
   "cell_type": "code",
   "execution_count": 64,
   "id": "39b623df-2cac-4c5d-a552-469b85a82ff9",
   "metadata": {},
   "outputs": [
    {
     "data": {
      "text/plain": [
       "0"
      ]
     },
     "execution_count": 64,
     "metadata": {},
     "output_type": "execute_result"
    }
   ],
   "source": [
    "# 시스템 명령어 호출 \n",
    "os.system(\"python\") # 에러 시 1을 반환"
   ]
  },
  {
   "cell_type": "code",
   "execution_count": 65,
   "id": "87ee17ff-0f1c-40b0-b82d-982f18476d00",
   "metadata": {},
   "outputs": [
    {
     "data": {
      "text/plain": [
       "'Python 3.13.1\\n'"
      ]
     },
     "execution_count": 65,
     "metadata": {},
     "output_type": "execute_result"
    }
   ],
   "source": [
    "f = os.popen(\"python -V\")\n",
    "f.read()"
   ]
  },
  {
   "cell_type": "code",
   "execution_count": 68,
   "id": "7ef4faf4-8540-4a89-96b0-4251c8062b04",
   "metadata": {},
   "outputs": [],
   "source": [
    "\n",
    "def what(what):\n",
    "    if not os.system(f\"{what}\"):\n",
    "        f = os.popen(f\"{what} -V\")\n",
    "        print(f.read())\n",
    "    else:\n",
    "        print('없는 명령어 입니다.')\n"
   ]
  },
  {
   "cell_type": "code",
   "execution_count": 70,
   "id": "6a64227d-b91a-4efc-a90e-29cc11d53fc8",
   "metadata": {},
   "outputs": [
    {
     "name": "stdout",
     "output_type": "stream",
     "text": [
      "Python 3.13.1\n",
      "\n"
     ]
    }
   ],
   "source": [
    "what('python')"
   ]
  },
  {
   "cell_type": "code",
   "execution_count": 3,
   "id": "36da46b2-112f-4778-841f-7c57d2957a71",
   "metadata": {},
   "outputs": [],
   "source": [
    "# zipfile \n",
    "\n",
    "import zipfile\n",
    "\n",
    "# 파일 합치기 (압축)\n",
    "with zipfile.ZipFile('mytext.zip','w') as myzip:\n",
    "    myzip.write('x.txt')\n",
    "    myzip.write('y.txt')\n",
    "    myzip.write('z.txt')\n",
    "\n",
    "# 해제하기\n",
    "with zipfile.ZipFile('mytext.zip') as myzip:\n",
    "    myzip.extractall()\n",
    "\n"
   ]
  },
  {
   "cell_type": "markdown",
   "id": "da919784-d534-42b8-bfa4-56a150ba5ef8",
   "metadata": {},
   "source": [
    "## Threading"
   ]
  },
  {
   "cell_type": "code",
   "execution_count": 9,
   "id": "0e180836-9f49-4959-8bfc-d30b283edc65",
   "metadata": {},
   "outputs": [],
   "source": [
    "import time as t\n",
    "\n",
    "def long_task():\n",
    "    for i in range(5):\n",
    "        t.sleep(1)\n",
    "        print(\"working: %s\\n\" % i)\n",
    "\n"
   ]
  },
  {
   "cell_type": "code",
   "execution_count": 10,
   "id": "904d2a48-d3f7-4098-b2e1-14ec24fde16b",
   "metadata": {},
   "outputs": [
    {
     "name": "stdout",
     "output_type": "stream",
     "text": [
      "Start\n",
      "working: 0\n",
      "\n",
      "working: 1\n",
      "\n",
      "working: 2\n",
      "\n",
      "working: 3\n",
      "\n",
      "working: 4\n",
      "\n",
      "working: 0\n",
      "\n",
      "working: 1\n",
      "\n",
      "working: 2\n",
      "\n",
      "working: 3\n",
      "\n",
      "working: 4\n",
      "\n",
      "working: 0\n",
      "\n",
      "working: 1\n",
      "\n",
      "working: 2\n",
      "\n",
      "working: 3\n",
      "\n",
      "working: 4\n",
      "\n",
      "working: 0\n",
      "\n",
      "working: 1\n",
      "\n",
      "working: 2\n",
      "\n",
      "working: 3\n",
      "\n",
      "working: 4\n",
      "\n",
      "working: 0\n",
      "\n",
      "working: 1\n",
      "\n",
      "working: 2\n",
      "\n",
      "working: 3\n",
      "\n",
      "working: 4\n",
      "\n",
      "End\n",
      "25.028583765029907\n"
     ]
    }
   ],
   "source": [
    "# 기본작업\n",
    "\n",
    "start = t.time()\n",
    "print(\"Start\")\n",
    "\n",
    "for i in range(5):\n",
    "    long_task()\n",
    "\n",
    "print(\"End\")\n",
    "print(t.time() - start)"
   ]
  },
  {
   "cell_type": "code",
   "execution_count": 11,
   "id": "f034bc32-6660-47ee-b3dd-62007fadb800",
   "metadata": {},
   "outputs": [
    {
     "name": "stdout",
     "output_type": "stream",
     "text": [
      "Start\n",
      "End\n",
      "0.0013740062713623047\n",
      "working: 0\n",
      "working: 0\n",
      "\n",
      "working: 0\n",
      "\n",
      "working: 0\n",
      "\n",
      "working: 0\n",
      "\n",
      "\n",
      "working: 1\n",
      "working: 1\n",
      "\n",
      "working: 1\n",
      "\n",
      "working: 1\n",
      "\n",
      "working: 1\n",
      "\n",
      "\n",
      "working: 2\n",
      "\n",
      "working: 2\n",
      "\n",
      "working: 2\n",
      "\n",
      "working: 2\n",
      "\n",
      "working: 2\n",
      "\n",
      "working: 3\n",
      "working: 3\n",
      "\n",
      "working: 3\n",
      "\n",
      "working: 3\n",
      "\n",
      "working: 3\n",
      "\n",
      "\n",
      "working: 4\n",
      "\n",
      "working: 4\n",
      "\n",
      "working: 4\n",
      "\n",
      "working: 4\n",
      "\n",
      "working: 4\n",
      "\n"
     ]
    }
   ],
   "source": [
    "# thread를 사용 *****\n",
    "\n",
    "import threading\n",
    "\n",
    "threads = []\n",
    "start = t.time()\n",
    "print(\"Start\")\n",
    "\n",
    "for i in range(5):\n",
    "    th = threading.Thread(target=long_task)\n",
    "    threads.append(th)\n",
    "\n",
    "for th in threads:\n",
    "    th.start()\n",
    "\n",
    "print(\"End\")\n",
    "print(t.time() - start)"
   ]
  },
  {
   "cell_type": "markdown",
   "id": "d9b856ab-1297-4b6c-8285-22c91babc2d5",
   "metadata": {},
   "source": [
    "## 기타"
   ]
  },
  {
   "cell_type": "code",
   "execution_count": 19,
   "id": "48ab3c10-b676-48d1-be07-d3e955f4740f",
   "metadata": {},
   "outputs": [
    {
     "data": {
      "text/plain": [
       "(4, 'C:\\\\Users\\\\Admin\\\\AppData\\\\Local\\\\Temp\\\\tmp777p6t8n')"
      ]
     },
     "execution_count": 19,
     "metadata": {},
     "output_type": "execute_result"
    }
   ],
   "source": [
    "import tempfile\n",
    "\n",
    "# filename = tempfile.mkstemp()\n",
    "# filename\n",
    "\n",
    "# f = tempfile.TemporaryFile()\n",
    "# f.close()"
   ]
  },
  {
   "cell_type": "code",
   "execution_count": 16,
   "id": "0d5adabe-2a86-446d-8227-6c71932e0f02",
   "metadata": {},
   "outputs": [
    {
     "name": "stdout",
     "output_type": "stream",
     "text": [
      "오류가 발생했습니다.\n",
      "Traceback (most recent call last):\n",
      "  File \"C:\\Users\\Admin\\AppData\\Local\\Temp\\ipykernel_9544\\3251494449.py\", line 13, in main\n",
      "    b()\n",
      "    ~^^\n",
      "  File \"C:\\Users\\Admin\\AppData\\Local\\Temp\\ipykernel_9544\\3251494449.py\", line 9, in b\n",
      "    a()\n",
      "    ~^^\n",
      "  File \"C:\\Users\\Admin\\AppData\\Local\\Temp\\ipykernel_9544\\3251494449.py\", line 6, in a\n",
      "    return 1/0\n",
      "           ~^~\n",
      "ZeroDivisionError: division by zero\n",
      "\n"
     ]
    }
   ],
   "source": [
    "# traceback\n",
    "\n",
    "import traceback\n",
    "\n",
    "def a():\n",
    "    return 1/0\n",
    "\n",
    "def b():\n",
    "    a()\n",
    "\n",
    "def main():\n",
    "    try:\n",
    "        b()\n",
    "    except:\n",
    "        print(\"오류가 발생했습니다.\")\n",
    "        print(traceback.format_exc())\n",
    "\n",
    "main()"
   ]
  },
  {
   "cell_type": "markdown",
   "id": "7004a188-5737-4160-bbc9-e889f0477094",
   "metadata": {},
   "source": [
    "# JSON"
   ]
  },
  {
   "cell_type": "code",
   "execution_count": 1,
   "id": "f0cfe4be-6bf7-419b-9236-70f52e66345c",
   "metadata": {},
   "outputs": [
    {
     "data": {
      "text/plain": [
       "{'name': '홍길동', 'birth': '0525', 'age': 30}"
      ]
     },
     "execution_count": 1,
     "metadata": {},
     "output_type": "execute_result"
    }
   ],
   "source": [
    "{\n",
    "    \"name\":\"홍길동\",\n",
    "    \"birth\":\"0525\",\n",
    "    \"age\":30\n",
    "}"
   ]
  },
  {
   "cell_type": "code",
   "execution_count": 18,
   "id": "73668cce-8ff9-4950-82f5-e9e16854599e",
   "metadata": {},
   "outputs": [
    {
     "name": "stdout",
     "output_type": "stream",
     "text": [
      "{\"userId\": 1, \"id\": 1, \"title\": \"delectus aut autem\", \"completed\": false, \"test\": \"\\ud55c\\uae00\\ub3c4 \\ub418\\ub098\\ubcf4\\uc790\"}\n"
     ]
    }
   ],
   "source": [
    "import requests\n",
    "import json\n",
    "\n",
    "url = 'https://jsonplaceholder.typicode.com/todos'  # JSON 파일을 읽어오기\n",
    "data = requests.get(url).json()[0]  # JSON -> DICT\n",
    "data['test'] = \"한글도 되나보자\" # DICT 에 자료 삽입\n",
    "\n",
    "with open('todo.json', 'w') as f:  \n",
    "    json.dump(data, f)  # DICT -> JSON\n",
    "\n",
    "data_s = json.dumps(data) # string으로 처리 한글 깨짐\n",
    "# data_s = json.dumps(data, ensure_ascii=False) # 한글 깨짐 방지\n",
    "print(data_s)"
   ]
  },
  {
   "cell_type": "code",
   "execution_count": 19,
   "id": "d88ea56c-d021-4f1a-a51d-da68df566fd4",
   "metadata": {},
   "outputs": [
    {
     "name": "stdout",
     "output_type": "stream",
     "text": [
      "{'userId': 1, 'id': 1, 'title': 'delectus aut autem', 'completed': False, 'test': '한글도 되나보자'}\n",
      "{'userId': 1, 'id': 1, 'title': 'delectus aut autem', 'completed': False, 'test': '한글도 되나보자'}\n"
     ]
    }
   ],
   "source": [
    "with open('todo.json') as f:\n",
    "    data = json.load(f)  # JSON -> DICT\n",
    "\n",
    "print(json.loads(data_s)) # string 로드\n",
    "print(data)"
   ]
  },
  {
   "cell_type": "code",
   "execution_count": 24,
   "id": "a808573d-2b9d-4139-ab16-0c8df38542e0",
   "metadata": {},
   "outputs": [
    {
     "data": {
      "text/plain": [
       "True"
      ]
     },
     "execution_count": 24,
     "metadata": {},
     "output_type": "execute_result"
    }
   ],
   "source": [
    "import webbrowser\n",
    "\n",
    "webbrowser.open_new_tab('https://www.naver.com')\n"
   ]
  },
  {
   "cell_type": "code",
   "execution_count": 32,
   "id": "a8b94108-59b9-4e49-a945-3717f80e187a",
   "metadata": {},
   "outputs": [],
   "source": [
    "import urllib.request\n",
    "import time as t\n",
    "\n",
    "def get_posts(page):\n",
    "    resource = f'https://jsonplaceholder.typicode.com/posts/{page}'\n",
    "    with urllib.request.urlopen(resource) as s:\n",
    "        with open(f'./page/posts_{page}.html', 'wb') as f:\n",
    "            f.write(s.read())\n",
    "\n",
    "for n in range(1, 11):\n",
    "    get_posts(n)\n",
    "    t.sleep(0.1)"
   ]
  },
  {
   "cell_type": "code",
   "execution_count": 35,
   "id": "2cfc30fe-224a-49b2-81be-a94da515bc4d",
   "metadata": {},
   "outputs": [
    {
     "data": {
      "text/plain": [
       "True"
      ]
     },
     "execution_count": 35,
     "metadata": {},
     "output_type": "execute_result"
    }
   ],
   "source": [
    "import webbrowser\n",
    "\n",
    "webbrowser.open_new_tab('.html')"
   ]
  },
  {
   "cell_type": "code",
   "execution_count": null,
   "id": "f59772f9-11f3-4cd1-87df-748300827985",
   "metadata": {},
   "outputs": [],
   "source": []
  }
 ],
 "metadata": {
  "kernelspec": {
   "display_name": "Python 3 (ipykernel)",
   "language": "python",
   "name": "python3"
  },
  "language_info": {
   "codemirror_mode": {
    "name": "ipython",
    "version": 3
   },
   "file_extension": ".py",
   "mimetype": "text/x-python",
   "name": "python",
   "nbconvert_exporter": "python",
   "pygments_lexer": "ipython3",
   "version": "3.13.1"
  }
 },
 "nbformat": 4,
 "nbformat_minor": 5
}
