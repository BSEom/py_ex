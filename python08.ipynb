{
 "cells": [
  {
   "cell_type": "markdown",
   "id": "62e3c76d-ab49-44a4-94bc-e6c27b67b7c1",
   "metadata": {},
   "source": [
    "# 외부 라이브러리"
   ]
  },
  {
   "cell_type": "markdown",
   "id": "10e2948a-222d-4748-bbce-00223819a442",
   "metadata": {},
   "source": [
    "## pip *"
   ]
  },
  {
   "cell_type": "markdown",
   "id": "61edce38-d29d-426b-a228-87559ec6744f",
   "metadata": {},
   "source": [
    "## Faker"
   ]
  },
  {
   "cell_type": "code",
   "execution_count": 1,
   "id": "4658db40-1031-4dde-a13e-67b91bfe8d3c",
   "metadata": {},
   "outputs": [
    {
     "name": "stdout",
     "output_type": "stream",
     "text": [
      "Collecting Faker\n",
      "  Downloading Faker-36.1.1-py3-none-any.whl.metadata (15 kB)\n",
      "Collecting tzdata (from Faker)\n",
      "  Downloading tzdata-2025.1-py2.py3-none-any.whl.metadata (1.4 kB)\n",
      "Downloading Faker-36.1.1-py3-none-any.whl (1.9 MB)\n",
      "   ---------------------------------------- 0.0/1.9 MB ? eta -:--:--\n",
      "   ---------------------------------------- 1.9/1.9 MB 54.0 MB/s eta 0:00:00\n",
      "Downloading tzdata-2025.1-py2.py3-none-any.whl (346 kB)\n",
      "Installing collected packages: tzdata, Faker\n",
      "Successfully installed Faker-36.1.1 tzdata-2025.1\n"
     ]
    }
   ],
   "source": [
    "# !pip install Faker"
   ]
  },
  {
   "cell_type": "code",
   "execution_count": 21,
   "id": "393ba05f-9bba-484d-b52f-a1e94eb9fd7b",
   "metadata": {},
   "outputs": [
    {
     "data": {
      "text/plain": [
       "[{'name': '정상철',\n",
       "  'company': '주식회사 이차고',\n",
       "  'phone': '018-064-0674',\n",
       "  'email': 'ii@example.org'},\n",
       " {'name': '최지연',\n",
       "  'company': '유한회사 강',\n",
       "  'phone': '042-876-0806',\n",
       "  'email': 'zi@example.com'},\n",
       " {'name': '김유진',\n",
       "  'company': '주식회사 이김남',\n",
       "  'phone': '063-451-2969',\n",
       "  'email': 'gimcunja@example.com'},\n",
       " {'name': '최영환',\n",
       "  'company': '유한회사 이',\n",
       "  'phone': '032-795-0641',\n",
       "  'email': 'sanghun84@example.net'},\n",
       " {'name': '김영숙',\n",
       "  'company': '최박',\n",
       "  'phone': '033-523-1606',\n",
       "  'email': 'bagsangceol@example.org'},\n",
       " {'name': '고민석',\n",
       "  'company': '(주) 김최김',\n",
       "  'phone': '032-003-2741',\n",
       "  'email': 'yujin11@example.org'},\n",
       " {'name': '김예지',\n",
       "  'company': '주식회사 이박송',\n",
       "  'phone': '041-008-8534',\n",
       "  'email': 'igyeongja@example.net'},\n",
       " {'name': '김미정',\n",
       "  'company': '김박최',\n",
       "  'phone': '044-294-8648',\n",
       "  'email': 'subin07@example.net'},\n",
       " {'name': '김수민',\n",
       "  'company': '(유) 민',\n",
       "  'phone': '051-005-1366',\n",
       "  'email': 'jeonghyi13@example.net'},\n",
       " {'name': '이영환',\n",
       "  'company': '유한회사 김송박',\n",
       "  'phone': '019-342-0771',\n",
       "  'email': 'jhong@example.net'}]"
      ]
     },
     "execution_count": 21,
     "metadata": {},
     "output_type": "execute_result"
    }
   ],
   "source": [
    "from faker import Faker\n",
    "\n",
    "fake = Faker('ko-KR')\n",
    "[{'name':fake.name(), 'company': fake.company(), 'phone': fake.phone_number(), 'email': fake.email()} for m in range(10)]"
   ]
  },
  {
   "cell_type": "markdown",
   "id": "77094c92-86ae-46c8-9ff9-905f9fab6960",
   "metadata": {},
   "source": [
    "<table style=\"float:left; width:400px\">\n",
    "<thead>\n",
    "<tr>\n",
    "<th>항목</th>\n",
    "<th>설명</th>\n",
    "</tr>\n",
    "</thead>\n",
    "<tbody>\n",
    "<tr>\n",
    "<td>fake.name()</td>\n",
    "<td>이름</td>\n",
    "</tr>\n",
    "<tr>\n",
    "<td>fake.address()</td>\n",
    "<td>주소</td>\n",
    "</tr>\n",
    "<tr>\n",
    "<td>fake.postcode()</td>\n",
    "<td>우편 번호</td>\n",
    "</tr>\n",
    "<tr>\n",
    "<td>fake.country()</td>\n",
    "<td>국가명</td>\n",
    "</tr>\n",
    "<tr>\n",
    "<td>fake.company()</td>\n",
    "<td>회사명</td>\n",
    "</tr>\n",
    "<tr>\n",
    "<td>fake.job()</td>\n",
    "<td>직업명</td>\n",
    "</tr>\n",
    "<tr>\n",
    "<td>fake.phone_number()</td>\n",
    "<td>휴대전화 번호</td>\n",
    "</tr>\n",
    "<tr>\n",
    "<td>fake.email()</td>\n",
    "<td>이메일 주소</td>\n",
    "</tr>\n",
    "<tr>\n",
    "<td>fake.user_name()</td>\n",
    "<td>사용자명</td>\n",
    "</tr>\n",
    "<tr>\n",
    "<td>fake.pyint(min_value=0, max_value=100)</td>\n",
    "<td>0부터 100 사이의 임의의 숫자</td>\n",
    "</tr>\n",
    "<tr>\n",
    "<td>fake.ipv4_private()</td>\n",
    "<td>IP 주소</td>\n",
    "</tr>\n",
    "<tr>\n",
    "<td>fake.text()</td>\n",
    "<td>임의의 문장 (한글 임의의 문장은 <code>fake.catch_phrase()</code> 사용)</td>\n",
    "</tr>\n",
    "<tr>\n",
    "<td>fake.color_name()</td>\n",
    "<td>색상명</td>\n",
    "</tr>\n",
    "</tbody>\n",
    "</table>"
   ]
  },
  {
   "cell_type": "code",
   "execution_count": 38,
   "id": "4d684344-85f3-488e-8df4-db280bcbc632",
   "metadata": {},
   "outputs": [
    {
     "name": "stdout",
     "output_type": "stream",
     "text": [
      "1위: REBEL HEART / IVE (아이브)\n"
     ]
    }
   ],
   "source": [
    "import requests as req\n",
    "from bs4 import BeautifulSoup as bs\n",
    "\n",
    "url = 'https://www.melon.com/chart/index.htm'\n",
    "headers = {'User-Agent':'Mozilla/5.0 (Windows NT 10.0; Win64; x64) AppleWebKit/537.36 (KHTML, like Gecko) Chrome/133.0.0.0 Safari/537.36'}\n",
    "web = req.get(url, headers = headers)\n",
    "\n",
    "\n",
    "soup = bs(web.content, 'html.parser')\n",
    "title = soup.select_one('.wrap_song_info')\n",
    "\n",
    "# print(title)\n",
    "atitle = title.select_one('a')\n",
    "# print(atitle)\n",
    "\n",
    "aname0 = title.select_one('.checkEllipsis')\n",
    "aname = aname0.select_one('a')\n",
    "# print(aname)\n",
    "\n",
    "print('1위:', atitle.text, '/', aname.text)\n"
   ]
  },
  {
   "cell_type": "code",
   "execution_count": 24,
   "id": "74f06b11-4e52-4a45-9e49-90b10cfa5f30",
   "metadata": {},
   "outputs": [
    {
     "name": "stdout",
     "output_type": "stream",
     "text": [
      "1위: REBEL HEART / IVE (아이브)\n",
      "2위: HOME SWEET HOME (feat. 태양, 대성) / G-DRAGON\n",
      "3위: 나는 반딧불 / 황가람\n",
      "4위: Whiplash / aespa\n",
      "5위: Drowning / WOODZ\n",
      "6위: ATTITUDE / IVE (아이브)\n",
      "7위: APT. / 로제 (ROSÉ), Bruno Mars\n",
      "8위: 오늘만 I LOVE YOU / BOYNEXTDOOR\n",
      "9위: toxic till the end / 로제 (ROSÉ)\n",
      "10위: 모르시나요(PROD.로코베리) / 조째즈\n",
      "11위: Dash / PLAVE\n",
      "12위: HAPPY / DAY6 (데이식스)\n",
      "13위: POWER / G-DRAGON\n",
      "14위: 내게 사랑이 뭐냐고 물어본다면 / 로이킴\n",
      "15위: RIZZ / PLAVE\n",
      "16위: DRIP / BABYMONSTER\n",
      "17위: Chroma Drift / PLAVE\n",
      "18위: Island / PLAVE\n",
      "19위: 너와의 모든 지금 / 재쓰비 (JAESSBEE)\n",
      "20위: 소나기 / 이클립스 (ECLIPSE)\n",
      "\n"
     ]
    }
   ],
   "source": [
    "import requests as req\n",
    "from bs4 import BeautifulSoup as bs\n",
    "\n",
    "url = 'https://www.melon.com/chart/index.htm'\n",
    "headers = {'User-Agent':'Mozilla/5.0 (Windows NT 10.0; Win64; x64) AppleWebKit/537.36 (KHTML, like Gecko) Chrome/133.0.0.0 Safari/537.36'}\n",
    "web = req.get(url, headers = headers)\n",
    "\n",
    "\n",
    "soup = bs(web.content, 'html.parser')\n",
    "\n",
    "title = soup.select('.rank01')[:20]\n",
    "# name = soup.select('.checkEllipsis a')[:20]\n",
    "name = soup.select('div.ellipsis.rank02 span')[:20]\n",
    "\n",
    "\n",
    "\n",
    "\n",
    "str = ''\n",
    "# print(title)\n",
    "\n",
    "for i, (t, n) in enumerate(zip(title, name), 1):\n",
    "    str += f'{i}위: {t.text.strip()} / {n.text}\\n'\n",
    "\n",
    "print(str)\n",
    "    "
   ]
  },
  {
   "cell_type": "code",
   "execution_count": 25,
   "id": "dac59b8e-ff37-42c2-a0f7-d20a82cbe048",
   "metadata": {},
   "outputs": [
    {
     "name": "stdout",
     "output_type": "stream",
     "text": [
      "1위: REBEL HEART / IVE (아이브)\n",
      "2위: HOME SWEET HOME (feat. 태양, 대성) / G-DRAGON\n",
      "3위: 나는 반딧불 / 황가람\n",
      "4위: Whiplash / aespa\n",
      "5위: Drowning / WOODZ\n",
      "6위: ATTITUDE / IVE (아이브)\n",
      "7위: APT. / 로제 (ROSÉ)\n",
      "8위: 오늘만 I LOVE YOU / Bruno Mars\n",
      "9위: toxic till the end / BOYNEXTDOOR\n",
      "10위: 모르시나요(PROD.로코베리) / 로제 (ROSÉ)\n",
      "11위: Dash / 조째즈\n",
      "12위: HAPPY / PLAVE\n",
      "13위: POWER / DAY6 (데이식스)\n",
      "14위: 내게 사랑이 뭐냐고 물어본다면 / G-DRAGON\n",
      "15위: RIZZ / 로이킴\n",
      "16위: DRIP / PLAVE\n",
      "17위: Chroma Drift / BABYMONSTER\n",
      "18위: Island / PLAVE\n",
      "19위: 너와의 모든 지금 / PLAVE\n",
      "20위: 소나기 / 재쓰비 (JAESSBEE)\n",
      "\n"
     ]
    }
   ],
   "source": [
    "import melon\n",
    "\n",
    "melon.melon_chart()"
   ]
  },
  {
   "cell_type": "code",
   "execution_count": 47,
   "id": "83a90255-1cd7-4436-a9c2-7df08b8d662f",
   "metadata": {},
   "outputs": [],
   "source": [
    "# !pip install html5lib"
   ]
  },
  {
   "cell_type": "code",
   "execution_count": 6,
   "id": "b9ef490b-58a5-45f2-b06c-5f83c0ab103c",
   "metadata": {},
   "outputs": [
    {
     "name": "stdout",
     "output_type": "stream",
     "text": [
      "===============\n",
      "월 2025.02.17\n",
      "---------------\n",
      "정식-5,500원\n",
      "강황밥\n",
      "김치콩나물국\n",
      "돈육바싹불고기\n",
      "모듬잡채\n",
      "멸치새우견과볶음\n",
      "상추겉절이\n",
      "포기김치\n",
      "\n",
      "===============\n",
      "화 2025.02.18\n",
      "---------------\n",
      "정식-5,500원\n",
      "백미밥\n",
      "물만두국\n",
      "순살닭매콤조림\n",
      "쫄면야채무침\n",
      "파래무무침\n",
      "참나물겉절이\n",
      "포기김치\n",
      "\n",
      "===============\n",
      "수 2025.02.19\n",
      "---------------\n",
      "정식-5,500원\n",
      "백미밥\n",
      "모듬어묵국\n",
      "함박스테이크/치즈/소스\n",
      "스파게티/소스\n",
      "치커리유자청샐러드\n",
      "콩나물무침\n",
      "포기김치\n",
      "\n",
      "===============\n",
      "목 2025.02.20\n",
      "---------------\n",
      "정식-5,500원\n",
      "잡곡밥\n",
      "홍합미역국\n",
      "순살치킨/맛초킹소스\n",
      "꼬시레기두부무침\n",
      "잡채어묵조림\n",
      "상추겉절이\n",
      "포기김치\n",
      "\n",
      "===============\n",
      "금 2025.02.21\n",
      "---------------\n",
      "정식-5,500원\n",
      "백미밥\n",
      "국수\n",
      "깐풍기/소스\n",
      "알감자버터구이\n",
      "도토리묵김치무침\n",
      "열무겉절이\n",
      "포기김치\n",
      "\n"
     ]
    }
   ],
   "source": [
    "import requests as req\n",
    "from bs4 import BeautifulSoup as bs\n",
    "\n",
    "\n",
    "url = 'https://www.pusan.ac.kr/kor/CMS/MenuMgr/menuListOnBuilding.do?mCode=MN202'\n",
    "web = req.get(url)\n",
    "\n",
    "soup = bs(web.content, 'html5lib')\n",
    "menucard = soup.select('.menu-tbl')\n",
    "won = soup.select('.menu-tit01')\n",
    "menu = soup.select('h3.menu-tit01+p')\n",
    "day = soup.select('.day')\n",
    "date = soup.select('.date')\n",
    "\n",
    "for w, m, d, dd in zip(won, menu, day, date):\n",
    "    print('='*15)\n",
    "    print(d.text, dd.text)\n",
    "    print('-'*15)\n",
    "    print(w.text + '\\n' + m.text)\n",
    "    \n"
   ]
  },
  {
   "cell_type": "code",
   "execution_count": 33,
   "id": "7e025a97-7ea1-49c5-9eb6-ebb0e1c05811",
   "metadata": {},
   "outputs": [],
   "source": [
    "import requests as req\n",
    "from bs4 import BeautifulSoup as bs\n",
    "\n",
    "def stock_list():\n",
    "    url = 'https://finance.naver.com/sise/lastsearch2.naver'\n",
    "    web = req.get(url)\n",
    "    soup = bs(web.content, 'html.parser')\n",
    "\n",
    "    no = soup.select('.type_5 td.no')\n",
    "    price = soup.select('.type_5 td:nth-child(4)')\n",
    "    name = soup.select('.type_5 td a')\n",
    "\n",
    "    \n",
    "    \n",
    "    for num, n, p in zip(no, name, price):\n",
    "        print(num.text, n.text + ':', p.text + '원')\n"
   ]
  },
  {
   "cell_type": "code",
   "execution_count": 34,
   "id": "38cc7a4b-221d-42e3-8039-366af0561e79",
   "metadata": {},
   "outputs": [
    {
     "name": "stdout",
     "output_type": "stream",
     "text": [
      "1 삼성전자: 59,000원\n",
      "2 모티브링크: 16,900원\n",
      "3 한화오션: 73,000원\n",
      "4 두산에너빌리티: 28,550원\n",
      "5 삼성중공업: 13,980원\n",
      "6 HLB: 86,200원\n",
      "7 폴라리스오피스: 7,360원\n",
      "8 필옵틱스: 48,800원\n",
      "9 한화에어로스페이스: 612,000원\n",
      "10 레인보우로보틱스: 404,000원\n",
      "11 SK하이닉스: 217,000원\n",
      "12 포스코DX: 25,650원\n",
      "13 동국생명과학: 15,180원\n",
      "14 피아이이: 12,290원\n",
      "15 POSCO홀딩스: 264,500원\n",
      "16 셀바스AI: 15,650원\n",
      "17 오름테라퓨틱: 37,500원\n",
      "18 에코프로비엠: 138,700원\n",
      "19 한화시스템: 32,850원\n",
      "20 알테오젠: 377,500원\n",
      "21 고영: 19,210원\n",
      "22 현대차: 202,000원\n",
      "23 한미반도체: 106,500원\n",
      "24 현대로템: 85,000원\n",
      "25 유일로보틱스: 65,500원\n",
      "26 아이에스티이: 20,650원\n",
      "27 하이브: 250,500원\n",
      "28 JYP Ent.: 83,000원\n",
      "29 카카오: 40,050원\n",
      "30 LS ELECTRIC: 277,500원\n"
     ]
    }
   ],
   "source": [
    "stock_list()"
   ]
  },
  {
   "cell_type": "code",
   "execution_count": null,
   "id": "a1719a5f-9b9f-4e56-b0e5-b1ce89ff230e",
   "metadata": {},
   "outputs": [],
   "source": []
  }
 ],
 "metadata": {
  "kernelspec": {
   "display_name": "Python 3 (ipykernel)",
   "language": "python",
   "name": "python3"
  },
  "language_info": {
   "codemirror_mode": {
    "name": "ipython",
    "version": 3
   },
   "file_extension": ".py",
   "mimetype": "text/x-python",
   "name": "python",
   "nbconvert_exporter": "python",
   "pygments_lexer": "ipython3",
   "version": "3.13.1"
  }
 },
 "nbformat": 4,
 "nbformat_minor": 5
}
