{
 "cells": [
  {
   "cell_type": "markdown",
   "id": "78442d7c-0324-4744-8eeb-82310648db73",
   "metadata": {},
   "source": [
    "# 제어문"
   ]
  },
  {
   "cell_type": "markdown",
   "id": "a7a8093a-4a59-4a1b-a599-ae58e6b438f3",
   "metadata": {},
   "source": [
    "## if 문"
   ]
  },
  {
   "cell_type": "code",
   "execution_count": 1,
   "id": "bcd9e46d-77b1-49a7-bb35-105c1f5d17d0",
   "metadata": {},
   "outputs": [
    {
     "name": "stdout",
     "output_type": "stream",
     "text": [
      "항상 동작합니다.\n",
      "5가 큽니다\n"
     ]
    }
   ],
   "source": [
    "if True:\n",
    "    print(\"항상 동작합니다.\")\n",
    "if False:\n",
    "    print(\"이건 동작할까요?\")\n",
    "\n",
    "if 5 > 2:\n",
    "    print(\"5가 큽니다\")\n",
    "if 4 > 10:\n",
    "    print(\"나올까요?\")\n",
    "    "
   ]
  },
  {
   "cell_type": "code",
   "execution_count": 2,
   "id": "7863a8b7-3f8b-427a-9713-f3d1c6dcf97b",
   "metadata": {},
   "outputs": [
    {
     "name": "stdout",
     "output_type": "stream",
     "text": [
      "9 나 화났어!\n",
      "8 나 화났어!\n",
      "7 나 화났어!\n",
      "6 나 화났어!\n",
      "5 나 화났어!\n",
      "4 나 화났어!\n",
      "3 나 화났어!\n",
      "2 나 화났어!\n",
      "1 나 화났어!\n",
      "0 나 화났어!\n"
     ]
    }
   ],
   "source": [
    "num = 10 \n",
    "while num:\n",
    "    num -= 1\n",
    "    print(num, \"나 화났어!\")\n",
    "    "
   ]
  },
  {
   "cell_type": "code",
   "execution_count": 3,
   "id": "d4a3be8f-915c-423f-b371-9d83a0089f5c",
   "metadata": {},
   "outputs": [
    {
     "name": "stdout",
     "output_type": "stream",
     "text": [
      "가라\n"
     ]
    }
   ],
   "source": [
    "if False:\n",
    "    print(\"택시를\")\n",
    "    print(\"타고\")\n",
    "print(\"가라\")"
   ]
  },
  {
   "cell_type": "code",
   "execution_count": null,
   "id": "b3417e17-e5b1-4512-bdf9-546fdb64a3d4",
   "metadata": {},
   "outputs": [],
   "source": [
    "mymoney = int(input('얼마 가지고 있습니까?'))\n",
    "if mymoney >= 3000: \n",
    "    print('택시타고 가세요.')\n",
    "# if mymoney < 3000:\n",
    "else:\n",
    "    print(\"걸어가세요.\")"
   ]
  },
  {
   "cell_type": "code",
   "execution_count": null,
   "id": "ccf90077-0287-4282-a0b2-b8c9ae9f2b45",
   "metadata": {},
   "outputs": [],
   "source": [
    "\n",
    "print(\"====== and 연산 ======\")\n",
    "print(True and True)\n",
    "print(True and False)\n",
    "print(False and True)\n",
    "print(False and False)\n",
    "\n",
    "print(\"====== or 연산 ======\")\n",
    "print(True or True)\n",
    "print(True or False)\n",
    "print(False or True)\n",
    "print(False or False)\n",
    "\n",
    "print(\"====== not 연산 ======\")\n",
    "print(True)\n",
    "print(not True)\n",
    "print(not False)\n"
   ]
  },
  {
   "cell_type": "code",
   "execution_count": null,
   "id": "3b826cbf-fb4b-48c2-bcdf-4126944555e2",
   "metadata": {},
   "outputs": [],
   "source": [
    "이상형 = True\n",
    "똑똑 = False\n",
    "if 이상형 and 똑똑:\n",
    "    print(\"만납시다\")\n",
    "else:\n",
    "    print(\"반가워요\")"
   ]
  },
  {
   "cell_type": "code",
   "execution_count": null,
   "id": "3afa0c17-3979-455d-83a6-839a04d8e9ff",
   "metadata": {},
   "outputs": [],
   "source": [
    "이상형 = False\n",
    "다정 = False\n",
    "if 이상형 or 다정:\n",
    "    print(\"만납시다\")\n",
    "else:\n",
    "    print(\"그렇군요...\")"
   ]
  },
  {
   "cell_type": "code",
   "execution_count": null,
   "id": "c53fbe2f-13e8-461f-8a49-17d3864a01af",
   "metadata": {},
   "outputs": [],
   "source": [
    "주사 = True\n",
    "\n",
    "if not 주사:\n",
    "    print(\"만나요\")\n",
    "else:\n",
    "    print(\"잘가요\")"
   ]
  },
  {
   "cell_type": "code",
   "execution_count": null,
   "id": "f4082e4e-420d-4432-b227-af664c418654",
   "metadata": {},
   "outputs": [],
   "source": [
    "money = 2000\n",
    "card = True\n",
    "if money >= 3000 or card:\n",
    "    print(\"택시를 타고 가라\")\n",
    "else:\n",
    "\n",
    "    print(\"걸어가라\")"
   ]
  },
  {
   "cell_type": "code",
   "execution_count": null,
   "id": "b7807485-d337-4858-8276-87eb132280c8",
   "metadata": {},
   "outputs": [],
   "source": [
    "me = 'Python'\n",
    "\n",
    "compA = ['JAVA', 'CSS', 'Javascript', 'C', 'MySQL']\n",
    "compB = ['JAVA', 'Python', 'Javascript', 'C', 'MySQL']\n",
    "compC = ['JAVA', 'Python', 'HTML', 'MySQL']\n",
    "\n",
    "if me in compA:\n",
    "    print(\"A회사 합격입니다.\")\n",
    "else:\n",
    "    print(\"A회사 불합격입니다.\")\n",
    "\n",
    "if me in compB:\n",
    "    print(\"B회사 합격입니다.\")\n",
    "else:\n",
    "    print(\"B회사 불합격입니다.\")\n",
    "\n",
    "if me in compC:\n",
    "    print(\"C회사 합격입니다.\")\n",
    "else:\n",
    "    print(\"C회사 불합격입니다.\")\n",
    "    "
   ]
  },
  {
   "cell_type": "code",
   "execution_count": null,
   "id": "f693d3fe-98d0-41bf-ae91-21bf3c8a8164",
   "metadata": {},
   "outputs": [],
   "source": [
    "me = 'Python'\n",
    "\n",
    "compA = ['JAVA', 'CSS', 'Javascript', 'C', 'MySQL']\n",
    "compB = ['JAVA', 'Python', 'Javascript', 'C', 'MySQL']\n",
    "compC = ['JAVA', 'Python', 'HTML', 'MySQL']\n",
    "\n",
    "name = ['A', 'B', 'C']\n",
    "p = 0\n",
    "\n",
    "for i in [compA, compB, compC]:\n",
    "    \n",
    "    if me in i:\n",
    "        print(f\"{name[p]}회사 합격입니다.\")\n",
    "    else:\n",
    "        print(f\"{name[p]}회사 불합격입니다.\")\n",
    "\n",
    "    p += 1\n",
    "     \n"
   ]
  },
  {
   "cell_type": "code",
   "execution_count": null,
   "id": "fb91a74f-b247-493b-8de6-ef99ce361d06",
   "metadata": {},
   "outputs": [],
   "source": [
    "# 처음 작성한 코드\n",
    "\n",
    "# if만 사용할 때 조건을 사용해버렸음\n",
    "# elif라서 위에 적은 조건 다시 입력할 필요 없다.\n",
    "# 대신 순차대로 조건을 설정해야한다.\n",
    "# 순서가 바뀐다면 아래와같이 조건을 상세하게 설정해야한다. \n",
    "\n",
    "\n",
    "sub = int(input(\"점수를 입력하세요. :\"))\n",
    "\n",
    "if sub>=90 and sub<=100:\n",
    "    print('A')\n",
    "elif sub>=80 and sub<90:\n",
    "    print('B')\n",
    "elif sub>=70 and sub<80:\n",
    "    print('C')\n",
    "elif sub>=60 and sub<70:\n",
    "    print('D')\n",
    "else:\n",
    "    print('F')\n",
    "    "
   ]
  },
  {
   "cell_type": "code",
   "execution_count": null,
   "id": "5b883b29-6829-4d53-8394-aefd2c2a7d6d",
   "metadata": {},
   "outputs": [],
   "source": [
    "sub = int(input(\"점수를 입력하세요. :\"))\n",
    "\n",
    "if sub>=90:\n",
    "    print('A')\n",
    "elif sub>=80:\n",
    "    print('B')\n",
    "elif sub>=70:\n",
    "    print('C')\n",
    "elif sub>=60:\n",
    "    print('D')\n",
    "else:\n",
    "    print('F')"
   ]
  },
  {
   "cell_type": "code",
   "execution_count": null,
   "id": "5c4d0900-a101-4ed2-a2bf-19ce3922f3cf",
   "metadata": {},
   "outputs": [],
   "source": [
    "# if만 사용\n",
    "\n",
    "sub = int(input(\"점수를 입력하세요. :\"))\n",
    "\n",
    "if sub>=90 and sub<=100:\n",
    "    print('A')\n",
    "if sub>=80 and sub<90:\n",
    "    print('B')\n",
    "if sub>=70 and sub<80:\n",
    "    print('C')\n",
    "if sub>=60 and sub<70:\n",
    "    print('D')\n",
    "if sub<60:\n",
    "    print('F')\n"
   ]
  },
  {
   "cell_type": "code",
   "execution_count": null,
   "id": "e265cb73-d3db-45bc-9c28-a1daab861483",
   "metadata": {},
   "outputs": [],
   "source": [
    "\n",
    "temp = int(input(\"현재 기온을 입력하세요. :\"))\n",
    "w = '겨울'\n",
    "\n",
    "if temp >= 25:\n",
    "    w = '여름'\n",
    "elif temp >= 15:\n",
    "    w = '봄'\n",
    "elif temp >= 10:\n",
    "    w = '가을'\n",
    "\n",
    "print(f'지금 계절은 {w}!')\n"
   ]
  },
  {
   "cell_type": "code",
   "execution_count": null,
   "id": "086d3e79-4e5d-49fc-b678-4fad8d7cde88",
   "metadata": {},
   "outputs": [],
   "source": [
    "temp = int(input(\"현재 기온을 입력하세요. :\"))\n",
    "\n",
    "if temp >= 25:\n",
    "    print(\"지금 계절은 여름!\")    \n",
    "elif temp >= 15:\n",
    "    print(\"지금 계절은 봄!\")\n",
    "elif temp >= 10:\n",
    "    print(\"지금 계절은 가을!\")\n",
    "else:\n",
    "    print(\"지금 계절은 겨울!\")"
   ]
  },
  {
   "cell_type": "markdown",
   "id": "b3aee249-51b1-412a-a7ea-7f9f4dac64bb",
   "metadata": {},
   "source": [
    "## while 문"
   ]
  },
  {
   "cell_type": "code",
   "execution_count": null,
   "id": "0b6aa697-44a4-4347-8920-30bbac81e83f",
   "metadata": {},
   "outputs": [],
   "source": [
    "treeHit = 0\n",
    "while treeHit < 10:\n",
    "    treeHit += 1\n",
    "    print(f'나무를 {treeHit}번 찍었습니다.')\n",
    "    if treeHit == 10:\n",
    "        print(\"나무 넘어갑니다.\")"
   ]
  },
  {
   "cell_type": "code",
   "execution_count": null,
   "id": "8f027f27-c83f-41c4-bbaf-02a554c99c0f",
   "metadata": {},
   "outputs": [],
   "source": [
    "num = 10\n",
    "\n",
    "while num > 0:\n",
    "    num -= 1\n",
    "    print(f'나무를 {10-num}번 찍었습니다.')\n",
    "    if num == 0:\n",
    "        print(\"나무 넘어갑니다.\")\n"
   ]
  },
  {
   "cell_type": "code",
   "execution_count": null,
   "id": "631e36f1-f543-488c-b72d-3a38819a842c",
   "metadata": {},
   "outputs": [],
   "source": [
    "from IPython.display import clear_output\n",
    "\n",
    "prompt = \"\"\"\n",
    "    선택해 주세요.\n",
    "    1. Add\n",
    "    2. Del\n",
    "    3. List\n",
    "    4. Quit\n",
    "\"\"\"\n",
    "\n",
    "number=0\n",
    "while number != 4:\n",
    "    print(prompt)\n",
    "    number = int(input())\n",
    "    clear_output(wait=True) # 이전 질문 지우기\n",
    "print(\"시스템이 종료되었습니다.\")    "
   ]
  },
  {
   "cell_type": "code",
   "execution_count": 30,
   "id": "fff2c459-0162-4a6c-aa57-dd439d0e536b",
   "metadata": {},
   "outputs": [],
   "source": [
    "# random 주사위\n",
    "\n",
    "import random as r\n",
    "\n",
    "box = [] # 초기화\n",
    "\n",
    "\n"
   ]
  },
  {
   "cell_type": "code",
   "execution_count": 29,
   "id": "fab33a52-237a-40d6-aba9-6f3f165e40f5",
   "metadata": {},
   "outputs": [
    {
     "name": "stdout",
     "output_type": "stream",
     "text": [
      "300000 \n",
      "\n",
      "1의 개수: 50025개 입니다. 확률: 16.68(%)\n",
      "2의 개수: 49717개 입니다. 확률: 16.57(%)\n",
      "3의 개수: 49846개 입니다. 확률: 16.62(%)\n",
      "4의 개수: 50400개 입니다. 확률: 16.80(%)\n",
      "5의 개수: 49601개 입니다. 확률: 16.53(%)\n",
      "6의 개수: 50411개 입니다. 확률: 16.80(%)\n",
      "\n",
      "확률의 합: 100.0(%)\n",
      "\n",
      "1\n",
      "50025 49717\n",
      "L\n",
      "1 \n",
      "\n",
      "2\n",
      "49717 49846\n",
      "L\n",
      "1 \n",
      "\n",
      "3\n",
      "49846 50400\n",
      "R\n",
      "4 \n",
      "\n",
      "4\n",
      "50400 49601\n",
      "L\n",
      "4 \n",
      "\n",
      "5\n",
      "49601 50411\n",
      "R\n",
      "6 \n",
      "\n",
      "가장 많이 나온 수는 6\n"
     ]
    }
   ],
   "source": [
    "# ran = int(r.random()*6 + 1)\n",
    "n = 100000\n",
    "while n>0:                      # 변수 n 사용 및 if, break문 사용              \n",
    "    # if n>=10:\n",
    "    #     break;\n",
    "    ran = r.randint(1, 6)\n",
    "    box.append(ran)\n",
    "    n -= 1\n",
    "    \n",
    "# print(box, len(box))\n",
    "print(len(box), '\\n')\n",
    "\n",
    "# ===================================================================\n",
    "\n",
    "# box = [] # 초기화\n",
    "\n",
    "# while len(box)<10:             # 리스트 box의 길이를 조건으로 사용\n",
    "#     ran = r.randint(1, 6)\n",
    "#     box.append(ran)\n",
    "\n",
    "# print(box)\n",
    "\n",
    "# ===================================================================\n",
    "\n",
    "\n",
    "# 리스트의 특정한 숫자를 몇개인지 찾아내는 함수 사용\n",
    "\n",
    "# while 문 사용\n",
    "co = 0\n",
    "p_sum = 0 \n",
    "while co < 6:\n",
    "    co += 1\n",
    "    result = box.count(co)\n",
    "    per = (result * 100) / len(box)\n",
    "    p_sum += per\n",
    "    print(f'{co}의 개수: {result}개 입니다. 확률: {per:.2f}(%)')\n",
    "    \n",
    "\n",
    "print(f'\\n확률의 합: {p_sum}(%)\\n')\n",
    "\n",
    "# print 문 반복\n",
    "# print('1은 %d개 입니다.' %box.count(1))\n",
    "# print('2는 %d개 입니다.' %box.count(2))\n",
    "# print('3은 %d개 입니다.' %box.count(3))\n",
    "# print('4는 %d개 입니다.' %box.count(4))\n",
    "# print('5는 %d개 입니다.' %box.count(5))\n",
    "# print('6은 %d개 입니다.' %box.count(6))\n",
    "\n",
    "# n_max = 6\n",
    "# while co > 1:\n",
    "#     print(box.count(n_max), box.count(co-1))\n",
    "    \n",
    "#     if box.count(n_max) > box.count(co-1):\n",
    "#         print('L')\n",
    "#         print('max 값: ',n_max,'\\n')\n",
    "#     else:\n",
    "#         print('R')\n",
    "#         n_max = int(co-1) \n",
    "#         print('max 값: ',n_max,'\\n')\n",
    "#     co -= 1\n",
    "\n",
    "\n",
    "n_max = 1\n",
    "for i in range(1,6):\n",
    "    print(i)\n",
    "    # print(box.count(i), box.count(i+1))\n",
    "\n",
    "    if box.count(n_max) > box.count(i+1):\n",
    "        # print('L')\n",
    "        # print(n_max,'\\n')\n",
    "    else:\n",
    "        # print('R')\n",
    "        n_max = i+1\n",
    "        # print(n_max,'\\n')\n",
    "    \n",
    "\n",
    "\n",
    "\n",
    "\n",
    "print(f'가장 많이 나온 수는 {n_max}')\n",
    "\n"
   ]
  },
  {
   "cell_type": "markdown",
   "id": "c0cb4dcd-8ed9-4823-9643-67cf99135a98",
   "metadata": {},
   "source": [
    "## for 문"
   ]
  },
  {
   "cell_type": "code",
   "execution_count": 81,
   "id": "70623aa3-643f-42aa-b4db-04e93018f66d",
   "metadata": {},
   "outputs": [
    {
     "name": "stdout",
     "output_type": "stream",
     "text": [
      "one\n",
      "two\n",
      "three\n"
     ]
    }
   ],
   "source": [
    "test_lsit = ['one', 'two', 'three']\n",
    "\n",
    "for i in test_lsit:\n",
    "    print(i)"
   ]
  },
  {
   "cell_type": "code",
   "execution_count": 88,
   "id": "b34e8b80-c2ef-49d8-8160-c2e125595e37",
   "metadata": {},
   "outputs": [
    {
     "name": "stdout",
     "output_type": "stream",
     "text": [
      "1번 학생은 합격입니다.\n",
      "2번 학생은 불합격입니다.\n",
      "3번 학생은 합격입니다.\n",
      "4번 학생은 불합격입니다.\n",
      "5번 학생은 합격입니다.\n"
     ]
    }
   ],
   "source": [
    "marks = [90, 25, 67, 45, 80]\n",
    "\n",
    "number = 0\n",
    "for mark in marks:\n",
    "    number = number + 1\n",
    "    if mark >= 60:\n",
    "        print(f'{number}번 학생은 합격입니다.')\n",
    "    else:\n",
    "        print(f'{number}번 학생은 불합격입니다.')"
   ]
  },
  {
   "cell_type": "code",
   "execution_count": 91,
   "id": "a26ba0dc-cb66-4675-9fb4-32a0fe094190",
   "metadata": {},
   "outputs": [
    {
     "name": "stdout",
     "output_type": "stream",
     "text": [
      "1번 학생 축하합니다. 합격입니다.\n",
      "3번 학생 축하합니다. 합격입니다.\n",
      "5번 학생 축하합니다. 합격입니다.\n"
     ]
    }
   ],
   "source": [
    "marks = [90, 25, 67, 45, 80]\n",
    "\n",
    "number = 0\n",
    "for mark in marks:\n",
    "    number = number + 1\n",
    "    if mark < 60:\n",
    "        continue\n",
    "    print(f'{number}번 학생 축하합니다. 합격입니다.')"
   ]
  },
  {
   "cell_type": "code",
   "execution_count": null,
   "id": "16ab607f-cffc-49fe-8d43-52e3eba9afa6",
   "metadata": {},
   "outputs": [],
   "source": []
  },
  {
   "cell_type": "code",
   "execution_count": 92,
   "id": "28e71954-5df1-4e40-94be-8909b5e758e6",
   "metadata": {},
   "outputs": [
    {
     "name": "stdout",
     "output_type": "stream",
     "text": [
      "1\n",
      "3\n",
      "5\n",
      "7\n",
      "9\n"
     ]
    }
   ],
   "source": [
    "num = [1, 2, 3, 4, 5, 6, 7, 8, 9, 10]\n",
    "\n",
    "for n in num:\n",
    "    if n%2 == 0:\n",
    "        continue\n",
    "    else:\n",
    "        print(n)"
   ]
  },
  {
   "cell_type": "code",
   "execution_count": 32,
   "id": "e8eb600c-725c-4468-8331-f5779c31c164",
   "metadata": {},
   "outputs": [
    {
     "name": "stdout",
     "output_type": "stream",
     "text": [
      "0\n",
      "2\n",
      "4\n",
      "6\n",
      "8\n"
     ]
    }
   ],
   "source": [
    "for even in range(0,10,2):\n",
    "    print(even)"
   ]
  },
  {
   "cell_type": "code",
   "execution_count": 37,
   "id": "808c9cb2-40e0-4d98-9e02-6750a38ffb0e",
   "metadata": {},
   "outputs": [
    {
     "name": "stdout",
     "output_type": "stream",
     "text": [
      "1부터 10까지 합: 55\n",
      "1부터 130까지 합: 8515\n"
     ]
    }
   ],
   "source": [
    "n_sum = 0\n",
    "\n",
    "for n in range(1,11):\n",
    "    n_sum += n\n",
    "\n",
    "print(f'1부터 10까지 합: {n_sum}')\n",
    "\n",
    "\n",
    "n_sum = 0\n",
    "for n in range(1,131):\n",
    "    n_sum += n\n",
    "\n",
    "print(f'1부터 130까지 합: {n_sum}')\n",
    "\n"
   ]
  },
  {
   "cell_type": "code",
   "execution_count": 40,
   "id": "65e18095-f073-4201-acf4-7c7e30dd37ed",
   "metadata": {},
   "outputs": [
    {
     "name": "stdout",
     "output_type": "stream",
     "text": [
      "1번 학생 통과\n",
      "3번 학생 통과\n",
      "5번 학생 통과\n"
     ]
    }
   ],
   "source": [
    "marks = [90, 25, 67, 45, 80]\n",
    "\n",
    "for number in range(len(marks)):\n",
    "    if marks[number] < 60:\n",
    "        continue\n",
    "    else:\n",
    "        print(f'{number+1}번 학생 통과')"
   ]
  },
  {
   "cell_type": "code",
   "execution_count": null,
   "id": "ec46f350-52a9-4db8-a1d7-54d953dd0375",
   "metadata": {},
   "outputs": [],
   "source": []
  }
 ],
 "metadata": {
  "kernelspec": {
   "display_name": "Python 3 (ipykernel)",
   "language": "python",
   "name": "python3"
  },
  "language_info": {
   "codemirror_mode": {
    "name": "ipython",
    "version": 3
   },
   "file_extension": ".py",
   "mimetype": "text/x-python",
   "name": "python",
   "nbconvert_exporter": "python",
   "pygments_lexer": "ipython3",
   "version": "3.13.1"
  }
 },
 "nbformat": 4,
 "nbformat_minor": 5
}
