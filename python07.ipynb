{
 "cells": [
  {
   "cell_type": "markdown",
   "id": "77291f9b-b34d-4deb-9719-ef58322a61ea",
   "metadata": {},
   "source": [
    "# 내장함수"
   ]
  },
  {
   "cell_type": "code",
   "execution_count": 1,
   "id": "91122243-3df6-46a9-8e2c-5ef658b2b483",
   "metadata": {},
   "outputs": [
    {
     "name": "stdout",
     "output_type": "stream",
     "text": [
      "3\n",
      "1.2\n"
     ]
    }
   ],
   "source": [
    "# abs *\n",
    "\n",
    "print(abs(-3))\n",
    "print(abs(-1.2))"
   ]
  },
  {
   "cell_type": "code",
   "execution_count": 7,
   "id": "a7543629-52b4-4e39-be68-81a3abeeb3f6",
   "metadata": {},
   "outputs": [
    {
     "name": "stdout",
     "output_type": "stream",
     "text": [
      "True\n",
      "False\n",
      "True\n"
     ]
    }
   ],
   "source": [
    "# all *\n",
    "\n",
    "print(all([1, 2, 3]))\n",
    "print(all([11, 22, 0, 44, 55]))\n",
    "print(all([]))"
   ]
  },
  {
   "cell_type": "code",
   "execution_count": 10,
   "id": "acaa2a24-9210-47b4-bf3e-d3ea0f8d0bf3",
   "metadata": {},
   "outputs": [
    {
     "name": "stdout",
     "output_type": "stream",
     "text": [
      "True\n",
      "False\n",
      "False\n"
     ]
    }
   ],
   "source": [
    "# any *\n",
    "\n",
    "print(any([1, 2, 3, 0]))\n",
    "print(any([0, '', [], False]))\n",
    "print(any([]))"
   ]
  },
  {
   "cell_type": "code",
   "execution_count": 18,
   "id": "6c8999e2-4bd7-4826-987b-ff4006b1822b",
   "metadata": {},
   "outputs": [
    {
     "name": "stdout",
     "output_type": "stream",
     "text": [
      "A\n",
      "가\n",
      "65\n",
      "44032\n"
     ]
    }
   ],
   "source": [
    "# 아스키코드\n",
    "print(chr(65))\n",
    "print(chr(44032))\n",
    "\n",
    "# 유니코드 - UTF-8(인코딩방식)\n",
    "print(ord('A'))\n",
    "print(ord('가'))\n"
   ]
  },
  {
   "cell_type": "code",
   "execution_count": 37,
   "id": "ffa4bc3c-ab7a-40cb-aec3-f58d26ab010e",
   "metadata": {},
   "outputs": [
    {
     "name": "stdout",
     "output_type": "stream",
     "text": [
      "A B C D E F G H I J K L M N O P Q R S T U V W X Y Z \n",
      "===================================================\n",
      "z y x w v u t s r q p o n m l k j i h g f e d c b a "
     ]
    }
   ],
   "source": [
    "for i in range(65, 91):\n",
    "    print(chr(i), end=\" \")\n",
    "\n",
    "print('\\n'+'='*51)\n",
    "\n",
    "for j in range(122, 96, -1):\n",
    "    print(chr(j), end=\" \")\n"
   ]
  },
  {
   "cell_type": "code",
   "execution_count": 47,
   "id": "901560a0-7fda-4181-a91d-2a7129610bce",
   "metadata": {},
   "outputs": [
    {
     "name": "stdout",
     "output_type": "stream",
     "text": [
      "A1 A2 A3 A4 A5 A6 A7 A8 A9 A10 \n",
      "------------------------------\n",
      "B1 B2 B3 B4 B5 B6 B7 B8 B9 B10 \n",
      "------------------------------\n",
      "C1 C2 C3 C4 C5 C6 C7 C8 C9 C10 \n",
      "------------------------------\n",
      "D1 D2 D3 D4 D5 D6 D7 D8 D9 D10 \n",
      "------------------------------\n",
      "E1 E2 E3 E4 E5 E6 E7 E8 E9 E10 \n",
      "------------------------------\n",
      "F1 F2 F3 F4 F5 F6 F7 F8 F9 F10 \n",
      "------------------------------\n",
      "G1 G2 G3 G4 G5 G6 G7 G8 G9 G10 \n",
      "------------------------------\n",
      "H1 H2 H3 H4 H5 H6 H7 H8 H9 H10 \n",
      "------------------------------\n",
      "I1 I2 I3 I4 I5 I6 I7 I8 I9 I10 \n",
      "------------------------------\n",
      "J1 J2 J3 J4 J5 J6 J7 J8 J9 J10 \n",
      "------------------------------\n",
      "K1 K2 K3 K4 K5 K6 K7 K8 K9 K10 \n",
      "------------------------------\n",
      "L1 L2 L3 L4 L5 L6 L7 L8 L9 L10 \n",
      "------------------------------\n",
      "M1 M2 M3 M4 M5 M6 M7 M8 M9 M10 \n",
      "------------------------------\n",
      "N1 N2 N3 N4 N5 N6 N7 N8 N9 N10 \n",
      "------------------------------\n",
      "O1 O2 O3 O4 O5 O6 O7 O8 O9 O10 \n",
      "------------------------------\n",
      "P1 P2 P3 P4 P5 P6 P7 P8 P9 P10 \n",
      "------------------------------\n",
      "Q1 Q2 Q3 Q4 Q5 Q6 Q7 Q8 Q9 Q10 \n",
      "------------------------------\n",
      "R1 R2 R3 R4 R5 R6 R7 R8 R9 R10 \n",
      "------------------------------\n",
      "S1 S2 S3 S4 S5 S6 S7 S8 S9 S10 \n",
      "------------------------------\n",
      "T1 T2 T3 T4 T5 T6 T7 T8 T9 T10 \n",
      "------------------------------\n",
      "U1 U2 U3 U4 U5 U6 U7 U8 U9 U10 \n",
      "------------------------------\n",
      "V1 V2 V3 V4 V5 V6 V7 V8 V9 V10 \n",
      "------------------------------\n",
      "W1 W2 W3 W4 W5 W6 W7 W8 W9 W10 \n",
      "------------------------------\n",
      "X1 X2 X3 X4 X5 X6 X7 X8 X9 X10 \n",
      "------------------------------\n",
      "Y1 Y2 Y3 Y4 Y5 Y6 Y7 Y8 Y9 Y10 \n",
      "------------------------------\n",
      "Z1 Z2 Z3 Z4 Z5 Z6 Z7 Z8 Z9 Z10 \n",
      "------------------------------\n"
     ]
    }
   ],
   "source": [
    "\n",
    "for x in range(65, 91):\n",
    "    for y in range(1, 11):\n",
    "        print(f'{chr(x)}{y}', end=' ')\n",
    "    print('\\n'+'-'*30)\n"
   ]
  },
  {
   "cell_type": "code",
   "execution_count": null,
   "id": "6329eace-2066-4e32-bf24-46767fd2fac0",
   "metadata": {},
   "outputs": [],
   "source": []
  }
 ],
 "metadata": {
  "kernelspec": {
   "display_name": "Python 3 (ipykernel)",
   "language": "python",
   "name": "python3"
  },
  "language_info": {
   "codemirror_mode": {
    "name": "ipython",
    "version": 3
   },
   "file_extension": ".py",
   "mimetype": "text/x-python",
   "name": "python",
   "nbconvert_exporter": "python",
   "pygments_lexer": "ipython3",
   "version": "3.13.1"
  }
 },
 "nbformat": 4,
 "nbformat_minor": 5
}
