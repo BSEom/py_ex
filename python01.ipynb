{
 "cells": [
  {
   "cell_type": "markdown",
   "id": "42683e13-2298-4cc3-8d0e-57f17dbf7dca",
   "metadata": {},
   "source": [
    "# 단축키\n",
    "- a: 위 셀 추가\n",
    "- b: 아래 셀 추가\n",
    "- Ctrl + shift + 위: 셀 위로 이동\n",
    "- Ctrl + shift + 아래: 셀 아래로 이동\n",
    "- dd: 셀 삭제\n",
    "- x: 셀 잘라내기\n",
    "- c: 셀 복사\n",
    "- v: 셀 붙여넣기\n",
    "- z: undo\n",
    "- shift + z: redo\n",
    "- m: 마크다운\n",
    "- y: 코드"
   ]
  },
  {
   "cell_type": "markdown",
   "id": "6d623c97-9dd5-4a54-825d-e85a125665dc",
   "metadata": {},
   "source": [
    "# print 기초"
   ]
  },
  {
   "cell_type": "code",
   "execution_count": 1,
   "id": "6453f2c3-83ac-47bb-845c-ae66ed45e587",
   "metadata": {},
   "outputs": [
    {
     "name": "stdout",
     "output_type": "stream",
     "text": [
      "두번째\n"
     ]
    }
   ],
   "source": [
    "# print('안녕하세요.')\n",
    "print('두번째')"
   ]
  },
  {
   "cell_type": "code",
   "execution_count": 2,
   "id": "1e799d3b-5ae8-4530-bf80-fa9be1150b64",
   "metadata": {
    "scrolled": true
   },
   "outputs": [
    {
     "name": "stdout",
     "output_type": "stream",
     "text": [
      "시간이 많이 남았어\n"
     ]
    }
   ],
   "source": [
    "import time as t\n",
    "\n",
    "\n",
    "print('배고프다',end='\\r')\n",
    "print('근데 ',end='\\r')\n",
    "t.sleep(3)\n",
    "print('시간이 많이 남았어')"
   ]
  },
  {
   "cell_type": "markdown",
   "id": "71b648d0-06e0-4f7f-8c53-da8b52bb3499",
   "metadata": {},
   "source": [
    "# 자료형"
   ]
  },
  {
   "cell_type": "markdown",
   "id": "db62cac5-d919-4447-90e0-0e49fa678391",
   "metadata": {},
   "source": [
    "## 숫자형"
   ]
  },
  {
   "cell_type": "code",
   "execution_count": 3,
   "id": "173e7c5a-4056-41d6-9cf3-e30a067bd4ba",
   "metadata": {
    "scrolled": true
   },
   "outputs": [
    {
     "name": "stdout",
     "output_type": "stream",
     "text": [
      "덧셈: 247\n",
      "================\n",
      "뺄셈: 47\n",
      "================\n",
      "곱셈: 14700\n",
      "================\n",
      "나눗셈: 1.47\n",
      "================\n",
      "몫: 1\n",
      "================\n",
      "나머지: 47\n",
      "================\n",
      "승: 21609\n",
      "================\n"
     ]
    }
   ],
   "source": [
    "# 사칙연산 예\n",
    "n = 147\n",
    "m = 100\n",
    "\n",
    "\n",
    "print(\"덧셈:\",n + m, end='\\n================\\n')\n",
    "print(\"뺄셈:\",n - m, end='\\n================\\n')\n",
    "print(\"곱셈:\",n * m, end='\\n================\\n')\n",
    "print(\"나눗셈:\",n / m, end='\\n================\\n')\n",
    "print(\"몫:\",n // m, end='\\n================\\n')\n",
    "print(\"나머지:\",n % m, end='\\n================\\n')\n",
    "print(\"승:\",n ** 2, end='\\n================\\n')\n"
   ]
  },
  {
   "cell_type": "code",
   "execution_count": 4,
   "id": "1327fcd6-d9b7-4732-93fe-285f06ebaf85",
   "metadata": {},
   "outputs": [
    {
     "name": "stdout",
     "output_type": "stream",
     "text": [
      "123 -178 0\n"
     ]
    }
   ],
   "source": [
    "# 정수형\n",
    "\n",
    "a = 123\n",
    "b = -178\n",
    "c = 0\n",
    "print(a,b,c)"
   ]
  },
  {
   "cell_type": "code",
   "execution_count": 5,
   "id": "3b564f18-6cf0-4c4f-a612-b7a12cefb450",
   "metadata": {},
   "outputs": [
    {
     "name": "stdout",
     "output_type": "stream",
     "text": [
      "1.2 -3.14 42400000000.0\n"
     ]
    }
   ],
   "source": [
    "# 실수형\n",
    "\n",
    "aa = 1.2\n",
    "bb = -3.14\n",
    "cc = 4.24e10\n",
    "print(aa,bb,cc)"
   ]
  },
  {
   "cell_type": "code",
   "execution_count": 6,
   "id": "97f8b09c-7e68-419a-9b77-364bf09432e1",
   "metadata": {},
   "outputs": [
    {
     "name": "stdout",
     "output_type": "stream",
     "text": [
      "15\n",
      "127 2748\n"
     ]
    }
   ],
   "source": [
    "# 2진수(bin), 8진수(oct)와 16진수(hex)\n",
    "\n",
    "aaa = 0b1111\n",
    "print(aaa)\n",
    "bbb = 0o177\n",
    "ccc = 0xABC\n",
    "print(bbb,ccc)\n"
   ]
  },
  {
   "cell_type": "markdown",
   "id": "1d25aecf-2f53-4fb2-8046-c6004ab5cc6c",
   "metadata": {},
   "source": [
    "## 문자열 자료형"
   ]
  },
  {
   "cell_type": "code",
   "execution_count": 7,
   "id": "4cf127da-58f2-40fa-9e47-8b7da5025786",
   "metadata": {},
   "outputs": [
    {
     "name": "stdout",
     "output_type": "stream",
     "text": [
      "문자형입니다.\n",
      "\n",
      "이것은 여러 줄 문자열 처리입니다.\n",
      "\n",
      "\n",
      "이것도 여러 줄 문자열 처리입니다.\n",
      "\n"
     ]
    }
   ],
   "source": [
    "# 주석처리입니다\n",
    "\n",
    "str1 = '문자형입니다.'\n",
    "print(str1)\n",
    "\n",
    "str2 = '''\n",
    "이것은 여러 줄 문자열 처리입니다.\n",
    "'''\n",
    "print(str2)\n",
    "\n",
    "str3 = \"\"\"\n",
    "이것도 여러 줄 문자열 처리입니다.\n",
    "\"\"\"\n",
    "print(str3)"
   ]
  },
  {
   "cell_type": "code",
   "execution_count": 8,
   "id": "d800b5ed-b479-45ca-8362-68235e2c1211",
   "metadata": {},
   "outputs": [
    {
     "name": "stdout",
     "output_type": "stream",
     "text": [
      "Python's favorite food is perl\n"
     ]
    }
   ],
   "source": [
    "# food = \"Python's favorite food is perl\"\n",
    "\n",
    "food = 'Python\\'s favorite food is perl'\n",
    "print(food)"
   ]
  },
  {
   "cell_type": "code",
   "execution_count": 9,
   "id": "1f983602-7a47-4ab1-96ff-46cecd806ddd",
   "metadata": {},
   "outputs": [
    {
     "name": "stdout",
     "output_type": "stream",
     "text": [
      "\n",
      "Life is too short\n",
      "You need python\n",
      "\n"
     ]
    }
   ],
   "source": [
    "multiline = '''\n",
    "Life is too short\n",
    "\\rYou need python\n",
    "'''\n",
    "\n",
    "print(multiline)"
   ]
  },
  {
   "cell_type": "markdown",
   "id": "01268df7-0241-4241-a701-906049d509af",
   "metadata": {},
   "source": [
    "\n",
    "<table>\n",
    "<thead>\n",
    "<tr>\n",
    "<th>코드</th>\n",
    "<th>설명</th>\n",
    "</tr>\n",
    "</thead>\n",
    "<tbody>\n",
    "<tr>\n",
    "<td><code>\\n</code></td>\n",
    "<td>문자열 안에서 줄을 바꿀 때 사용</td>\n",
    "</tr>\n",
    "<tr>\n",
    "<td><code>\\t</code></td>\n",
    "<td>문자열 사이에 탭 간격을 줄 때 사용</td>\n",
    "</tr>\n",
    "<tr>\n",
    "<td><code>\\\\</code></td>\n",
    "<td><code>\\</code>를 그대로 표현할 때 사용</td>\n",
    "</tr>\n",
    "<tr>\n",
    "<td><code>\\'</code></td>\n",
    "<td>작은따옴표(')를 그대로 표현할 때 사용</td>\n",
    "</tr>\n",
    "<tr>\n",
    "<td><code>\\\"</code></td>\n",
    "<td>큰따옴표(\")를 그대로 표현할 때 사용</td>\n",
    "</tr>\n",
    "<tr>\n",
    "<td><code>\\r</code></td>\n",
    "<td>캐리지 리턴(줄 바꿈 문자, 커서를 현재 줄의 가장 앞으로 이동)</td>\n",
    "</tr>\n",
    "<tr>\n",
    "<td><code>\\f</code></td>\n",
    "<td>폼 피드(줄 바꿈 문자, 커서를 현재 줄의 다음 줄로 이동)</td>\n",
    "</tr>\n",
    "<tr>\n",
    "<td><code>\\a</code></td>\n",
    "<td>벨 소리(출력할 때 PC 스피커에서 '삑' 소리가 난다)</td>\n",
    "</tr>\n",
    "<tr>\n",
    "<td><code>\\b</code></td>\n",
    "<td>백 스페이스</td>\n",
    "</tr>\n",
    "<tr>\n",
    "<td><code>\\000</code></td>\n",
    "<td>널 문자</td>\n",
    "</tr>\n",
    "</tbody>\n",
    "</table>"
   ]
  },
  {
   "cell_type": "markdown",
   "id": "89045175-7ef8-41e7-80e0-58c7073bfe64",
   "metadata": {},
   "source": [
    "### 문자열 연산하기"
   ]
  },
  {
   "cell_type": "code",
   "execution_count": 10,
   "id": "8e5d6e05-1297-4894-989c-acf890042996",
   "metadata": {},
   "outputs": [
    {
     "name": "stdout",
     "output_type": "stream",
     "text": [
      "Python is fun!!\n"
     ]
    }
   ],
   "source": [
    "# 문자열 연산하기\n",
    "head = 'Python'\n",
    "tail = ' is fun!!'\n",
    "\n",
    "print(head+tail)"
   ]
  },
  {
   "cell_type": "code",
   "execution_count": 11,
   "id": "dd649705-82ab-40fa-a048-2d1257423f18",
   "metadata": {},
   "outputs": [
    {
     "name": "stdout",
     "output_type": "stream",
     "text": [
      "===============\n",
      "    영 수 증\n",
      "===============\n",
      "아메리카노:17100\n",
      "라떼:7200\n",
      "허브티:12000\n",
      "===============\n",
      "\n"
     ]
    }
   ],
   "source": [
    "p1 = 5700 * 3\n",
    "p2 = 7200 * 1\n",
    "p3 = 6000 * 2\n",
    "m1 = \"아메리카노:\" + str(p1) + \"\\n\"\n",
    "m2 = \"라떼:\" + str(p2) + \"\\n\"\n",
    "m3 = \"허브티:\" + str(p3)\n",
    "title = \"    영 수 증\"\n",
    "line = '=' * 15\n",
    "\n",
    "# print(line)\n",
    "# print(title)\n",
    "# print(line)\n",
    "# print(m1+m2+m3)\n",
    "# print(line)\n",
    "\n",
    "\n",
    "# print(line + '\\n' + title + '\\n' +line + '\\n' + m1 + m2 + m3 + '\\n'  + line)\n",
    "\n",
    "\n",
    "pp = ''\n",
    "pp += (line)+'\\n'\n",
    "pp += (title)+'\\n'\n",
    "pp += (line)+'\\n'\n",
    "pp += (m1+m2+m3)+'\\n'\n",
    "pp += (line)+'\\n'\n",
    "\n",
    "print(pp)"
   ]
  },
  {
   "cell_type": "code",
   "execution_count": 12,
   "id": "7cd4b991-115c-441b-a5b5-8a05f5eea85d",
   "metadata": {},
   "outputs": [
    {
     "name": "stdout",
     "output_type": "stream",
     "text": [
      "17\n"
     ]
    }
   ],
   "source": [
    "a = \"Life is too short\"\n",
    "print(len(a))"
   ]
  },
  {
   "cell_type": "markdown",
   "id": "61e01dbc-14c2-4149-8039-88c6c089a0db",
   "metadata": {},
   "source": [
    "### 문자열 인덱싱과 슬라이싱"
   ]
  },
  {
   "cell_type": "code",
   "execution_count": 13,
   "id": "397dead9-defe-417c-8f5e-86b222663116",
   "metadata": {},
   "outputs": [],
   "source": [
    "\n",
    "a = \"Life is too short, You need Python\"\n"
   ]
  },
  {
   "cell_type": "code",
   "execution_count": 14,
   "id": "a76fcee8-0e49-4a42-be0a-ce12a66a5e11",
   "metadata": {},
   "outputs": [
    {
     "name": "stdout",
     "output_type": "stream",
     "text": [
      "L i f e\n",
      "Life\n"
     ]
    }
   ],
   "source": [
    "print(a[0],a[1],a[2],a[3])\n",
    "print(a[0]+a[1]+a[2]+a[3])\n"
   ]
  },
  {
   "cell_type": "code",
   "execution_count": 15,
   "id": "be9a1e5b-3684-4486-b9ae-4621227faf7b",
   "metadata": {},
   "outputs": [
    {
     "name": "stdout",
     "output_type": "stream",
     "text": [
      "too\n",
      "too\n"
     ]
    }
   ],
   "source": [
    "print(a[8:-23])\n",
    "print(a[8:11])  # 8 <= a <11"
   ]
  },
  {
   "cell_type": "code",
   "execution_count": 16,
   "id": "2958a626-4eea-404b-ae43-8ffd1e1ce853",
   "metadata": {},
   "outputs": [
    {
     "name": "stdout",
     "output_type": "stream",
     "text": [
      "nohtyP deen uoY ,trohs oot si efiL\n",
      "Lf stosot o edPto\n"
     ]
    }
   ],
   "source": [
    "print(a[::-1])\n",
    "print(a[::2])"
   ]
  },
  {
   "cell_type": "code",
   "execution_count": 17,
   "id": "09535a93-726d-4b50-8e96-db625dc748ec",
   "metadata": {},
   "outputs": [
    {
     "name": "stdout",
     "output_type": "stream",
     "text": [
      "2025년 02월 03일 오늘은 화창하다!!\n"
     ]
    }
   ],
   "source": [
    "today = \"20250203오늘은화창하다\"\n",
    "\n",
    "print(today[:4] + '년', today[4:6] + '월', today[6:8] + '일', today[8:11], today[11:] + '!!' )"
   ]
  },
  {
   "cell_type": "code",
   "execution_count": 18,
   "id": "7a401127-aab4-4274-bb02-f69eb5f1cd90",
   "metadata": {},
   "outputs": [
    {
     "name": "stdout",
     "output_type": "stream",
     "text": [
      "한국서 돈벌고 '나 몰라라' 코스트코… 연회비 인상률은 미국의 3배\n"
     ]
    }
   ],
   "source": [
    "import requests\n",
    "\n",
    "url = 'https://v.daum.net/v/20250203151815463'\n",
    "res = requests.get(url)\n",
    "\n",
    "print(res.text[374:409] + '3' + res.text[410:411])\n",
    "\n",
    "# li = res.text[374:411]\n",
    "# li = li.replace('2', '3')\n",
    "\n",
    "# print(li)"
   ]
  },
  {
   "cell_type": "code",
   "execution_count": 19,
   "id": "96839426-7b05-4cf6-88de-45b91f77631f",
   "metadata": {},
   "outputs": [
    {
     "name": "stdout",
     "output_type": "stream",
     "text": [
      "대빵의 톡쏘는 일상 : 네이버 블로그\n"
     ]
    }
   ],
   "source": [
    "import requests\n",
    "url = 'https://blog.naver.com/droad777' \n",
    "res = requests.get(url).text\n",
    "\n",
    "\n",
    "print('대빵' + res[897:915])"
   ]
  },
  {
   "cell_type": "markdown",
   "id": "6084004a-cb11-4753-9194-4b56ae580d24",
   "metadata": {},
   "source": [
    "### 문자열 포매팅 "
   ]
  },
  {
   "cell_type": "code",
   "execution_count": 20,
   "id": "18f473bd-39e5-42e3-9904-9ad12bf36109",
   "metadata": {},
   "outputs": [
    {
     "name": "stdout",
     "output_type": "stream",
     "text": [
      "I eat 3 apples\n",
      "I eat 17 apples\n",
      "I eat five apples\n"
     ]
    }
   ],
   "source": [
    "print(\"I eat 3 apples\")\n",
    "print(\"I eat %d apples\" %17)\n",
    "print(\"I eat %s apples\" %'five')"
   ]
  },
  {
   "cell_type": "markdown",
   "id": "b60a8192-1728-43bc-bd6e-cb5587a99400",
   "metadata": {},
   "source": [
    "<table>\n",
    "<thead>\n",
    "<tr>\n",
    "<th>코드</th>\n",
    "<th>설명</th>\n",
    "</tr>\n",
    "</thead>\n",
    "<tbody>\n",
    "<tr>\n",
    "<td>%s</td>\n",
    "<td>문자열(String)</td>\n",
    "</tr>\n",
    "<tr>\n",
    "<td>%c</td>\n",
    "<td>문자 1개(character)</td>\n",
    "</tr>\n",
    "<tr>\n",
    "<td>%d</td>\n",
    "<td>정수(Integer)</td>\n",
    "</tr>\n",
    "<tr>\n",
    "<td>%f</td>\n",
    "<td>부동소수(floating-point)</td>\n",
    "</tr>\n",
    "<tr>\n",
    "<td>%o</td>\n",
    "<td>8진수</td>\n",
    "</tr>\n",
    "<tr>\n",
    "<td>%x</td>\n",
    "<td>16진수</td>\n",
    "</tr>\n",
    "<tr>\n",
    "<td>%%</td>\n",
    "<td>Literal % (문자 <code>%</code> 자체)</td>\n",
    "</tr>\n",
    "</tbody>\n",
    "</table>"
   ]
  },
  {
   "cell_type": "code",
   "execution_count": 21,
   "id": "e149ee2e-570d-4d3b-9530-25f498372f3c",
   "metadata": {},
   "outputs": [
    {
     "name": "stdout",
     "output_type": "stream",
     "text": [
      "사람 몸의 수분은 60% 이다.\n"
     ]
    }
   ],
   "source": [
    "print(\"사람 몸의 수분은 %d%% 이다.\" %60)"
   ]
  },
  {
   "cell_type": "code",
   "execution_count": 22,
   "id": "b72a253c-1784-4b39-95ce-fb20298dae67",
   "metadata": {},
   "outputs": [
    {
     "name": "stdout",
     "output_type": "stream",
     "text": [
      "10진수로 123은 8진수로 173, 16진수로 7b이다.\n"
     ]
    }
   ],
   "source": [
    "print(\"10진수로 %d은 8진수로 %o, 16진수로 %x이다.\" %(123, 123, 123))"
   ]
  },
  {
   "cell_type": "code",
   "execution_count": 23,
   "id": "59a1cc24-a7a1-412f-bff9-4c58756caedd",
   "metadata": {},
   "outputs": [
    {
     "name": "stdout",
     "output_type": "stream",
     "text": [
      "        hi\n"
     ]
    }
   ],
   "source": [
    "# 정렬과 공백 (오른쪽 정렬)\n",
    "print(\"%10s\" % \"hi\")"
   ]
  },
  {
   "attachments": {
    "a88e1bbe-0513-44c8-9d93-256f23d909f9.png": {
     "image/png": "[encoded data removed]"
    }
   },
   "cell_type": "markdown",
   "id": "fab15664-232d-497d-8a70-d5949bff94b2",
   "metadata": {},
   "source": [
    "<img src=\"attachment:a88e1bbe-0513-44c8-9d93-256f23d909f9.png\">"
   ]
  },
  {
   "cell_type": "code",
   "execution_count": 24,
   "id": "8415015e-479b-493f-b855-3b18c6f3453b",
   "metadata": {},
   "outputs": [
    {
     "name": "stdout",
     "output_type": "stream",
     "text": [
      "hi        hello\n"
     ]
    }
   ],
   "source": [
    "# 정렬과 공백 (음수일 때 왼쪽 정렬)\n",
    "print(\"%-10shello\" % \"hi\")"
   ]
  },
  {
   "attachments": {
    "587cb641-5c01-487b-ac6c-ade1dd978d51.png": {
     "image/png": "[encoded data removed]"
    }
   },
   "cell_type": "markdown",
   "id": "e756dc1a-9943-425b-9150-d11e873541a9",
   "metadata": {},
   "source": [
    "<img src=\"attachment:587cb641-5c01-487b-ac6c-ade1dd978d51.png\"> "
   ]
  },
  {
   "cell_type": "code",
   "execution_count": 25,
   "id": "d5b4ef79-9835-464b-9bd3-092e8f63b1b3",
   "metadata": {},
   "outputs": [
    {
     "name": "stdout",
     "output_type": "stream",
     "text": [
      "3.142150\n",
      "3.1421\n"
     ]
    }
   ],
   "source": [
    "# 소숫점 표현하기\n",
    "print(\"%f\" %3.14215)\n",
    "print(\"%0.4f\" %3.14215)"
   ]
  },
  {
   "attachments": {
    "2534de22-ef41-4e9f-9c62-2cbb6d115d91.png": {
     "image/png": "[encoded data removed]"
    }
   },
   "cell_type": "markdown",
   "id": "e92d746c-d20f-40f5-89c0-8f69b6be7d8f",
   "metadata": {},
   "source": [
    "<img src = \"attachment:2534de22-ef41-4e9f-9c62-2cbb6d115d91.png\">"
   ]
  },
  {
   "cell_type": "markdown",
   "id": "368d4550-1beb-4b00-b8c0-79ed1b7cad50",
   "metadata": {},
   "source": [
    "### format 함수를 사용한 포매팅"
   ]
  },
  {
   "cell_type": "code",
   "execution_count": 26,
   "id": "f072bf78-56a0-46b8-88d7-5ba7b4208ef5",
   "metadata": {},
   "outputs": [
    {
     "name": "stdout",
     "output_type": "stream",
     "text": [
      "I eat five apple\n",
      "I eat 5 apple end\n"
     ]
    }
   ],
   "source": [
    "# 바로 대입하기\n",
    "\n",
    "print(\"I eat {0} apple\" .format(\"five\") )\n",
    "print(\"I eat {0} apple {1}\" .format(5, \"end\") )\n"
   ]
  },
  {
   "cell_type": "code",
   "execution_count": 27,
   "id": "9e81c99f-6311-48d9-a846-40edb6d0a0c5",
   "metadata": {},
   "outputs": [
    {
     "name": "stdout",
     "output_type": "stream",
     "text": [
      "I eat three of 10 apple\n",
      "I eat 1 of 10 apple\n"
     ]
    }
   ],
   "source": [
    "# 변수로 대입하기\n",
    "\n",
    "total = 10\n",
    "ea = \"three\"\n",
    "print(\"I eat {0} of {1} apple\" .format(ea, total) )\n",
    "\n",
    "print(\"I eat {ea} of {total} apple\" .format(ea = 1, total = 10) )\n"
   ]
  },
  {
   "cell_type": "code",
   "execution_count": 28,
   "id": "172750ac-4bd5-4f19-a399-32fc80940a57",
   "metadata": {},
   "outputs": [
    {
     "name": "stdout",
     "output_type": "stream",
     "text": [
      "I eat 3 of 10 apple\n"
     ]
    }
   ],
   "source": [
    "# 인덱스와 이름 혼용해서 넣기\n",
    "print(\"I eat {0} of {total} apple\" .format(3, total = 10) )"
   ]
  },
  {
   "cell_type": "code",
   "execution_count": 29,
   "id": "ea2c9809-0c80-45ac-ae97-3bfed9861470",
   "metadata": {},
   "outputs": [
    {
     "name": "stdout",
     "output_type": "stream",
     "text": [
      "        hi\n",
      "hi        \n",
      "    hi    \n"
     ]
    }
   ],
   "source": [
    "# 오른쪽, 왼쪽, 가운데 정렬\n",
    "\n",
    "print(\"{0:>10}\".format(\"hi\"))\n",
    "print(\"{0:<10}\".format(\"hi\"))\n",
    "print(\"{0:^10}\".format(\"hi\"))"
   ]
  },
  {
   "cell_type": "code",
   "execution_count": 30,
   "id": "ac158da8-004d-49be-b984-5e0f8038f6de",
   "metadata": {},
   "outputs": [
    {
     "name": "stdout",
     "output_type": "stream",
     "text": [
      "++++++++hi\n",
      "hi!!!!!!!!\n",
      "====hi====\n"
     ]
    }
   ],
   "source": [
    "# 공백 채우기 정렬\n",
    "print(\"{0:+>10}\".format(\"hi\"))\n",
    "print(\"{0:!<10}\".format(\"hi\"))\n",
    "print(\"{0:=^10}\".format(\"hi\"))"
   ]
  },
  {
   "cell_type": "code",
   "execution_count": 31,
   "id": "85098be7-e3be-4ff1-aeb5-c3e181567ad4",
   "metadata": {},
   "outputs": [
    {
     "name": "stdout",
     "output_type": "stream",
     "text": [
      "3.1427727\n",
      "3.1428\n"
     ]
    }
   ],
   "source": [
    "# 소수점 표현하기\n",
    "print(\"{0}\".format(3.1427727))\n",
    "print(\"{0:.4f}\".format(3.1427727))"
   ]
  },
  {
   "cell_type": "code",
   "execution_count": 32,
   "id": "ef61b1eb-88ce-486f-a9aa-5a9db4b9b777",
   "metadata": {},
   "outputs": [
    {
     "name": "stdout",
     "output_type": "stream",
     "text": [
      "중괄호는 { 과 } 입니다\n"
     ]
    }
   ],
   "source": [
    "# 이스케이프 처리\n",
    "print(\"{0}는 {{ 과 }} 입니다\".format(\"중괄호\"))"
   ]
  },
  {
   "cell_type": "code",
   "execution_count": 33,
   "id": "e0484888-c0de-4229-aac3-2fd24a5134e5",
   "metadata": {},
   "outputs": [
    {
     "name": "stdout",
     "output_type": "stream",
     "text": [
      "1111011\n",
      "01111011\n",
      "0111 1011\n"
     ]
    }
   ],
   "source": [
    "# 2진수 처리\n",
    "print(\"{0:b}\".format(123))\n",
    "print(\"{0:0>8b}\".format(123))\n",
    "print(\"{0:0>4b} {1:4b}\".format(7, 11))\n"
   ]
  },
  {
   "cell_type": "markdown",
   "id": "3ca1cf3f-a894-4930-aa5e-0a1b39c891d6",
   "metadata": {},
   "source": [
    "### f문자열 포매팅"
   ]
  },
  {
   "cell_type": "code",
   "execution_count": 34,
   "id": "c0515a5b-1cc8-4afa-a9d6-04d1e7176e00",
   "metadata": {},
   "outputs": [
    {
     "name": "stdout",
     "output_type": "stream",
     "text": [
      "나의 이름은 배트맨입니다. 나이는 31입니다.\n"
     ]
    }
   ],
   "source": [
    "name = '배트맨'\n",
    "age = 30\n",
    "\n",
    "print(f\"나의 이름은 {name}입니다. 나이는 {age +1}입니다.\")\n"
   ]
  },
  {
   "cell_type": "code",
   "execution_count": 35,
   "id": "675ffa38-1839-49be-9623-0b6cd6543f3f",
   "metadata": {},
   "outputs": [
    {
     "name": "stdout",
     "output_type": "stream",
     "text": [
      "나의 이름은 홍길동 입니다. 나이는 23 입니다. 성별은 남 입니다.\n"
     ]
    }
   ],
   "source": [
    "d = {'name':'홍길동', 'age':23, 'gen':'남'}\n",
    "print(f\"나의 이름은 {d['name']} 입니다. 나이는 {d['age']} 입니다. 성별은 {d['gen']} 입니다.\")"
   ]
  },
  {
   "cell_type": "code",
   "execution_count": 36,
   "id": "c3e6f306-04b0-45e6-a918-41d6b8c85a04",
   "metadata": {},
   "outputs": [
    {
     "name": "stdout",
     "output_type": "stream",
     "text": [
      "             hi\n",
      "hi             \n",
      "      hi       \n"
     ]
    }
   ],
   "source": [
    "print(f\"{\"hi\":>15}\")\n",
    "print(f\"{\"hi\":<15}\")\n",
    "print(f\"{\"hi\":^15}\")"
   ]
  },
  {
   "cell_type": "code",
   "execution_count": 37,
   "id": "8140d2a0-dfe6-472b-8931-f9ed0be5a0a5",
   "metadata": {},
   "outputs": [
    {
     "name": "stdout",
     "output_type": "stream",
     "text": [
      "+++++++++++++hi\n",
      "hi!!!!!!!!!!!!!\n",
      "======hi=======\n"
     ]
    }
   ],
   "source": [
    "print(f\"{\"hi\":+>15}\")\n",
    "print(f\"{\"hi\":!<15}\")\n",
    "print(f\"{\"hi\":=^15}\")"
   ]
  },
  {
   "cell_type": "code",
   "execution_count": 38,
   "id": "62cc6914-483b-4204-96a4-3b2f57bb1933",
   "metadata": {},
   "outputs": [
    {
     "name": "stdout",
     "output_type": "stream",
     "text": [
      "3.1416\n",
      "00003.1416\n",
      "======3.141592======\n"
     ]
    }
   ],
   "source": [
    "pi = 3.141592\n",
    "\n",
    "print(f\"{pi:.4f}\")\n",
    "print(f\"{pi:010.4f}\")\n",
    "print(f\"{pi:=^20}\")"
   ]
  },
  {
   "cell_type": "markdown",
   "id": "b050f486-e26f-42cc-8f7f-5d3bd993c134",
   "metadata": {},
   "source": [
    "### 문자열 관련 함수들"
   ]
  },
  {
   "cell_type": "code",
   "execution_count": 41,
   "id": "8ece38a2-f4ad-4120-a3c3-dfc5d9818717",
   "metadata": {},
   "outputs": [
    {
     "data": {
      "text/plain": [
       "2"
      ]
     },
     "execution_count": 41,
     "metadata": {},
     "output_type": "execute_result"
    }
   ],
   "source": [
    "\"hobby\".count('b')"
   ]
  },
  {
   "cell_type": "code",
   "execution_count": 43,
   "id": "23a08f5a-436b-4ff7-9edd-fade76325ec1",
   "metadata": {},
   "outputs": [
    {
     "name": "stdout",
     "output_type": "stream",
     "text": [
      "한국서 돈벌고 '나 몰라라' 코스트코… 연회비 인상률은 미국의 3배\n",
      "1\n"
     ]
    }
   ],
   "source": [
    "import requests\n",
    "\n",
    "url = 'https://v.daum.net/v/20250203151815463'\n",
    "res = requests.get(url)\n",
    "\n",
    "# print(res.text[374:409] + '3' + res.text[410:411])\n",
    "\n",
    "li = res.text[374:411]\n",
    "li = li.replace('2', '3')\n",
    "\n",
    "print(li)\n",
    "print(li.count('한국'))"
   ]
  },
  {
   "cell_type": "code",
   "execution_count": 46,
   "id": "95ff7f76-f07d-46d9-af29-a17076896889",
   "metadata": {},
   "outputs": [
    {
     "name": "stdout",
     "output_type": "stream",
     "text": [
      "16\n"
     ]
    }
   ],
   "source": [
    "# 위치알려주기\n",
    "\n",
    "print(li.find('코'))"
   ]
  },
  {
   "cell_type": "code",
   "execution_count": 56,
   "id": "23c6c01d-ef62-4ea7-8b44-c67a3062ca62",
   "metadata": {},
   "outputs": [
    {
     "name": "stdout",
     "output_type": "stream",
     "text": [
      "41529\n",
      "41529\n",
      "toxic till the end\",\"url\":\"https://music.apple.com/kr/song/toxic-till-the-end/1783280225\",\"duration\"\n"
     ]
    }
   ],
   "source": [
    "\n",
    "import requests\n",
    "\n",
    "url = 'https://music.apple.com/kr/playlist/%EC%98%A4%EB%8A%98%EC%9D%98-top-100-%EB%8C%80%ED%95%9C%EB%AF%BC%EA%B5%AD/pl.d3d10c32fbc540b38e266367dc8cb00c'\n",
    "res = requests.get(url).text\n",
    "# print(res)\n",
    "print(res.find('toxic till the end'))\n",
    "print(res.index('toxic till the end'))\n",
    "print(res[41529:41629])\n"
   ]
  },
  {
   "cell_type": "code",
   "execution_count": 63,
   "id": "7703aed7-2097-447b-893d-13ad03446e80",
   "metadata": {},
   "outputs": [
    {
     "name": "stdout",
     "output_type": "stream",
     "text": [
      "a,b,c,d,e,f,g\n",
      "a,b,c,d\n",
      "HI\n",
      "hi\n"
     ]
    }
   ],
   "source": [
    "print(','.join('abcdefg'))\n",
    "print(','.join(['a','b','c','d']))\n",
    "\n",
    "a = 'hi'\n",
    "print(a.upper())\n",
    "\n",
    "b = 'HI'\n",
    "print(b.lower())\n"
   ]
  },
  {
   "cell_type": "code",
   "execution_count": 67,
   "id": "5f7d0c17-b53e-46fc-8894-3d8c99ad1b12",
   "metadata": {},
   "outputs": [
    {
     "name": "stdout",
     "output_type": "stream",
     "text": [
      "       hi       \n",
      "hi       \n",
      "       hi\n",
      "hi\n"
     ]
    }
   ],
   "source": [
    "\n",
    "a = '       hi       '\n",
    "aa = a.lstrip()\n",
    "bb = a.rstrip()\n",
    "cc = a.strip()\n",
    "\n",
    "print(a)\n",
    "print(aa)\n",
    "print(bb)\n",
    "print(cc)"
   ]
  },
  {
   "cell_type": "code",
   "execution_count": 68,
   "id": "19119789-11c8-4f44-95fc-dcbf8e55e497",
   "metadata": {},
   "outputs": [
    {
     "name": "stdout",
     "output_type": "stream",
     "text": [
      "Life is Egg\n",
      "Life is Good\n"
     ]
    }
   ],
   "source": [
    "# 문자열 바꾸기\n",
    "\n",
    "a = \"Life is Egg\"\n",
    "\n",
    "b = a.replace('Egg', 'Good')\n",
    "\n",
    "print(a)\n",
    "print(b)\n"
   ]
  },
  {
   "cell_type": "code",
   "execution_count": 75,
   "id": "47fe58a9-e164-468d-95af-dcdecc579f0a",
   "metadata": {},
   "outputs": [
    {
     "name": "stdout",
     "output_type": "stream",
     "text": [
      "['Life', 'is', 'Egg']\n",
      "['L', 'fe ', 's Egg']\n",
      "['Life is E', '', '']\n",
      "['Life is Egg']\n"
     ]
    }
   ],
   "source": [
    "# 문자열 나누기 split \n",
    "a = \"Life is Egg\"\n",
    "\n",
    "b = a.split()\n",
    "print(b)\n",
    "\n",
    "c = a.split('i')\n",
    "print(c)\n",
    "\n",
    "d = a.split('g')\n",
    "print(d)\n",
    "\n",
    "e = a.split('  ')\n",
    "print(e)"
   ]
  },
  {
   "cell_type": "code",
   "execution_count": 80,
   "id": "45390740-e32f-49d1-bc50-e7d97f2ac3d9",
   "metadata": {},
   "outputs": [
    {
     "name": "stdout",
     "output_type": "stream",
     "text": [
      "a=b=c=d=e=f=g\n",
      "['a', 'b', 'c', 'd', 'e', 'f', 'g']\n",
      "abcdefg\n"
     ]
    }
   ],
   "source": [
    "# 연습\n",
    "\n",
    "ex = 'abcdefg'\n",
    "\n",
    "ex_join = \"=\".join(ex)\n",
    "print(ex_join)\n",
    "\n",
    "ex_split = ex_join.split('=')\n",
    "print(ex_split)\n",
    "\n",
    "ex_replace = ex_join.replace('=','')\n",
    "print(ex_replace)"
   ]
  },
  {
   "cell_type": "code",
   "execution_count": null,
   "id": "ae010603-1ccb-47c7-98c1-a597ea63c6e6",
   "metadata": {},
   "outputs": [],
   "source": []
  }
 ],
 "metadata": {
  "kernelspec": {
   "display_name": "Python 3 (ipykernel)",
   "language": "python",
   "name": "python3"
  },
  "language_info": {
   "codemirror_mode": {
    "name": "ipython",
    "version": 3
   },
   "file_extension": ".py",
   "mimetype": "text/x-python",
   "name": "python",
   "nbconvert_exporter": "python",
   "pygments_lexer": "ipython3",
   "version": "3.13.1"
  }
 },
 "nbformat": 4,
 "nbformat_minor": 5
}
