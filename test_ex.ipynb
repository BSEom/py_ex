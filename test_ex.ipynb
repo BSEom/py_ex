{
 "cells": [
  {
   "cell_type": "code",
   "execution_count": 13,
   "id": "8e30845a-a95e-4a15-9e2f-dfc510cdda6a",
   "metadata": {},
   "outputs": [
    {
     "name": "stdin",
     "output_type": "stream",
     "text": [
      "단어를 입력해 주세요. 파이썬\n"
     ]
    },
    {
     "name": "stdout",
     "output_type": "stream",
     "text": [
      "\n",
      "입력된 단어: 파이썬\n",
      "거꾸로 바꾼 단어: 썬이파\n",
      "\n",
      "거꾸로 하면 달라요..\n"
     ]
    }
   ],
   "source": [
    "\n",
    "# q_01\n",
    "\n",
    "text = list(input(\"단어를 입력해 주세요.\"))\n",
    "\n",
    "print(f'\\n입력된 단어: {''.join(text)}')\n",
    "\n",
    "temp = text.copy()\n",
    "\n",
    "r_text = []\n",
    "\n",
    "for i in range(len(text)):\n",
    "    r_text.append(temp.pop())\n",
    "\n",
    "print(f'거꾸로 바꾼 단어: {''.join(r_text)}\\n')\n",
    "\n",
    "if text == r_text:\n",
    "    print('거꾸로 해도 똑같아요!')\n",
    "else:\n",
    "    print('거꾸로 하면 달라요..')\n",
    "\n",
    "\n",
    "# ======================================================"
   ]
  },
  {
   "cell_type": "code",
   "execution_count": 38,
   "id": "6306b0f8-7fc5-46dc-ab79-6ab956f41812",
   "metadata": {},
   "outputs": [
    {
     "name": "stdin",
     "output_type": "stream",
     "text": [
      "(공백으로 구분) 리스트를 입력하세요.: 1 2 3 4 5\n"
     ]
    },
    {
     "name": "stdout",
     "output_type": "stream",
     "text": [
      "홀수: ['1', '3', '5']\n",
      "짝수: ['2', '4']\n",
      "\n"
     ]
    }
   ],
   "source": [
    "# q_02\n",
    "\n",
    "input_ls = input(\"(공백으로 구분) 리스트를 입력하세요. :\")\n",
    "input_list = input_ls.split(' ')\n",
    "\n",
    "even_list = []\n",
    "odd_list = []\n",
    "\n",
    "for n in range(len(input_list)):\n",
    "    \n",
    "    if int(input_list[n]) % 2 == 0:\n",
    "        even_list.append(input_list[n])\n",
    "    else:\n",
    "        odd_list.append(input_list[n])\n",
    "\n",
    "print(f'홀수: {odd_list}\\n짝수: {even_list}\\n')\n",
    "\n",
    "# ======================================================"
   ]
  },
  {
   "cell_type": "code",
   "execution_count": null,
   "id": "57152e3b-1282-4a69-ad6e-948e1ec35ec9",
   "metadata": {},
   "outputs": [],
   "source": []
  },
  {
   "cell_type": "code",
   "execution_count": 32,
   "id": "099e635b-6196-49c0-b6dd-c53a748dfdae",
   "metadata": {},
   "outputs": [
    {
     "name": "stdin",
     "output_type": "stream",
     "text": [
      "문장을 입력하세요. i am abc hahahah \n"
     ]
    },
    {
     "name": "stdout",
     "output_type": "stream",
     "text": [
      "길이가 가장 큰 단어: hahahah "
     ]
    }
   ],
   "source": [
    "# q_03\n",
    "\n",
    "input_str = input(\"문장을 입력하세요.\")\n",
    "\n",
    "str_li = input_str.split(' ')\n",
    "\n",
    "max_len = ''\n",
    "\n",
    "for x in str_li:\n",
    "    if len(max_len) < len(x):\n",
    "        max_len = x\n",
    "\n",
    "print('\\n길이가 가장 큰 단어:', end=' ') \n",
    "print(max_len, end=' ')\n",
    "\n",
    "for x in str_li:\n",
    "    if len(max_len) == len(x):\n",
    "        if max_len != x:\n",
    "            print(x, end=' ')\n",
    "\n",
    "\n",
    "\n",
    "\n",
    "    \n",
    "\n",
    "\n"
   ]
  },
  {
   "cell_type": "code",
   "execution_count": 35,
   "id": "e4a01fd0-6449-43c5-8625-04e9900de465",
   "metadata": {},
   "outputs": [
    {
     "name": "stdin",
     "output_type": "stream",
     "text": [
      "당신의 기분을 한 문장으로 표현해주세요 :  그냥 짜증나고 화나\n"
     ]
    },
    {
     "name": "stdout",
     "output_type": "stream",
     "text": [
      "기분이 나빠보이네요\n"
     ]
    }
   ],
   "source": [
    "# q_04\n",
    "\n",
    "positive_words = [\"좋아\", \"행복\", \"멋져\", \"최고\", \"사랑해\"]\n",
    "negative_words = [\"싫어\", \"화나\", \"짜증\", \"별로\", \"나빠\"]\n",
    "\n",
    "input_string = input(\"당신의 기분을 한 문장으로 표현해주세요 : \")\n",
    "\n",
    "positive_count = 0\n",
    "negative_count = 0\n",
    "\n",
    "for a in positive_words:\n",
    "    if input_string.find(a) != -1:\n",
    "        positive_count += 1\n",
    "\n",
    "for b in negative_words:\n",
    "    if input_string.find(b) != -1:\n",
    "        negative_count += 1\n",
    "\n",
    "if positive_count == negative_count:\n",
    "    print(\"평범한 하루네요.\")\n",
    "elif positive_count > negative_count:\n",
    "    print(\"기분이 좋아보이네요\")\n",
    "elif positive_count < negative_count:\n",
    "    print(\"기분이 나빠보이네요\")\n",
    "\n"
   ]
  },
  {
   "cell_type": "code",
   "execution_count": null,
   "id": "b1e18dd0-f987-430a-9aeb-0cebc9dfd9fe",
   "metadata": {},
   "outputs": [],
   "source": []
  },
  {
   "cell_type": "code",
   "execution_count": 69,
   "id": "2812a360-75cc-4b7d-8d2b-999a01170640",
   "metadata": {},
   "outputs": [
    {
     "name": "stdin",
     "output_type": "stream",
     "text": [
      "문장을 입력하세요. today is a really happy day\n"
     ]
    },
    {
     "name": "stdout",
     "output_type": "stream",
     "text": [
      "Today Is A Really Happy Day.\n"
     ]
    }
   ],
   "source": [
    "# q_05\n",
    " \n",
    "input_str = input(\"문장을 입력하세요.\")\n",
    "\n",
    "str_li = input_str.split(' ')\n",
    "\n",
    "for y in range(len(str_li)):\n",
    "    temp_1 = str_li[y][0]\n",
    "    temp_2 = str_li[y][0].upper()\n",
    "    str_li[y] = str_li[y].replace(temp_1, temp_2)\n",
    "\n",
    "result = ' '.join(str_li)\n",
    "result = result+'.'\n",
    "\n",
    "print(result)\n"
   ]
  },
  {
   "cell_type": "code",
   "execution_count": 74,
   "id": "af7f218f-092d-43d9-b3ad-278f5d49e590",
   "metadata": {},
   "outputs": [
    {
     "name": "stdin",
     "output_type": "stream",
     "text": [
      "문장을 입력하세요. today is a really happy day\n"
     ]
    },
    {
     "name": "stdout",
     "output_type": "stream",
     "text": [
      "Today\n",
      "Is\n",
      "A\n",
      "Really\n",
      "Happy\n",
      "Day\n",
      "Today Is A Really Happy Day.\n"
     ]
    }
   ],
   "source": [
    "\n",
    "input_str = input(\"문장을 입력하세요.\")\n",
    "str_li = input_str.split(' ')\n",
    "\n",
    "temp_3 = []\n",
    "\n",
    "for y in str_li:\n",
    "    temp_1 = y[0]\n",
    "    temp_2 = y[0].upper()\n",
    "    \n",
    "    y = y.replace(temp_1, temp_2)\n",
    "    temp_3.append(y)\n",
    "    \n",
    "result = ' '.join(temp_3)\n",
    "result = result+'.'\n",
    "\n",
    "print(result)"
   ]
  },
  {
   "cell_type": "code",
   "execution_count": null,
   "id": "71368a0c-9bf9-431f-8b76-eec1d6535624",
   "metadata": {},
   "outputs": [],
   "source": []
  },
  {
   "cell_type": "code",
   "execution_count": 126,
   "id": "ae7294a3-ea90-4a35-abc5-c680edb3b085",
   "metadata": {},
   "outputs": [
    {
     "name": "stdout",
     "output_type": "stream",
     "text": [
      "1위 - 캡틴 아메리카: 브레이브 뉴 월드\n",
      "2위 - 히트맨2\n",
      "3위 - 말할 수 없는 비밀\n",
      "4위 - 검은 수녀들\n",
      "5위 - 서브스턴스\n",
      "6위 - 브루탈리스트\n",
      "7위 - 브로큰\n",
      "8위 - 더 폴: 디렉터스 컷\n",
      "9위 - 미드나잇 인 파리\n",
      "10위 - 500일의 썸머\n"
     ]
    }
   ],
   "source": [
    "import os\n",
    "import sys\n",
    "import requests as req\n",
    "from dotenv import load_dotenv\n",
    "import json\n",
    "\n",
    "def serch_movie(args):\n",
    "    \n",
    "    load_dotenv()\n",
    "\n",
    "    serch_date = args[0]\n",
    "\n",
    "    \n",
    "    MOVIE_KEY = os.getenv(\"MOVIE_KEY\")\n",
    "    key = MOVIE_KEY\n",
    "\n",
    "    \n",
    "    url = \"http://kobis.or.kr/kobisopenapi/webservice/rest/boxoffice/searchDailyBoxOfficeList.json?key=\" + key + \"&targetDt=\" + serch_date    # JSON 결과\n",
    "    web = req.get(url)\n",
    "    html = web.json()\n",
    "    data = html['boxOfficeResult']['dailyBoxOfficeList']\n",
    "\n",
    "    for x in data:\n",
    "        print(f'{x['rank']}위 - {x['movieNm']}')\n",
    "        # print(x['movieNm'])\n",
    "\n",
    "if __name__ == \"__main__\":\n",
    "    arg = sys.argv[1:]\n",
    "    serch_movie(arg)\n"
   ]
  },
  {
   "cell_type": "code",
   "execution_count": 109,
   "id": "d332f657-6e76-429e-8a47-6de20168302d",
   "metadata": {},
   "outputs": [
    {
     "name": "stdout",
     "output_type": "stream",
     "text": [
      "<class 'str'>\n",
      "{\"boxOfficeResult\":{\"boxofficeType\":\"일별 박스오피스\",\"showRange\":\"20250211~20250211\",\"dailyBoxOfficeList\":[{\"rnum\":\"1\",\"rank\":\"1\",\"rankInten\":\"0\",\"rankOldAndNew\":\"OLD\",\"movieCd\":\"20233006\",\"movieNm\":\"히트맨2\",\"openDt\":\"2025-01-22\",\"salesAmt\":\"207060900\",\"salesShare\":\"25.5\",\"salesInten\":\"-30660800\",\"salesChange\":\"-12.9\",\"salesAcc\":\"22256779740\",\"audiCnt\":\"22375\",\"audiInten\":\"-3197\",\"audiChange\":\"-12.5\",\"audiAcc\":\"2364038\",\"scrnCnt\":\"1014\",\"showCnt\":\"3312\"},{\"rnum\":\"2\",\"rank\":\"2\",\"rankInten\":\"0\",\"rankOldAndNew\":\"OLD\",\"movieCd\":\"20223819\",\"movieNm\":\"말할 수 없는 비밀\",\"openDt\":\"2025-01-27\",\"salesAmt\":\"154547300\",\"salesShare\":\"19.1\",\"salesInten\":\"-8904900\",\"salesChange\":\"-5.4\",\"salesAcc\":\"5800452640\",\"audiCnt\":\"16797\",\"audiInten\":\"-892\",\"audiChange\":\"-5\",\"audiAcc\":\"608968\",\"scrnCnt\":\"854\",\"showCnt\":\"2711\"},{\"rnum\":\"3\",\"rank\":\"3\",\"rankInten\":\"0\",\"rankOldAndNew\":\"OLD\",\"movieCd\":\"20247450\",\"movieNm\":\"검은 수녀들\",\"openDt\":\"2025-01-24\",\"salesAmt\":\"92701400\",\"salesShare\":\"11.4\",\"salesInten\":\"-7662580\",\"salesChange\":\"-7.6\",\"salesAcc\":\"15664471260\",\"audiCnt\":\"9654\",\"audiInten\":\"-735\",\"audiChange\":\"-7.1\",\"audiAcc\":\"1620351\",\"scrnCnt\":\"732\",\"showCnt\":\"1904\"},{\"rnum\":\"4\",\"rank\":\"4\",\"rankInten\":\"0\",\"rankOldAndNew\":\"OLD\",\"movieCd\":\"20216476\",\"movieNm\":\"브로큰\",\"openDt\":\"2025-02-05\",\"salesAmt\":\"78753800\",\"salesShare\":\"9.7\",\"salesInten\":\"-7967700\",\"salesChange\":\"-9.2\",\"salesAcc\":\"1662621120\",\"audiCnt\":\"8850\",\"audiInten\":\"-505\",\"audiChange\":\"-5.4\",\"audiAcc\":\"179205\",\"scrnCnt\":\"666\",\"showCnt\":\"1788\"},{\"rnum\":\"5\",\"rank\":\"5\",\"rankInten\":\"0\",\"rankOldAndNew\":\"OLD\",\"movieCd\":\"20244762\",\"movieNm\":\"서브스턴스\",\"openDt\":\"2024-12-11\",\"salesAmt\":\"53992600\",\"salesShare\":\"6.7\",\"salesInten\":\"-2119700\",\"salesChange\":\"-3.8\",\"salesAcc\":\"4326345380\",\"audiCnt\":\"5624\",\"audiInten\":\"-208\",\"audiChange\":\"-3.6\",\"audiAcc\":\"444001\",\"scrnCnt\":\"316\",\"showCnt\":\"561\"},{\"rnum\":\"6\",\"rank\":\"6\",\"rankInten\":\"0\",\"rankOldAndNew\":\"OLD\",\"movieCd\":\"20246777\",\"movieNm\":\"더 폴: 디렉터스 컷\",\"openDt\":\"2024-12-25\",\"salesAmt\":\"26094000\",\"salesShare\":\"3.2\",\"salesInten\":\"-484000\",\"salesChange\":\"-1.8\",\"salesAcc\":\"1264374100\",\"audiCnt\":\"2666\",\"audiInten\":\"-63\",\"audiChange\":\"-2.3\",\"audiAcc\":\"122124\",\"scrnCnt\":\"76\",\"showCnt\":\"117\"},{\"rnum\":\"7\",\"rank\":\"7\",\"rankInten\":\"0\",\"rankOldAndNew\":\"OLD\",\"movieCd\":\"20228796\",\"movieNm\":\"하얼빈\",\"openDt\":\"2024-12-24\",\"salesAmt\":\"20276200\",\"salesShare\":\"2.5\",\"salesInten\":\"-2861000\",\"salesChange\":\"-12.4\",\"salesAcc\":\"46867456880\",\"audiCnt\":\"2161\",\"audiInten\":\"-316\",\"audiChange\":\"-12.8\",\"audiAcc\":\"4900871\",\"scrnCnt\":\"358\",\"showCnt\":\"493\"},{\"rnum\":\"8\",\"rank\":\"8\",\"rankInten\":\"3\",\"rankOldAndNew\":\"OLD\",\"movieCd\":\"20246361\",\"movieNm\":\"뽀로로 극장판 바닷속 대모험\",\"openDt\":\"2025-01-01\",\"salesAmt\":\"8528900\",\"salesShare\":\"1.1\",\"salesInten\":\"2587500\",\"salesChange\":\"43.6\",\"salesAcc\":\"3484965090\",\"audiCnt\":\"1203\",\"audiInten\":\"381\",\"audiChange\":\"46.4\",\"audiAcc\":\"405269\",\"scrnCnt\":\"90\",\"showCnt\":\"96\"},{\"rnum\":\"9\",\"rank\":\"9\",\"rankInten\":\"0\",\"rankOldAndNew\":\"OLD\",\"movieCd\":\"20051060\",\"movieNm\":\"극장판 포켓몬스터 AG: 뮤와 파동의 용사 루카리오\",\"openDt\":\"2025-01-22\",\"salesAmt\":\"8415800\",\"salesShare\":\"1.0\",\"salesInten\":\"-317200\",\"salesChange\":\"-3.6\",\"salesAcc\":\"1493033540\",\"audiCnt\":\"997\",\"audiInten\":\"-47\",\"audiChange\":\"-4.5\",\"audiAcc\":\"168709\",\"scrnCnt\":\"184\",\"showCnt\":\"196\"},{\"rnum\":\"10\",\"rank\":\"10\",\"rankInten\":\"0\",\"rankOldAndNew\":\"OLD\",\"movieCd\":\"20251712\",\"movieNm\":\"9월 5일: 위험한 특종\",\"openDt\":\"2025-02-05\",\"salesAmt\":\"8714700\",\"salesShare\":\"1.1\",\"salesInten\":\"946300\",\"salesChange\":\"12.2\",\"salesAcc\":\"89782060\",\"audiCnt\":\"932\",\"audiInten\":\"101\",\"audiChange\":\"12.2\",\"audiAcc\":\"9388\",\"scrnCnt\":\"207\",\"showCnt\":\"245\"}]}}\n"
     ]
    }
   ],
   "source": [
    "import requests as req\n",
    "import sys\n",
    "\n",
    "url = \"http://kobis.or.kr/kobisopenapi/webservice/rest/boxoffice/searchDailyBoxOfficeList.json?key=6f6c41337974158eb22e6fce79c7af5a&targetDt=20250211\"\n",
    "web = req.get(url)\n",
    "html = web.text\n",
    "print (type(ht))\n",
    "\n",
    "print(html)"
   ]
  },
  {
   "cell_type": "code",
   "execution_count": null,
   "id": "3f6f315a-5a76-4687-bc0b-9e78025ba829",
   "metadata": {},
   "outputs": [],
   "source": []
  }
 ],
 "metadata": {
  "kernelspec": {
   "display_name": "Python 3 (ipykernel)",
   "language": "python",
   "name": "python3"
  },
  "language_info": {
   "codemirror_mode": {
    "name": "ipython",
    "version": 3
   },
   "file_extension": ".py",
   "mimetype": "text/x-python",
   "name": "python",
   "nbconvert_exporter": "python",
   "pygments_lexer": "ipython3",
   "version": "3.13.1"
  }
 },
 "nbformat": 4,
 "nbformat_minor": 5
}
