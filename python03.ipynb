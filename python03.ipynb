{
 "cells": [
  {
   "cell_type": "markdown",
   "id": "78442d7c-0324-4744-8eeb-82310648db73",
   "metadata": {},
   "source": [
    "# 제어문"
   ]
  },
  {
   "cell_type": "markdown",
   "id": "a7a8093a-4a59-4a1b-a599-ae58e6b438f3",
   "metadata": {},
   "source": [
    "## if 문"
   ]
  },
  {
   "cell_type": "code",
   "execution_count": 1,
   "id": "bcd9e46d-77b1-49a7-bb35-105c1f5d17d0",
   "metadata": {},
   "outputs": [
    {
     "name": "stdout",
     "output_type": "stream",
     "text": [
      "항상 동작합니다.\n",
      "5가 큽니다\n"
     ]
    }
   ],
   "source": [
    "if True:\n",
    "    print(\"항상 동작합니다.\")\n",
    "if False:\n",
    "    print(\"이건 동작할까요?\")\n",
    "\n",
    "if 5 > 2:\n",
    "    print(\"5가 큽니다\")\n",
    "if 4 > 10:\n",
    "    print(\"나올까요?\")\n",
    "    "
   ]
  },
  {
   "cell_type": "code",
   "execution_count": 2,
   "id": "7863a8b7-3f8b-427a-9713-f3d1c6dcf97b",
   "metadata": {},
   "outputs": [
    {
     "name": "stdout",
     "output_type": "stream",
     "text": [
      "9 나 화났어!\n",
      "8 나 화났어!\n",
      "7 나 화났어!\n",
      "6 나 화났어!\n",
      "5 나 화났어!\n",
      "4 나 화났어!\n",
      "3 나 화났어!\n",
      "2 나 화났어!\n",
      "1 나 화났어!\n",
      "0 나 화났어!\n"
     ]
    }
   ],
   "source": [
    "num = 10 \n",
    "while num:\n",
    "    num -= 1\n",
    "    print(num, \"나 화났어!\")\n",
    "    "
   ]
  },
  {
   "cell_type": "code",
   "execution_count": 3,
   "id": "d4a3be8f-915c-423f-b371-9d83a0089f5c",
   "metadata": {},
   "outputs": [
    {
     "name": "stdout",
     "output_type": "stream",
     "text": [
      "가라\n"
     ]
    }
   ],
   "source": [
    "if False:\n",
    "    print(\"택시를\")\n",
    "    print(\"타고\")\n",
    "print(\"가라\")"
   ]
  },
  {
   "cell_type": "code",
   "execution_count": null,
   "id": "b3417e17-e5b1-4512-bdf9-546fdb64a3d4",
   "metadata": {},
   "outputs": [],
   "source": [
    "mymoney = int(input('얼마 가지고 있습니까?'))\n",
    "if mymoney >= 3000: \n",
    "    print('택시타고 가세요.')\n",
    "# if mymoney < 3000:\n",
    "else:\n",
    "    print(\"걸어가세요.\")"
   ]
  },
  {
   "cell_type": "code",
   "execution_count": null,
   "id": "ccf90077-0287-4282-a0b2-b8c9ae9f2b45",
   "metadata": {},
   "outputs": [],
   "source": [
    "\n",
    "print(\"====== and 연산 ======\")\n",
    "print(True and True)\n",
    "print(True and False)\n",
    "print(False and True)\n",
    "print(False and False)\n",
    "\n",
    "print(\"====== or 연산 ======\")\n",
    "print(True or True)\n",
    "print(True or False)\n",
    "print(False or True)\n",
    "print(False or False)\n",
    "\n",
    "print(\"====== not 연산 ======\")\n",
    "print(True)\n",
    "print(not True)\n",
    "print(not False)\n"
   ]
  },
  {
   "cell_type": "code",
   "execution_count": null,
   "id": "3b826cbf-fb4b-48c2-bcdf-4126944555e2",
   "metadata": {},
   "outputs": [],
   "source": [
    "이상형 = True\n",
    "똑똑 = False\n",
    "if 이상형 and 똑똑:\n",
    "    print(\"만납시다\")\n",
    "else:\n",
    "    print(\"반가워요\")"
   ]
  },
  {
   "cell_type": "code",
   "execution_count": null,
   "id": "3afa0c17-3979-455d-83a6-839a04d8e9ff",
   "metadata": {},
   "outputs": [],
   "source": [
    "이상형 = False\n",
    "다정 = False\n",
    "if 이상형 or 다정:\n",
    "    print(\"만납시다\")\n",
    "else:\n",
    "    print(\"그렇군요...\")"
   ]
  },
  {
   "cell_type": "code",
   "execution_count": null,
   "id": "c53fbe2f-13e8-461f-8a49-17d3864a01af",
   "metadata": {},
   "outputs": [],
   "source": [
    "주사 = True\n",
    "\n",
    "if not 주사:\n",
    "    print(\"만나요\")\n",
    "else:\n",
    "    print(\"잘가요\")"
   ]
  },
  {
   "cell_type": "code",
   "execution_count": null,
   "id": "f4082e4e-420d-4432-b227-af664c418654",
   "metadata": {},
   "outputs": [],
   "source": [
    "money = 2000\n",
    "card = True\n",
    "if money >= 3000 or card:\n",
    "    print(\"택시를 타고 가라\")\n",
    "else:\n",
    "\n",
    "    print(\"걸어가라\")"
   ]
  },
  {
   "cell_type": "code",
   "execution_count": null,
   "id": "b7807485-d337-4858-8276-87eb132280c8",
   "metadata": {},
   "outputs": [],
   "source": [
    "me = 'Python'\n",
    "\n",
    "compA = ['JAVA', 'CSS', 'Javascript', 'C', 'MySQL']\n",
    "compB = ['JAVA', 'Python', 'Javascript', 'C', 'MySQL']\n",
    "compC = ['JAVA', 'Python', 'HTML', 'MySQL']\n",
    "\n",
    "if me in compA:\n",
    "    print(\"A회사 합격입니다.\")\n",
    "else:\n",
    "    print(\"A회사 불합격입니다.\")\n",
    "\n",
    "if me in compB:\n",
    "    print(\"B회사 합격입니다.\")\n",
    "else:\n",
    "    print(\"B회사 불합격입니다.\")\n",
    "\n",
    "if me in compC:\n",
    "    print(\"C회사 합격입니다.\")\n",
    "else:\n",
    "    print(\"C회사 불합격입니다.\")\n",
    "    "
   ]
  },
  {
   "cell_type": "code",
   "execution_count": null,
   "id": "f693d3fe-98d0-41bf-ae91-21bf3c8a8164",
   "metadata": {},
   "outputs": [],
   "source": [
    "me = 'Python'\n",
    "\n",
    "compA = ['JAVA', 'CSS', 'Javascript', 'C', 'MySQL']\n",
    "compB = ['JAVA', 'Python', 'Javascript', 'C', 'MySQL']\n",
    "compC = ['JAVA', 'Python', 'HTML', 'MySQL']\n",
    "\n",
    "name = ['A', 'B', 'C']\n",
    "p = 0\n",
    "\n",
    "for i in [compA, compB, compC]:\n",
    "    \n",
    "    if me in i:\n",
    "        print(f\"{name[p]}회사 합격입니다.\")\n",
    "    else:\n",
    "        print(f\"{name[p]}회사 불합격입니다.\")\n",
    "\n",
    "    p += 1\n",
    "     \n"
   ]
  },
  {
   "cell_type": "code",
   "execution_count": null,
   "id": "fb91a74f-b247-493b-8de6-ef99ce361d06",
   "metadata": {},
   "outputs": [],
   "source": [
    "# 처음 작성한 코드\n",
    "\n",
    "# if만 사용할 때 조건을 사용해버렸음\n",
    "# elif라서 위에 적은 조건 다시 입력할 필요 없다.\n",
    "# 대신 순차대로 조건을 설정해야한다.\n",
    "# 순서가 바뀐다면 아래와같이 조건을 상세하게 설정해야한다. \n",
    "\n",
    "\n",
    "sub = int(input(\"점수를 입력하세요. :\"))\n",
    "\n",
    "if sub>=90 and sub<=100:\n",
    "    print('A')\n",
    "elif sub>=80 and sub<90:\n",
    "    print('B')\n",
    "elif sub>=70 and sub<80:\n",
    "    print('C')\n",
    "elif sub>=60 and sub<70:\n",
    "    print('D')\n",
    "else:\n",
    "    print('F')\n",
    "    "
   ]
  },
  {
   "cell_type": "code",
   "execution_count": null,
   "id": "5b883b29-6829-4d53-8394-aefd2c2a7d6d",
   "metadata": {},
   "outputs": [],
   "source": [
    "sub = int(input(\"점수를 입력하세요. :\"))\n",
    "\n",
    "if sub>=90:\n",
    "    print('A')\n",
    "elif sub>=80:\n",
    "    print('B')\n",
    "elif sub>=70:\n",
    "    print('C')\n",
    "elif sub>=60:\n",
    "    print('D')\n",
    "else:\n",
    "    print('F')"
   ]
  },
  {
   "cell_type": "code",
   "execution_count": null,
   "id": "5c4d0900-a101-4ed2-a2bf-19ce3922f3cf",
   "metadata": {},
   "outputs": [],
   "source": [
    "# if만 사용\n",
    "\n",
    "sub = int(input(\"점수를 입력하세요. :\"))\n",
    "\n",
    "if sub>=90 and sub<=100:\n",
    "    print('A')\n",
    "if sub>=80 and sub<90:\n",
    "    print('B')\n",
    "if sub>=70 and sub<80:\n",
    "    print('C')\n",
    "if sub>=60 and sub<70:\n",
    "    print('D')\n",
    "if sub<60:\n",
    "    print('F')\n"
   ]
  },
  {
   "cell_type": "code",
   "execution_count": null,
   "id": "e265cb73-d3db-45bc-9c28-a1daab861483",
   "metadata": {},
   "outputs": [],
   "source": [
    "\n",
    "temp = int(input(\"현재 기온을 입력하세요. :\"))\n",
    "w = '겨울'\n",
    "\n",
    "if temp >= 25:\n",
    "    w = '여름'\n",
    "elif temp >= 15:\n",
    "    w = '봄'\n",
    "elif temp >= 10:\n",
    "    w = '가을'\n",
    "\n",
    "print(f'지금 계절은 {w}!')\n"
   ]
  },
  {
   "cell_type": "code",
   "execution_count": null,
   "id": "086d3e79-4e5d-49fc-b678-4fad8d7cde88",
   "metadata": {},
   "outputs": [],
   "source": [
    "temp = int(input(\"현재 기온을 입력하세요. :\"))\n",
    "\n",
    "if temp >= 25:\n",
    "    print(\"지금 계절은 여름!\")    \n",
    "elif temp >= 15:\n",
    "    print(\"지금 계절은 봄!\")\n",
    "elif temp >= 10:\n",
    "    print(\"지금 계절은 가을!\")\n",
    "else:\n",
    "    print(\"지금 계절은 겨울!\")"
   ]
  },
  {
   "cell_type": "markdown",
   "id": "b3aee249-51b1-412a-a7ea-7f9f4dac64bb",
   "metadata": {},
   "source": [
    "## while 문"
   ]
  },
  {
   "cell_type": "code",
   "execution_count": null,
   "id": "0b6aa697-44a4-4347-8920-30bbac81e83f",
   "metadata": {},
   "outputs": [],
   "source": [
    "treeHit = 0\n",
    "while treeHit < 10:\n",
    "    treeHit += 1\n",
    "    print(f'나무를 {treeHit}번 찍었습니다.')\n",
    "    if treeHit == 10:\n",
    "        print(\"나무 넘어갑니다.\")"
   ]
  },
  {
   "cell_type": "code",
   "execution_count": null,
   "id": "8f027f27-c83f-41c4-bbaf-02a554c99c0f",
   "metadata": {},
   "outputs": [],
   "source": [
    "num = 10\n",
    "\n",
    "while num > 0:\n",
    "    num -= 1\n",
    "    print(f'나무를 {10-num}번 찍었습니다.')\n",
    "    if num == 0:\n",
    "        print(\"나무 넘어갑니다.\")\n"
   ]
  },
  {
   "cell_type": "code",
   "execution_count": null,
   "id": "631e36f1-f543-488c-b72d-3a38819a842c",
   "metadata": {},
   "outputs": [],
   "source": [
    "from IPython.display import clear_output\n",
    "\n",
    "prompt = \"\"\"\n",
    "    선택해 주세요.\n",
    "    1. Add\n",
    "    2. Del\n",
    "    3. List\n",
    "    4. Quit\n",
    "\"\"\"\n",
    "\n",
    "number=0\n",
    "while number != 4:\n",
    "    print(prompt)\n",
    "    number = int(input())\n",
    "    clear_output(wait=True) # 이전 질문 지우기\n",
    "print(\"시스템이 종료되었습니다.\")    "
   ]
  },
  {
   "cell_type": "code",
   "execution_count": 1,
   "id": "fff2c459-0162-4a6c-aa57-dd439d0e536b",
   "metadata": {},
   "outputs": [],
   "source": [
    "# random 주사위\n",
    "\n",
    "import random as r\n",
    "\n",
    "box = [] # 초기화\n",
    "\n",
    "\n"
   ]
  },
  {
   "cell_type": "code",
   "execution_count": 4,
   "id": "fab33a52-237a-40d6-aba9-6f3f165e40f5",
   "metadata": {},
   "outputs": [
    {
     "name": "stdout",
     "output_type": "stream",
     "text": [
      "100000 \n",
      "\n",
      "1의 개수: 16551개 입니다. 확률: 16.55(%)\n",
      "2의 개수: 16602개 입니다. 확률: 16.60(%)\n",
      "3의 개수: 16652개 입니다. 확률: 16.65(%)\n",
      "4의 개수: 16717개 입니다. 확률: 16.72(%)\n",
      "5의 개수: 16703개 입니다. 확률: 16.70(%)\n",
      "6의 개수: 16775개 입니다. 확률: 16.77(%)\n",
      "\n",
      "확률의 합: 100.0(%)\n",
      "\n",
      "1\n",
      "2\n",
      "3\n",
      "4\n",
      "L\n",
      "5\n",
      "가장 많이 나온 수는 6\n"
     ]
    }
   ],
   "source": [
    "# ran = int(r.random()*6 + 1)\n",
    "n = 100000\n",
    "while n>0:                      # 변수 n 사용 및 if, break문 사용              \n",
    "    # if n>=10:\n",
    "    #     break;\n",
    "    ran = r.randint(1, 6)\n",
    "    box.append(ran)\n",
    "    n -= 1\n",
    "    \n",
    "# print(box, len(box))\n",
    "print(len(box), '\\n')\n",
    "\n",
    "# ===================================================================\n",
    "\n",
    "# box = [] # 초기화\n",
    "\n",
    "# while len(box)<10:             # 리스트 box의 길이를 조건으로 사용\n",
    "#     ran = r.randint(1, 6)\n",
    "#     box.append(ran)\n",
    "\n",
    "# print(box)\n",
    "\n",
    "# ===================================================================\n",
    "\n",
    "\n",
    "# 리스트의 특정한 숫자를 몇개인지 찾아내는 함수 사용\n",
    "\n",
    "# while 문 사용\n",
    "co = 0\n",
    "p_sum = 0 \n",
    "while co < 6:\n",
    "    co += 1\n",
    "    result = box.count(co)\n",
    "    per = (result * 100) / len(box)\n",
    "    p_sum += per\n",
    "    print(f'{co}의 개수: {result}개 입니다. 확률: {per:.2f}(%)')\n",
    "    \n",
    "\n",
    "print(f'\\n확률의 합: {p_sum}(%)\\n')\n",
    "\n",
    "# print 문 반복\n",
    "# print('1은 %d개 입니다.' %box.count(1))\n",
    "# print('2는 %d개 입니다.' %box.count(2))\n",
    "# print('3은 %d개 입니다.' %box.count(3))\n",
    "# print('4는 %d개 입니다.' %box.count(4))\n",
    "# print('5는 %d개 입니다.' %box.count(5))\n",
    "# print('6은 %d개 입니다.' %box.count(6))\n",
    "\n",
    "# n_max = 6\n",
    "# while co > 1:\n",
    "#     print(box.count(n_max), box.count(co-1))\n",
    "    \n",
    "#     if box.count(n_max) > box.count(co-1):\n",
    "#         print('L')\n",
    "#         print('max 값: ',n_max,'\\n')\n",
    "#     else:\n",
    "#         print('R')\n",
    "#         n_max = int(co-1) \n",
    "#         print('max 값: ',n_max,'\\n')\n",
    "#     co -= 1\n",
    "\n",
    "\n",
    "n_max = 1\n",
    "for i in range(1,6):\n",
    "    print(i)\n",
    "    # print(box.count(i), box.count(i+1))\n",
    "\n",
    "    if box.count(n_max) > box.count(i+1):\n",
    "        print('L')\n",
    "        # print(n_max,'\\n')\n",
    "    else:\n",
    "        n_max = i+1\n",
    "        # print('R')\n",
    "        # print(n_max,'\\n')\n",
    "    \n",
    "\n",
    "\n",
    "\n",
    "\n",
    "print(f'가장 많이 나온 수는 {n_max}')\n",
    "\n"
   ]
  },
  {
   "cell_type": "markdown",
   "id": "c0cb4dcd-8ed9-4823-9643-67cf99135a98",
   "metadata": {},
   "source": [
    "## for 문"
   ]
  },
  {
   "cell_type": "code",
   "execution_count": 81,
   "id": "70623aa3-643f-42aa-b4db-04e93018f66d",
   "metadata": {},
   "outputs": [
    {
     "name": "stdout",
     "output_type": "stream",
     "text": [
      "one\n",
      "two\n",
      "three\n"
     ]
    }
   ],
   "source": [
    "test_lsit = ['one', 'two', 'three']\n",
    "\n",
    "for i in test_lsit:\n",
    "    print(i)"
   ]
  },
  {
   "cell_type": "code",
   "execution_count": 88,
   "id": "b34e8b80-c2ef-49d8-8160-c2e125595e37",
   "metadata": {},
   "outputs": [
    {
     "name": "stdout",
     "output_type": "stream",
     "text": [
      "1번 학생은 합격입니다.\n",
      "2번 학생은 불합격입니다.\n",
      "3번 학생은 합격입니다.\n",
      "4번 학생은 불합격입니다.\n",
      "5번 학생은 합격입니다.\n"
     ]
    }
   ],
   "source": [
    "marks = [90, 25, 67, 45, 80]\n",
    "\n",
    "number = 0\n",
    "for mark in marks:\n",
    "    number = number + 1\n",
    "    if mark >= 60:\n",
    "        print(f'{number}번 학생은 합격입니다.')\n",
    "    else:\n",
    "        print(f'{number}번 학생은 불합격입니다.')"
   ]
  },
  {
   "cell_type": "code",
   "execution_count": 91,
   "id": "a26ba0dc-cb66-4675-9fb4-32a0fe094190",
   "metadata": {},
   "outputs": [
    {
     "name": "stdout",
     "output_type": "stream",
     "text": [
      "1번 학생 축하합니다. 합격입니다.\n",
      "3번 학생 축하합니다. 합격입니다.\n",
      "5번 학생 축하합니다. 합격입니다.\n"
     ]
    }
   ],
   "source": [
    "marks = [90, 25, 67, 45, 80]\n",
    "\n",
    "number = 0\n",
    "for mark in marks:\n",
    "    number = number + 1\n",
    "    if mark < 60:\n",
    "        continue\n",
    "    print(f'{number}번 학생 축하합니다. 합격입니다.')"
   ]
  },
  {
   "cell_type": "code",
   "execution_count": null,
   "id": "766b6954-6f0a-4a3a-976c-29f47e99b5fe",
   "metadata": {},
   "outputs": [],
   "source": []
  },
  {
   "cell_type": "code",
   "execution_count": null,
   "id": "16ab607f-cffc-49fe-8d43-52e3eba9afa6",
   "metadata": {},
   "outputs": [],
   "source": []
  },
  {
   "cell_type": "code",
   "execution_count": 92,
   "id": "28e71954-5df1-4e40-94be-8909b5e758e6",
   "metadata": {},
   "outputs": [
    {
     "name": "stdout",
     "output_type": "stream",
     "text": [
      "1\n",
      "3\n",
      "5\n",
      "7\n",
      "9\n"
     ]
    }
   ],
   "source": [
    "num = [1, 2, 3, 4, 5, 6, 7, 8, 9, 10]\n",
    "\n",
    "for n in num:\n",
    "    if n%2 == 0:\n",
    "        continue\n",
    "    else:\n",
    "        print(n)"
   ]
  },
  {
   "cell_type": "markdown",
   "id": "1b27c03b-f433-459b-8ba9-2631b634deea",
   "metadata": {},
   "source": [
    "### range 함수"
   ]
  },
  {
   "cell_type": "code",
   "execution_count": 32,
   "id": "e8eb600c-725c-4468-8331-f5779c31c164",
   "metadata": {},
   "outputs": [
    {
     "name": "stdout",
     "output_type": "stream",
     "text": [
      "0\n",
      "2\n",
      "4\n",
      "6\n",
      "8\n"
     ]
    }
   ],
   "source": [
    "for even in range(0,10,2):\n",
    "    print(even)"
   ]
  },
  {
   "cell_type": "code",
   "execution_count": 37,
   "id": "808c9cb2-40e0-4d98-9e02-6750a38ffb0e",
   "metadata": {},
   "outputs": [
    {
     "name": "stdout",
     "output_type": "stream",
     "text": [
      "1부터 10까지 합: 55\n",
      "1부터 130까지 합: 8515\n"
     ]
    }
   ],
   "source": [
    "n_sum = 0\n",
    "\n",
    "for n in range(1,11):\n",
    "    n_sum += n\n",
    "\n",
    "print(f'1부터 10까지 합: {n_sum}')\n",
    "\n",
    "\n",
    "n_sum = 0\n",
    "for n in range(1,131):\n",
    "    n_sum += n\n",
    "\n",
    "print(f'1부터 130까지 합: {n_sum}')\n",
    "\n"
   ]
  },
  {
   "cell_type": "code",
   "execution_count": 40,
   "id": "65e18095-f073-4201-acf4-7c7e30dd37ed",
   "metadata": {},
   "outputs": [
    {
     "name": "stdout",
     "output_type": "stream",
     "text": [
      "1번 학생 통과\n",
      "3번 학생 통과\n",
      "5번 학생 통과\n"
     ]
    }
   ],
   "source": [
    "marks = [90, 25, 67, 45, 80]\n",
    "\n",
    "for number in range(len(marks)):\n",
    "    if marks[number] < 60:\n",
    "        continue\n",
    "    else:\n",
    "        print(f'{number+1}번 학생 통과')"
   ]
  },
  {
   "cell_type": "code",
   "execution_count": 44,
   "id": "ec46f350-52a9-4db8-a1d7-54d953dd0375",
   "metadata": {},
   "outputs": [
    {
     "name": "stdout",
     "output_type": "stream",
     "text": [
      "   February 2025\n",
      "Su Mo Tu We Th Fr Sa\n",
      "                   1\n",
      " 2  3  4  5  6  7  8\n",
      " 9 10 11 12 13 14 15\n",
      "16 17 18 19 20 21 22\n",
      "23 24 25 26 27 28\n",
      "\n"
     ]
    }
   ],
   "source": [
    "# 연습\n",
    "import calendar\n",
    "c = calendar.TextCalendar()\n",
    "c.setfirstweekday(calendar.SUNDAY)\n",
    "print(c.formatmonth(2025, 2))"
   ]
  },
  {
   "cell_type": "code",
   "execution_count": 11,
   "id": "50101901-6893-4ca2-bd83-f43459deaa07",
   "metadata": {},
   "outputs": [
    {
     "name": "stdout",
     "output_type": "stream",
     "text": [
      "■■■■■■■■■■■■■■■■■■■■1738904801.0841744\n"
     ]
    }
   ],
   "source": [
    "# 테스트 타이머\n",
    "\n",
    "import time as t\n",
    "\n",
    "for x in range(20):\n",
    "    print(f'■',end='')\n",
    "    t.sleep(0.5)\n"
   ]
  },
  {
   "cell_type": "code",
   "execution_count": 37,
   "id": "5ab16f3d-8003-4f97-b9c4-559ffc8cde61",
   "metadata": {},
   "outputs": [
    {
     "name": "stdout",
     "output_type": "stream",
     "text": [
      "<class 'list'>\n",
      "<class 'tuple'>\n",
      "1738906240.9963803\n"
     ]
    }
   ],
   "source": [
    "# 리스트 속도 측정\n",
    "import time as t\n",
    "\n",
    "lt = []\n",
    "tp = []\n",
    "length = 1000 * 1000\n",
    "\n",
    "for x in range(length):\n",
    "    lt.append(x)\n",
    "for c in range(length):\n",
    "    tp.append(c)\n",
    "tp = tuple(tp)\n",
    "\n",
    "print(type(lt))\n",
    "print(type(tp))\n",
    "\n",
    "print(t.time())\n"
   ]
  },
  {
   "cell_type": "code",
   "execution_count": 21,
   "id": "e0f36949-69d5-4e69-b098-db78f02345d8",
   "metadata": {},
   "outputs": [
    {
     "name": "stdout",
     "output_type": "stream",
     "text": [
      "0.7642242908477783\n"
     ]
    }
   ],
   "source": [
    "start = t.time()\n",
    "\n",
    "for x in tp:\n",
    "    lts = [1, 2, 3, 4, 5]\n",
    "\n",
    "print(t.time() - start)"
   ]
  },
  {
   "cell_type": "code",
   "execution_count": 22,
   "id": "4733d7fc-cb81-49e9-a82f-3c0eda3931a2",
   "metadata": {},
   "outputs": [
    {
     "name": "stdout",
     "output_type": "stream",
     "text": [
      "0.41159915924072266\n"
     ]
    }
   ],
   "source": [
    "start = t.time()\n",
    "\n",
    "for x in lt:\n",
    "    tps = (1, 2, 3, 4, 5)\n",
    "\n",
    "print(t.time() - start)"
   ]
  },
  {
   "cell_type": "code",
   "execution_count": 25,
   "id": "dbc81344-1a37-4d2c-9255-7382ba850ebf",
   "metadata": {},
   "outputs": [
    {
     "name": "stdout",
     "output_type": "stream",
     "text": [
      "Collecting tqdm\n",
      "  Downloading tqdm-4.67.1-py3-none-any.whl.metadata (57 kB)\n",
      "Requirement already satisfied: colorama in c:\\users\\admin\\appdata\\local\\programs\\python\\python313\\lib\\site-packages (from tqdm) (0.4.6)\n",
      "Downloading tqdm-4.67.1-py3-none-any.whl (78 kB)\n",
      "Installing collected packages: tqdm\n",
      "Successfully installed tqdm-4.67.1\n"
     ]
    }
   ],
   "source": [
    "# !pip install tqdm"
   ]
  },
  {
   "cell_type": "code",
   "execution_count": 29,
   "id": "6b291b10-89c6-4fd1-bcc4-c609e41bdc04",
   "metadata": {},
   "outputs": [
    {
     "name": "stderr",
     "output_type": "stream",
     "text": [
      "100%|████████████████████████████████████████████████████████████████████████████████| 100/100 [00:10<00:00,  9.78it/s]\n"
     ]
    }
   ],
   "source": [
    "from tqdm import tqdm \n",
    "import time as t\n",
    "\n",
    "for x in tqdm(range(100)):\n",
    "    t.sleep(0.1)"
   ]
  },
  {
   "cell_type": "code",
   "execution_count": 37,
   "id": "514f7e24-28ed-42ce-ade0-ef43d6e56513",
   "metadata": {},
   "outputs": [
    {
     "name": "stdout",
     "output_type": "stream",
     "text": [
      "시작가: 152,630,000.0원, 최대가: 152,817,000.0원, 최소가: 149,809,000.0원, 변화폭: 3,008,000.0원\n",
      "상승장 입니다.\n"
     ]
    }
   ],
   "source": [
    "# 비트코인 시세로 상승장 하강장 구분하기\n",
    "import requests\n",
    "\n",
    "url = 'https://api.bithumb.com/public/ticker/ALL_KRW'\n",
    "\n",
    "headers = {\"accept\": \"application/json\"}\n",
    "\n",
    "gdata = requests.get(url).json()\n",
    "\n",
    "# print(response.text)\n",
    "# print(gdata['data']['BTC'])\n",
    "btc = gdata['data']['BTC']\n",
    "\n",
    "max_p = btc['max_price'] # 최대가\n",
    "min_p = btc['min_price'] # 최소가\n",
    "\n",
    "open_p = btc['opening_price'] # 시작가\n",
    "close_p = btc['closing_price'] # 종료가\n",
    "\n",
    "band_p = float(max_p) - float(min_p) # 변화폭\n",
    "\n",
    "# 시작가 + 변화폭 > 최대가 => 상승장 \n",
    "\n",
    "print(f'시작가: {float(open_p):,}원, 최대가: {float(max_p):,}원, 최소가: {float(min_p):,}원, 변화폭: {band_p:,}원')\n",
    "\n",
    "if (float(open_p) + float(band_p)) > float(max_p):\n",
    "    print('상승장 입니다.')\n",
    "else:\n",
    "    print('하강장 입니다.')\n",
    "\n",
    "\n",
    "\n"
   ]
  },
  {
   "cell_type": "code",
   "execution_count": 38,
   "id": "bd951e9d-d5a0-427d-ac34-894a928cba1b",
   "metadata": {},
   "outputs": [
    {
     "name": "stdout",
     "output_type": "stream",
     "text": [
      "시작가: 149,905,000.0원, 최대가: 149,919,000.0원, 최소가: 149,899,000.0원, 변화폭: 20,000.0원\n",
      "상승장 입니다.\n"
     ]
    }
   ],
   "source": [
    "# 1분 캔들\n",
    "\n",
    "import requests as req\n",
    "\n",
    "url = 'https://api.bithumb.com/v1/candles/minutes/1?market=KRW-BTC&count=1'\n",
    "\n",
    "btc_data = req.get(url).json()\n",
    "\n",
    "# print(btc_data[0])\n",
    "\n",
    "open_p_1 = btc_data[0]['opening_price'] # 시작가\n",
    "max_p_1 = btc_data[0]['high_price'] # 최고가\n",
    "min_p_1 = btc_data[0]['low_price'] # 최저기\n",
    "\n",
    "band_p_1 = float(max_p_1) - float(min_p_1)\n",
    "\n",
    "# 시작가 + 변화폭 > 최대가 => 상승장\n",
    "\n",
    "print(f'시작가: {float(open_p_1):,}원, 최대가: {float(max_p_1):,}원, 최소가: {float(min_p_1):,}원, 변화폭: {band_p_1:,}원')\n",
    "\n",
    "if (float(open_p_1) + float(band_p_1)) > float(max_p_1):\n",
    "    print('상승장 입니다.')\n",
    "else:\n",
    "    print('하강장 입니다.')\n"
   ]
  },
  {
   "cell_type": "code",
   "execution_count": 102,
   "id": "4aabddfa-085e-424e-b678-690046458dc2",
   "metadata": {},
   "outputs": [
    {
     "name": "stdout",
     "output_type": "stream",
     "text": [
      "\n",
      " 2단 \n",
      "\n",
      "  2 x 1 = 2\n",
      "  2 x 2 = 4\n",
      "  2 x 3 = 6\n",
      "  2 x 4 = 8\n",
      "  2 x 5 = 10\n",
      "  2 x 6 = 12\n",
      "  2 x 7 = 14\n",
      "  2 x 8 = 16\n",
      "  2 x 9 = 18\n",
      "\n",
      "====================\n",
      "\n",
      " 3단 \n",
      "\n",
      "  3 x 1 = 3\n",
      "  3 x 2 = 6\n",
      "  3 x 3 = 9\n",
      "  3 x 4 = 12\n",
      "  3 x 5 = 15\n",
      "  3 x 6 = 18\n",
      "  3 x 7 = 21\n",
      "  3 x 8 = 24\n",
      "  3 x 9 = 27\n",
      "\n",
      "====================\n",
      "\n",
      " 4단 \n",
      "\n",
      "  4 x 1 = 4\n",
      "  4 x 2 = 8\n",
      "  4 x 3 = 12\n",
      "  4 x 4 = 16\n",
      "  4 x 5 = 20\n",
      "  4 x 6 = 24\n",
      "  4 x 7 = 28\n",
      "  4 x 8 = 32\n",
      "  4 x 9 = 36\n",
      "\n",
      "====================\n",
      "\n",
      " 5단 \n",
      "\n",
      "  5 x 1 = 5\n",
      "  5 x 2 = 10\n",
      "  5 x 3 = 15\n",
      "  5 x 4 = 20\n",
      "  5 x 5 = 25\n",
      "  5 x 6 = 30\n",
      "  5 x 7 = 35\n",
      "  5 x 8 = 40\n",
      "  5 x 9 = 45\n",
      "\n",
      "====================\n",
      "\n",
      " 6단 \n",
      "\n",
      "  6 x 1 = 6\n",
      "  6 x 2 = 12\n",
      "  6 x 3 = 18\n",
      "  6 x 4 = 24\n",
      "  6 x 5 = 30\n",
      "  6 x 6 = 36\n",
      "  6 x 7 = 42\n",
      "  6 x 8 = 48\n",
      "  6 x 9 = 54\n",
      "\n",
      "====================\n",
      "\n",
      " 7단 \n",
      "\n",
      "  7 x 1 = 7\n",
      "  7 x 2 = 14\n",
      "  7 x 3 = 21\n",
      "  7 x 4 = 28\n",
      "  7 x 5 = 35\n",
      "  7 x 6 = 42\n",
      "  7 x 7 = 49\n",
      "  7 x 8 = 56\n",
      "  7 x 9 = 63\n",
      "\n",
      "====================\n",
      "\n",
      " 8단 \n",
      "\n",
      "  8 x 1 = 8\n",
      "  8 x 2 = 16\n",
      "  8 x 3 = 24\n",
      "  8 x 4 = 32\n",
      "  8 x 5 = 40\n",
      "  8 x 6 = 48\n",
      "  8 x 7 = 56\n",
      "  8 x 8 = 64\n",
      "  8 x 9 = 72\n",
      "\n",
      "====================\n",
      "\n",
      " 9단 \n",
      "\n",
      "  9 x 1 = 9\n",
      "  9 x 2 = 18\n",
      "  9 x 3 = 27\n",
      "  9 x 4 = 36\n",
      "  9 x 5 = 45\n",
      "  9 x 6 = 54\n",
      "  9 x 7 = 63\n",
      "  9 x 8 = 72\n",
      "  9 x 9 = 81\n",
      "\n",
      "====================\n"
     ]
    }
   ],
   "source": [
    "for i in range(2,10):\n",
    "    print(f'\\n {i}단 \\n')\n",
    "    for j in range(1,10):\n",
    "        result = i * j\n",
    "        print(f'  {i} x {j} = {result}')\n",
    "    print('\\n'+'='*20)\n",
    "    "
   ]
  },
  {
   "cell_type": "code",
   "execution_count": 110,
   "id": "cbff5296-acd8-47bf-ade4-11de6326a14f",
   "metadata": {},
   "outputs": [
    {
     "name": "stdout",
     "output_type": "stream",
     "text": [
      "   2단    |   3단    |   4단    |   5단    |   6단    |   7단    |   8단    |   9단    |\n",
      "  2x1=2   |  3x1=3   |  4x1=4   |  5x1=5   |  6x1=6   |  7x1=7   |  8x1=8   |  9x1=9   |\n",
      "  2x2=4   |  3x2=6   |  4x2=8   |  5x2=10  |  6x2=12  |  7x2=14  |  8x2=16  |  9x2=18  |\n",
      "  2x3=6   |  3x3=9   |  4x3=12  |  5x3=15  |  6x3=18  |  7x3=21  |  8x3=24  |  9x3=27  |\n",
      "  2x4=8   |  3x4=12  |  4x4=16  |  5x4=20  |  6x4=24  |  7x4=28  |  8x4=32  |  9x4=36  |\n",
      "  2x5=10  |  3x5=15  |  4x5=20  |  5x5=25  |  6x5=30  |  7x5=35  |  8x5=40  |  9x5=45  |\n",
      "  2x6=12  |  3x6=18  |  4x6=24  |  5x6=30  |  6x6=36  |  7x6=42  |  8x6=48  |  9x6=54  |\n",
      "  2x7=14  |  3x7=21  |  4x7=28  |  5x7=35  |  6x7=42  |  7x7=49  |  8x7=56  |  9x7=63  |\n",
      "  2x8=16  |  3x8=24  |  4x8=32  |  5x8=40  |  6x8=48  |  7x8=56  |  8x8=64  |  9x8=72  |\n",
      "  2x9=18  |  3x9=27  |  4x9=36  |  5x9=45  |  6x9=54  |  7x9=63  |  8x9=72  |  9x9=81  |\n"
     ]
    }
   ],
   "source": [
    "for n in range(2,10):\n",
    "    text_n = f'{n}단'\n",
    "    print(f'{text_n:^9}', end = \"|\")\n",
    "print('')\n",
    "\n",
    "for i in range(1,10):\n",
    "    for j in range(2,10):\n",
    "        result = i * j\n",
    "        text_r = f'{j}x{i}={result}'\n",
    "        print(f'{text_r:^10}',end= '|')\n",
    "    print('')"
   ]
  },
  {
   "cell_type": "markdown",
   "id": "17e3a8dd-7229-42a9-a77e-e7b4090b1503",
   "metadata": {},
   "source": [
    "### 리스트 컴프리헨션"
   ]
  },
  {
   "cell_type": "code",
   "execution_count": 114,
   "id": "f1af414d-d001-4ac4-94e4-f226d4c189b5",
   "metadata": {},
   "outputs": [
    {
     "name": "stdout",
     "output_type": "stream",
     "text": [
      "[3, 6, 9, 12]\n"
     ]
    }
   ],
   "source": [
    "# 기본적인 리스트에 값 넣기\n",
    "\n",
    "a = [1, 2, 3, 4]\n",
    "result = []\n",
    "\n",
    "for num in a:\n",
    "    result.append(num*3)\n",
    "\n",
    "print(result)"
   ]
  },
  {
   "cell_type": "code",
   "execution_count": 115,
   "id": "b844a0c2-5586-43eb-a49b-04a6ca4add88",
   "metadata": {},
   "outputs": [
    {
     "data": {
      "text/plain": [
       "[3, 6, 9, 12]"
      ]
     },
     "execution_count": 115,
     "metadata": {},
     "output_type": "execute_result"
    }
   ],
   "source": [
    "# 리스트 컴프리헨션\n",
    "\n",
    "[num*3 for num in [1, 2, 3, 4]]"
   ]
  },
  {
   "cell_type": "code",
   "execution_count": 117,
   "id": "ab16f47f-87ef-415c-aebd-78f2b44a0977",
   "metadata": {},
   "outputs": [
    {
     "data": {
      "text/plain": [
       "[0, 1, 2, 3, 4, 5, 6, 7, 8, 9]"
      ]
     },
     "execution_count": 117,
     "metadata": {},
     "output_type": "execute_result"
    }
   ],
   "source": [
    "# 테스트1\n",
    "\n",
    "# list(range(10))\n",
    "[x for x in range(10)]"
   ]
  },
  {
   "cell_type": "code",
   "execution_count": 123,
   "id": "24d06d5b-747f-4ba4-8161-a824e0124457",
   "metadata": {},
   "outputs": [
    {
     "name": "stdout",
     "output_type": "stream",
     "text": [
      "[0, 6, 12, 18, 24]\n"
     ]
    }
   ],
   "source": [
    "res = []\n",
    "for x in range(10):\n",
    "    if x%2 == 0:\n",
    "        res.append(x*3)\n",
    "print(res)"
   ]
  },
  {
   "cell_type": "code",
   "execution_count": 122,
   "id": "66737764-7e0f-44af-b72d-23da52afc9ec",
   "metadata": {},
   "outputs": [
    {
     "data": {
      "text/plain": [
       "[0, 6, 12, 18, 24]"
      ]
     },
     "execution_count": 122,
     "metadata": {},
     "output_type": "execute_result"
    }
   ],
   "source": [
    "[x*3 for x in range(10) if x%2 == 0]"
   ]
  },
  {
   "cell_type": "code",
   "execution_count": 124,
   "id": "8c08768e-2cef-4bcd-b264-63c24d744017",
   "metadata": {},
   "outputs": [
    {
     "name": "stdout",
     "output_type": "stream",
     "text": [
      "[2, 4, 6, 8, 10, 12, 14, 16, 18, 3, 6, 9, 12, 15, 18, 21, 24, 27, 4, 8, 12, 16, 20, 24, 28, 32, 36, 5, 10, 15, 20, 25, 30, 35, 40, 45, 6, 12, 18, 24, 30, 36, 42, 48, 54, 7, 14, 21, 28, 35, 42, 49, 56, 63, 8, 16, 24, 32, 40, 48, 56, 64, 72, 9, 18, 27, 36, 45, 54, 63, 72, 81]\n"
     ]
    }
   ],
   "source": [
    "# 구구단 리스트 컴프리헨션\n",
    "\n",
    "result = [x*y for x in range(2,10)\n",
    "         for y in range(1,10)]\n",
    "print(result)"
   ]
  },
  {
   "cell_type": "code",
   "execution_count": 126,
   "id": "9296914b-913e-40ee-9c4b-d4ca4eb9b451",
   "metadata": {},
   "outputs": [
    {
     "name": "stdout",
     "output_type": "stream",
     "text": [
      "2 x 1 = 2\n",
      "2 x 2 = 4\n",
      "2 x 3 = 6\n",
      "2 x 4 = 8\n",
      "2 x 5 = 10\n",
      "2 x 6 = 12\n",
      "2 x 7 = 14\n",
      "2 x 8 = 16\n",
      "2 x 9 = 18\n",
      "3 x 1 = 3\n",
      "3 x 2 = 6\n",
      "3 x 3 = 9\n",
      "3 x 4 = 12\n",
      "3 x 5 = 15\n",
      "3 x 6 = 18\n",
      "3 x 7 = 21\n",
      "3 x 8 = 24\n",
      "3 x 9 = 27\n",
      "4 x 1 = 4\n",
      "4 x 2 = 8\n",
      "4 x 3 = 12\n",
      "4 x 4 = 16\n",
      "4 x 5 = 20\n",
      "4 x 6 = 24\n",
      "4 x 7 = 28\n",
      "4 x 8 = 32\n",
      "4 x 9 = 36\n",
      "5 x 1 = 5\n",
      "5 x 2 = 10\n",
      "5 x 3 = 15\n",
      "5 x 4 = 20\n",
      "5 x 5 = 25\n",
      "5 x 6 = 30\n",
      "5 x 7 = 35\n",
      "5 x 8 = 40\n",
      "5 x 9 = 45\n",
      "6 x 1 = 6\n",
      "6 x 2 = 12\n",
      "6 x 3 = 18\n",
      "6 x 4 = 24\n",
      "6 x 5 = 30\n",
      "6 x 6 = 36\n",
      "6 x 7 = 42\n",
      "6 x 8 = 48\n",
      "6 x 9 = 54\n",
      "7 x 1 = 7\n",
      "7 x 2 = 14\n",
      "7 x 3 = 21\n",
      "7 x 4 = 28\n",
      "7 x 5 = 35\n",
      "7 x 6 = 42\n",
      "7 x 7 = 49\n",
      "7 x 8 = 56\n",
      "7 x 9 = 63\n",
      "8 x 1 = 8\n",
      "8 x 2 = 16\n",
      "8 x 3 = 24\n",
      "8 x 4 = 32\n",
      "8 x 5 = 40\n",
      "8 x 6 = 48\n",
      "8 x 7 = 56\n",
      "8 x 8 = 64\n",
      "8 x 9 = 72\n",
      "9 x 1 = 9\n",
      "9 x 2 = 18\n",
      "9 x 3 = 27\n",
      "9 x 4 = 36\n",
      "9 x 5 = 45\n",
      "9 x 6 = 54\n",
      "9 x 7 = 63\n",
      "9 x 8 = 72\n",
      "9 x 9 = 81\n"
     ]
    }
   ],
   "source": [
    "\n",
    "# [f'{j} x {i} = {j*i}' for j in range(2,10) for i in range(1, 10)]\n",
    "\n",
    "for a in [f'{j} x {i} = {j*i}' for j in range(2,10) for i in range(1, 10)]:\n",
    "    print(a)"
   ]
  },
  {
   "cell_type": "code",
   "execution_count": null,
   "id": "b893faf1-39f4-4409-b13b-b49fe870e0ca",
   "metadata": {},
   "outputs": [],
   "source": []
  }
 ],
 "metadata": {
  "kernelspec": {
   "display_name": "Python 3 (ipykernel)",
   "language": "python",
   "name": "python3"
  },
  "language_info": {
   "codemirror_mode": {
    "name": "ipython",
    "version": 3
   },
   "file_extension": ".py",
   "mimetype": "text/x-python",
   "name": "python",
   "nbconvert_exporter": "python",
   "pygments_lexer": "ipython3",
   "version": "3.13.1"
  }
 },
 "nbformat": 4,
 "nbformat_minor": 5
}
