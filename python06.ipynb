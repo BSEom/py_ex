{
 "cells": [
  {
   "cell_type": "markdown",
   "id": "accc84ca-97f6-466d-828d-53d2d5e6d53a",
   "metadata": {},
   "source": [
    "# 모듈"
   ]
  },
  {
   "cell_type": "markdown",
   "id": "02c1d1a7-beab-4a6d-ac4f-fe0b5cca6b4b",
   "metadata": {},
   "source": [
    "## 모듈 만들기"
   ]
  },
  {
   "cell_type": "code",
   "execution_count": 1,
   "id": "9fc90cd9-0a5a-4126-b9eb-92e87c39660f",
   "metadata": {},
   "outputs": [],
   "source": [
    "# 모듈 만들기 - mod_1.py\n",
    "\n",
    "# def add(a, b):\n",
    "#     return a + b\n",
    "\n",
    "# def sub(a, b):\n",
    "#     return a - b\n",
    "    "
   ]
  },
  {
   "cell_type": "code",
   "execution_count": 5,
   "id": "232ecfab-0e67-40a8-b86f-29be454323f6",
   "metadata": {},
   "outputs": [
    {
     "name": "stdout",
     "output_type": "stream",
     "text": [
      "33\n",
      "11\n"
     ]
    }
   ],
   "source": [
    "import mod_1\n",
    "\n",
    "print(mod_1.add(11, 22))\n",
    "print(mod_1.sub(33, 22))\n",
    "\n"
   ]
  },
  {
   "cell_type": "code",
   "execution_count": 7,
   "id": "afc451e5-91f7-44a2-a67c-a9286daea89b",
   "metadata": {},
   "outputs": [],
   "source": [
    "with open(\"mod_2.py\", \"w\") as f:\n",
    "    data = \"\"\"\n",
    "def mul(a, b):\n",
    "    return a*b\n",
    "\n",
    "def div(a, b):\n",
    "    return a/b\n",
    "    \"\"\"\n",
    "    f.write(data)\n"
   ]
  },
  {
   "cell_type": "code",
   "execution_count": 8,
   "id": "09c8450f-742d-4bf8-8ff6-affdac1c5df8",
   "metadata": {},
   "outputs": [
    {
     "name": "stdout",
     "output_type": "stream",
     "text": [
      "12\n",
      "2.0\n"
     ]
    }
   ],
   "source": [
    "import mod_2\n",
    "\n",
    "print(mod_2.mul(3,4))\n",
    "print(mod_2.div(8,4))"
   ]
  },
  {
   "cell_type": "code",
   "execution_count": 1,
   "id": "1c7810e4-2e01-43af-aced-d655805124de",
   "metadata": {},
   "outputs": [
    {
     "name": "stdout",
     "output_type": "stream",
     "text": [
      "33\n",
      "11\n",
      "12\n",
      "2.0\n"
     ]
    }
   ],
   "source": [
    "import mod_1, mod_2\n",
    "\n",
    "print(mod_1.add(11, 22))\n",
    "print(mod_1.sub(33, 22))\n",
    "print(mod_2.mul(3,4))\n",
    "print(mod_2.div(8,4))"
   ]
  },
  {
   "cell_type": "code",
   "execution_count": 2,
   "id": "e07d8e13-2fdf-48ba-b8c1-10ad66dff24f",
   "metadata": {},
   "outputs": [
    {
     "name": "stdout",
     "output_type": "stream",
     "text": [
      "33\n",
      "11\n",
      "12\n",
      "2.0\n"
     ]
    }
   ],
   "source": [
    "import mod_1 as m1\n",
    "import mod_2 as m2\n",
    "\n",
    "print(m1.add(11,22))\n",
    "print(m1.sub(33,22))\n",
    "print(m2.mul(3,4))\n",
    "print(m2.div(8,4))"
   ]
  },
  {
   "cell_type": "code",
   "execution_count": 6,
   "id": "1da4b75a-1e9b-4404-8861-93c2dffd8aa7",
   "metadata": {},
   "outputs": [
    {
     "name": "stdout",
     "output_type": "stream",
     "text": [
      "77\n",
      "-11\n"
     ]
    }
   ],
   "source": [
    "from mod_1 import add, sub\n",
    "\n",
    "print(add(33,44))\n",
    "print(sub(33,44))"
   ]
  },
  {
   "cell_type": "code",
   "execution_count": 7,
   "id": "9ae83de9-f7ff-4e13-b977-30426c2a8da7",
   "metadata": {},
   "outputs": [
    {
     "name": "stdout",
     "output_type": "stream",
     "text": [
      "20\n"
     ]
    }
   ],
   "source": [
    "from mod_2 import *\n",
    "\n",
    "print(mul(4,5))"
   ]
  },
  {
   "cell_type": "markdown",
   "id": "9712dfc2-5c1b-4ad5-9a0d-6809e3bef39c",
   "metadata": {},
   "source": [
    "## `__main__`의 의미 "
   ]
  },
  {
   "cell_type": "code",
   "execution_count": 10,
   "id": "536fa095-481c-4282-b964-57eb6a34c43f",
   "metadata": {},
   "outputs": [],
   "source": [
    "with open(\"mod_1.py\", \"a\") as f:\n",
    "    text = \"\"\"\n",
    "    \n",
    "print(add(1, 4))\n",
    "print(sub(7,3))\n",
    "\"\"\"\n",
    "    f.write(text)"
   ]
  },
  {
   "cell_type": "markdown",
   "id": "d65e937b-6e18-4a62-aa3f-f5dc47bfb97e",
   "metadata": {},
   "source": [
    "- %%bash : 우분투\n",
    "- %%cmd : 윈도우"
   ]
  },
  {
   "cell_type": "code",
   "execution_count": 22,
   "id": "ba8a756c-9a76-4d43-b1fd-1a7519f33357",
   "metadata": {},
   "outputs": [
    {
     "name": "stdout",
     "output_type": "stream",
     "text": [
      "Microsoft Windows [Version 10.0.26100.2894]\n",
      "(c) Microsoft Corporation. All rights reserved.\n",
      "\n",
      "���\\ebs\\code>python mod_1.py\n",
      "5\n",
      "4\n",
      "__main__\n",
      "\n",
      "D:\\����\\ebs\\code>"
     ]
    }
   ],
   "source": [
    "%%cmd\n",
    "python mod_1.py"
   ]
  },
  {
   "cell_type": "code",
   "execution_count": 2,
   "id": "193d5960-bbd4-4440-b269-be8539d1b5c3",
   "metadata": {},
   "outputs": [
    {
     "name": "stdout",
     "output_type": "stream",
     "text": [
      "5\n",
      "4\n",
      "전 파일로 실행이 되었어요.\n"
     ]
    }
   ],
   "source": [
    "!python mod_1.py"
   ]
  },
  {
   "cell_type": "code",
   "execution_count": 1,
   "id": "eef08c99-eded-4c31-a7ff-62e59d3195b2",
   "metadata": {},
   "outputs": [
    {
     "name": "stdout",
     "output_type": "stream",
     "text": [
      "5\n",
      "4\n",
      "전 모듈로 임포트 되었어요.\n"
     ]
    },
    {
     "data": {
      "text/plain": [
       "['__builtins__',\n",
       " '__cached__',\n",
       " '__doc__',\n",
       " '__file__',\n",
       " '__loader__',\n",
       " '__name__',\n",
       " '__package__',\n",
       " '__spec__',\n",
       " 'add',\n",
       " 'sub']"
      ]
     },
     "execution_count": 1,
     "metadata": {},
     "output_type": "execute_result"
    }
   ],
   "source": [
    "import mod_1\n",
    "\n",
    "dir(mod_1)"
   ]
  },
  {
   "cell_type": "code",
   "execution_count": 21,
   "id": "73305791-8f73-4cd4-91a3-632b1f90e5de",
   "metadata": {},
   "outputs": [],
   "source": [
    "with open('mod_1.py','a') as f:\n",
    "    content = \"\\nprint(__name__)\"\n",
    "    f.write(content)\n",
    "    "
   ]
  },
  {
   "cell_type": "markdown",
   "id": "a6d86bed-b196-4836-bc8b-0d875c4e1ab7",
   "metadata": {},
   "source": [
    "<fieldset><legend>점프 투 파이썬</legend>\n",
    "<strong><code>__name__</code> 변수란?</strong><p></p>\n",
    "<p>파이썬의 <code>__name__</code> 변수는 파이썬이 내부적으로 사용하는 특별한 변수 이름이다. 만약 <code>C:\\doit&gt;python mod1.py</code>처럼 직접 mod1.py 파일을 실행할 경우, mod1.py의 <code>__name__</code> 변수에는 <code>__main__</code> 값이 저장된다. 하지만 파이썬 셸이나 다른 파이썬 모듈에서 mod1을 import할 경우에는 mod1.py의 <code>__name__</code> 변수에 mod1.py의 모듈 이름인 mod1이 저장된다.</p>\n",
    "<pre><code class=\"language-python hljs md-csc-wrap\"><span class=\"hljs-meta\">&gt;&gt;&gt; </span><span class=\"hljs-keyword\">import</span> mod1\n",
    "<span class=\"hljs-meta\">&gt;&gt;&gt; </span>mod1.__name__\n",
    "<span class=\"hljs-string\">'mod1'</span>\n",
    "</code></pre>\n",
    "<p></p>\n",
    "</div><div>\n",
    "\n",
    "</div></fieldset>"
   ]
  },
  {
   "cell_type": "code",
   "execution_count": 2,
   "id": "eff177af-373c-4fd2-878a-e5be859705b3",
   "metadata": {},
   "outputs": [
    {
     "name": "stdout",
     "output_type": "stream",
     "text": [
      "\n",
      "기아: 94,800원\n",
      "\n"
     ]
    }
   ],
   "source": [
    "!python stock.py 기아"
   ]
  },
  {
   "cell_type": "code",
   "execution_count": 3,
   "id": "22750d32-a292-491e-8114-e55ea6f13171",
   "metadata": {},
   "outputs": [
    {
     "data": {
      "text/plain": [
       "['__builtins__',\n",
       " '__cached__',\n",
       " '__doc__',\n",
       " '__file__',\n",
       " '__loader__',\n",
       " '__name__',\n",
       " '__package__',\n",
       " '__spec__',\n",
       " 'req',\n",
       " 'show_stock',\n",
       " 'sys']"
      ]
     },
     "execution_count": 3,
     "metadata": {},
     "output_type": "execute_result"
    }
   ],
   "source": [
    "import stock\n",
    "\n",
    "dir(stock)"
   ]
  },
  {
   "cell_type": "markdown",
   "id": "485a670f-55be-43e1-b56d-6340646aa3b0",
   "metadata": {},
   "source": [
    "## 클래스나 변수 등을 포함한 모듈"
   ]
  },
  {
   "cell_type": "code",
   "execution_count": 5,
   "id": "9f9256ec-9df5-464f-ab5d-c6fff1b3224b",
   "metadata": {},
   "outputs": [],
   "source": [
    "with open(\"mod_3.py\", \"w\") as f:\n",
    "    text = \"\"\"PI = 3.141592\n",
    "\n",
    "class Math:\n",
    "    def solv(self,r):\n",
    "        return PI * (r**2)\n",
    "\n",
    "def add(a,b):\n",
    "    return a + b\n",
    "\"\"\"\n",
    "    f.write(text)"
   ]
  },
  {
   "cell_type": "code",
   "execution_count": 1,
   "id": "4532ad59-2310-4fc0-8227-3d5d4274e60e",
   "metadata": {},
   "outputs": [
    {
     "ename": "ModuleNotFoundError",
     "evalue": "No module named 'mod_3'",
     "output_type": "error",
     "traceback": [
      "\u001b[1;31m---------------------------------------------------------------------------\u001b[0m",
      "\u001b[1;31mModuleNotFoundError\u001b[0m                       Traceback (most recent call last)",
      "Cell \u001b[1;32mIn[1], line 1\u001b[0m\n\u001b[1;32m----> 1\u001b[0m \u001b[38;5;28;01mimport\u001b[39;00m\u001b[38;5;250m \u001b[39m\u001b[38;5;21;01mmod_3\u001b[39;00m\n\u001b[0;32m      3\u001b[0m \u001b[38;5;66;03m# 변수\u001b[39;00m\n\u001b[0;32m      4\u001b[0m \u001b[38;5;28mprint\u001b[39m(mod_3\u001b[38;5;241m.\u001b[39mPI)\n",
      "\u001b[1;31mModuleNotFoundError\u001b[0m: No module named 'mod_3'"
     ]
    }
   ],
   "source": [
    "import mod_3\n",
    "\n",
    "# 변수\n",
    "print(mod_3.PI)\n",
    "\n",
    "# 클래스\n",
    "\n",
    "a = mod_3.Math()\n",
    "\n",
    "print(a.solv(10))\n",
    "\n",
    "\n",
    "\n",
    "# 함수\n",
    "\n",
    "print(mod_3.add(5,7))\n",
    "print(mod_3.add(mod_3.PI,2))"
   ]
  },
  {
   "cell_type": "markdown",
   "id": "c5c36a8b-d6a9-4d56-b9c3-131e6e5fdf6c",
   "metadata": {},
   "source": [
    "## 다른 디렉터리에 있는 모듈 불러오기"
   ]
  },
  {
   "cell_type": "code",
   "execution_count": 14,
   "id": "75ca9b65-45a7-4bf9-9347-4e3795cb2a26",
   "metadata": {},
   "outputs": [
    {
     "data": {
      "text/plain": [
       "['C:\\\\Users\\\\Admin\\\\AppData\\\\Local\\\\Programs\\\\Python\\\\Python313\\\\python313.zip',\n",
       " 'C:\\\\Users\\\\Admin\\\\AppData\\\\Local\\\\Programs\\\\Python\\\\Python313\\\\DLLs',\n",
       " 'C:\\\\Users\\\\Admin\\\\AppData\\\\Local\\\\Programs\\\\Python\\\\Python313\\\\Lib',\n",
       " 'C:\\\\Users\\\\Admin\\\\AppData\\\\Local\\\\Programs\\\\Python\\\\Python313',\n",
       " '',\n",
       " 'C:\\\\Users\\\\Admin\\\\AppData\\\\Local\\\\Programs\\\\Python\\\\Python313\\\\Lib\\\\site-packages',\n",
       " 'C:\\\\Users\\\\Admin\\\\AppData\\\\Local\\\\Programs\\\\Python\\\\Python313\\\\Lib\\\\site-packages\\\\win32',\n",
       " 'C:\\\\Users\\\\Admin\\\\AppData\\\\Local\\\\Programs\\\\Python\\\\Python313\\\\Lib\\\\site-packages\\\\win32\\\\lib',\n",
       " 'C:\\\\Users\\\\Admin\\\\AppData\\\\Local\\\\Programs\\\\Python\\\\Python313\\\\Lib\\\\site-packages\\\\Pythonwin',\n",
       " 'D:\\\\ebs\\\\code\\\\mymod']"
      ]
     },
     "execution_count": 14,
     "metadata": {},
     "output_type": "execute_result"
    }
   ],
   "source": [
    "import sys\n",
    "\n",
    "sys.path"
   ]
  },
  {
   "cell_type": "code",
   "execution_count": 17,
   "id": "6cd08752-bb68-4fe7-a789-650c48cfe6c3",
   "metadata": {},
   "outputs": [
    {
     "data": {
      "text/plain": [
       "['C:\\\\Users\\\\Admin\\\\AppData\\\\Local\\\\Programs\\\\Python\\\\Python313\\\\python313.zip',\n",
       " 'C:\\\\Users\\\\Admin\\\\AppData\\\\Local\\\\Programs\\\\Python\\\\Python313\\\\DLLs',\n",
       " 'C:\\\\Users\\\\Admin\\\\AppData\\\\Local\\\\Programs\\\\Python\\\\Python313\\\\Lib',\n",
       " 'C:\\\\Users\\\\Admin\\\\AppData\\\\Local\\\\Programs\\\\Python\\\\Python313',\n",
       " '',\n",
       " 'C:\\\\Users\\\\Admin\\\\AppData\\\\Local\\\\Programs\\\\Python\\\\Python313\\\\Lib\\\\site-packages',\n",
       " 'C:\\\\Users\\\\Admin\\\\AppData\\\\Local\\\\Programs\\\\Python\\\\Python313\\\\Lib\\\\site-packages\\\\win32',\n",
       " 'C:\\\\Users\\\\Admin\\\\AppData\\\\Local\\\\Programs\\\\Python\\\\Python313\\\\Lib\\\\site-packages\\\\win32\\\\lib',\n",
       " 'C:\\\\Users\\\\Admin\\\\AppData\\\\Local\\\\Programs\\\\Python\\\\Python313\\\\Lib\\\\site-packages\\\\Pythonwin',\n",
       " 'D:\\\\ebs\\\\code\\\\mymod',\n",
       " 'D:\\\\ebs\\\\code\\\\mymod',\n",
       " 'D:\\\\ebs\\\\code\\\\mymod',\n",
       " 'D:\\\\ebs\\\\code\\\\mymod']"
      ]
     },
     "execution_count": 17,
     "metadata": {},
     "output_type": "execute_result"
    }
   ],
   "source": [
    "sys.path.append('D:\\\\ebs\\\\code\\\\mymod') # 초기화하면 사라짐\n",
    "sys.path"
   ]
  },
  {
   "cell_type": "code",
   "execution_count": 2,
   "id": "60028703-71ac-4e6d-aa50-06cd8b58a87e",
   "metadata": {},
   "outputs": [
    {
     "name": "stdout",
     "output_type": "stream",
     "text": [
      "Microsoft Windows [Version 10.0.26100.2894]\n",
      "(c) Microsoft Corporation. All rights reserved.\n",
      "\n",
      "���\\ebs\\code>\n",
      "D:\\����\\ebs\\code>set PYTHONPATH=D:\\ebs\\code\\mymod\n",
      "\n",
      "D:\\����\\ebs\\code>"
     ]
    }
   ],
   "source": [
    "%%cmd\n",
    "\n",
    "set PYTHONPATH=D:\\ebs\\code\\mymod\n"
   ]
  },
  {
   "cell_type": "code",
   "execution_count": 1,
   "id": "2920fbc6-144a-4206-b582-a65639e707e7",
   "metadata": {},
   "outputs": [
    {
     "name": "stdout",
     "output_type": "stream",
     "text": [
      "Requirement already satisfied: pip in c:\\users\\admin\\appdata\\local\\programs\\python\\python313\\lib\\site-packages (25.0)\n",
      "Collecting pip\n",
      "  Downloading pip-25.0.1-py3-none-any.whl.metadata (3.7 kB)\n",
      "Downloading pip-25.0.1-py3-none-any.whl (1.8 MB)\n",
      "   ---------------------------------------- 0.0/1.8 MB ? eta -:--:--\n",
      "   ---------------------------------------- 1.8/1.8 MB 14.8 MB/s eta 0:00:00\n",
      "Installing collected packages: pip\n",
      "  Attempting uninstall: pip\n",
      "    Found existing installation: pip 25.0\n",
      "    Uninstalling pip-25.0:\n",
      "      Successfully uninstalled pip-25.0\n",
      "Successfully installed pip-25.0.1\n",
      "Collecting python-dotenv\n",
      "  Downloading python_dotenv-1.0.1-py3-none-any.whl.metadata (23 kB)\n",
      "Downloading python_dotenv-1.0.1-py3-none-any.whl (19 kB)\n",
      "Installing collected packages: python-dotenv\n",
      "Successfully installed python-dotenv-1.0.1\n"
     ]
    }
   ],
   "source": [
    "!python.exe -m pip install --upgrade pip\n",
    "!pip install python-dotenv"
   ]
  },
  {
   "cell_type": "code",
   "execution_count": 1,
   "id": "92d575c5-b712-4077-bba7-95bed27d70cc",
   "metadata": {},
   "outputs": [
    {
     "name": "stdout",
     "output_type": "stream",
     "text": [
      "my phone 010-1234-0000\n",
      "https://www.google.com\n",
      "이게 될까??  모르겠어요!\n"
     ]
    }
   ],
   "source": [
    "from dotenv import load_dotenv\n",
    "import os\n",
    "\n",
    "# .env 파일 로드\n",
    "load_dotenv()\n",
    "\n",
    "SKEY = os.getenv(\"SECRET_KEY\")\n",
    "print(SKEY)\n",
    "\n",
    "DBUG = os.getenv(\"DEBUG\")\n",
    "print(DBUG)\n",
    "\n",
    "TEST = os.getenv(\"TEST\")\n",
    "print(TEST)"
   ]
  },
  {
   "cell_type": "code",
   "execution_count": 1,
   "id": "58e658b9-27cc-45ef-9cde-2bc30bd11742",
   "metadata": {},
   "outputs": [
    {
     "name": "stdout",
     "output_type": "stream",
     "text": [
      "{\n",
      "\t\"lastBuildDate\":\"Thu, 13 Feb 2025 15:40:59 +0900\",\n",
      "\t\"total\":2094070,\n",
      "\t\"start\":1,\n",
      "\t\"display\":10,\n",
      "\t\"items\":[\n",
      "\t\t{\n",
      "\t\t\t\"title\":\"[<b>속보<\\/b>] 대만 타이중 백화점서 폭발 사고\",\n",
      "\t\t\t\"originallink\":\"https:\\/\\/www.khan.co.kr\\/article\\/202502131504001\",\n",
      "\t\t\t\"link\":\"https:\\/\\/n.news.naver.com\\/mnews\\/article\\/032\\/0003350795?sid=104\",\n",
      "\t\t\t\"description\":\"대만 타이중에 있는 신콩미츠코시 백화점에서 13일(현지시간) 폭발이 일어나 적어도 1명이 숨졌다고 AFP통신이 보도했다. 소방당국은 백화점 내 폭발로 1명이 사망하고 4명은 생체 징후가 없는 상태라고 밝혔다. 당국은... \",\n",
      "\t\t\t\"pubDate\":\"Thu, 13 Feb 2025 15:05:00 +0900\"\n",
      "\t\t},\n",
      "\t\t{\n",
      "\t\t\t\"title\":\"[<b>속보<\\/b>] 대만 타이중 백화점서 폭발···최소 1명 사망\",\n",
      "\t\t\t\"originallink\":\"http:\\/\\/www.segye.com\\/newsView\\/20250213512918?OutUrl=naver\",\n",
      "\t\t\t\"link\":\"https:\\/\\/n.news.naver.com\\/mnews\\/article\\/022\\/0004010649?sid=104\",\n",
      "\t\t\t\"description\":\"대만 타이중에 있는 신콩미츠코시 백화점에서 13일(현지시간) 폭발이 일어나 적어도 1명이 숨졌다고 AFP통신이 보도했다. 소방당국은 백화점 내 폭발로 1명이 사망하고 4명은 생체 징후가 없는 상태라고 밝혔다. 당국은... \",\n",
      "\t\t\t\"pubDate\":\"Thu, 13 Feb 2025 15:11:00 +0900\"\n",
      "\t\t},\n",
      "\t\t{\n",
      "\t\t\t\"title\":\"[<b>속보<\\/b>] 日 혼다-닛산 '세기의 합병' 결국 두달만에 철회\",\n",
      "\t\t\t\"originallink\":\"https:\\/\\/www.sedaily.com\\/NewsView\\/2GOYD9OEGG\",\n",
      "\t\t\t\"link\":\"https:\\/\\/n.news.naver.com\\/mnews\\/article\\/011\\/0004450152?sid=104\",\n",
      "\t\t\t\"description\":\"일본 자동차 업계 '빅딜'로 주목받았던 혼다와 닛산자동차의 경영 통합이 2개월 만에 무산됐다. 13일 닛케이에 따르면 양사는 이날 각각 이사회를 열어 합병 협의 중단을 결정했다. 양사는 지난해 12월 2026년 8월 지주회사... \",\n",
      "\t\t\t\"pubDate\":\"Thu, 13 Feb 2025 14:58:00 +0900\"\n",
      "\t\t},\n",
      "\t\t{\n",
      "\t\t\t\"title\":\"[<b>속보<\\/b>]혼다·닛산, 합병 협의 중단 결정\",\n",
      "\t\t\t\"originallink\":\"https:\\/\\/www.newsis.com\\/view\\/NISX20250213_0003064350\",\n",
      "\t\t\t\"link\":\"https:\\/\\/n.news.naver.com\\/mnews\\/article\\/003\\/0013065545?sid=104\",\n",
      "\t\t\t\"description\":\"후속기사가 이어집니다\",\n",
      "\t\t\t\"pubDate\":\"Thu, 13 Feb 2025 15:00:00 +0900\"\n",
      "\t\t},\n",
      "\t\t{\n",
      "\t\t\t\"title\":\"[<b>속보<\\/b>]尹측 &quot;헌재가 법률 규정 위반해 재판 진행…계속되면 중대 결심&quot;\",\n",
      "\t\t\t\"originallink\":\"https:\\/\\/www.kwnews.co.kr\\/page\\/view\\/2025021315273920296\",\n",
      "\t\t\t\"link\":\"https:\\/\\/n.news.naver.com\\/mnews\\/article\\/087\\/0001097878?sid=102\",\n",
      "\t\t\t\"description\":\"<b>속보<\\/b>='12·3 비상계엄'으로 국회가 탄핵소추한 윤석열 대통령에 대한 헌법재판소 탄핵심판 절차가 진행되고 있는 가운데, 윤 대통령 측은 헌재의 재판 진행 방식에 항의하며 한덕수 국무총리를 증인으로 불러달라고 다시... \",\n",
      "\t\t\t\"pubDate\":\"Thu, 13 Feb 2025 15:29:00 +0900\"\n",
      "\t\t},\n",
      "\t\t{\n",
      "\t\t\t\"title\":\"[<b>속보<\\/b>] '이재명 습격' 60대 남성 징역 15년 확정\",\n",
      "\t\t\t\"originallink\":\"https:\\/\\/www.hankyung.com\\/article\\/2025021327947\",\n",
      "\t\t\t\"link\":\"https:\\/\\/n.news.naver.com\\/mnews\\/article\\/015\\/0005093692?sid=102\",\n",
      "\t\t\t\"description\":\"지난해 1월 이재명 더불어민주당 대표를 흉기로 살해하려고 시도한 60대 남성에게 징역 15년이 확정됐다. 13일 대법원 2부(오경미 대법관)는 살인미수와 공직선거법 위반 혐의로 기소된 김모(68)씨에게 징역 15년을... \",\n",
      "\t\t\t\"pubDate\":\"Thu, 13 Feb 2025 10:26:00 +0900\"\n",
      "\t\t},\n",
      "\t\t{\n",
      "\t\t\t\"title\":\"[<b>속보<\\/b>] ‘이재명 습격’ 60대 남성 징역 15년 확정\",\n",
      "\t\t\t\"originallink\":\"https:\\/\\/www.mk.co.kr\\/article\\/11239884\",\n",
      "\t\t\t\"link\":\"https:\\/\\/n.news.naver.com\\/mnews\\/article\\/009\\/0005443086?sid=100\",\n",
      "\t\t\t\"description\":\"이재명 더불어민주당 대표를 흉기로 살해하려고 시도했던 60대 남성에게 징역 15년이 확정됐다. 13일 법조계에 따르면 대법원 2부(주심 오경미 대법관)는 이날 살인미수와 공직선거법 위반 혐의로 기소된 김모(68) 씨에게... \",\n",
      "\t\t\t\"pubDate\":\"Thu, 13 Feb 2025 10:27:00 +0900\"\n",
      "\t\t},\n",
      "\t\t{\n",
      "\t\t\t\"title\":\"[<b>속보<\\/b>] '2008년생' 김건희, 하얼빈AG 스노보드 男 하프파이프 금메달\",\n",
      "\t\t\t\"originallink\":\"https:\\/\\/www.news1.kr\\/sports\\/general-sport\\/5688870\",\n",
      "\t\t\t\"link\":\"https:\\/\\/n.news.naver.com\\/mnews\\/article\\/421\\/0008074418?sid=104\",\n",
      "\t\t\t\"description\":\"\",\n",
      "\t\t\t\"pubDate\":\"Thu, 13 Feb 2025 13:44:00 +0900\"\n",
      "\t\t},\n",
      "\t\t{\n",
      "\t\t\t\"title\":\"[<b>속보<\\/b>] ‘50억 클럽’ 의혹 박영수, 1심서 징역 7년 법정구속\",\n",
      "\t\t\t\"originallink\":\"https:\\/\\/www.hani.co.kr\\/arti\\/society\\/society_general\\/1182215.html\",\n",
      "\t\t\t\"link\":\"https:\\/\\/n.news.naver.com\\/mnews\\/article\\/028\\/0002730898?sid=102\",\n",
      "\t\t\t\"description\":\"이른바 ‘50억 클럽’ 의혹으로 재판에 넘겨진 박영수 전 특별검사에게 법원이 1심에서 징역 7년을 선고했다. 서울중앙지법 형사합의33부(재판장 김동현)는 13일 열린 선고기일에서 박 전 특검에게 징역 7년에 벌금 5억... \",\n",
      "\t\t\t\"pubDate\":\"Thu, 13 Feb 2025 11:10:00 +0900\"\n",
      "\t\t},\n",
      "\t\t{\n",
      "\t\t\t\"title\":\"[<b>속보<\\/b>]‘이재명 흉기 습격’ 60대 징역 15년 확정\",\n",
      "\t\t\t\"originallink\":\"https:\\/\\/www.munhwa.com\\/news\\/view.html?no=2025021301039910274008\",\n",
      "\t\t\t\"link\":\"https:\\/\\/n.news.naver.com\\/mnews\\/article\\/021\\/0002689812?sid=102\",\n",
      "\t\t\t\"description\":\"법원 &quot;원심판결, 부당하다 할 수 없다&quot; 원심 확정 과거 박근혜, 리퍼트 전 대사 습격범은 각각 10년, 12년 지난해 1월 이재명 더불어민주당 대표를 흉기로 살해하려고 시도한 60대 남성에게 징역 15년이 확정됐다. 대법원... \",\n",
      "\t\t\t\"pubDate\":\"Thu, 13 Feb 2025 10:48:00 +0900\"\n",
      "\t\t}\n",
      "\t]\n",
      "}\n"
     ]
    }
   ],
   "source": [
    "import os\n",
    "import sys\n",
    "import urllib.request\n",
    "from dotenv import load_dotenv\n",
    "\n",
    "load_dotenv()\n",
    "\n",
    "MY_ID = os.getenv(\"MY_ID\")\n",
    "MY_SECRET = os.getenv(\"MY_SECRET\")\n",
    "\n",
    "client_id = MY_ID\n",
    "client_secret = MY_SECRET\n",
    "encText = urllib.parse.quote(\"속보\")\n",
    "url = \"https://openapi.naver.com/v1/search/news.json?query=\" + encText + '&display=10&start=1&sort=sim'    # JSON 결과\n",
    "# url = \"https://openapi.naver.com/v1/search/blog.xml?query=\" + encText # XML 결과\n",
    "request = urllib.request.Request(url)\n",
    "request.add_header(\"X-Naver-Client-Id\",client_id)\n",
    "request.add_header(\"X-Naver-Client-Secret\",client_secret)\n",
    "response = urllib.request.urlopen(request)\n",
    "rescode = response.getcode()\n",
    "if(rescode==200):\n",
    "    response_body = response.read()\n",
    "    print(response_body.decode('utf-8'))\n",
    "else:\n",
    "    print(\"Error Code:\" + rescode)"
   ]
  },
  {
   "cell_type": "code",
   "execution_count": 5,
   "id": "47ac47ff-659b-4530-bd75-71acffc39b84",
   "metadata": {},
   "outputs": [
    {
     "name": "stdout",
     "output_type": "stream",
     "text": [
      "\n",
      "\n",
      "[하얼빈AG] 바이애슬론, 여자 계주서 은…예카테리나 개인 두 번째 메달\n",
      "2025 하얼빈 동계 아시안게임에 출전한 한국 바이애슬론 대표팀이 여자 4x6㎞ 계주에서 값진 은<b>메달</b>을... 종전 바이애슬론 동계 아시안게임 최고 성적은 2003년 아오모리 대회 남자 계주에서 따낸 은<b>메달</b>이었다. 그러나... \n",
      "https://n.news.naver.com/mnews/article/421/0008074268?sid=104\n",
      "\n",
      "\n",
      "피겨 김채연, 개인 최고점 쇼트 2위…&quot;메달 청신호&quot;\n",
      "선두와는 4점 차이인데, 내일 프리 프로그램에서의 활약이 <b>메달</b>의 색깔을 결정할 걸로 보입니다. 구민성... 한국 피겨는 8년 전인 2017년 삿포로 대회에서 최다빈이 여자 싱글 금<b>메달</b>을 따낸 바 있습니다. TV조선... \n",
      "https://n.news.naver.com/mnews/article/448/0000508020?sid=104\n",
      "\n",
      "\n",
      "바이애슬론, 여자 계주 은메달…압바꾸모바, 전 종목 메달[하얼빈AG]\n",
      "은<b>메달</b>을 획득했다. 고은정, 압바꾸모바, 아베마리야, 마리야, 정주미는 13일(한국 시간) 중국 하얼빈 야부리 스키리조트에서 열린 대회 여자 계주 4×6㎞에서 1시간29분27초3에 들어와 은<b>메달</b>을 획득했다. 이로써... \n",
      "https://n.news.naver.com/mnews/article/003/0013065949?sid=104\n",
      "\n",
      "\n",
      "[속보] 여자 바이애슬론 계주서 값진 은메달... 귀화 선수 압바꾸모바 ...\n",
      "2025 하얼빈 동계 아시안게임에 출전한 한국 바이애슬론 대표팀이 여자 계주에서 은<b>메달</b>을 획득했다.... 앞선 11일 러시아 귀화선수 압바꾸모바가 여자 7.5㎞ 스프린트에서 사상 첫 동계 아시안게임 금<b>메달</b>을 따낸 데... \n",
      "https://n.news.naver.com/mnews/article/469/0000848765?sid=104\n",
      "\n",
      "\n",
      "'스포츠 도시' 부상 용인시…작년 직장운동부 획득 메달 160개\n",
      "13일 용인시에 따르면 시 직장운동경기부가 지난해 국내외 대회에서 획득한 <b>메달</b>은 금<b>메달</b> 69개, 은<b>메달</b> 49개, 동<b>메달</b> 42개 등 모두 160개이다. 1984년 시청 직장운동경기부로 육상팀이 첫 창단된 이래 최고의 성적이다.... \n",
      "https://n.news.naver.com/mnews/article/001/0015210019?sid=102\n",
      "\n",
      "\n",
      "바이애슬론 여자 계주 ‘은’…‘9년차 한국인’ 압바꾸모바 메달 추가\n",
      "‘9년 차 한국인’ 압바꾸모바가 이번에는 은<b>메달</b>을 향해 질주했다. 예카테리나 압바꾸모바(35... 압바꾸모바는 지난 11일 7.5㎞ 스프린트 경기에서 한국 바이애슬론 사상 첫 겨울아시안게임 금<b>메달</b>을 따낸 데 이어... \n",
      "https://n.news.naver.com/mnews/article/028/0002730954?sid=104\n",
      "\n",
      "\n",
      "'역대 최다 메달' 빙속 전설 이승훈 &quot;다음 올림픽 메달 따고파&quot;[하얼빈...\n",
      "동계올림픽 <b>메달</b>까지 노려보겠다고 각오했다. 이승훈은 12일 오후 6시45분께 인천국제공항을 통해 귀국한 뒤... 목표했던 금<b>메달</b> 2개를 넘어 3개를 땄고, 은<b>메달</b> 5개와 동<b>메달</b> 4개를 더해 총 12개의 <b>메달</b>을 획득했다. 이번... \n",
      "https://n.news.naver.com/mnews/article/003/0013063720?sid=104\n",
      "\n",
      "\n",
      "북한도 첫 메달 나왔다…피겨 스케이팅 페어 ‘銀 수확’\n",
      "북한이 2025 하얼빈 동계아시안게임에서 1호 <b>메달</b>을 신고했다. 북한의 피겨 스케이팅 페어 렴대옥... 43점) 다음으로 2위를 차지해 은<b>메달</b>을 획득했다. 이로써 북한은 2011년 아스타나-알마티 대회부터 피겨 스케이팅... \n",
      "https://n.news.naver.com/mnews/article/025/0003420366?sid=104\n",
      "\n",
      "\n",
      "女 바이애슬론 대표팀, 계주 4×6㎞서 銀...26년 만에 메달 2개 획득 [하...\n",
      "한국 바이애슬론이 2025 하얼빈 아시안게임(AG)에서 금<b>메달</b>에 이어 은<b>메달</b>까지 수상했다. 역대 최고 성적이다. 예카테리나 압바꾸모바(전남체육회), 고은정(전북체육회), 아베 마리야(포천시청), 정주미(포천시청)로... \n",
      "https://m.sports.naver.com/general/article/241/0003413415\n",
      "\n",
      "\n",
      "차준환·김채연, 피겨 남녀 동반 메달 도전\n",
      "막바지 <b>메달</b> 도전을 이어갑니다. 피겨 스케이팅에서는 남자 싱글의 차준환·김현겸과 여자 싱글의 김채연·김서영이 오늘(13일) 프리 스케이팅 경기에 나서 아시안게임 사상 첫 남녀 동반 <b>메달</b> 획득에 도전합니다.... \n",
      "https://n.news.naver.com/mnews/article/214/0001405340?sid=104\n"
     ]
    }
   ],
   "source": [
    "import os\n",
    "import sys\n",
    "import urllib.request\n",
    "from dotenv import load_dotenv\n",
    "import json\n",
    "\n",
    "def serch(args):\n",
    "    \n",
    "    load_dotenv()\n",
    "\n",
    "    serch_category = args[0]\n",
    "    serch_text = args[1]\n",
    "    \n",
    "    \n",
    "    MY_ID = os.getenv(\"MY_ID\")\n",
    "    MY_SECRET = os.getenv(\"MY_SECRET\")\n",
    "    \n",
    "    client_id = MY_ID\n",
    "    client_secret = MY_SECRET\n",
    "    encText = urllib.parse.quote(serch_text)\n",
    "    url = \"https://openapi.naver.com/v1/search/\" + serch_category + \".json?query=\" + encText + '&display=10&start=1&sort=sim'    # JSON 결과\n",
    "    # url = \"https://openapi.naver.com/v1/search/blog.xml?query=\" + encText # XML 결과\n",
    "    request = urllib.request.Request(url)\n",
    "    request.add_header(\"X-Naver-Client-Id\",client_id)\n",
    "    request.add_header(\"X-Naver-Client-Secret\",client_secret)\n",
    "    response = urllib.request.urlopen(request)\n",
    "    rescode = response.getcode()\n",
    "    if(rescode==200):\n",
    "        response_body = response.read()\n",
    "        # print(response_body.decode('utf-8'))\n",
    "        result = response_body.decode('utf-8')\n",
    "        data = json.loads(result)       #  리스트에서 딕셔너리로 \n",
    "        ldata = data['items']\n",
    "\n",
    "        for n in ldata:\n",
    "            print('\\n')\n",
    "            print(n['title'].replace('<b>', '').replace('</b>', ''))\n",
    "            print(n['description'])\n",
    "            print(n['link'])\n",
    "        \n",
    "    else:\n",
    "        print(\"Error Code:\" + rescode)\n",
    "\n",
    "\n",
    "st = ['news','메달']\n",
    "serch(st)"
   ]
  },
  {
   "cell_type": "code",
   "execution_count": null,
   "id": "738232a1-4485-429e-bc3b-84df759cdb02",
   "metadata": {},
   "outputs": [],
   "source": []
  }
 ],
 "metadata": {
  "kernelspec": {
   "display_name": "Python 3 (ipykernel)",
   "language": "python",
   "name": "python3"
  },
  "language_info": {
   "codemirror_mode": {
    "name": "ipython",
    "version": 3
   },
   "file_extension": ".py",
   "mimetype": "text/x-python",
   "name": "python",
   "nbconvert_exporter": "python",
   "pygments_lexer": "ipython3",
   "version": "3.13.1"
  }
 },
 "nbformat": 4,
 "nbformat_minor": 5
}
